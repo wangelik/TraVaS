{
 "cells": [
  {
   "cell_type": "code",
   "execution_count": 1,
   "metadata": {},
   "outputs": [],
   "source": [
    "# import table\n",
    "from pm4py.objects.log.importer.xes import importer\n",
    "from pm4py.algo.discovery.inductive.variants.im_f import algorithm as im_f_algo\n",
    "from pm4py.algo.evaluation.precision import algorithm as precision_evaluator\n",
    "from pm4py.algo.evaluation.replay_fitness import algorithm as replay_fitness_evaluator\n",
    "from pm4py.algo.evaluation.generalization import algorithm as generalization_evaluator"
   ]
  },
  {
   "cell_type": "code",
   "execution_count": 2,
   "metadata": {},
   "outputs": [
    {
     "name": "stderr",
     "output_type": "stream",
     "text": [
      "parsing log, completed traces :: 100%|██████████| 7554/7554 [00:01<00:00, 3789.40it/s]\n"
     ]
    }
   ],
   "source": [
    "# import xes event log (sepsis example)\n",
    "log = importer.apply('BPIC13.xes')"
   ]
  },
  {
   "cell_type": "code",
   "execution_count": 3,
   "metadata": {},
   "outputs": [],
   "source": [
    "# process model from xes log\n",
    "net, im, fm = im_f_algo.apply(log, parameters=None)"
   ]
  },
  {
   "cell_type": "code",
   "execution_count": 4,
   "metadata": {},
   "outputs": [
    {
     "name": "stderr",
     "output_type": "stream",
     "text": [
      "replaying log with TBR, completed variants :: 100%|██████████| 1511/1511 [00:04<00:00, 372.23it/s]\n",
      "replaying log with TBR, completed variants :: 100%|██████████| 11613/11613 [00:40<00:00, 287.70it/s]\n",
      "replaying log with TBR, completed variants :: 100%|██████████| 1511/1511 [00:04<00:00, 353.29it/s]\n"
     ]
    },
    {
     "name": "stdout",
     "output_type": "stream",
     "text": [
      "Fitness: 0.9946449064573959\n",
      "Precision: 0.8766741071428571\n",
      "Generalization: 0.9887015674902806\n"
     ]
    }
   ],
   "source": [
    "fit = replay_fitness_evaluator.apply(log, net, im, fm, variant=replay_fitness_evaluator.Variants.TOKEN_BASED)\n",
    "prec = precision_evaluator.apply(log, net, im, fm, variant=precision_evaluator.Variants.ETCONFORMANCE_TOKEN)\n",
    "gen = generalization_evaluator.apply(log, net, im, fm)\n",
    "\n",
    "print(f\"Fitness: {fit['log_fitness']}\")\n",
    "print(f\"Precision: {prec}\")\n",
    "print(f\"Generalization: {gen}\")"
   ]
  }
 ],
 "metadata": {
  "kernelspec": {
   "display_name": "Python 3.10.2 64-bit",
   "language": "python",
   "name": "python3"
  },
  "language_info": {
   "codemirror_mode": {
    "name": "ipython",
    "version": 3
   },
   "file_extension": ".py",
   "mimetype": "text/x-python",
   "name": "python",
   "nbconvert_exporter": "python",
   "pygments_lexer": "ipython3",
   "version": "3.10.2"
  },
  "orig_nbformat": 4,
  "vscode": {
   "interpreter": {
    "hash": "e6a03f261ac63240f8bba312c3054c35c7091234d5590acf2f05ed98611aef5f"
   }
  }
 },
 "nbformat": 4,
 "nbformat_minor": 2
}
