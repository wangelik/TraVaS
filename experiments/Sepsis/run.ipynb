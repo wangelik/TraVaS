{
 "cells": [
  {
   "cell_type": "code",
   "execution_count": 1,
   "metadata": {},
   "outputs": [],
   "source": [
    "# import table\n",
    "import numpy as np\n",
    "import matplotlib.pyplot as plt\n",
    "from matplotlib.colors import LogNorm\n",
    "import seaborn as sns\n",
    "import itertools as it\n",
    "import json\n",
    "%matplotlib inline\n",
    "\n",
    "from pm4py.objects.log.importer.xes import importer\n",
    "from pm4py.algo.discovery.inductive.variants.im_f import algorithm as im_f_algo\n",
    "from pm4py.algo.evaluation.precision import algorithm as precision_evaluator\n",
    "from pm4py.algo.evaluation.replay_fitness import algorithm as replay_fitness_evaluator\n",
    "from pm4py.algo.evaluation.generalization import algorithm as generalization_evaluator\n",
    "\n",
    "from dpv.util.converter import param_transform, downscale, merge\n",
    "from dpv.variant_transformer import private_transform, public_transform\n",
    "from dpv.variant_query import variant_query\n",
    "from dpv.optimizer import release_optimizer\n",
    "from dpv.data_utility import emd_utility, log_diff"
   ]
  },
  {
   "cell_type": "code",
   "execution_count": 2,
   "metadata": {},
   "outputs": [
    {
     "name": "stderr",
     "output_type": "stream",
     "text": [
      "parsing log, completed traces :: 100%|██████████| 1050/1050 [00:00<00:00, 1259.22it/s]\n"
     ]
    }
   ],
   "source": [
    "# import xes event log (sepsis example)\n",
    "log = importer.apply('sepsis.xes')\n",
    "\n",
    "# process model from xes log\n",
    "net1, im1, fm1 = im_f_algo.apply(log, parameters=None)"
   ]
  },
  {
   "cell_type": "code",
   "execution_count": 4,
   "metadata": {},
   "outputs": [
    {
     "name": "stdout",
     "output_type": "stream",
     "text": [
      "[+] eps: 2 delta: 0.5\n",
      "[+] eps: 2 delta: 0.1\n",
      "[+] eps: 2 delta: 0.05\n",
      "[+] eps: 2 delta: 0.01\n",
      "[+] eps: 2 delta: 0.001\n",
      "[+] eps: 1 delta: 0.5\n",
      "[+] eps: 1 delta: 0.1\n",
      "[+] eps: 1 delta: 0.05\n",
      "[+] eps: 1 delta: 0.01\n",
      "[+] eps: 1 delta: 0.001\n",
      "[+] eps: 0.1 delta: 0.5\n",
      "[+] eps: 0.1 delta: 0.1\n",
      "[+] eps: 0.1 delta: 0.05\n",
      "[+] eps: 0.1 delta: 0.01\n",
      "[+] eps: 0.1 delta: 0.001\n",
      "[+] eps: 0.01 delta: 0.5\n",
      "[+] eps: 0.01 delta: 0.1\n",
      "[+] eps: 0.01 delta: 0.05\n",
      "[+] eps: 0.01 delta: 0.01\n",
      "[+] eps: 0.01 delta: 0.001\n",
      "[+] eps: 0.001 delta: 0.5\n",
      "[+] eps: 0.001 delta: 0.1\n",
      "[+] eps: 0.001 delta: 0.05\n",
      "[+] eps: 0.001 delta: 0.01\n",
      "[+] eps: 0.001 delta: 0.001\n"
     ]
    }
   ],
   "source": [
    "# compute summary statistics for single release queries\n",
    "\n",
    "# init arrays\n",
    "eps_list = [2, 1, 0.1, 0.01, 0.001]\n",
    "del_list = [0.5, 0.1, 0.05, 0.01, 0.001]\n",
    "\n",
    "for m, eps in enumerate(eps_list):\n",
    "    for n, d in enumerate(del_list):\n",
    "        \n",
    "        # debug output\n",
    "        print(f\"[+] eps: {eps} delta: {d}\")\n",
    "\n",
    "        # convert to p and k\n",
    "        p, k = param_transform(eps, d)\n",
    "        \n",
    "        for i in range(10):\n",
    "\n",
    "            # privatize variants            \n",
    "            traces_orig, traces_priv = private_transform(log, p, k)\n",
    "\n",
    "            # save results\n",
    "            fp = open(f\"TraVaS-sqvr/variants_single_{eps}_{d}_{i}.json\", \"w\")\n",
    "            json.dump(traces_priv, fp)\n",
    "            fp.close()"
   ]
  },
  {
   "cell_type": "code",
   "execution_count": 4,
   "metadata": {},
   "outputs": [
    {
     "name": "stdout",
     "output_type": "stream",
     "text": [
      "eps: 2, delta: 0.5, util: 0.7705045124850839, cost: 120147.2\n",
      "eps: 2, delta: 0.1, util: 0.6283703810410824, cost: 153775.6\n",
      "eps: 2, delta: 0.05, util: 0.6220087144029827, cost: 155873.8\n",
      "eps: 2, delta: 0.01, util: 0.551471865005982, cost: 165242.3\n",
      "eps: 2, delta: 0.001, util: 0.5159100836505821, cost: 170808.9\n",
      "eps: 1, delta: 0.5, util: 0.8402011637687815, cost: 90294.2\n",
      "eps: 1, delta: 0.1, util: 0.7297895919523825, cost: 129282.7\n",
      "eps: 1, delta: 0.05, util: 0.6394178838572819, cost: 151418.0\n",
      "eps: 1, delta: 0.01, util: 0.5662942707555823, cost: 165110.5\n",
      "eps: 1, delta: 0.001, util: 0.4746081818509823, cost: 142221.8\n",
      "eps: 0.1, delta: 0.5, util: 0.8890065528277834, cost: 57763.1\n",
      "eps: 0.1, delta: 0.1, util: 0.7809527261515823, cost: 91099.7\n",
      "eps: 0.1, delta: 0.05, util: 0.7263642021818819, cost: 110842.6\n",
      "eps: 0.1, delta: 0.01, util: 0.6225523276670872, cost: 154812.0\n",
      "eps: 0.1, delta: 0.001, util: 0.44108455715099826, cost: 182256.0\n",
      "eps: 0.01, delta: 0.5, util: 0.8930111468383798, cost: 54484.4\n",
      "eps: 0.01, delta: 0.1, util: 0.784849411189382, cost: 82412.9\n",
      "eps: 0.01, delta: 0.05, util: 0.7316356452660566, cost: 95787.4\n",
      "eps: 0.01, delta: 0.01, util: 0.5997327630112634, cost: 117434.5\n",
      "eps: 0.01, delta: 0.001, util: 0.4701573268181158, cost: 148606.42857142858\n",
      "eps: 0.001, delta: 0.5, util: 0.8919418865953824, cost: 54980.9\n",
      "eps: 0.001, delta: 0.1, util: 0.7822580836580819, cost: 80345.2\n",
      "eps: 0.001, delta: 0.05, util: 0.7330034104278825, cost: 87992.8\n",
      "eps: 0.001, delta: 0.01, util: 0.613918486239788, cost: 113204.5\n",
      "eps: 0.001, delta: 0.001, util: 0.4867205647377196, cost: 83563.5\n"
     ]
    }
   ],
   "source": [
    "# init arrays\n",
    "eps_list = [2, 1, 0.1, 0.01, 0.001]\n",
    "del_list = [0.5, 0.1, 0.05, 0.01, 0.001]\n",
    "util_single = np.zeros((len(eps_list), len(del_list)))\n",
    "cost_single = np.zeros((len(eps_list), len(del_list)))\n",
    "\n",
    "# compute metrics\n",
    "for m, eps in enumerate(eps_list):\n",
    "    for n, d in enumerate(del_list):\n",
    "        \n",
    "        tmp_util = []\n",
    "        tmp_cost = []\n",
    "        for i in range(10):\n",
    "        \n",
    "            f = open(f'TraVaS-sqvr/variants_single_{eps}_{d}_{i}.json',)\n",
    "            priv_log = json.load(f)\n",
    "            tmp_util.append(emd_utility(log, priv_log))\n",
    "            tmp_cost.append(log_diff(log, priv_log))\n",
    "            f.close()\n",
    "        \n",
    "        util_single[m][n] = np.mean([x for x in tmp_util if x != 1])\n",
    "        cost_single[m][n] = np.mean([x for x in tmp_cost if x != 10500])\n",
    "        print(f'eps: {eps}, delta: {d}, util: {util_single[m][n]}, cost: {cost_single[m][n]}')\n",
    "        \n",
    "# save metrics\n",
    "np.savetxt('TraVaS-sqvr/util_sqvr.txt', util_single)\n",
    "np.savetxt('TraVaS-sqvr/cost_sqvr.txt', cost_single)"
   ]
  },
  {
   "cell_type": "code",
   "execution_count": 19,
   "metadata": {},
   "outputs": [
    {
     "name": "stderr",
     "output_type": "stream",
     "text": [
      "replaying log with TBR, completed variants :: 100%|██████████| 5886/5886 [00:16<00:00, 356.38it/s] \n",
      "replaying log with TBR, completed variants :: 100%|██████████| 846/846 [00:02<00:00, 350.58it/s]\n",
      "replaying log with TBR, completed variants :: 100%|██████████| 846/846 [00:01<00:00, 454.18it/s]\n",
      "replaying log with TBR, completed variants :: 100%|██████████| 5886/5886 [00:11<00:00, 522.64it/s] \n",
      "replaying log with TBR, completed variants :: 100%|██████████| 846/846 [00:02<00:00, 376.46it/s]\n",
      "replaying log with TBR, completed variants :: 100%|██████████| 846/846 [00:01<00:00, 445.74it/s]\n",
      "replaying log with TBR, completed variants :: 100%|██████████| 5886/5886 [00:14<00:00, 406.85it/s] \n",
      "replaying log with TBR, completed variants :: 100%|██████████| 846/846 [00:01<00:00, 466.39it/s]\n",
      "replaying log with TBR, completed variants :: 100%|██████████| 846/846 [00:01<00:00, 468.94it/s]\n",
      "replaying log with TBR, completed variants :: 100%|██████████| 5886/5886 [00:17<00:00, 344.68it/s] \n",
      "replaying log with TBR, completed variants :: 100%|██████████| 846/846 [00:02<00:00, 422.54it/s]\n",
      "replaying log with TBR, completed variants :: 100%|██████████| 846/846 [00:02<00:00, 401.02it/s]\n",
      "replaying log with TBR, completed variants :: 100%|██████████| 5886/5886 [00:15<00:00, 384.43it/s] \n",
      "replaying log with TBR, completed variants :: 100%|██████████| 846/846 [00:01<00:00, 441.78it/s]\n",
      "replaying log with TBR, completed variants :: 100%|██████████| 846/846 [00:01<00:00, 451.80it/s]\n",
      "replaying log with TBR, completed variants :: 100%|██████████| 5886/5886 [00:15<00:00, 371.61it/s] \n",
      "replaying log with TBR, completed variants :: 100%|██████████| 846/846 [00:02<00:00, 411.36it/s]\n",
      "replaying log with TBR, completed variants :: 100%|██████████| 846/846 [00:02<00:00, 364.52it/s]\n",
      "replaying log with TBR, completed variants :: 100%|██████████| 5886/5886 [00:19<00:00, 309.19it/s] \n",
      "replaying log with TBR, completed variants :: 100%|██████████| 846/846 [00:02<00:00, 374.26it/s]\n",
      "replaying log with TBR, completed variants :: 100%|██████████| 846/846 [00:02<00:00, 346.11it/s]\n",
      "replaying log with TBR, completed variants :: 100%|██████████| 5886/5886 [00:10<00:00, 583.03it/s] \n",
      "replaying log with TBR, completed variants :: 100%|██████████| 846/846 [00:02<00:00, 366.64it/s]\n",
      "replaying log with TBR, completed variants :: 100%|██████████| 846/846 [00:02<00:00, 387.53it/s]\n",
      "replaying log with TBR, completed variants :: 100%|██████████| 5886/5886 [00:13<00:00, 433.48it/s] \n",
      "replaying log with TBR, completed variants :: 100%|██████████| 846/846 [00:02<00:00, 359.61it/s]\n",
      "replaying log with TBR, completed variants :: 100%|██████████| 846/846 [00:02<00:00, 352.70it/s]\n",
      "replaying log with TBR, completed variants :: 100%|██████████| 5886/5886 [00:16<00:00, 359.91it/s] \n",
      "replaying log with TBR, completed variants :: 100%|██████████| 846/846 [00:02<00:00, 368.52it/s]\n",
      "replaying log with TBR, completed variants :: 100%|██████████| 846/846 [00:02<00:00, 411.01it/s]\n"
     ]
    },
    {
     "name": "stdout",
     "output_type": "stream",
     "text": [
      "eps: 2, delta: 0.5, prec: 0.3976372460415476, fit: 0.9823690406854574, gen: 0.9522081063484714\n"
     ]
    },
    {
     "name": "stderr",
     "output_type": "stream",
     "text": [
      "replaying log with TBR, completed variants :: 100%|██████████| 5886/5886 [00:16<00:00, 356.56it/s] \n",
      "replaying log with TBR, completed variants :: 100%|██████████| 846/846 [00:02<00:00, 410.08it/s]\n",
      "replaying log with TBR, completed variants :: 100%|██████████| 846/846 [00:01<00:00, 439.21it/s]\n",
      "replaying log with TBR, completed variants :: 100%|██████████| 5886/5886 [00:15<00:00, 377.68it/s] \n",
      "replaying log with TBR, completed variants :: 100%|██████████| 846/846 [00:01<00:00, 468.55it/s]\n",
      "replaying log with TBR, completed variants :: 100%|██████████| 846/846 [00:01<00:00, 431.72it/s]\n",
      "replaying log with TBR, completed variants :: 100%|██████████| 5886/5886 [00:18<00:00, 317.42it/s] \n",
      "replaying log with TBR, completed variants :: 100%|██████████| 846/846 [00:02<00:00, 369.75it/s]\n",
      "replaying log with TBR, completed variants :: 100%|██████████| 846/846 [00:02<00:00, 375.85it/s]\n",
      "replaying log with TBR, completed variants :: 100%|██████████| 5886/5886 [00:08<00:00, 684.15it/s] \n",
      "replaying log with TBR, completed variants :: 100%|██████████| 846/846 [00:01<00:00, 430.44it/s]\n",
      "replaying log with TBR, completed variants :: 100%|██████████| 846/846 [00:01<00:00, 460.53it/s]\n",
      "replaying log with TBR, completed variants :: 100%|██████████| 5886/5886 [00:12<00:00, 483.25it/s] \n",
      "replaying log with TBR, completed variants :: 100%|██████████| 846/846 [00:02<00:00, 415.40it/s]\n",
      "replaying log with TBR, completed variants :: 100%|██████████| 846/846 [00:01<00:00, 425.93it/s]\n",
      "replaying log with TBR, completed variants :: 100%|██████████| 5886/5886 [00:15<00:00, 387.06it/s] \n",
      "replaying log with TBR, completed variants :: 100%|██████████| 846/846 [00:01<00:00, 487.48it/s]\n",
      "replaying log with TBR, completed variants :: 100%|██████████| 846/846 [00:01<00:00, 466.65it/s]\n",
      "replaying log with TBR, completed variants :: 100%|██████████| 5886/5886 [00:16<00:00, 359.31it/s] \n",
      "replaying log with TBR, completed variants :: 100%|██████████| 846/846 [00:01<00:00, 475.68it/s]\n",
      "replaying log with TBR, completed variants :: 100%|██████████| 846/846 [00:01<00:00, 472.11it/s]\n",
      "replaying log with TBR, completed variants :: 100%|██████████| 5886/5886 [00:08<00:00, 668.09it/s] \n",
      "replaying log with TBR, completed variants :: 100%|██████████| 846/846 [00:01<00:00, 472.19it/s]\n",
      "replaying log with TBR, completed variants :: 100%|██████████| 846/846 [00:01<00:00, 475.90it/s]\n",
      "replaying log with TBR, completed variants :: 100%|██████████| 5886/5886 [00:15<00:00, 380.08it/s] \n",
      "replaying log with TBR, completed variants :: 100%|██████████| 846/846 [00:01<00:00, 439.10it/s]\n",
      "replaying log with TBR, completed variants :: 100%|██████████| 846/846 [00:02<00:00, 327.65it/s]\n",
      "replaying log with TBR, completed variants :: 100%|██████████| 5886/5886 [00:16<00:00, 360.38it/s] \n",
      "replaying log with TBR, completed variants :: 100%|██████████| 846/846 [00:02<00:00, 378.53it/s]\n",
      "replaying log with TBR, completed variants :: 100%|██████████| 846/846 [00:02<00:00, 411.08it/s]\n"
     ]
    },
    {
     "name": "stdout",
     "output_type": "stream",
     "text": [
      "eps: 2, delta: 0.1, prec: 0.4304513324341013, fit: 0.9732228759694243, gen: 0.9522601743438621\n"
     ]
    },
    {
     "name": "stderr",
     "output_type": "stream",
     "text": [
      "replaying log with TBR, completed variants :: 100%|██████████| 5886/5886 [00:19<00:00, 305.68it/s] \n",
      "replaying log with TBR, completed variants :: 100%|██████████| 846/846 [00:03<00:00, 261.60it/s]\n",
      "replaying log with TBR, completed variants :: 100%|██████████| 846/846 [00:01<00:00, 426.12it/s]\n",
      "replaying log with TBR, completed variants :: 100%|██████████| 5886/5886 [00:09<00:00, 653.76it/s] \n",
      "replaying log with TBR, completed variants :: 100%|██████████| 846/846 [00:01<00:00, 557.06it/s]\n",
      "replaying log with TBR, completed variants :: 100%|██████████| 846/846 [00:01<00:00, 517.71it/s]\n",
      "replaying log with TBR, completed variants :: 100%|██████████| 5886/5886 [00:08<00:00, 691.87it/s] \n",
      "replaying log with TBR, completed variants :: 100%|██████████| 846/846 [00:01<00:00, 531.15it/s]\n",
      "replaying log with TBR, completed variants :: 100%|██████████| 846/846 [00:01<00:00, 562.62it/s]\n",
      "replaying log with TBR, completed variants :: 100%|██████████| 5886/5886 [00:11<00:00, 506.71it/s] \n",
      "replaying log with TBR, completed variants :: 100%|██████████| 846/846 [00:02<00:00, 402.87it/s]\n",
      "replaying log with TBR, completed variants :: 100%|██████████| 846/846 [00:02<00:00, 393.12it/s]\n",
      "replaying log with TBR, completed variants :: 100%|██████████| 5886/5886 [00:13<00:00, 440.57it/s] \n",
      "replaying log with TBR, completed variants :: 100%|██████████| 846/846 [00:01<00:00, 551.86it/s]\n",
      "replaying log with TBR, completed variants :: 100%|██████████| 846/846 [00:01<00:00, 555.05it/s]\n",
      "replaying log with TBR, completed variants :: 100%|██████████| 5886/5886 [00:12<00:00, 479.73it/s] \n",
      "replaying log with TBR, completed variants :: 100%|██████████| 846/846 [00:01<00:00, 556.46it/s]\n",
      "replaying log with TBR, completed variants :: 100%|██████████| 846/846 [00:01<00:00, 537.73it/s]\n",
      "replaying log with TBR, completed variants :: 100%|██████████| 5886/5886 [00:06<00:00, 842.90it/s] \n",
      "replaying log with TBR, completed variants :: 100%|██████████| 846/846 [00:01<00:00, 521.47it/s]\n",
      "replaying log with TBR, completed variants :: 100%|██████████| 846/846 [00:01<00:00, 551.11it/s]\n",
      "replaying log with TBR, completed variants :: 100%|██████████| 5886/5886 [00:13<00:00, 444.30it/s] \n",
      "replaying log with TBR, completed variants :: 100%|██████████| 846/846 [00:01<00:00, 581.40it/s]\n",
      "replaying log with TBR, completed variants :: 100%|██████████| 846/846 [00:01<00:00, 555.10it/s]\n",
      "replaying log with TBR, completed variants :: 100%|██████████| 5886/5886 [00:12<00:00, 453.84it/s] \n",
      "replaying log with TBR, completed variants :: 100%|██████████| 846/846 [00:01<00:00, 548.24it/s]\n",
      "replaying log with TBR, completed variants :: 100%|██████████| 846/846 [00:01<00:00, 530.57it/s]\n",
      "replaying log with TBR, completed variants :: 100%|██████████| 5886/5886 [00:07<00:00, 778.51it/s] \n",
      "replaying log with TBR, completed variants :: 100%|██████████| 846/846 [00:01<00:00, 535.10it/s]\n",
      "replaying log with TBR, completed variants :: 100%|██████████| 846/846 [00:01<00:00, 557.71it/s]\n"
     ]
    },
    {
     "name": "stdout",
     "output_type": "stream",
     "text": [
      "eps: 2, delta: 0.05, prec: 0.4847575439557269, fit: 0.970229268514565, gen: 0.9568656858999427\n"
     ]
    },
    {
     "name": "stderr",
     "output_type": "stream",
     "text": [
      "replaying log with TBR, completed variants :: 100%|██████████| 5886/5886 [00:10<00:00, 557.99it/s] \n",
      "replaying log with TBR, completed variants :: 100%|██████████| 846/846 [00:01<00:00, 624.35it/s]\n",
      "replaying log with TBR, completed variants :: 100%|██████████| 846/846 [00:01<00:00, 624.20it/s]\n",
      "replaying log with TBR, completed variants :: 100%|██████████| 5886/5886 [00:06<00:00, 854.46it/s] \n",
      "replaying log with TBR, completed variants :: 100%|██████████| 846/846 [00:01<00:00, 600.70it/s]\n",
      "replaying log with TBR, completed variants :: 100%|██████████| 846/846 [00:01<00:00, 605.02it/s]\n",
      "replaying log with TBR, completed variants :: 100%|██████████| 5886/5886 [00:11<00:00, 531.53it/s] \n",
      "replaying log with TBR, completed variants :: 100%|██████████| 846/846 [00:01<00:00, 622.78it/s]\n",
      "replaying log with TBR, completed variants :: 100%|██████████| 846/846 [00:01<00:00, 615.14it/s]\n",
      "replaying log with TBR, completed variants :: 100%|██████████| 5886/5886 [00:05<00:00, 1057.33it/s]\n",
      "replaying log with TBR, completed variants :: 100%|██████████| 846/846 [00:01<00:00, 602.13it/s]\n",
      "replaying log with TBR, completed variants :: 100%|██████████| 846/846 [00:01<00:00, 627.56it/s]\n",
      "replaying log with TBR, completed variants :: 100%|██████████| 5886/5886 [00:11<00:00, 499.32it/s] \n",
      "replaying log with TBR, completed variants :: 100%|██████████| 846/846 [00:01<00:00, 580.81it/s]\n",
      "replaying log with TBR, completed variants :: 100%|██████████| 846/846 [00:01<00:00, 564.89it/s]\n",
      "replaying log with TBR, completed variants :: 100%|██████████| 5886/5886 [00:08<00:00, 692.18it/s] \n",
      "replaying log with TBR, completed variants :: 100%|██████████| 846/846 [00:01<00:00, 523.40it/s]\n",
      "replaying log with TBR, completed variants :: 100%|██████████| 846/846 [00:01<00:00, 528.03it/s]\n",
      "replaying log with TBR, completed variants :: 100%|██████████| 5886/5886 [00:05<00:00, 1073.03it/s]\n",
      "replaying log with TBR, completed variants :: 100%|██████████| 846/846 [00:01<00:00, 663.16it/s]\n",
      "replaying log with TBR, completed variants :: 100%|██████████| 846/846 [00:01<00:00, 624.35it/s]\n",
      "replaying log with TBR, completed variants :: 100%|██████████| 5886/5886 [00:04<00:00, 1185.40it/s]\n",
      "replaying log with TBR, completed variants :: 100%|██████████| 846/846 [00:01<00:00, 689.46it/s]\n",
      "replaying log with TBR, completed variants :: 100%|██████████| 846/846 [00:01<00:00, 665.07it/s]\n",
      "replaying log with TBR, completed variants :: 100%|██████████| 5886/5886 [00:10<00:00, 543.57it/s] \n",
      "replaying log with TBR, completed variants :: 100%|██████████| 846/846 [00:01<00:00, 607.58it/s]\n",
      "replaying log with TBR, completed variants :: 100%|██████████| 846/846 [00:01<00:00, 620.55it/s]\n",
      "replaying log with TBR, completed variants :: 100%|██████████| 5886/5886 [00:10<00:00, 538.14it/s] \n",
      "replaying log with TBR, completed variants :: 100%|██████████| 846/846 [00:01<00:00, 587.09it/s]\n",
      "replaying log with TBR, completed variants :: 100%|██████████| 846/846 [00:01<00:00, 593.27it/s]\n"
     ]
    },
    {
     "name": "stdout",
     "output_type": "stream",
     "text": [
      "eps: 2, delta: 0.01, prec: 0.44894026010664057, fit: 0.9708541888355924, gen: 0.9621033811544528\n"
     ]
    },
    {
     "name": "stderr",
     "output_type": "stream",
     "text": [
      "replaying log with TBR, completed variants :: 100%|██████████| 5886/5886 [00:09<00:00, 594.52it/s] \n",
      "replaying log with TBR, completed variants :: 100%|██████████| 846/846 [00:01<00:00, 635.82it/s]\n",
      "replaying log with TBR, completed variants :: 100%|██████████| 846/846 [00:01<00:00, 626.94it/s]\n",
      "replaying log with TBR, completed variants :: 100%|██████████| 5886/5886 [00:15<00:00, 374.54it/s] \n",
      "replaying log with TBR, completed variants :: 100%|██████████| 846/846 [00:02<00:00, 391.66it/s]\n",
      "replaying log with TBR, completed variants :: 100%|██████████| 846/846 [00:01<00:00, 469.14it/s]\n",
      "replaying log with TBR, completed variants :: 100%|██████████| 5886/5886 [00:05<00:00, 1152.30it/s]\n",
      "replaying log with TBR, completed variants :: 100%|██████████| 846/846 [00:02<00:00, 411.20it/s]\n",
      "replaying log with TBR, completed variants :: 100%|██████████| 846/846 [00:02<00:00, 404.18it/s]\n",
      "replaying log with TBR, completed variants :: 100%|██████████| 5886/5886 [00:12<00:00, 456.42it/s] \n",
      "replaying log with TBR, completed variants :: 100%|██████████| 846/846 [00:01<00:00, 500.26it/s]\n",
      "replaying log with TBR, completed variants :: 100%|██████████| 846/846 [00:01<00:00, 480.94it/s]\n",
      "replaying log with TBR, completed variants :: 100%|██████████| 5886/5886 [00:07<00:00, 797.04it/s] \n",
      "replaying log with TBR, completed variants :: 100%|██████████| 846/846 [00:02<00:00, 337.49it/s]\n",
      "replaying log with TBR, completed variants :: 100%|██████████| 846/846 [00:02<00:00, 375.99it/s]\n",
      "replaying log with TBR, completed variants :: 100%|██████████| 5886/5886 [00:06<00:00, 866.65it/s] \n",
      "replaying log with TBR, completed variants :: 100%|██████████| 846/846 [00:02<00:00, 412.06it/s]\n",
      "replaying log with TBR, completed variants :: 100%|██████████| 846/846 [00:02<00:00, 402.25it/s]\n",
      "replaying log with TBR, completed variants :: 100%|██████████| 5886/5886 [00:03<00:00, 1688.97it/s]\n",
      "replaying log with TBR, completed variants :: 100%|██████████| 846/846 [00:01<00:00, 505.57it/s]\n",
      "replaying log with TBR, completed variants :: 100%|██████████| 846/846 [00:01<00:00, 496.88it/s]\n",
      "replaying log with TBR, completed variants :: 100%|██████████| 5886/5886 [00:06<00:00, 854.11it/s] \n",
      "replaying log with TBR, completed variants :: 100%|██████████| 846/846 [00:02<00:00, 388.48it/s]\n",
      "replaying log with TBR, completed variants :: 100%|██████████| 846/846 [00:02<00:00, 412.50it/s]\n",
      "replaying log with TBR, completed variants :: 100%|██████████| 5886/5886 [00:02<00:00, 2002.90it/s]\n",
      "replaying log with TBR, completed variants :: 100%|██████████| 846/846 [00:01<00:00, 543.15it/s]\n",
      "replaying log with TBR, completed variants :: 100%|██████████| 846/846 [00:01<00:00, 520.52it/s]\n",
      "replaying log with TBR, completed variants :: 100%|██████████| 5886/5886 [00:02<00:00, 2163.61it/s]\n",
      "replaying log with TBR, completed variants :: 100%|██████████| 846/846 [00:01<00:00, 559.31it/s]\n",
      "replaying log with TBR, completed variants :: 100%|██████████| 846/846 [00:01<00:00, 530.53it/s]\n"
     ]
    },
    {
     "name": "stdout",
     "output_type": "stream",
     "text": [
      "eps: 2, delta: 0.001, prec: 0.5174119539466139, fit: 0.8933895355720841, gen: 0.9652485680925611\n"
     ]
    },
    {
     "name": "stderr",
     "output_type": "stream",
     "text": [
      "replaying log with TBR, completed variants :: 100%|██████████| 5886/5886 [00:16<00:00, 361.48it/s] \n",
      "replaying log with TBR, completed variants :: 100%|██████████| 846/846 [00:01<00:00, 449.30it/s]\n",
      "replaying log with TBR, completed variants :: 100%|██████████| 846/846 [00:01<00:00, 446.78it/s]\n",
      "replaying log with TBR, completed variants :: 100%|██████████| 5886/5886 [00:14<00:00, 398.16it/s] \n",
      "replaying log with TBR, completed variants :: 100%|██████████| 846/846 [00:01<00:00, 445.12it/s]\n",
      "replaying log with TBR, completed variants :: 100%|██████████| 846/846 [00:01<00:00, 452.28it/s]\n",
      "replaying log with TBR, completed variants :: 100%|██████████| 5886/5886 [00:09<00:00, 648.42it/s] \n",
      "replaying log with TBR, completed variants :: 100%|██████████| 846/846 [00:01<00:00, 433.15it/s]\n",
      "replaying log with TBR, completed variants :: 100%|██████████| 846/846 [00:01<00:00, 429.97it/s]\n",
      "replaying log with TBR, completed variants :: 100%|██████████| 5886/5886 [00:15<00:00, 391.63it/s] \n",
      "replaying log with TBR, completed variants :: 100%|██████████| 846/846 [00:01<00:00, 465.21it/s]\n",
      "replaying log with TBR, completed variants :: 100%|██████████| 846/846 [00:01<00:00, 515.81it/s]\n",
      "replaying log with TBR, completed variants :: 100%|██████████| 5886/5886 [00:13<00:00, 450.05it/s] \n",
      "replaying log with TBR, completed variants :: 100%|██████████| 846/846 [00:01<00:00, 524.55it/s]\n",
      "replaying log with TBR, completed variants :: 100%|██████████| 846/846 [00:02<00:00, 400.55it/s]\n",
      "replaying log with TBR, completed variants :: 100%|██████████| 5886/5886 [00:12<00:00, 468.31it/s] \n",
      "replaying log with TBR, completed variants :: 100%|██████████| 846/846 [00:01<00:00, 496.74it/s]\n",
      "replaying log with TBR, completed variants :: 100%|██████████| 846/846 [00:01<00:00, 502.94it/s]\n",
      "replaying log with TBR, completed variants :: 100%|██████████| 5886/5886 [00:13<00:00, 422.18it/s] \n",
      "replaying log with TBR, completed variants :: 100%|██████████| 846/846 [00:01<00:00, 525.76it/s]\n",
      "replaying log with TBR, completed variants :: 100%|██████████| 846/846 [00:01<00:00, 523.48it/s]\n",
      "replaying log with TBR, completed variants :: 100%|██████████| 5886/5886 [00:07<00:00, 772.00it/s] \n",
      "replaying log with TBR, completed variants :: 100%|██████████| 846/846 [00:01<00:00, 472.16it/s]\n",
      "replaying log with TBR, completed variants :: 100%|██████████| 846/846 [00:01<00:00, 494.89it/s]\n",
      "replaying log with TBR, completed variants :: 100%|██████████| 5886/5886 [00:21<00:00, 270.57it/s]\n",
      "replaying log with TBR, completed variants :: 100%|██████████| 846/846 [00:02<00:00, 360.47it/s]\n",
      "replaying log with TBR, completed variants :: 100%|██████████| 846/846 [00:02<00:00, 383.49it/s]\n",
      "replaying log with TBR, completed variants :: 100%|██████████| 5886/5886 [00:10<00:00, 557.01it/s] \n",
      "replaying log with TBR, completed variants :: 100%|██████████| 846/846 [00:01<00:00, 476.02it/s]\n",
      "replaying log with TBR, completed variants :: 100%|██████████| 846/846 [00:01<00:00, 477.08it/s]\n"
     ]
    },
    {
     "name": "stdout",
     "output_type": "stream",
     "text": [
      "eps: 1, delta: 0.5, prec: 0.3798431034016093, fit: 0.9788441500728007, gen: 0.9392569019959633\n"
     ]
    },
    {
     "name": "stderr",
     "output_type": "stream",
     "text": [
      "replaying log with TBR, completed variants :: 100%|██████████| 5886/5886 [00:10<00:00, 548.41it/s] \n",
      "replaying log with TBR, completed variants :: 100%|██████████| 846/846 [00:02<00:00, 387.06it/s]\n",
      "replaying log with TBR, completed variants :: 100%|██████████| 846/846 [00:02<00:00, 342.53it/s]\n",
      "replaying log with TBR, completed variants :: 100%|██████████| 5886/5886 [00:06<00:00, 933.86it/s] \n",
      "replaying log with TBR, completed variants :: 100%|██████████| 846/846 [00:02<00:00, 402.15it/s]\n",
      "replaying log with TBR, completed variants :: 100%|██████████| 846/846 [00:02<00:00, 333.68it/s]\n",
      "replaying log with TBR, completed variants :: 100%|██████████| 5886/5886 [00:17<00:00, 345.16it/s] \n",
      "replaying log with TBR, completed variants :: 100%|██████████| 846/846 [00:03<00:00, 261.00it/s]\n",
      "replaying log with TBR, completed variants :: 100%|██████████| 846/846 [00:03<00:00, 255.92it/s]\n",
      "replaying log with TBR, completed variants :: 100%|██████████| 5886/5886 [00:17<00:00, 334.54it/s] \n",
      "replaying log with TBR, completed variants :: 100%|██████████| 846/846 [00:02<00:00, 404.43it/s]\n",
      "replaying log with TBR, completed variants :: 100%|██████████| 846/846 [00:01<00:00, 429.04it/s]\n",
      "replaying log with TBR, completed variants :: 100%|██████████| 5886/5886 [00:09<00:00, 615.57it/s] \n",
      "replaying log with TBR, completed variants :: 100%|██████████| 846/846 [00:01<00:00, 443.97it/s]\n",
      "replaying log with TBR, completed variants :: 100%|██████████| 846/846 [00:01<00:00, 468.50it/s]\n",
      "replaying log with TBR, completed variants :: 100%|██████████| 5886/5886 [00:09<00:00, 636.49it/s] \n",
      "replaying log with TBR, completed variants :: 100%|██████████| 846/846 [00:01<00:00, 440.64it/s]\n",
      "replaying log with TBR, completed variants :: 100%|██████████| 846/846 [00:02<00:00, 406.99it/s]\n",
      "replaying log with TBR, completed variants :: 100%|██████████| 5886/5886 [00:10<00:00, 548.24it/s] \n",
      "replaying log with TBR, completed variants :: 100%|██████████| 846/846 [00:01<00:00, 440.14it/s]\n",
      "replaying log with TBR, completed variants :: 100%|██████████| 846/846 [00:01<00:00, 466.78it/s]\n",
      "replaying log with TBR, completed variants :: 100%|██████████| 5886/5886 [00:17<00:00, 336.45it/s] \n",
      "replaying log with TBR, completed variants :: 100%|██████████| 846/846 [00:01<00:00, 463.53it/s]\n",
      "replaying log with TBR, completed variants :: 100%|██████████| 846/846 [00:01<00:00, 467.18it/s]\n",
      "replaying log with TBR, completed variants :: 100%|██████████| 5886/5886 [00:10<00:00, 554.49it/s] \n",
      "replaying log with TBR, completed variants :: 100%|██████████| 846/846 [00:02<00:00, 350.39it/s]\n",
      "replaying log with TBR, completed variants :: 100%|██████████| 846/846 [00:02<00:00, 420.07it/s]\n",
      "replaying log with TBR, completed variants :: 100%|██████████| 5886/5886 [00:05<00:00, 1145.82it/s]\n",
      "replaying log with TBR, completed variants :: 100%|██████████| 846/846 [00:02<00:00, 416.18it/s]\n",
      "replaying log with TBR, completed variants :: 100%|██████████| 846/846 [00:02<00:00, 411.72it/s]\n"
     ]
    },
    {
     "name": "stdout",
     "output_type": "stream",
     "text": [
      "eps: 1, delta: 0.1, prec: 0.4857338593050473, fit: 0.9689820121655897, gen: 0.946861560506472\n"
     ]
    },
    {
     "name": "stderr",
     "output_type": "stream",
     "text": [
      "replaying log with TBR, completed variants :: 100%|██████████| 5886/5886 [00:15<00:00, 383.72it/s] \n",
      "replaying log with TBR, completed variants :: 100%|██████████| 846/846 [00:01<00:00, 450.83it/s]\n",
      "replaying log with TBR, completed variants :: 100%|██████████| 846/846 [00:01<00:00, 436.31it/s]\n",
      "replaying log with TBR, completed variants :: 100%|██████████| 5886/5886 [00:06<00:00, 891.64it/s] \n",
      "replaying log with TBR, completed variants :: 100%|██████████| 846/846 [00:02<00:00, 323.90it/s]\n",
      "replaying log with TBR, completed variants :: 100%|██████████| 846/846 [00:02<00:00, 321.37it/s]\n",
      "replaying log with TBR, completed variants :: 100%|██████████| 5886/5886 [00:10<00:00, 541.94it/s] \n",
      "replaying log with TBR, completed variants :: 100%|██████████| 846/846 [00:01<00:00, 434.87it/s]\n",
      "replaying log with TBR, completed variants :: 100%|██████████| 846/846 [00:03<00:00, 268.28it/s]\n",
      "replaying log with TBR, completed variants :: 100%|██████████| 5886/5886 [00:12<00:00, 478.67it/s] \n",
      "replaying log with TBR, completed variants :: 100%|██████████| 846/846 [00:01<00:00, 503.62it/s]\n",
      "replaying log with TBR, completed variants :: 100%|██████████| 846/846 [00:01<00:00, 532.40it/s]\n",
      "replaying log with TBR, completed variants :: 100%|██████████| 5886/5886 [00:16<00:00, 356.19it/s] \n",
      "replaying log with TBR, completed variants :: 100%|██████████| 846/846 [00:02<00:00, 357.92it/s]\n",
      "replaying log with TBR, completed variants :: 100%|██████████| 846/846 [00:01<00:00, 489.28it/s]\n",
      "replaying log with TBR, completed variants :: 100%|██████████| 5886/5886 [00:14<00:00, 418.13it/s] \n",
      "replaying log with TBR, completed variants :: 100%|██████████| 846/846 [00:01<00:00, 544.67it/s]\n",
      "replaying log with TBR, completed variants :: 100%|██████████| 846/846 [00:01<00:00, 536.05it/s]\n",
      "replaying log with TBR, completed variants :: 100%|██████████| 5886/5886 [00:13<00:00, 429.03it/s] \n",
      "replaying log with TBR, completed variants :: 100%|██████████| 846/846 [00:01<00:00, 513.01it/s]\n",
      "replaying log with TBR, completed variants :: 100%|██████████| 846/846 [00:01<00:00, 558.38it/s]\n",
      "replaying log with TBR, completed variants :: 100%|██████████| 5886/5886 [00:12<00:00, 466.23it/s] \n",
      "replaying log with TBR, completed variants :: 100%|██████████| 846/846 [00:01<00:00, 547.54it/s]\n",
      "replaying log with TBR, completed variants :: 100%|██████████| 846/846 [00:01<00:00, 567.75it/s]\n",
      "replaying log with TBR, completed variants :: 100%|██████████| 5886/5886 [00:09<00:00, 589.05it/s] \n",
      "replaying log with TBR, completed variants :: 100%|██████████| 846/846 [00:01<00:00, 457.98it/s]\n",
      "replaying log with TBR, completed variants :: 100%|██████████| 846/846 [00:01<00:00, 450.20it/s]\n",
      "replaying log with TBR, completed variants :: 100%|██████████| 5886/5886 [00:14<00:00, 418.93it/s] \n",
      "replaying log with TBR, completed variants :: 100%|██████████| 846/846 [00:02<00:00, 418.53it/s]\n",
      "replaying log with TBR, completed variants :: 100%|██████████| 846/846 [00:01<00:00, 492.33it/s]\n"
     ]
    },
    {
     "name": "stdout",
     "output_type": "stream",
     "text": [
      "eps: 1, delta: 0.05, prec: 0.45984771641972166, fit: 0.9702639407656088, gen: 0.9529344704306503\n"
     ]
    },
    {
     "name": "stderr",
     "output_type": "stream",
     "text": [
      "replaying log with TBR, completed variants :: 100%|██████████| 5886/5886 [00:11<00:00, 510.63it/s] \n",
      "replaying log with TBR, completed variants :: 100%|██████████| 846/846 [00:01<00:00, 589.86it/s]\n",
      "replaying log with TBR, completed variants :: 100%|██████████| 846/846 [00:01<00:00, 580.57it/s]\n",
      "replaying log with TBR, completed variants :: 100%|██████████| 5886/5886 [00:10<00:00, 562.90it/s] \n",
      "replaying log with TBR, completed variants :: 100%|██████████| 846/846 [00:01<00:00, 585.85it/s]\n",
      "replaying log with TBR, completed variants :: 100%|██████████| 846/846 [00:01<00:00, 542.58it/s]\n",
      "replaying log with TBR, completed variants :: 100%|██████████| 5886/5886 [00:17<00:00, 340.44it/s] \n",
      "replaying log with TBR, completed variants :: 100%|██████████| 846/846 [00:02<00:00, 419.67it/s]\n",
      "replaying log with TBR, completed variants :: 100%|██████████| 846/846 [00:02<00:00, 401.49it/s]\n",
      "replaying log with TBR, completed variants :: 100%|██████████| 5886/5886 [00:04<00:00, 1284.75it/s]\n",
      "replaying log with TBR, completed variants :: 100%|██████████| 846/846 [00:01<00:00, 461.20it/s]\n",
      "replaying log with TBR, completed variants :: 100%|██████████| 846/846 [00:02<00:00, 410.27it/s]\n",
      "replaying log with TBR, completed variants :: 100%|██████████| 5886/5886 [00:11<00:00, 506.40it/s] \n",
      "replaying log with TBR, completed variants :: 100%|██████████| 846/846 [00:01<00:00, 535.22it/s]\n",
      "replaying log with TBR, completed variants :: 100%|██████████| 846/846 [00:01<00:00, 562.71it/s]\n",
      "replaying log with TBR, completed variants :: 100%|██████████| 5886/5886 [00:21<00:00, 279.15it/s] \n",
      "replaying log with TBR, completed variants :: 100%|██████████| 846/846 [00:02<00:00, 312.01it/s]\n",
      "replaying log with TBR, completed variants :: 100%|██████████| 846/846 [00:02<00:00, 307.11it/s]\n",
      "replaying log with TBR, completed variants :: 100%|██████████| 5886/5886 [00:07<00:00, 738.34it/s] \n",
      "replaying log with TBR, completed variants :: 100%|██████████| 846/846 [00:01<00:00, 467.97it/s]\n",
      "replaying log with TBR, completed variants :: 100%|██████████| 846/846 [00:01<00:00, 493.33it/s]\n",
      "replaying log with TBR, completed variants :: 100%|██████████| 5886/5886 [00:05<00:00, 1097.13it/s]\n",
      "replaying log with TBR, completed variants :: 100%|██████████| 846/846 [00:02<00:00, 321.10it/s]\n",
      "replaying log with TBR, completed variants :: 100%|██████████| 846/846 [00:02<00:00, 309.91it/s]\n",
      "replaying log with TBR, completed variants :: 100%|██████████| 5886/5886 [00:13<00:00, 449.54it/s] \n",
      "replaying log with TBR, completed variants :: 100%|██████████| 846/846 [00:01<00:00, 523.97it/s]\n",
      "replaying log with TBR, completed variants :: 100%|██████████| 846/846 [00:01<00:00, 558.28it/s]\n",
      "replaying log with TBR, completed variants :: 100%|██████████| 5886/5886 [00:11<00:00, 504.76it/s] \n",
      "replaying log with TBR, completed variants :: 100%|██████████| 846/846 [00:02<00:00, 351.98it/s]\n",
      "replaying log with TBR, completed variants :: 100%|██████████| 846/846 [00:02<00:00, 353.75it/s]\n"
     ]
    },
    {
     "name": "stdout",
     "output_type": "stream",
     "text": [
      "eps: 1, delta: 0.01, prec: 0.39257002998477813, fit: 0.9802421217217819, gen: 0.9624507116472385\n"
     ]
    },
    {
     "name": "stderr",
     "output_type": "stream",
     "text": [
      "replaying log with TBR, completed variants :: 100%|██████████| 5886/5886 [00:05<00:00, 1061.37it/s]\n",
      "replaying log with TBR, completed variants :: 100%|██████████| 846/846 [00:01<00:00, 473.07it/s]\n",
      "replaying log with TBR, completed variants :: 100%|██████████| 846/846 [00:01<00:00, 470.45it/s]\n",
      "replaying log with TBR, completed variants :: 100%|██████████| 5886/5886 [00:02<00:00, 2413.66it/s]\n",
      "replaying log with TBR, completed variants :: 100%|██████████| 846/846 [00:01<00:00, 649.67it/s]\n",
      "replaying log with TBR, completed variants :: 100%|██████████| 846/846 [00:01<00:00, 640.41it/s]\n",
      "replaying log with TBR, completed variants :: 100%|██████████| 5886/5886 [00:02<00:00, 2558.31it/s]\n",
      "replaying log with TBR, completed variants :: 100%|██████████| 846/846 [00:01<00:00, 632.64it/s]\n",
      "replaying log with TBR, completed variants :: 100%|██████████| 846/846 [00:01<00:00, 555.02it/s]\n",
      "replaying log with TBR, completed variants :: 100%|██████████| 5886/5886 [00:02<00:00, 2326.82it/s]\n",
      "replaying log with TBR, completed variants :: 100%|██████████| 846/846 [00:01<00:00, 641.76it/s]\n",
      "replaying log with TBR, completed variants :: 100%|██████████| 846/846 [00:01<00:00, 660.89it/s]\n",
      "replaying log with TBR, completed variants :: 100%|██████████| 5886/5886 [00:02<00:00, 2557.41it/s]\n",
      "replaying log with TBR, completed variants :: 100%|██████████| 846/846 [00:01<00:00, 654.75it/s]\n",
      "replaying log with TBR, completed variants :: 100%|██████████| 846/846 [00:01<00:00, 649.11it/s]\n",
      "replaying log with TBR, completed variants :: 100%|██████████| 5886/5886 [00:02<00:00, 2498.74it/s]\n",
      "replaying log with TBR, completed variants :: 100%|██████████| 846/846 [00:01<00:00, 653.59it/s]\n",
      "replaying log with TBR, completed variants :: 100%|██████████| 846/846 [00:01<00:00, 654.64it/s]\n",
      "replaying log with TBR, completed variants :: 100%|██████████| 5886/5886 [00:02<00:00, 2572.41it/s]\n",
      "replaying log with TBR, completed variants :: 100%|██████████| 846/846 [00:01<00:00, 604.18it/s]\n",
      "replaying log with TBR, completed variants :: 100%|██████████| 846/846 [00:01<00:00, 655.71it/s]\n",
      "replaying log with TBR, completed variants :: 100%|██████████| 5886/5886 [00:04<00:00, 1316.43it/s]\n",
      "replaying log with TBR, completed variants :: 100%|██████████| 846/846 [00:01<00:00, 478.70it/s]\n",
      "replaying log with TBR, completed variants :: 100%|██████████| 846/846 [00:01<00:00, 478.24it/s]\n",
      "replaying log with TBR, completed variants :: 100%|██████████| 5886/5886 [00:02<00:00, 2532.44it/s]\n",
      "replaying log with TBR, completed variants :: 100%|██████████| 846/846 [00:01<00:00, 652.75it/s]\n",
      "replaying log with TBR, completed variants :: 100%|██████████| 846/846 [00:01<00:00, 645.23it/s]\n",
      "replaying log with TBR, completed variants :: 100%|██████████| 5886/5886 [00:04<00:00, 1256.15it/s]\n",
      "replaying log with TBR, completed variants :: 100%|██████████| 846/846 [00:01<00:00, 553.16it/s]\n",
      "replaying log with TBR, completed variants :: 100%|██████████| 846/846 [00:01<00:00, 544.71it/s]\n"
     ]
    },
    {
     "name": "stdout",
     "output_type": "stream",
     "text": [
      "eps: 1, delta: 0.001, prec: 0.8227574770019954, fit: 0.7465024316177943, gen: 0.9620922859632046\n"
     ]
    },
    {
     "name": "stderr",
     "output_type": "stream",
     "text": [
      "replaying log with TBR, completed variants :: 100%|██████████| 5886/5886 [00:12<00:00, 468.61it/s] \n",
      "replaying log with TBR, completed variants :: 100%|██████████| 846/846 [00:01<00:00, 464.31it/s]\n",
      "replaying log with TBR, completed variants :: 100%|██████████| 846/846 [00:01<00:00, 507.48it/s]\n",
      "replaying log with TBR, completed variants :: 100%|██████████| 5886/5886 [00:07<00:00, 739.89it/s] \n",
      "replaying log with TBR, completed variants :: 100%|██████████| 846/846 [00:01<00:00, 525.56it/s]\n",
      "replaying log with TBR, completed variants :: 100%|██████████| 846/846 [00:01<00:00, 521.22it/s]\n",
      "replaying log with TBR, completed variants :: 100%|██████████| 5886/5886 [00:09<00:00, 599.07it/s] \n",
      "replaying log with TBR, completed variants :: 100%|██████████| 846/846 [00:01<00:00, 434.73it/s]\n",
      "replaying log with TBR, completed variants :: 100%|██████████| 846/846 [00:01<00:00, 455.91it/s]\n",
      "replaying log with TBR, completed variants :: 100%|██████████| 5886/5886 [00:08<00:00, 681.74it/s] \n",
      "replaying log with TBR, completed variants :: 100%|██████████| 846/846 [00:01<00:00, 500.27it/s]\n",
      "replaying log with TBR, completed variants :: 100%|██████████| 846/846 [00:01<00:00, 513.33it/s]\n",
      "replaying log with TBR, completed variants :: 100%|██████████| 5886/5886 [00:07<00:00, 752.74it/s] \n",
      "replaying log with TBR, completed variants :: 100%|██████████| 846/846 [00:01<00:00, 499.62it/s]\n",
      "replaying log with TBR, completed variants :: 100%|██████████| 846/846 [00:01<00:00, 504.44it/s]\n",
      "replaying log with TBR, completed variants :: 100%|██████████| 5886/5886 [00:12<00:00, 454.03it/s] \n",
      "replaying log with TBR, completed variants :: 100%|██████████| 846/846 [00:01<00:00, 533.03it/s]\n",
      "replaying log with TBR, completed variants :: 100%|██████████| 846/846 [00:01<00:00, 540.85it/s]\n",
      "replaying log with TBR, completed variants :: 100%|██████████| 5886/5886 [00:13<00:00, 432.97it/s] \n",
      "replaying log with TBR, completed variants :: 100%|██████████| 846/846 [00:01<00:00, 539.41it/s]\n",
      "replaying log with TBR, completed variants :: 100%|██████████| 846/846 [00:01<00:00, 535.33it/s]\n",
      "replaying log with TBR, completed variants :: 100%|██████████| 5886/5886 [00:13<00:00, 451.54it/s] \n",
      "replaying log with TBR, completed variants :: 100%|██████████| 846/846 [00:01<00:00, 564.66it/s]\n",
      "replaying log with TBR, completed variants :: 100%|██████████| 846/846 [00:01<00:00, 532.32it/s]\n",
      "replaying log with TBR, completed variants :: 100%|██████████| 5886/5886 [00:08<00:00, 655.10it/s] \n",
      "replaying log with TBR, completed variants :: 100%|██████████| 846/846 [00:01<00:00, 518.93it/s]\n",
      "replaying log with TBR, completed variants :: 100%|██████████| 846/846 [00:01<00:00, 523.81it/s]\n",
      "replaying log with TBR, completed variants :: 100%|██████████| 5886/5886 [00:06<00:00, 877.03it/s] \n",
      "replaying log with TBR, completed variants :: 100%|██████████| 846/846 [00:01<00:00, 547.85it/s]\n",
      "replaying log with TBR, completed variants :: 100%|██████████| 846/846 [00:01<00:00, 546.86it/s]\n"
     ]
    },
    {
     "name": "stdout",
     "output_type": "stream",
     "text": [
      "eps: 0.1, delta: 0.5, prec: 0.417247469238326, fit: 0.9701301636522082, gen: 0.9547135929659835\n"
     ]
    },
    {
     "name": "stderr",
     "output_type": "stream",
     "text": [
      "replaying log with TBR, completed variants :: 100%|██████████| 5886/5886 [00:12<00:00, 461.18it/s] \n",
      "replaying log with TBR, completed variants :: 100%|██████████| 846/846 [00:01<00:00, 556.15it/s]\n",
      "replaying log with TBR, completed variants :: 100%|██████████| 846/846 [00:01<00:00, 535.07it/s]\n",
      "replaying log with TBR, completed variants :: 100%|██████████| 5886/5886 [00:14<00:00, 414.77it/s] \n",
      "replaying log with TBR, completed variants :: 100%|██████████| 846/846 [00:01<00:00, 506.55it/s]\n",
      "replaying log with TBR, completed variants :: 100%|██████████| 846/846 [00:01<00:00, 511.11it/s]\n",
      "replaying log with TBR, completed variants :: 100%|██████████| 5886/5886 [00:13<00:00, 441.57it/s] \n",
      "replaying log with TBR, completed variants :: 100%|██████████| 846/846 [00:02<00:00, 398.75it/s]\n",
      "replaying log with TBR, completed variants :: 100%|██████████| 846/846 [00:01<00:00, 495.10it/s]\n",
      "replaying log with TBR, completed variants :: 100%|██████████| 5886/5886 [00:04<00:00, 1257.07it/s]\n",
      "replaying log with TBR, completed variants :: 100%|██████████| 846/846 [00:01<00:00, 438.66it/s]\n",
      "replaying log with TBR, completed variants :: 100%|██████████| 846/846 [00:01<00:00, 435.89it/s]\n",
      "replaying log with TBR, completed variants :: 100%|██████████| 5886/5886 [00:09<00:00, 606.14it/s] \n",
      "replaying log with TBR, completed variants :: 100%|██████████| 846/846 [00:01<00:00, 444.18it/s]\n",
      "replaying log with TBR, completed variants :: 100%|██████████| 846/846 [00:01<00:00, 440.75it/s]\n",
      "replaying log with TBR, completed variants :: 100%|██████████| 5886/5886 [00:15<00:00, 370.47it/s] \n",
      "replaying log with TBR, completed variants :: 100%|██████████| 846/846 [00:02<00:00, 410.85it/s]\n",
      "replaying log with TBR, completed variants :: 100%|██████████| 846/846 [00:02<00:00, 385.45it/s]\n",
      "replaying log with TBR, completed variants :: 100%|██████████| 5886/5886 [00:15<00:00, 370.17it/s]\n",
      "replaying log with TBR, completed variants :: 100%|██████████| 846/846 [00:01<00:00, 423.25it/s]\n",
      "replaying log with TBR, completed variants :: 100%|██████████| 846/846 [00:01<00:00, 425.46it/s]\n",
      "replaying log with TBR, completed variants :: 100%|██████████| 5886/5886 [00:13<00:00, 445.65it/s] \n",
      "replaying log with TBR, completed variants :: 100%|██████████| 846/846 [00:01<00:00, 501.92it/s]\n",
      "replaying log with TBR, completed variants :: 100%|██████████| 846/846 [00:01<00:00, 539.16it/s]\n",
      "replaying log with TBR, completed variants :: 100%|██████████| 5886/5886 [00:04<00:00, 1296.61it/s]\n",
      "replaying log with TBR, completed variants :: 100%|██████████| 846/846 [00:01<00:00, 439.91it/s]\n",
      "replaying log with TBR, completed variants :: 100%|██████████| 846/846 [00:02<00:00, 400.17it/s]\n",
      "replaying log with TBR, completed variants :: 100%|██████████| 5886/5886 [00:08<00:00, 727.07it/s] \n",
      "replaying log with TBR, completed variants :: 100%|██████████| 846/846 [00:01<00:00, 516.77it/s]\n",
      "replaying log with TBR, completed variants :: 100%|██████████| 846/846 [00:01<00:00, 507.11it/s]\n"
     ]
    },
    {
     "name": "stdout",
     "output_type": "stream",
     "text": [
      "eps: 0.1, delta: 0.1, prec: 0.5193086923325785, fit: 0.9602099017007776, gen: 0.9387156015212585\n"
     ]
    },
    {
     "name": "stderr",
     "output_type": "stream",
     "text": [
      "replaying log with TBR, completed variants :: 100%|██████████| 5886/5886 [00:05<00:00, 1158.53it/s]\n",
      "replaying log with TBR, completed variants :: 100%|██████████| 846/846 [00:01<00:00, 537.09it/s]\n",
      "replaying log with TBR, completed variants :: 100%|██████████| 846/846 [00:01<00:00, 517.36it/s]\n",
      "replaying log with TBR, completed variants :: 100%|██████████| 5886/5886 [00:09<00:00, 632.38it/s] \n",
      "replaying log with TBR, completed variants :: 100%|██████████| 846/846 [00:01<00:00, 466.13it/s]\n",
      "replaying log with TBR, completed variants :: 100%|██████████| 846/846 [00:01<00:00, 468.66it/s]\n",
      "replaying log with TBR, completed variants :: 100%|██████████| 5886/5886 [00:11<00:00, 496.20it/s] \n",
      "replaying log with TBR, completed variants :: 100%|██████████| 846/846 [00:01<00:00, 566.93it/s]\n",
      "replaying log with TBR, completed variants :: 100%|██████████| 846/846 [00:01<00:00, 539.52it/s]\n",
      "replaying log with TBR, completed variants :: 100%|██████████| 5886/5886 [00:04<00:00, 1347.05it/s]\n",
      "replaying log with TBR, completed variants :: 100%|██████████| 846/846 [00:01<00:00, 469.57it/s]\n",
      "replaying log with TBR, completed variants :: 100%|██████████| 846/846 [00:01<00:00, 461.88it/s]\n",
      "replaying log with TBR, completed variants :: 100%|██████████| 5886/5886 [00:08<00:00, 699.01it/s] \n",
      "replaying log with TBR, completed variants :: 100%|██████████| 846/846 [00:01<00:00, 586.21it/s]\n",
      "replaying log with TBR, completed variants :: 100%|██████████| 846/846 [00:01<00:00, 570.43it/s]\n",
      "replaying log with TBR, completed variants :: 100%|██████████| 5886/5886 [00:07<00:00, 809.13it/s] \n",
      "replaying log with TBR, completed variants :: 100%|██████████| 846/846 [00:01<00:00, 574.71it/s]\n",
      "replaying log with TBR, completed variants :: 100%|██████████| 846/846 [00:01<00:00, 578.19it/s]\n",
      "replaying log with TBR, completed variants :: 100%|██████████| 5886/5886 [00:08<00:00, 726.18it/s] \n",
      "replaying log with TBR, completed variants :: 100%|██████████| 846/846 [00:01<00:00, 563.17it/s]\n",
      "replaying log with TBR, completed variants :: 100%|██████████| 846/846 [00:01<00:00, 556.87it/s]\n",
      "replaying log with TBR, completed variants :: 100%|██████████| 5886/5886 [00:05<00:00, 984.39it/s] \n",
      "replaying log with TBR, completed variants :: 100%|██████████| 846/846 [00:02<00:00, 394.90it/s]\n",
      "replaying log with TBR, completed variants :: 100%|██████████| 846/846 [00:02<00:00, 403.76it/s]\n",
      "replaying log with TBR, completed variants :: 100%|██████████| 5886/5886 [00:05<00:00, 1071.47it/s]\n",
      "replaying log with TBR, completed variants :: 100%|██████████| 846/846 [00:02<00:00, 422.91it/s]\n",
      "replaying log with TBR, completed variants :: 100%|██████████| 846/846 [00:01<00:00, 430.52it/s]\n",
      "replaying log with TBR, completed variants :: 100%|██████████| 5886/5886 [00:12<00:00, 453.43it/s] \n",
      "replaying log with TBR, completed variants :: 100%|██████████| 846/846 [00:01<00:00, 490.40it/s]\n",
      "replaying log with TBR, completed variants :: 100%|██████████| 846/846 [00:01<00:00, 485.02it/s]\n"
     ]
    },
    {
     "name": "stdout",
     "output_type": "stream",
     "text": [
      "eps: 0.1, delta: 0.05, prec: 0.5291174573502668, fit: 0.9518826307609555, gen: 0.9461361336624977\n"
     ]
    },
    {
     "name": "stderr",
     "output_type": "stream",
     "text": [
      "replaying log with TBR, completed variants :: 100%|██████████| 5886/5886 [00:06<00:00, 908.01it/s] \n",
      "replaying log with TBR, completed variants :: 100%|██████████| 846/846 [00:01<00:00, 452.15it/s]\n",
      "replaying log with TBR, completed variants :: 100%|██████████| 846/846 [00:01<00:00, 475.10it/s]\n",
      "replaying log with TBR, completed variants :: 100%|██████████| 5886/5886 [00:08<00:00, 712.47it/s] \n",
      "replaying log with TBR, completed variants :: 100%|██████████| 846/846 [00:01<00:00, 473.34it/s]\n",
      "replaying log with TBR, completed variants :: 100%|██████████| 846/846 [00:01<00:00, 477.76it/s]\n",
      "replaying log with TBR, completed variants :: 100%|██████████| 5886/5886 [00:15<00:00, 390.81it/s] \n",
      "replaying log with TBR, completed variants :: 100%|██████████| 846/846 [00:01<00:00, 438.01it/s]\n",
      "replaying log with TBR, completed variants :: 100%|██████████| 846/846 [00:01<00:00, 429.29it/s]\n",
      "replaying log with TBR, completed variants :: 100%|██████████| 5886/5886 [00:08<00:00, 675.90it/s] \n",
      "replaying log with TBR, completed variants :: 100%|██████████| 846/846 [00:02<00:00, 350.20it/s]\n",
      "replaying log with TBR, completed variants :: 100%|██████████| 846/846 [00:02<00:00, 340.07it/s]\n",
      "replaying log with TBR, completed variants :: 100%|██████████| 5886/5886 [00:06<00:00, 961.00it/s] \n",
      "replaying log with TBR, completed variants :: 100%|██████████| 846/846 [00:01<00:00, 459.94it/s]\n",
      "replaying log with TBR, completed variants :: 100%|██████████| 846/846 [00:01<00:00, 464.53it/s]\n",
      "replaying log with TBR, completed variants :: 100%|██████████| 5886/5886 [00:04<00:00, 1307.51it/s]\n",
      "replaying log with TBR, completed variants :: 100%|██████████| 846/846 [00:01<00:00, 473.74it/s]\n",
      "replaying log with TBR, completed variants :: 100%|██████████| 846/846 [00:01<00:00, 475.39it/s]\n",
      "replaying log with TBR, completed variants :: 100%|██████████| 5886/5886 [00:07<00:00, 818.46it/s] \n",
      "replaying log with TBR, completed variants :: 100%|██████████| 846/846 [00:02<00:00, 336.77it/s]\n",
      "replaying log with TBR, completed variants :: 100%|██████████| 846/846 [00:02<00:00, 335.99it/s]\n",
      "replaying log with TBR, completed variants :: 100%|██████████| 5886/5886 [00:02<00:00, 2221.00it/s]\n",
      "replaying log with TBR, completed variants :: 100%|██████████| 846/846 [00:01<00:00, 451.04it/s]\n",
      "replaying log with TBR, completed variants :: 100%|██████████| 846/846 [00:01<00:00, 447.63it/s]\n",
      "replaying log with TBR, completed variants :: 100%|██████████| 5886/5886 [00:06<00:00, 955.78it/s] \n",
      "replaying log with TBR, completed variants :: 100%|██████████| 846/846 [00:01<00:00, 479.02it/s]\n",
      "replaying log with TBR, completed variants :: 100%|██████████| 846/846 [00:01<00:00, 481.99it/s]\n",
      "replaying log with TBR, completed variants :: 100%|██████████| 5886/5886 [00:09<00:00, 607.70it/s]\n",
      "replaying log with TBR, completed variants :: 100%|██████████| 846/846 [00:01<00:00, 523.12it/s]\n",
      "replaying log with TBR, completed variants :: 100%|██████████| 846/846 [00:01<00:00, 506.16it/s]\n"
     ]
    },
    {
     "name": "stdout",
     "output_type": "stream",
     "text": [
      "eps: 0.1, delta: 0.01, prec: 0.5482490751029114, fit: 0.9447182878030965, gen: 0.9604899681835471\n"
     ]
    },
    {
     "name": "stderr",
     "output_type": "stream",
     "text": [
      "replaying log with TBR, completed variants :: 100%|██████████| 5886/5886 [00:01<00:00, 4949.29it/s]\n",
      "replaying log with TBR, completed variants :: 100%|██████████| 846/846 [00:00<00:00, 966.70it/s] \n",
      "replaying log with TBR, completed variants :: 100%|██████████| 846/846 [00:00<00:00, 984.63it/s] \n",
      "replaying log with TBR, completed variants :: 100%|██████████| 5886/5886 [00:02<00:00, 2920.55it/s]\n",
      "replaying log with TBR, completed variants :: 100%|██████████| 846/846 [00:01<00:00, 769.69it/s]\n",
      "replaying log with TBR, completed variants :: 100%|██████████| 846/846 [00:01<00:00, 769.76it/s]\n",
      "replaying log with TBR, completed variants :: 100%|██████████| 5886/5886 [00:02<00:00, 2295.58it/s]\n",
      "replaying log with TBR, completed variants :: 100%|██████████| 846/846 [00:01<00:00, 771.10it/s] \n",
      "replaying log with TBR, completed variants :: 100%|██████████| 846/846 [00:01<00:00, 774.55it/s]\n",
      "replaying log with TBR, completed variants :: 100%|██████████| 5886/5886 [00:02<00:00, 2353.32it/s]\n",
      "replaying log with TBR, completed variants :: 100%|██████████| 846/846 [00:01<00:00, 726.78it/s]\n",
      "replaying log with TBR, completed variants :: 100%|██████████| 846/846 [00:01<00:00, 713.88it/s] \n",
      "replaying log with TBR, completed variants :: 100%|██████████| 5886/5886 [00:05<00:00, 1168.48it/s]\n",
      "replaying log with TBR, completed variants :: 100%|██████████| 846/846 [00:01<00:00, 470.36it/s]\n",
      "replaying log with TBR, completed variants :: 100%|██████████| 846/846 [00:01<00:00, 466.25it/s]\n",
      "replaying log with TBR, completed variants :: 100%|██████████| 5886/5886 [00:06<00:00, 929.14it/s] \n",
      "replaying log with TBR, completed variants :: 100%|██████████| 846/846 [00:02<00:00, 283.84it/s]\n",
      "replaying log with TBR, completed variants :: 100%|██████████| 846/846 [00:02<00:00, 290.89it/s]\n",
      "replaying log with TBR, completed variants :: 100%|██████████| 5886/5886 [00:01<00:00, 4432.24it/s]\n",
      "replaying log with TBR, completed variants :: 100%|██████████| 846/846 [00:01<00:00, 562.48it/s]\n",
      "replaying log with TBR, completed variants :: 100%|██████████| 846/846 [00:01<00:00, 588.69it/s]\n"
     ]
    },
    {
     "name": "stdout",
     "output_type": "stream",
     "text": [
      "eps: 0.1, delta: 0.001, prec: 0.8459264371625139, fit: 0.7740397729086739, gen: 0.9657096927088478\n"
     ]
    },
    {
     "name": "stderr",
     "output_type": "stream",
     "text": [
      "replaying log with TBR, completed variants :: 100%|██████████| 5886/5886 [00:12<00:00, 473.35it/s] \n",
      "replaying log with TBR, completed variants :: 100%|██████████| 846/846 [00:01<00:00, 563.47it/s]\n",
      "replaying log with TBR, completed variants :: 100%|██████████| 846/846 [00:01<00:00, 563.83it/s]\n",
      "replaying log with TBR, completed variants :: 100%|██████████| 5886/5886 [00:08<00:00, 712.03it/s] \n",
      "replaying log with TBR, completed variants :: 100%|██████████| 846/846 [00:01<00:00, 509.54it/s]\n",
      "replaying log with TBR, completed variants :: 100%|██████████| 846/846 [00:01<00:00, 502.60it/s]\n",
      "replaying log with TBR, completed variants :: 100%|██████████| 5886/5886 [00:09<00:00, 608.22it/s] \n",
      "replaying log with TBR, completed variants :: 100%|██████████| 846/846 [00:01<00:00, 478.76it/s]\n",
      "replaying log with TBR, completed variants :: 100%|██████████| 846/846 [00:01<00:00, 451.64it/s]\n",
      "replaying log with TBR, completed variants :: 100%|██████████| 5886/5886 [00:15<00:00, 382.01it/s]\n",
      "replaying log with TBR, completed variants :: 100%|██████████| 846/846 [00:01<00:00, 477.41it/s]\n",
      "replaying log with TBR, completed variants :: 100%|██████████| 846/846 [00:01<00:00, 488.95it/s]\n",
      "replaying log with TBR, completed variants :: 100%|██████████| 5886/5886 [00:14<00:00, 405.59it/s] \n",
      "replaying log with TBR, completed variants :: 100%|██████████| 846/846 [00:01<00:00, 465.96it/s]\n",
      "replaying log with TBR, completed variants :: 100%|██████████| 846/846 [00:01<00:00, 462.28it/s]\n",
      "replaying log with TBR, completed variants :: 100%|██████████| 5886/5886 [00:08<00:00, 679.64it/s] \n",
      "replaying log with TBR, completed variants :: 100%|██████████| 846/846 [00:01<00:00, 530.98it/s]\n",
      "replaying log with TBR, completed variants :: 100%|██████████| 846/846 [00:01<00:00, 531.04it/s]\n",
      "replaying log with TBR, completed variants :: 100%|██████████| 5886/5886 [00:12<00:00, 473.38it/s] \n",
      "replaying log with TBR, completed variants :: 100%|██████████| 846/846 [00:01<00:00, 526.71it/s]\n",
      "replaying log with TBR, completed variants :: 100%|██████████| 846/846 [00:01<00:00, 491.72it/s]\n",
      "replaying log with TBR, completed variants :: 100%|██████████| 5886/5886 [00:10<00:00, 585.35it/s] \n",
      "replaying log with TBR, completed variants :: 100%|██████████| 846/846 [00:01<00:00, 449.01it/s]\n",
      "replaying log with TBR, completed variants :: 100%|██████████| 846/846 [00:01<00:00, 475.41it/s]\n",
      "replaying log with TBR, completed variants :: 100%|██████████| 5886/5886 [00:12<00:00, 474.35it/s] \n",
      "replaying log with TBR, completed variants :: 100%|██████████| 846/846 [00:01<00:00, 520.24it/s]\n",
      "replaying log with TBR, completed variants :: 100%|██████████| 846/846 [00:01<00:00, 498.43it/s]\n",
      "replaying log with TBR, completed variants :: 100%|██████████| 5886/5886 [00:14<00:00, 410.67it/s] \n",
      "replaying log with TBR, completed variants :: 100%|██████████| 846/846 [00:01<00:00, 531.63it/s]\n",
      "replaying log with TBR, completed variants :: 100%|██████████| 846/846 [00:01<00:00, 519.43it/s]\n"
     ]
    },
    {
     "name": "stdout",
     "output_type": "stream",
     "text": [
      "eps: 0.01, delta: 0.5, prec: 0.4538248757768941, fit: 0.9713740085545025, gen: 0.9497575718288014\n"
     ]
    },
    {
     "name": "stderr",
     "output_type": "stream",
     "text": [
      "replaying log with TBR, completed variants :: 100%|██████████| 5886/5886 [00:11<00:00, 499.14it/s] \n",
      "replaying log with TBR, completed variants :: 100%|██████████| 846/846 [00:01<00:00, 589.53it/s]\n",
      "replaying log with TBR, completed variants :: 100%|██████████| 846/846 [00:01<00:00, 599.39it/s]\n",
      "replaying log with TBR, completed variants :: 100%|██████████| 5886/5886 [00:08<00:00, 732.15it/s] \n",
      "replaying log with TBR, completed variants :: 100%|██████████| 846/846 [00:01<00:00, 505.58it/s]\n",
      "replaying log with TBR, completed variants :: 100%|██████████| 846/846 [00:01<00:00, 507.43it/s]\n",
      "replaying log with TBR, completed variants :: 100%|██████████| 5886/5886 [00:12<00:00, 468.41it/s] \n",
      "replaying log with TBR, completed variants :: 100%|██████████| 846/846 [00:01<00:00, 545.77it/s]\n",
      "replaying log with TBR, completed variants :: 100%|██████████| 846/846 [00:01<00:00, 543.95it/s]\n",
      "replaying log with TBR, completed variants :: 100%|██████████| 5886/5886 [00:07<00:00, 744.30it/s] \n",
      "replaying log with TBR, completed variants :: 100%|██████████| 846/846 [00:01<00:00, 481.49it/s]\n",
      "replaying log with TBR, completed variants :: 100%|██████████| 846/846 [00:01<00:00, 482.31it/s]\n",
      "replaying log with TBR, completed variants :: 100%|██████████| 5886/5886 [00:08<00:00, 678.14it/s] \n",
      "replaying log with TBR, completed variants :: 100%|██████████| 846/846 [00:02<00:00, 412.97it/s]\n",
      "replaying log with TBR, completed variants :: 100%|██████████| 846/846 [00:02<00:00, 398.84it/s]\n",
      "replaying log with TBR, completed variants :: 100%|██████████| 5886/5886 [00:12<00:00, 468.15it/s] \n",
      "replaying log with TBR, completed variants :: 100%|██████████| 846/846 [00:01<00:00, 498.15it/s]\n",
      "replaying log with TBR, completed variants :: 100%|██████████| 846/846 [00:01<00:00, 473.28it/s]\n",
      "replaying log with TBR, completed variants :: 100%|██████████| 5886/5886 [00:15<00:00, 378.99it/s] \n",
      "replaying log with TBR, completed variants :: 100%|██████████| 846/846 [00:02<00:00, 334.20it/s]\n",
      "replaying log with TBR, completed variants :: 100%|██████████| 846/846 [00:02<00:00, 285.83it/s]\n",
      "replaying log with TBR, completed variants :: 100%|██████████| 5886/5886 [00:07<00:00, 749.43it/s] \n",
      "replaying log with TBR, completed variants :: 100%|██████████| 846/846 [00:02<00:00, 388.59it/s]\n",
      "replaying log with TBR, completed variants :: 100%|██████████| 846/846 [00:02<00:00, 388.05it/s]\n",
      "replaying log with TBR, completed variants :: 100%|██████████| 5886/5886 [00:05<00:00, 1069.71it/s]\n",
      "replaying log with TBR, completed variants :: 100%|██████████| 846/846 [00:02<00:00, 380.92it/s]\n",
      "replaying log with TBR, completed variants :: 100%|██████████| 846/846 [00:02<00:00, 363.00it/s]\n",
      "replaying log with TBR, completed variants :: 100%|██████████| 5886/5886 [00:18<00:00, 326.56it/s] \n",
      "replaying log with TBR, completed variants :: 100%|██████████| 846/846 [00:01<00:00, 485.20it/s]\n",
      "replaying log with TBR, completed variants :: 100%|██████████| 846/846 [00:01<00:00, 469.25it/s]\n"
     ]
    },
    {
     "name": "stdout",
     "output_type": "stream",
     "text": [
      "eps: 0.01, delta: 0.1, prec: 0.4446108375243897, fit: 0.9655407141586807, gen: 0.9399632389005299\n"
     ]
    },
    {
     "name": "stderr",
     "output_type": "stream",
     "text": [
      "replaying log with TBR, completed variants :: 100%|██████████| 5886/5886 [00:09<00:00, 591.51it/s] \n",
      "replaying log with TBR, completed variants :: 100%|██████████| 846/846 [00:02<00:00, 292.31it/s]\n",
      "replaying log with TBR, completed variants :: 100%|██████████| 846/846 [00:02<00:00, 343.77it/s]\n",
      "replaying log with TBR, completed variants :: 100%|██████████| 5886/5886 [00:12<00:00, 453.23it/s] \n",
      "replaying log with TBR, completed variants :: 100%|██████████| 846/846 [00:01<00:00, 568.83it/s]\n",
      "replaying log with TBR, completed variants :: 100%|██████████| 846/846 [00:01<00:00, 575.79it/s]\n",
      "replaying log with TBR, completed variants :: 100%|██████████| 5886/5886 [00:16<00:00, 348.43it/s] \n",
      "replaying log with TBR, completed variants :: 100%|██████████| 846/846 [00:02<00:00, 289.05it/s]\n",
      "replaying log with TBR, completed variants :: 100%|██████████| 846/846 [00:03<00:00, 248.50it/s]\n",
      "replaying log with TBR, completed variants :: 100%|██████████| 5886/5886 [00:17<00:00, 336.74it/s] \n",
      "replaying log with TBR, completed variants :: 100%|██████████| 846/846 [00:02<00:00, 370.54it/s]\n",
      "replaying log with TBR, completed variants :: 100%|██████████| 846/846 [00:02<00:00, 421.27it/s]\n",
      "replaying log with TBR, completed variants :: 100%|██████████| 5886/5886 [00:07<00:00, 747.79it/s] \n",
      "replaying log with TBR, completed variants :: 100%|██████████| 846/846 [00:02<00:00, 392.24it/s]\n",
      "replaying log with TBR, completed variants :: 100%|██████████| 846/846 [00:02<00:00, 417.95it/s]\n",
      "replaying log with TBR, completed variants :: 100%|██████████| 5886/5886 [00:13<00:00, 447.40it/s] \n",
      "replaying log with TBR, completed variants :: 100%|██████████| 846/846 [00:01<00:00, 424.22it/s]\n",
      "replaying log with TBR, completed variants :: 100%|██████████| 846/846 [00:01<00:00, 490.56it/s]\n",
      "replaying log with TBR, completed variants :: 100%|██████████| 5886/5886 [00:05<00:00, 1036.29it/s]\n",
      "replaying log with TBR, completed variants :: 100%|██████████| 846/846 [00:02<00:00, 393.35it/s]\n",
      "replaying log with TBR, completed variants :: 100%|██████████| 846/846 [00:02<00:00, 411.67it/s]\n",
      "replaying log with TBR, completed variants :: 100%|██████████| 5886/5886 [00:05<00:00, 983.12it/s] \n",
      "replaying log with TBR, completed variants :: 100%|██████████| 846/846 [00:02<00:00, 399.78it/s]\n",
      "replaying log with TBR, completed variants :: 100%|██████████| 846/846 [00:02<00:00, 362.24it/s]\n",
      "replaying log with TBR, completed variants :: 100%|██████████| 5886/5886 [00:12<00:00, 474.56it/s] \n",
      "replaying log with TBR, completed variants :: 100%|██████████| 846/846 [00:01<00:00, 445.29it/s]\n",
      "replaying log with TBR, completed variants :: 100%|██████████| 846/846 [00:01<00:00, 476.48it/s]\n",
      "replaying log with TBR, completed variants :: 100%|██████████| 5886/5886 [00:12<00:00, 465.09it/s] \n",
      "replaying log with TBR, completed variants :: 100%|██████████| 846/846 [00:02<00:00, 417.91it/s]\n",
      "replaying log with TBR, completed variants :: 100%|██████████| 846/846 [00:02<00:00, 386.49it/s]\n"
     ]
    },
    {
     "name": "stdout",
     "output_type": "stream",
     "text": [
      "eps: 0.01, delta: 0.05, prec: 0.4645418809291263, fit: 0.963258874018781, gen: 0.9538904616613735\n"
     ]
    },
    {
     "name": "stderr",
     "output_type": "stream",
     "text": [
      "replaying log with TBR, completed variants :: 100%|██████████| 5886/5886 [00:04<00:00, 1190.37it/s]\n",
      "replaying log with TBR, completed variants :: 100%|██████████| 846/846 [00:02<00:00, 408.38it/s]\n",
      "replaying log with TBR, completed variants :: 100%|██████████| 846/846 [00:01<00:00, 424.14it/s]\n",
      "replaying log with TBR, completed variants :: 100%|██████████| 5886/5886 [00:19<00:00, 300.23it/s]\n",
      "replaying log with TBR, completed variants :: 100%|██████████| 846/846 [00:01<00:00, 442.52it/s]\n",
      "replaying log with TBR, completed variants :: 100%|██████████| 846/846 [00:01<00:00, 447.38it/s]\n",
      "replaying log with TBR, completed variants :: 100%|██████████| 5886/5886 [00:32<00:00, 178.72it/s] \n",
      "replaying log with TBR, completed variants :: 100%|██████████| 846/846 [00:04<00:00, 200.28it/s]\n",
      "replaying log with TBR, completed variants :: 100%|██████████| 846/846 [00:03<00:00, 222.63it/s]\n",
      "replaying log with TBR, completed variants :: 100%|██████████| 5886/5886 [00:15<00:00, 370.70it/s] \n",
      "replaying log with TBR, completed variants :: 100%|██████████| 846/846 [00:01<00:00, 439.72it/s]\n",
      "replaying log with TBR, completed variants :: 100%|██████████| 846/846 [00:01<00:00, 516.09it/s]\n",
      "replaying log with TBR, completed variants :: 100%|██████████| 5886/5886 [00:22<00:00, 258.89it/s]\n",
      "replaying log with TBR, completed variants :: 100%|██████████| 846/846 [00:01<00:00, 442.82it/s]\n",
      "replaying log with TBR, completed variants :: 100%|██████████| 846/846 [00:02<00:00, 410.41it/s]\n",
      "replaying log with TBR, completed variants :: 100%|██████████| 5886/5886 [00:05<00:00, 987.90it/s] \n",
      "replaying log with TBR, completed variants :: 100%|██████████| 846/846 [00:01<00:00, 476.60it/s]\n",
      "replaying log with TBR, completed variants :: 100%|██████████| 846/846 [00:02<00:00, 343.19it/s]\n",
      "replaying log with TBR, completed variants :: 100%|██████████| 5886/5886 [00:24<00:00, 239.87it/s]\n",
      "replaying log with TBR, completed variants :: 100%|██████████| 846/846 [00:02<00:00, 419.43it/s]\n",
      "replaying log with TBR, completed variants :: 100%|██████████| 846/846 [00:02<00:00, 416.06it/s]\n",
      "replaying log with TBR, completed variants :: 100%|██████████| 5886/5886 [00:05<00:00, 1013.52it/s]\n",
      "replaying log with TBR, completed variants :: 100%|██████████| 846/846 [00:02<00:00, 288.13it/s]\n",
      "replaying log with TBR, completed variants :: 100%|██████████| 846/846 [00:02<00:00, 284.45it/s]\n",
      "replaying log with TBR, completed variants :: 100%|██████████| 5886/5886 [00:11<00:00, 529.61it/s] \n",
      "replaying log with TBR, completed variants :: 100%|██████████| 846/846 [00:03<00:00, 281.62it/s]\n",
      "replaying log with TBR, completed variants :: 100%|██████████| 846/846 [00:02<00:00, 302.09it/s]\n",
      "replaying log with TBR, completed variants :: 100%|██████████| 5886/5886 [00:02<00:00, 2209.96it/s]\n",
      "replaying log with TBR, completed variants :: 100%|██████████| 846/846 [00:02<00:00, 413.95it/s]\n",
      "replaying log with TBR, completed variants :: 100%|██████████| 846/846 [00:02<00:00, 386.24it/s]\n"
     ]
    },
    {
     "name": "stdout",
     "output_type": "stream",
     "text": [
      "eps: 0.01, delta: 0.01, prec: 0.5253959939509367, fit: 0.957003441539763, gen: 0.9550105790143615\n"
     ]
    },
    {
     "name": "stderr",
     "output_type": "stream",
     "text": [
      "replaying log with TBR, completed variants :: 100%|██████████| 5886/5886 [00:01<00:00, 4050.67it/s]\n",
      "replaying log with TBR, completed variants :: 100%|██████████| 846/846 [00:01<00:00, 785.48it/s]\n",
      "replaying log with TBR, completed variants :: 100%|██████████| 846/846 [00:01<00:00, 716.31it/s]\n",
      "replaying log with TBR, completed variants :: 100%|██████████| 5886/5886 [00:01<00:00, 2975.51it/s]\n",
      "replaying log with TBR, completed variants :: 100%|██████████| 846/846 [00:02<00:00, 408.35it/s]\n",
      "replaying log with TBR, completed variants :: 100%|██████████| 846/846 [00:01<00:00, 426.38it/s]\n",
      "replaying log with TBR, completed variants :: 100%|██████████| 5886/5886 [00:03<00:00, 1694.80it/s]\n",
      "replaying log with TBR, completed variants :: 100%|██████████| 846/846 [00:01<00:00, 593.54it/s]\n",
      "replaying log with TBR, completed variants :: 100%|██████████| 846/846 [00:01<00:00, 583.81it/s]\n",
      "replaying log with TBR, completed variants :: 100%|██████████| 5886/5886 [00:01<00:00, 3080.34it/s]\n",
      "replaying log with TBR, completed variants :: 100%|██████████| 846/846 [00:01<00:00, 689.68it/s]\n",
      "replaying log with TBR, completed variants :: 100%|██████████| 846/846 [00:01<00:00, 633.43it/s]\n",
      "replaying log with TBR, completed variants :: 100%|██████████| 5886/5886 [00:02<00:00, 2055.19it/s]\n",
      "replaying log with TBR, completed variants :: 100%|██████████| 846/846 [00:01<00:00, 661.97it/s]\n",
      "replaying log with TBR, completed variants :: 100%|██████████| 846/846 [00:01<00:00, 650.72it/s]\n",
      "replaying log with TBR, completed variants :: 100%|██████████| 5886/5886 [00:02<00:00, 2312.95it/s]\n",
      "replaying log with TBR, completed variants :: 100%|██████████| 846/846 [00:03<00:00, 259.35it/s]\n",
      "replaying log with TBR, completed variants :: 100%|██████████| 846/846 [00:03<00:00, 266.79it/s]\n",
      "replaying log with TBR, completed variants :: 100%|██████████| 5886/5886 [00:03<00:00, 1496.45it/s]\n",
      "replaying log with TBR, completed variants :: 100%|██████████| 846/846 [00:02<00:00, 297.40it/s]\n",
      "replaying log with TBR, completed variants :: 100%|██████████| 846/846 [00:02<00:00, 302.92it/s]\n"
     ]
    },
    {
     "name": "stdout",
     "output_type": "stream",
     "text": [
      "eps: 0.01, delta: 0.001, prec: 0.8348117603137638, fit: 0.8000821127868628, gen: 0.9612934465374768\n"
     ]
    },
    {
     "name": "stderr",
     "output_type": "stream",
     "text": [
      "replaying log with TBR, completed variants :: 100%|██████████| 5886/5886 [00:15<00:00, 382.52it/s] \n",
      "replaying log with TBR, completed variants :: 100%|██████████| 846/846 [00:02<00:00, 421.59it/s]\n",
      "replaying log with TBR, completed variants :: 100%|██████████| 846/846 [00:02<00:00, 398.18it/s]\n",
      "replaying log with TBR, completed variants :: 100%|██████████| 5886/5886 [00:15<00:00, 378.38it/s] \n",
      "replaying log with TBR, completed variants :: 100%|██████████| 846/846 [00:01<00:00, 439.61it/s]\n",
      "replaying log with TBR, completed variants :: 100%|██████████| 846/846 [00:01<00:00, 469.89it/s]\n",
      "replaying log with TBR, completed variants :: 100%|██████████| 5886/5886 [00:10<00:00, 576.52it/s] \n",
      "replaying log with TBR, completed variants :: 100%|██████████| 846/846 [00:01<00:00, 451.92it/s]\n",
      "replaying log with TBR, completed variants :: 100%|██████████| 846/846 [00:02<00:00, 416.21it/s]\n",
      "replaying log with TBR, completed variants :: 100%|██████████| 5886/5886 [00:10<00:00, 564.59it/s] \n",
      "replaying log with TBR, completed variants :: 100%|██████████| 846/846 [00:01<00:00, 449.95it/s]\n",
      "replaying log with TBR, completed variants :: 100%|██████████| 846/846 [00:01<00:00, 456.78it/s]\n",
      "replaying log with TBR, completed variants :: 100%|██████████| 5886/5886 [00:15<00:00, 386.33it/s] \n",
      "replaying log with TBR, completed variants :: 100%|██████████| 846/846 [00:01<00:00, 453.88it/s]\n",
      "replaying log with TBR, completed variants :: 100%|██████████| 846/846 [00:01<00:00, 454.00it/s]\n",
      "replaying log with TBR, completed variants :: 100%|██████████| 5886/5886 [00:15<00:00, 374.57it/s] \n",
      "replaying log with TBR, completed variants :: 100%|██████████| 846/846 [00:01<00:00, 442.57it/s]\n",
      "replaying log with TBR, completed variants :: 100%|██████████| 846/846 [00:01<00:00, 436.62it/s]\n",
      "replaying log with TBR, completed variants :: 100%|██████████| 5886/5886 [00:11<00:00, 500.31it/s] \n",
      "replaying log with TBR, completed variants :: 100%|██████████| 846/846 [00:01<00:00, 427.32it/s]\n",
      "replaying log with TBR, completed variants :: 100%|██████████| 846/846 [00:02<00:00, 405.38it/s]\n",
      "replaying log with TBR, completed variants :: 100%|██████████| 5886/5886 [00:16<00:00, 356.07it/s] \n",
      "replaying log with TBR, completed variants :: 100%|██████████| 846/846 [00:02<00:00, 381.48it/s]\n",
      "replaying log with TBR, completed variants :: 100%|██████████| 846/846 [00:01<00:00, 423.52it/s]\n",
      "replaying log with TBR, completed variants :: 100%|██████████| 5886/5886 [00:10<00:00, 564.64it/s] \n",
      "replaying log with TBR, completed variants :: 100%|██████████| 846/846 [00:02<00:00, 360.29it/s]\n",
      "replaying log with TBR, completed variants :: 100%|██████████| 846/846 [00:02<00:00, 359.37it/s]\n",
      "replaying log with TBR, completed variants :: 100%|██████████| 5886/5886 [00:18<00:00, 312.64it/s]\n",
      "replaying log with TBR, completed variants :: 100%|██████████| 846/846 [00:02<00:00, 328.40it/s]\n",
      "replaying log with TBR, completed variants :: 100%|██████████| 846/846 [00:02<00:00, 373.21it/s]\n"
     ]
    },
    {
     "name": "stdout",
     "output_type": "stream",
     "text": [
      "eps: 0.001, delta: 0.5, prec: 0.43829946481650317, fit: 0.9724582531875801, gen: 0.9472783348328238\n"
     ]
    },
    {
     "name": "stderr",
     "output_type": "stream",
     "text": [
      "replaying log with TBR, completed variants :: 100%|██████████| 5886/5886 [00:14<00:00, 402.66it/s] \n",
      "replaying log with TBR, completed variants :: 100%|██████████| 846/846 [00:01<00:00, 427.80it/s]\n",
      "replaying log with TBR, completed variants :: 100%|██████████| 846/846 [00:01<00:00, 433.85it/s]\n",
      "replaying log with TBR, completed variants :: 100%|██████████| 5886/5886 [00:11<00:00, 496.27it/s] \n",
      "replaying log with TBR, completed variants :: 100%|██████████| 846/846 [00:02<00:00, 395.30it/s]\n",
      "replaying log with TBR, completed variants :: 100%|██████████| 846/846 [00:02<00:00, 391.21it/s]\n",
      "replaying log with TBR, completed variants :: 100%|██████████| 5886/5886 [00:07<00:00, 770.12it/s] \n",
      "replaying log with TBR, completed variants :: 100%|██████████| 846/846 [00:02<00:00, 367.46it/s]\n",
      "replaying log with TBR, completed variants :: 100%|██████████| 846/846 [00:02<00:00, 358.54it/s]\n",
      "replaying log with TBR, completed variants :: 100%|██████████| 5886/5886 [00:13<00:00, 434.11it/s] \n",
      "replaying log with TBR, completed variants :: 100%|██████████| 846/846 [00:02<00:00, 380.29it/s]\n",
      "replaying log with TBR, completed variants :: 100%|██████████| 846/846 [00:01<00:00, 461.77it/s]\n",
      "replaying log with TBR, completed variants :: 100%|██████████| 5886/5886 [00:13<00:00, 423.89it/s] \n",
      "replaying log with TBR, completed variants :: 100%|██████████| 846/846 [00:01<00:00, 453.84it/s]\n",
      "replaying log with TBR, completed variants :: 100%|██████████| 846/846 [00:01<00:00, 464.28it/s]\n",
      "replaying log with TBR, completed variants :: 100%|██████████| 5886/5886 [00:07<00:00, 809.81it/s] \n",
      "replaying log with TBR, completed variants :: 100%|██████████| 846/846 [00:02<00:00, 385.64it/s]\n",
      "replaying log with TBR, completed variants :: 100%|██████████| 846/846 [00:02<00:00, 349.86it/s]\n",
      "replaying log with TBR, completed variants :: 100%|██████████| 5886/5886 [00:16<00:00, 359.62it/s] \n",
      "replaying log with TBR, completed variants :: 100%|██████████| 846/846 [00:02<00:00, 411.66it/s]\n",
      "replaying log with TBR, completed variants :: 100%|██████████| 846/846 [00:02<00:00, 399.67it/s]\n",
      "replaying log with TBR, completed variants :: 100%|██████████| 5886/5886 [00:14<00:00, 413.79it/s] \n",
      "replaying log with TBR, completed variants :: 100%|██████████| 846/846 [00:01<00:00, 482.70it/s]\n",
      "replaying log with TBR, completed variants :: 100%|██████████| 846/846 [00:01<00:00, 488.46it/s]\n",
      "replaying log with TBR, completed variants :: 100%|██████████| 5886/5886 [00:10<00:00, 545.32it/s] \n",
      "replaying log with TBR, completed variants :: 100%|██████████| 846/846 [00:01<00:00, 446.20it/s]\n",
      "replaying log with TBR, completed variants :: 100%|██████████| 846/846 [00:02<00:00, 405.55it/s]\n",
      "replaying log with TBR, completed variants :: 100%|██████████| 5886/5886 [00:14<00:00, 403.83it/s] \n",
      "replaying log with TBR, completed variants :: 100%|██████████| 846/846 [00:01<00:00, 469.71it/s]\n",
      "replaying log with TBR, completed variants :: 100%|██████████| 846/846 [00:01<00:00, 430.46it/s]\n"
     ]
    },
    {
     "name": "stdout",
     "output_type": "stream",
     "text": [
      "eps: 0.001, delta: 0.1, prec: 0.5119191465932349, fit: 0.9594369967151797, gen: 0.9425978005998383\n"
     ]
    },
    {
     "name": "stderr",
     "output_type": "stream",
     "text": [
      "replaying log with TBR, completed variants :: 100%|██████████| 5886/5886 [00:10<00:00, 565.15it/s] \n",
      "replaying log with TBR, completed variants :: 100%|██████████| 846/846 [00:02<00:00, 355.90it/s]\n",
      "replaying log with TBR, completed variants :: 100%|██████████| 846/846 [00:02<00:00, 334.24it/s]\n",
      "replaying log with TBR, completed variants :: 100%|██████████| 5886/5886 [00:06<00:00, 888.79it/s] \n",
      "replaying log with TBR, completed variants :: 100%|██████████| 846/846 [00:02<00:00, 393.21it/s]\n",
      "replaying log with TBR, completed variants :: 100%|██████████| 846/846 [00:02<00:00, 416.70it/s]\n",
      "replaying log with TBR, completed variants :: 100%|██████████| 5886/5886 [00:08<00:00, 695.65it/s] \n",
      "replaying log with TBR, completed variants :: 100%|██████████| 846/846 [00:01<00:00, 451.84it/s]\n",
      "replaying log with TBR, completed variants :: 100%|██████████| 846/846 [00:01<00:00, 454.27it/s]\n",
      "replaying log with TBR, completed variants :: 100%|██████████| 5886/5886 [00:04<00:00, 1284.17it/s]\n",
      "replaying log with TBR, completed variants :: 100%|██████████| 846/846 [00:02<00:00, 403.56it/s]\n",
      "replaying log with TBR, completed variants :: 100%|██████████| 846/846 [00:01<00:00, 454.31it/s]\n",
      "replaying log with TBR, completed variants :: 100%|██████████| 5886/5886 [00:08<00:00, 713.62it/s] \n",
      "replaying log with TBR, completed variants :: 100%|██████████| 846/846 [00:01<00:00, 460.20it/s]\n",
      "replaying log with TBR, completed variants :: 100%|██████████| 846/846 [00:01<00:00, 492.65it/s]\n",
      "replaying log with TBR, completed variants :: 100%|██████████| 5886/5886 [00:05<00:00, 1149.97it/s]\n",
      "replaying log with TBR, completed variants :: 100%|██████████| 846/846 [00:02<00:00, 380.21it/s]\n",
      "replaying log with TBR, completed variants :: 100%|██████████| 846/846 [00:02<00:00, 408.66it/s]\n",
      "replaying log with TBR, completed variants :: 100%|██████████| 5886/5886 [00:13<00:00, 443.35it/s] \n",
      "replaying log with TBR, completed variants :: 100%|██████████| 846/846 [00:01<00:00, 522.53it/s]\n",
      "replaying log with TBR, completed variants :: 100%|██████████| 846/846 [00:01<00:00, 513.33it/s]\n",
      "replaying log with TBR, completed variants :: 100%|██████████| 5886/5886 [00:06<00:00, 869.45it/s] \n",
      "replaying log with TBR, completed variants :: 100%|██████████| 846/846 [00:01<00:00, 504.41it/s]\n",
      "replaying log with TBR, completed variants :: 100%|██████████| 846/846 [00:01<00:00, 505.96it/s]\n",
      "replaying log with TBR, completed variants :: 100%|██████████| 5886/5886 [00:11<00:00, 497.95it/s] \n",
      "replaying log with TBR, completed variants :: 100%|██████████| 846/846 [00:01<00:00, 566.12it/s]\n",
      "replaying log with TBR, completed variants :: 100%|██████████| 846/846 [00:01<00:00, 597.00it/s]\n",
      "replaying log with TBR, completed variants :: 100%|██████████| 5886/5886 [00:11<00:00, 497.04it/s] \n",
      "replaying log with TBR, completed variants :: 100%|██████████| 846/846 [00:02<00:00, 377.31it/s]\n",
      "replaying log with TBR, completed variants :: 100%|██████████| 846/846 [00:01<00:00, 427.41it/s]\n"
     ]
    },
    {
     "name": "stdout",
     "output_type": "stream",
     "text": [
      "eps: 0.001, delta: 0.05, prec: 0.554884113733414, fit: 0.94654532015175, gen: 0.9500121926176502\n"
     ]
    },
    {
     "name": "stderr",
     "output_type": "stream",
     "text": [
      "replaying log with TBR, completed variants :: 100%|██████████| 5886/5886 [00:04<00:00, 1311.92it/s]\n",
      "replaying log with TBR, completed variants :: 100%|██████████| 846/846 [00:02<00:00, 305.70it/s]\n",
      "replaying log with TBR, completed variants :: 100%|██████████| 846/846 [00:02<00:00, 385.14it/s]\n",
      "replaying log with TBR, completed variants :: 100%|██████████| 5886/5886 [00:05<00:00, 1160.01it/s]\n",
      "replaying log with TBR, completed variants :: 100%|██████████| 846/846 [00:01<00:00, 470.21it/s]\n",
      "replaying log with TBR, completed variants :: 100%|██████████| 846/846 [00:01<00:00, 531.03it/s]\n",
      "replaying log with TBR, completed variants :: 100%|██████████| 5886/5886 [00:18<00:00, 325.88it/s]\n",
      "replaying log with TBR, completed variants :: 100%|██████████| 846/846 [00:02<00:00, 421.77it/s]\n",
      "replaying log with TBR, completed variants :: 100%|██████████| 846/846 [00:02<00:00, 419.16it/s]\n",
      "replaying log with TBR, completed variants :: 100%|██████████| 5886/5886 [00:08<00:00, 703.67it/s] \n",
      "replaying log with TBR, completed variants :: 100%|██████████| 846/846 [00:01<00:00, 549.60it/s]\n",
      "replaying log with TBR, completed variants :: 100%|██████████| 846/846 [00:01<00:00, 611.03it/s]\n",
      "replaying log with TBR, completed variants :: 100%|██████████| 5886/5886 [00:08<00:00, 724.80it/s] \n",
      "replaying log with TBR, completed variants :: 100%|██████████| 846/846 [00:02<00:00, 363.06it/s]\n",
      "replaying log with TBR, completed variants :: 100%|██████████| 846/846 [00:01<00:00, 520.26it/s]\n",
      "replaying log with TBR, completed variants :: 100%|██████████| 5886/5886 [00:31<00:00, 188.44it/s]\n",
      "replaying log with TBR, completed variants :: 100%|██████████| 846/846 [00:02<00:00, 319.40it/s]\n",
      "replaying log with TBR, completed variants :: 100%|██████████| 846/846 [00:02<00:00, 298.88it/s]\n",
      "replaying log with TBR, completed variants :: 100%|██████████| 5886/5886 [00:06<00:00, 964.82it/s] \n",
      "replaying log with TBR, completed variants :: 100%|██████████| 846/846 [00:01<00:00, 514.32it/s]\n",
      "replaying log with TBR, completed variants :: 100%|██████████| 846/846 [00:01<00:00, 504.68it/s]\n",
      "replaying log with TBR, completed variants :: 100%|██████████| 5886/5886 [00:14<00:00, 396.82it/s] \n",
      "replaying log with TBR, completed variants :: 100%|██████████| 846/846 [00:02<00:00, 360.74it/s]\n",
      "replaying log with TBR, completed variants :: 100%|██████████| 846/846 [00:01<00:00, 452.39it/s]\n",
      "replaying log with TBR, completed variants :: 100%|██████████| 5886/5886 [00:06<00:00, 924.14it/s] \n",
      "replaying log with TBR, completed variants :: 100%|██████████| 846/846 [00:02<00:00, 376.76it/s]\n",
      "replaying log with TBR, completed variants :: 100%|██████████| 846/846 [00:02<00:00, 361.31it/s]\n",
      "replaying log with TBR, completed variants :: 100%|██████████| 5886/5886 [00:05<00:00, 1155.54it/s]\n",
      "replaying log with TBR, completed variants :: 100%|██████████| 846/846 [00:03<00:00, 242.11it/s]\n",
      "replaying log with TBR, completed variants :: 100%|██████████| 846/846 [00:03<00:00, 254.24it/s]\n"
     ]
    },
    {
     "name": "stdout",
     "output_type": "stream",
     "text": [
      "eps: 0.001, delta: 0.01, prec: 0.5140872057818443, fit: 0.9574661262345263, gen: 0.9580979038101191\n"
     ]
    },
    {
     "name": "stderr",
     "output_type": "stream",
     "text": [
      "replaying log with TBR, completed variants :: 100%|██████████| 5886/5886 [00:02<00:00, 2377.64it/s]\n",
      "replaying log with TBR, completed variants :: 100%|██████████| 846/846 [00:02<00:00, 347.23it/s]\n",
      "replaying log with TBR, completed variants :: 100%|██████████| 846/846 [00:02<00:00, 336.55it/s]\n",
      "replaying log with TBR, completed variants :: 100%|██████████| 5886/5886 [00:06<00:00, 867.52it/s] \n",
      "replaying log with TBR, completed variants :: 100%|██████████| 846/846 [00:01<00:00, 538.89it/s]\n",
      "replaying log with TBR, completed variants :: 100%|██████████| 846/846 [00:02<00:00, 365.95it/s]\n",
      "replaying log with TBR, completed variants :: 100%|██████████| 5886/5886 [00:01<00:00, 3530.67it/s]\n",
      "replaying log with TBR, completed variants :: 100%|██████████| 846/846 [00:01<00:00, 681.04it/s]\n",
      "replaying log with TBR, completed variants :: 100%|██████████| 846/846 [00:01<00:00, 684.77it/s]\n",
      "replaying log with TBR, completed variants :: 100%|██████████| 5886/5886 [00:01<00:00, 4000.44it/s]\n",
      "replaying log with TBR, completed variants :: 100%|██████████| 846/846 [00:01<00:00, 545.39it/s]\n",
      "replaying log with TBR, completed variants :: 100%|██████████| 846/846 [00:01<00:00, 479.00it/s]\n",
      "replaying log with TBR, completed variants :: 100%|██████████| 5886/5886 [00:02<00:00, 2346.61it/s]\n",
      "replaying log with TBR, completed variants :: 100%|██████████| 846/846 [00:01<00:00, 540.14it/s]\n",
      "replaying log with TBR, completed variants :: 100%|██████████| 846/846 [00:01<00:00, 614.81it/s]\n",
      "replaying log with TBR, completed variants :: 100%|██████████| 5886/5886 [00:02<00:00, 2572.59it/s]\n",
      "replaying log with TBR, completed variants :: 100%|██████████| 846/846 [00:01<00:00, 843.09it/s] \n",
      "replaying log with TBR, completed variants :: 100%|██████████| 846/846 [00:01<00:00, 754.25it/s]"
     ]
    },
    {
     "name": "stdout",
     "output_type": "stream",
     "text": [
      "eps: 0.001, delta: 0.001, prec: 0.8500044115761142, fit: 0.7711715102886963, gen: 0.9648983084952506\n"
     ]
    },
    {
     "name": "stderr",
     "output_type": "stream",
     "text": [
      "\n"
     ]
    }
   ],
   "source": [
    "# init arrays\n",
    "eps_list = [2, 1, 0.1, 0.01, 0.001]\n",
    "del_list = [0.5, 0.1, 0.05, 0.01, 0.001]\n",
    "prec_single = np.zeros((len(eps_list), len(del_list)))\n",
    "fit_single = np.zeros((len(eps_list), len(del_list)))\n",
    "gen_single = np.zeros((len(eps_list), len(del_list)))\n",
    "\n",
    "for m, eps in enumerate(eps_list):\n",
    "    for n, d in enumerate(del_list):\n",
    "        \n",
    "        prec_single_avg = []\n",
    "        fit_single_avg = []\n",
    "        gen_single_avg = []\n",
    "\n",
    "        for i in range(10):\n",
    "            \n",
    "            f = open(f'TraVaS-sqvr/variants_single_{eps}_{d}_{i}.json',)\n",
    "            priv_log = json.load(f)\n",
    "            \n",
    "            if len(priv_log) == 0:\n",
    "                f.close()\n",
    "                continue\n",
    "            \n",
    "            # compute metrics\n",
    "            # scaled_priv = downscale(priv_log, type='all')\n",
    "            plog = public_transform(priv_log)\n",
    "            net, im, fm = im_f_algo.apply(plog, parameters=None)\n",
    "            prec = precision_evaluator.apply(log, net, im, fm, variant=precision_evaluator.Variants.ETCONFORMANCE_TOKEN)\n",
    "            fit = replay_fitness_evaluator.apply(log, net, im, fm, variant=replay_fitness_evaluator.Variants.TOKEN_BASED)\n",
    "            gen = generalization_evaluator.apply(log, net, im, fm)\n",
    "            \n",
    "            prec_single_avg.append(prec)\n",
    "            fit_single_avg.append(fit['log_fitness'])\n",
    "            gen_single_avg.append(gen)\n",
    "            \n",
    "            f.close()\n",
    "        \n",
    "        # save results\n",
    "        prec_single[m][n] = np.mean(prec_single_avg)\n",
    "        fit_single[m][n] = np.mean(fit_single_avg)\n",
    "        gen_single[m][n] = np.mean(gen_single_avg)\n",
    "        print(f'eps: {eps}, delta: {d}, prec: {prec_single[m][n]}, fit: {fit_single[m][n]}, gen: {gen_single[m][n]}')\n",
    "\n",
    "# save metrics\n",
    "np.savetxt('TraVaS-sqvr/prec_sqvr.txt', prec_single)\n",
    "np.savetxt('TraVaS-sqvr/fit_sqvr.txt', fit_single)\n",
    "np.savetxt('TraVaS-sqvr/gen_sqvr.txt', gen_single)"
   ]
  },
  {
   "cell_type": "code",
   "execution_count": 134,
   "metadata": {},
   "outputs": [
    {
     "name": "stdout",
     "output_type": "stream",
     "text": [
      "[+] eps: 2 delta: 0.5\n",
      "[+] eps: 2 delta: 0.1\n",
      "[+] eps: 2 delta: 0.05\n",
      "[+] eps: 2 delta: 0.01\n",
      "[+] eps: 2 delta: 0.001\n",
      "[+] eps: 1 delta: 0.5\n",
      "[+] eps: 1 delta: 0.1\n",
      "[+] eps: 1 delta: 0.05\n",
      "[+] eps: 1 delta: 0.01\n",
      "[+] eps: 1 delta: 0.001\n",
      "[+] eps: 0.1 delta: 0.5\n",
      "[+] eps: 0.1 delta: 0.1\n",
      "[+] eps: 0.1 delta: 0.05\n",
      "[+] eps: 0.1 delta: 0.01\n",
      "[+] eps: 0.1 delta: 0.001\n",
      "[+] eps: 0.01 delta: 0.5\n",
      "[+] eps: 0.01 delta: 0.1\n",
      "[+] eps: 0.01 delta: 0.05\n",
      "[+] eps: 0.01 delta: 0.01\n",
      "[+] eps: 0.01 delta: 0.001\n"
     ]
    }
   ],
   "source": [
    "# compute summary statistics for PINQ queries\n",
    "\n",
    "# init arrays\n",
    "eps_list = [2, 1, 0.1, 0.01]\n",
    "del_list = [0.5, 0.1, 0.05, 0.01, 0.001]\n",
    "pruning = [[16, 19, 20, 20, 20],[25, 36, 37, 38, 39],[63, 185, 250, 335, 355],[73, 325, 600, 1680, 3200]]\n",
    "\n",
    "for m, eps in enumerate(eps_list):\n",
    "    for n, d in enumerate(del_list):\n",
    "        \n",
    "        # debug output\n",
    "        print(f\"[+] eps: {eps} delta: {d}\")\n",
    "        \n",
    "        for i in range(10):\n",
    "            \n",
    "            # privatize variant frequencies\n",
    "            l = 0\n",
    "            while l < 450 or l > 900:\n",
    "                query_vars = variant_query(log, eps/19, cutoff=19, prune=pruning[m][n], delta=d/19)\n",
    "                l = len(query_vars)\n",
    "                \n",
    "            # save results\n",
    "            fp = open(f\"benchmark/variants_benchmark_{eps}_{d}_{i}.json\", \"w\")\n",
    "            json.dump(query_vars, fp)\n",
    "            fp.close()"
   ]
  },
  {
   "cell_type": "code",
   "execution_count": 5,
   "metadata": {},
   "outputs": [
    {
     "name": "stdout",
     "output_type": "stream",
     "text": [
      "eps: 2, delta: 0.5, util: 0.8025356736220812, cost: 2474054.2\n",
      "eps: 2, delta: 0.1, util: 0.793030603259282, cost: 2897000.5\n",
      "eps: 2, delta: 0.05, util: 0.7780020591652823, cost: 2762819.6\n",
      "eps: 2, delta: 0.01, util: 0.7932739382896824, cost: 3048850.4\n",
      "eps: 2, delta: 0.001, util: 0.7778873074781815, cost: 2782979.1\n",
      "eps: 1, delta: 0.5, util: 0.8628823523160811, cost: 5510138.8\n",
      "eps: 1, delta: 0.1, util: 0.7714003620736819, cost: 5447266.6\n",
      "eps: 1, delta: 0.05, util: 0.7674910114039841, cost: 5952372.8\n",
      "eps: 1, delta: 0.01, util: 0.8031417071823823, cost: 6912318.4\n",
      "eps: 1, delta: 0.001, util: 0.769660038981582, cost: 6155031.6\n",
      "eps: 0.1, delta: 0.5, util: 0.7778932546269824, cost: 11356759.5\n",
      "eps: 0.1, delta: 0.1, util: 0.7749865902478823, cost: 35673701.5\n",
      "eps: 0.1, delta: 0.05, util: 0.765485244432382, cost: 47514188.8\n",
      "eps: 0.1, delta: 0.01, util: 0.7023465794546822, cost: 56491309.6\n",
      "eps: 0.1, delta: 0.001, util: 0.7602240308316823, cost: 69021863.6\n",
      "eps: 0.01, delta: 0.5, util: 0.7594769882078822, cost: 12922099.2\n",
      "eps: 0.01, delta: 0.1, util: 0.7332336614480817, cost: 60035490.6\n",
      "eps: 0.01, delta: 0.05, util: 0.7753008335791824, cost: 124931963.5\n",
      "eps: 0.01, delta: 0.01, util: 0.741189861196182, cost: 355931573.8\n",
      "eps: 0.01, delta: 0.001, util: 0.7499191959161822, cost: 665266570.8\n"
     ]
    }
   ],
   "source": [
    "# init arrays\n",
    "eps_list = [2, 1, 0.1, 0.01]\n",
    "del_list = [0.5, 0.1, 0.05, 0.01, 0.001]\n",
    "util_bench = np.zeros((len(eps_list), len(del_list)))\n",
    "cost_bench = np.zeros((len(eps_list), len(del_list)))\n",
    "\n",
    "# compute metrics\n",
    "for m, eps in enumerate(eps_list):\n",
    "    for n, d in enumerate(del_list):\n",
    "        \n",
    "        tmp_util = []\n",
    "        tmp_cost = []\n",
    "        for i in range(10):\n",
    "        \n",
    "            f = open(f'benchmark/variants_benchmark_{eps}_{d}_{i}.json',)\n",
    "            priv_log = json.load(f)\n",
    "            tmp_util.append(emd_utility(log, priv_log))\n",
    "            tmp_cost.append(log_diff(log, priv_log))\n",
    "            f.close()\n",
    "        \n",
    "        util_bench[m][n] = np.mean([x for x in tmp_util if x != 1])\n",
    "        cost_bench[m][n] = np.mean([x for x in tmp_cost if x != 10500])\n",
    "        print(f'eps: {eps}, delta: {d}, util: {util_bench[m][n]}, cost: {cost_bench[m][n]}')\n",
    "        \n",
    "# save metrics\n",
    "np.savetxt('benchmark/util_bench.txt', util_bench)\n",
    "np.savetxt('benchmark/cost_bench.txt', cost_bench)"
   ]
  },
  {
   "cell_type": "code",
   "execution_count": 3,
   "metadata": {},
   "outputs": [
    {
     "name": "stderr",
     "output_type": "stream",
     "text": [
      "replaying log with TBR, completed variants :: 100%|██████████| 5886/5886 [02:41<00:00, 36.51it/s] \n",
      "replaying log with TBR, completed variants :: 100%|██████████| 846/846 [00:03<00:00, 223.45it/s]\n",
      "replaying log with TBR, completed variants :: 100%|██████████| 846/846 [00:03<00:00, 219.99it/s]\n",
      "replaying log with TBR, completed variants :: 100%|██████████| 5886/5886 [00:13<00:00, 434.75it/s] \n",
      "replaying log with TBR, completed variants :: 100%|██████████| 846/846 [00:01<00:00, 562.87it/s]\n",
      "replaying log with TBR, completed variants :: 100%|██████████| 846/846 [00:01<00:00, 445.45it/s]\n",
      "replaying log with TBR, completed variants :: 100%|██████████| 5886/5886 [00:14<00:00, 417.15it/s]\n",
      "replaying log with TBR, completed variants :: 100%|██████████| 846/846 [00:01<00:00, 563.12it/s]\n",
      "replaying log with TBR, completed variants :: 100%|██████████| 846/846 [00:01<00:00, 562.14it/s]\n",
      "replaying log with TBR, completed variants :: 100%|██████████| 5886/5886 [03:16<00:00, 29.97it/s] \n",
      "replaying log with TBR, completed variants :: 100%|██████████| 846/846 [00:04<00:00, 169.44it/s]\n",
      "replaying log with TBR, completed variants :: 100%|██████████| 846/846 [00:05<00:00, 157.36it/s]\n",
      "replaying log with TBR, completed variants :: 100%|██████████| 5886/5886 [00:17<00:00, 337.21it/s]\n",
      "replaying log with TBR, completed variants :: 100%|██████████| 846/846 [00:01<00:00, 559.85it/s]\n",
      "replaying log with TBR, completed variants :: 100%|██████████| 846/846 [00:01<00:00, 549.38it/s]\n",
      "replaying log with TBR, completed variants :: 100%|██████████| 5886/5886 [04:02<00:00, 24.28it/s] \n",
      "replaying log with TBR, completed variants :: 100%|██████████| 846/846 [00:03<00:00, 243.86it/s]\n",
      "replaying log with TBR, completed variants :: 100%|██████████| 846/846 [00:03<00:00, 247.11it/s]\n",
      "replaying log with TBR, completed variants :: 100%|██████████| 5886/5886 [00:13<00:00, 425.93it/s]\n",
      "replaying log with TBR, completed variants :: 100%|██████████| 846/846 [00:01<00:00, 592.03it/s]\n",
      "replaying log with TBR, completed variants :: 100%|██████████| 846/846 [00:01<00:00, 598.82it/s]\n",
      "replaying log with TBR, completed variants :: 100%|██████████| 5886/5886 [00:13<00:00, 436.39it/s]\n",
      "replaying log with TBR, completed variants :: 100%|██████████| 846/846 [00:01<00:00, 585.96it/s]\n",
      "replaying log with TBR, completed variants :: 100%|██████████| 846/846 [00:01<00:00, 585.53it/s]\n",
      "replaying log with TBR, completed variants :: 100%|██████████| 5886/5886 [00:44<00:00, 131.09it/s]\n",
      "replaying log with TBR, completed variants :: 100%|██████████| 846/846 [00:02<00:00, 387.70it/s]\n",
      "replaying log with TBR, completed variants :: 100%|██████████| 846/846 [00:02<00:00, 390.37it/s]\n",
      "replaying log with TBR, completed variants :: 100%|██████████| 5886/5886 [00:13<00:00, 434.98it/s]\n",
      "replaying log with TBR, completed variants :: 100%|██████████| 846/846 [00:01<00:00, 585.93it/s]\n",
      "replaying log with TBR, completed variants :: 100%|██████████| 846/846 [00:01<00:00, 585.05it/s]\n"
     ]
    },
    {
     "name": "stdout",
     "output_type": "stream",
     "text": [
      "eps: 0.1, delta: 0.01, prec: 0.18060395243871968, fit: 0.9983727833087096, gen: 0.8752606031505208\n"
     ]
    },
    {
     "name": "stderr",
     "output_type": "stream",
     "text": [
      "replaying log with TBR, completed variants :: 100%|██████████| 5886/5886 [04:44<00:00, 20.65it/s] \n",
      "replaying log with TBR, completed variants :: 100%|██████████| 846/846 [00:03<00:00, 232.27it/s]\n",
      "replaying log with TBR, completed variants :: 100%|██████████| 846/846 [00:03<00:00, 235.29it/s]\n",
      "replaying log with TBR, completed variants :: 100%|██████████| 5886/5886 [03:48<00:00, 25.74it/s]\n",
      "replaying log with TBR, completed variants :: 100%|██████████| 846/846 [00:39<00:00, 21.65it/s]\n",
      "replaying log with TBR, completed variants :: 100%|██████████| 846/846 [00:44<00:00, 19.21it/s]\n",
      "replaying log with TBR, completed variants :: 100%|██████████| 5886/5886 [00:15<00:00, 386.48it/s]\n",
      "replaying log with TBR, completed variants :: 100%|██████████| 846/846 [00:01<00:00, 561.57it/s]\n",
      "replaying log with TBR, completed variants :: 100%|██████████| 846/846 [00:01<00:00, 586.10it/s]\n",
      "replaying log with TBR, completed variants :: 100%|██████████| 5886/5886 [00:14<00:00, 409.14it/s]\n",
      "replaying log with TBR, completed variants :: 100%|██████████| 846/846 [00:01<00:00, 527.25it/s]\n",
      "replaying log with TBR, completed variants :: 100%|██████████| 846/846 [00:01<00:00, 540.51it/s]\n",
      "replaying log with TBR, completed variants :: 100%|██████████| 5886/5886 [00:10<00:00, 561.05it/s]\n",
      "replaying log with TBR, completed variants :: 100%|██████████| 846/846 [00:01<00:00, 560.81it/s]\n",
      "replaying log with TBR, completed variants :: 100%|██████████| 846/846 [00:01<00:00, 545.91it/s]\n",
      "replaying log with TBR, completed variants :: 100%|██████████| 5886/5886 [00:14<00:00, 418.89it/s]\n",
      "replaying log with TBR, completed variants :: 100%|██████████| 846/846 [00:01<00:00, 567.37it/s]\n",
      "replaying log with TBR, completed variants :: 100%|██████████| 846/846 [00:01<00:00, 566.73it/s]\n",
      "replaying log with TBR, completed variants :: 100%|██████████| 5886/5886 [01:48<00:00, 54.03it/s] \n",
      "replaying log with TBR, completed variants :: 100%|██████████| 846/846 [00:03<00:00, 275.55it/s]\n",
      "replaying log with TBR, completed variants :: 100%|██████████| 846/846 [00:03<00:00, 272.82it/s]\n",
      "replaying log with TBR, completed variants :: 100%|██████████| 5886/5886 [00:22<00:00, 255.93it/s]\n",
      "replaying log with TBR, completed variants :: 100%|██████████| 846/846 [00:08<00:00, 97.83it/s] \n",
      "replaying log with TBR, completed variants :: 100%|██████████| 846/846 [00:08<00:00, 97.26it/s] \n",
      "replaying log with TBR, completed variants :: 100%|██████████| 5886/5886 [03:07<00:00, 31.42it/s] \n",
      "replaying log with TBR, completed variants :: 100%|██████████| 846/846 [00:03<00:00, 252.36it/s]\n",
      "replaying log with TBR, completed variants :: 100%|██████████| 846/846 [00:03<00:00, 250.63it/s]\n",
      "replaying log with TBR, completed variants :: 100%|██████████| 5886/5886 [00:13<00:00, 423.74it/s]\n",
      "replaying log with TBR, completed variants :: 100%|██████████| 846/846 [00:01<00:00, 584.78it/s]\n",
      "replaying log with TBR, completed variants :: 100%|██████████| 846/846 [00:01<00:00, 588.42it/s]\n"
     ]
    },
    {
     "name": "stdout",
     "output_type": "stream",
     "text": [
      "eps: 0.1, delta: 0.001, prec: 0.18721615476448367, fit: 0.9873792120886877, gen: 0.8594742025755456\n"
     ]
    }
   ],
   "source": [
    "# init arrays\n",
    "eps_list = [2, 1, 0.1, 0.01]\n",
    "del_list = [0.5, 0.1, 0.05, 0.01, 0.001]\n",
    "prec_bench = np.zeros((len(eps_list), len(del_list)))\n",
    "fit_bench = np.zeros((len(eps_list), len(del_list)))\n",
    "gen_bench = np.zeros((len(eps_list), len(del_list)))\n",
    "\n",
    "for m, eps in enumerate(eps_list):\n",
    "    for n, d in enumerate(del_list):\n",
    "        \n",
    "        prec_bench_avg = []\n",
    "        fit_bench_avg = []\n",
    "        gen_bench_avg = []\n",
    "\n",
    "        for i in range(10):\n",
    "            \n",
    "            f = open(f'benchmark/variants_benchmark_{eps}_{d}_{i}.json',)\n",
    "            priv_log = json.load(f)\n",
    "            \n",
    "            if len(priv_log) == 0:\n",
    "                f.close()\n",
    "                continue\n",
    "            \n",
    "            # compute metrics\n",
    "            # scaled_priv = downscale(priv_log, type='all')\n",
    "            plog = public_transform(priv_log)\n",
    "            net, im, fm = im_f_algo.apply(plog, parameters=None)\n",
    "            prec = precision_evaluator.apply(log, net, im, fm, variant=precision_evaluator.Variants.ETCONFORMANCE_TOKEN)\n",
    "            fit = replay_fitness_evaluator.apply(log, net, im, fm, variant=replay_fitness_evaluator.Variants.TOKEN_BASED)\n",
    "            gen = generalization_evaluator.apply(log, net, im, fm)\n",
    "            \n",
    "            prec_bench_avg.append(prec)\n",
    "            fit_bench_avg.append(fit['log_fitness'])\n",
    "            gen_bench_avg.append(gen)\n",
    "            \n",
    "            f.close()\n",
    "        \n",
    "        # save results\n",
    "        prec_bench[m][n] = np.mean(prec_bench_avg)\n",
    "        fit_bench[m][n] = np.mean(fit_bench_avg)\n",
    "        gen_bench[m][n] = np.mean(gen_bench_avg)\n",
    "        print(f'eps: {eps}, delta: {d}, prec: {prec_bench[m][n]}, fit: {fit_bench[m][n]}, gen: {gen_bench[m][n]}')\n",
    "\n",
    "# save metrics\n",
    "np.savetxt('benchmark/prec_bench.txt', prec_bench)\n",
    "np.savetxt('benchmark/fit_bench.txt', fit_bench)\n",
    "np.savetxt('benchmark/gen_bench.txt', gen_bench)"
   ]
  },
  {
   "cell_type": "code",
   "execution_count": 3,
   "metadata": {},
   "outputs": [
    {
     "name": "stdout",
     "output_type": "stream",
     "text": [
      "[+] eps: 2 delta: 0.5\n",
      "[-] Avg Util: 0.9211099510150799\n",
      "[-] Avg Cost: 29278.6\n",
      "[+] eps: 2 delta: 0.1\n",
      "[-] Avg Util: 0.8004159563608828\n",
      "[-] Avg Cost: 39896.4\n",
      "[+] eps: 2 delta: 0.05\n",
      "[-] Avg Util: 0.7249507914268822\n",
      "[-] Avg Cost: 106594.5\n",
      "[+] eps: 2 delta: 0.01\n",
      "[-] Avg Util: 0.60759075163177\n",
      "[-] Avg Cost: 162086.1\n",
      "[+] eps: 2 delta: 0.001\n",
      "[-] Avg Util: 0.4903639386707823\n",
      "[-] Avg Cost: 175627.6\n",
      "[+] eps: 1 delta: 0.5\n",
      "[-] Avg Util: 0.9218862203914837\n",
      "[-] Avg Cost: 50709.2\n",
      "[+] eps: 1 delta: 0.1\n",
      "[-] Avg Util: 0.8012785936794831\n",
      "[-] Avg Cost: 31979.8\n",
      "[+] eps: 1 delta: 0.05\n",
      "[-] Avg Util: 0.7552527570817822\n",
      "[-] Avg Cost: 39303.5\n",
      "[+] eps: 1 delta: 0.01\n",
      "[-] Avg Util: 0.6302101337391948\n",
      "[-] Avg Cost: 140792.1\n",
      "[+] eps: 1 delta: 0.001\n",
      "[-] Avg Util: 0.4627427012425768\n",
      "[-] Avg Cost: 185637.14285714287\n",
      "[+] eps: 0.1 delta: 0.5\n",
      "[-] Avg Util: 0.9129425665741826\n",
      "[-] Avg Cost: 20472.0\n",
      "[+] eps: 0.1 delta: 0.1\n",
      "[-] Avg Util: 0.8053255492966829\n",
      "[-] Avg Cost: 15034.4\n",
      "[+] eps: 0.1 delta: 0.05\n",
      "[-] Avg Util: 0.7602856119047986\n",
      "[-] Avg Cost: 242910.8\n",
      "[+] eps: 0.1 delta: 0.01\n",
      "[-] Avg Util: 0.648286199872469\n",
      "[-] Avg Cost: 76377.2\n",
      "[+] eps: 0.1 delta: 0.001\n",
      "[-] Avg Util: 0.5088265787916179\n",
      "[-] Avg Cost: 131008.0\n",
      "[+] eps: 0.01 delta: 0.5\n",
      "[-] Avg Util: 0.9168521534236849\n",
      "[-] Avg Cost: 29711.6\n",
      "[+] eps: 0.01 delta: 0.1\n",
      "[-] Avg Util: 0.8032475076915822\n",
      "[-] Avg Cost: 130923.4\n",
      "[+] eps: 0.01 delta: 0.05\n",
      "[-] Avg Util: 0.7616180999960684\n",
      "[-] Avg Cost: 311410.9\n",
      "[+] eps: 0.01 delta: 0.01\n",
      "[-] Avg Util: 0.649284983132042\n",
      "[-] Avg Cost: 294273.9\n",
      "[+] eps: 0.01 delta: 0.001\n",
      "[-] Avg Util: 0.4674064458047212\n",
      "[-] Avg Cost: 119685.88888888889\n",
      "[+] eps: 0.001 delta: 0.5\n",
      "[-] Avg Util: 0.9159029198692833\n",
      "[-] Avg Cost: 27818.5\n",
      "[+] eps: 0.001 delta: 0.1\n",
      "[-] Avg Util: 0.805040095033382\n",
      "[-] Avg Cost: 104911.9\n",
      "[+] eps: 0.001 delta: 0.05\n",
      "[-] Avg Util: 0.7620209700428828\n",
      "[-] Avg Cost: 163512.7\n",
      "[+] eps: 0.001 delta: 0.01\n",
      "[-] Avg Util: 0.6468474891794658\n",
      "[-] Avg Cost: 50140.4\n",
      "[+] eps: 0.001 delta: 0.001\n",
      "[-] Avg Util: 0.47257434109787644\n",
      "[-] Avg Cost: 222223.5\n"
     ]
    },
    {
     "ename": "TypeError",
     "evalue": "Object of type ndarray is not JSON serializable",
     "output_type": "error",
     "traceback": [
      "\u001b[0;31m---------------------------------------------------------------------------\u001b[0m",
      "\u001b[0;31mTypeError\u001b[0m                                 Traceback (most recent call last)",
      "Input \u001b[0;32mIn [3]\u001b[0m, in \u001b[0;36m<module>\u001b[0;34m\u001b[0m\n\u001b[1;32m     26\u001b[0m \u001b[38;5;66;03m# save metrics\u001b[39;00m\n\u001b[1;32m     27\u001b[0m fp \u001b[38;5;241m=\u001b[39m \u001b[38;5;28mopen\u001b[39m(\u001b[38;5;124mf\u001b[39m\u001b[38;5;124m\"\u001b[39m\u001b[38;5;124mutil_multi.json\u001b[39m\u001b[38;5;124m\"\u001b[39m, \u001b[38;5;124m\"\u001b[39m\u001b[38;5;124mw\u001b[39m\u001b[38;5;124m\"\u001b[39m)\n\u001b[0;32m---> 28\u001b[0m \u001b[43mjson\u001b[49m\u001b[38;5;241;43m.\u001b[39;49m\u001b[43mdump\u001b[49m\u001b[43m(\u001b[49m\u001b[43mutil_multi\u001b[49m\u001b[43m,\u001b[49m\u001b[43m \u001b[49m\u001b[43mfp\u001b[49m\u001b[43m)\u001b[49m\n\u001b[1;32m     29\u001b[0m fp\u001b[38;5;241m.\u001b[39mclose()\n\u001b[1;32m     30\u001b[0m fp \u001b[38;5;241m=\u001b[39m \u001b[38;5;28mopen\u001b[39m(\u001b[38;5;124mf\u001b[39m\u001b[38;5;124m\"\u001b[39m\u001b[38;5;124mutil_cost.json\u001b[39m\u001b[38;5;124m\"\u001b[39m, \u001b[38;5;124m\"\u001b[39m\u001b[38;5;124mw\u001b[39m\u001b[38;5;124m\"\u001b[39m)\n",
      "File \u001b[0;32m/usr/lib/python3.10/json/__init__.py:179\u001b[0m, in \u001b[0;36mdump\u001b[0;34m(obj, fp, skipkeys, ensure_ascii, check_circular, allow_nan, cls, indent, separators, default, sort_keys, **kw)\u001b[0m\n\u001b[1;32m    173\u001b[0m     iterable \u001b[38;5;241m=\u001b[39m \u001b[38;5;28mcls\u001b[39m(skipkeys\u001b[38;5;241m=\u001b[39mskipkeys, ensure_ascii\u001b[38;5;241m=\u001b[39mensure_ascii,\n\u001b[1;32m    174\u001b[0m         check_circular\u001b[38;5;241m=\u001b[39mcheck_circular, allow_nan\u001b[38;5;241m=\u001b[39mallow_nan, indent\u001b[38;5;241m=\u001b[39mindent,\n\u001b[1;32m    175\u001b[0m         separators\u001b[38;5;241m=\u001b[39mseparators,\n\u001b[1;32m    176\u001b[0m         default\u001b[38;5;241m=\u001b[39mdefault, sort_keys\u001b[38;5;241m=\u001b[39msort_keys, \u001b[38;5;241m*\u001b[39m\u001b[38;5;241m*\u001b[39mkw)\u001b[38;5;241m.\u001b[39miterencode(obj)\n\u001b[1;32m    177\u001b[0m \u001b[38;5;66;03m# could accelerate with writelines in some versions of Python, at\u001b[39;00m\n\u001b[1;32m    178\u001b[0m \u001b[38;5;66;03m# a debuggability cost\u001b[39;00m\n\u001b[0;32m--> 179\u001b[0m \u001b[38;5;28;01mfor\u001b[39;00m chunk \u001b[38;5;129;01min\u001b[39;00m iterable:\n\u001b[1;32m    180\u001b[0m     fp\u001b[38;5;241m.\u001b[39mwrite(chunk)\n",
      "File \u001b[0;32m/usr/lib/python3.10/json/encoder.py:438\u001b[0m, in \u001b[0;36m_make_iterencode.<locals>._iterencode\u001b[0;34m(o, _current_indent_level)\u001b[0m\n\u001b[1;32m    436\u001b[0m         \u001b[38;5;28;01mraise\u001b[39;00m \u001b[38;5;167;01mValueError\u001b[39;00m(\u001b[38;5;124m\"\u001b[39m\u001b[38;5;124mCircular reference detected\u001b[39m\u001b[38;5;124m\"\u001b[39m)\n\u001b[1;32m    437\u001b[0m     markers[markerid] \u001b[38;5;241m=\u001b[39m o\n\u001b[0;32m--> 438\u001b[0m o \u001b[38;5;241m=\u001b[39m \u001b[43m_default\u001b[49m\u001b[43m(\u001b[49m\u001b[43mo\u001b[49m\u001b[43m)\u001b[49m\n\u001b[1;32m    439\u001b[0m \u001b[38;5;28;01myield from\u001b[39;00m _iterencode(o, _current_indent_level)\n\u001b[1;32m    440\u001b[0m \u001b[38;5;28;01mif\u001b[39;00m markers \u001b[38;5;129;01mis\u001b[39;00m \u001b[38;5;129;01mnot\u001b[39;00m \u001b[38;5;28;01mNone\u001b[39;00m:\n",
      "File \u001b[0;32m/usr/lib/python3.10/json/encoder.py:179\u001b[0m, in \u001b[0;36mJSONEncoder.default\u001b[0;34m(self, o)\u001b[0m\n\u001b[1;32m    160\u001b[0m \u001b[38;5;28;01mdef\u001b[39;00m \u001b[38;5;21mdefault\u001b[39m(\u001b[38;5;28mself\u001b[39m, o):\n\u001b[1;32m    161\u001b[0m     \u001b[38;5;124;03m\"\"\"Implement this method in a subclass such that it returns\u001b[39;00m\n\u001b[1;32m    162\u001b[0m \u001b[38;5;124;03m    a serializable object for ``o``, or calls the base implementation\u001b[39;00m\n\u001b[1;32m    163\u001b[0m \u001b[38;5;124;03m    (to raise a ``TypeError``).\u001b[39;00m\n\u001b[0;32m   (...)\u001b[0m\n\u001b[1;32m    177\u001b[0m \n\u001b[1;32m    178\u001b[0m \u001b[38;5;124;03m    \"\"\"\u001b[39;00m\n\u001b[0;32m--> 179\u001b[0m     \u001b[38;5;28;01mraise\u001b[39;00m \u001b[38;5;167;01mTypeError\u001b[39;00m(\u001b[38;5;124mf\u001b[39m\u001b[38;5;124m'\u001b[39m\u001b[38;5;124mObject of type \u001b[39m\u001b[38;5;132;01m{\u001b[39;00mo\u001b[38;5;241m.\u001b[39m\u001b[38;5;18m__class__\u001b[39m\u001b[38;5;241m.\u001b[39m\u001b[38;5;18m__name__\u001b[39m\u001b[38;5;132;01m}\u001b[39;00m\u001b[38;5;124m \u001b[39m\u001b[38;5;124m'\u001b[39m\n\u001b[1;32m    180\u001b[0m                     \u001b[38;5;124mf\u001b[39m\u001b[38;5;124m'\u001b[39m\u001b[38;5;124mis not JSON serializable\u001b[39m\u001b[38;5;124m'\u001b[39m)\n",
      "\u001b[0;31mTypeError\u001b[0m: Object of type ndarray is not JSON serializable"
     ]
    }
   ],
   "source": [
    "# compute summary statistics for multi release queries\n",
    "\n",
    "# init arrays\n",
    "eps_list = [2, 1, 0.1, 0.01, 0.001]\n",
    "del_list = [0.5, 0.1, 0.05, 0.01, 0.001]\n",
    "util_multi = np.zeros((len(eps_list), len(del_list)))\n",
    "cost_multi = np.zeros((len(eps_list), len(del_list)))\n",
    "\n",
    "for m, eps in enumerate(eps_list):\n",
    "    for n, d in enumerate(del_list):\n",
    "        \n",
    "        # debug output\n",
    "        print(f\"[+] eps: {eps} delta: {d}\")\n",
    "\n",
    "        # privatize variants\n",
    "        util_multi[m][n], cost_multi[m][n], _, _, _, data = release_optimizer(log, eps, d, domain=[2,10], clean=[1.0, 10500], data=True, debug=False)\n",
    "        print(f\"[-] Avg Util: {util_multi[m][n]}\")\n",
    "        print(f\"[-] Avg Cost: {cost_multi[m][n]}\")\n",
    "        \n",
    "        # save logs\n",
    "        for i, ret in enumerate(data):\n",
    "            fp = open(f\"variants_multi_{eps}_{d}_{i}.json\", \"w\")\n",
    "            json.dump(ret, fp)\n",
    "            fp.close()\n",
    "        \n",
    "# save metrics\n",
    "np.savetxt('util_multi.txt',util_multi)\n",
    "np.savetxt('cost_multi.txt',cost_multi)"
   ]
  },
  {
   "cell_type": "code",
   "execution_count": 17,
   "metadata": {},
   "outputs": [
    {
     "data": {
      "application/vnd.jupyter.widget-view+json": {
       "model_id": "7efa66bae96e4bf09ed85c06f31a04b9",
       "version_major": 2,
       "version_minor": 0
      },
      "text/plain": [
       "replaying log with TBR, completed variants ::   0%|          | 0/2450 [00:00<?, ?it/s]"
      ]
     },
     "metadata": {},
     "output_type": "display_data"
    },
    {
     "data": {
      "application/vnd.jupyter.widget-view+json": {
       "model_id": "ef552078863b4d4eb397dbbad242bc81",
       "version_major": 2,
       "version_minor": 0
      },
      "text/plain": [
       "replaying log with TBR, completed variants ::   0%|          | 0/360 [00:00<?, ?it/s]"
      ]
     },
     "metadata": {},
     "output_type": "display_data"
    },
    {
     "data": {
      "application/vnd.jupyter.widget-view+json": {
       "model_id": "46826a1694384545abde6dc5fa7111a1",
       "version_major": 2,
       "version_minor": 0
      },
      "text/plain": [
       "replaying log with TBR, completed variants ::   0%|          | 0/360 [00:00<?, ?it/s]"
      ]
     },
     "metadata": {},
     "output_type": "display_data"
    },
    {
     "data": {
      "application/vnd.jupyter.widget-view+json": {
       "model_id": "b97c32cf3ce745a0a2f8a0ad3860b605",
       "version_major": 2,
       "version_minor": 0
      },
      "text/plain": [
       "replaying log with TBR, completed variants ::   0%|          | 0/2807 [00:00<?, ?it/s]"
      ]
     },
     "metadata": {},
     "output_type": "display_data"
    },
    {
     "data": {
      "application/vnd.jupyter.widget-view+json": {
       "model_id": "55efcf1dcb944cac8aac127076604925",
       "version_major": 2,
       "version_minor": 0
      },
      "text/plain": [
       "replaying log with TBR, completed variants ::   0%|          | 0/383 [00:00<?, ?it/s]"
      ]
     },
     "metadata": {},
     "output_type": "display_data"
    },
    {
     "data": {
      "application/vnd.jupyter.widget-view+json": {
       "model_id": "f4aa52e629304d41a18ca4a4c3d79e30",
       "version_major": 2,
       "version_minor": 0
      },
      "text/plain": [
       "replaying log with TBR, completed variants ::   0%|          | 0/383 [00:00<?, ?it/s]"
      ]
     },
     "metadata": {},
     "output_type": "display_data"
    },
    {
     "data": {
      "application/vnd.jupyter.widget-view+json": {
       "model_id": "0dac43e30d1046a88f564e11b1c0c239",
       "version_major": 2,
       "version_minor": 0
      },
      "text/plain": [
       "replaying log with TBR, completed variants ::   0%|          | 0/2659 [00:00<?, ?it/s]"
      ]
     },
     "metadata": {},
     "output_type": "display_data"
    },
    {
     "data": {
      "application/vnd.jupyter.widget-view+json": {
       "model_id": "4d800ca93f9749858926a1ae422e5d00",
       "version_major": 2,
       "version_minor": 0
      },
      "text/plain": [
       "replaying log with TBR, completed variants ::   0%|          | 0/371 [00:00<?, ?it/s]"
      ]
     },
     "metadata": {},
     "output_type": "display_data"
    },
    {
     "data": {
      "application/vnd.jupyter.widget-view+json": {
       "model_id": "74e3c5942beb4b2ea96ef2ac281d88d2",
       "version_major": 2,
       "version_minor": 0
      },
      "text/plain": [
       "replaying log with TBR, completed variants ::   0%|          | 0/371 [00:00<?, ?it/s]"
      ]
     },
     "metadata": {},
     "output_type": "display_data"
    },
    {
     "data": {
      "application/vnd.jupyter.widget-view+json": {
       "model_id": "6032067c042a4257ab021c9554b7d19b",
       "version_major": 2,
       "version_minor": 0
      },
      "text/plain": [
       "replaying log with TBR, completed variants ::   0%|          | 0/2314 [00:00<?, ?it/s]"
      ]
     },
     "metadata": {},
     "output_type": "display_data"
    },
    {
     "data": {
      "application/vnd.jupyter.widget-view+json": {
       "model_id": "d9e239f267d448128087cd205485329b",
       "version_major": 2,
       "version_minor": 0
      },
      "text/plain": [
       "replaying log with TBR, completed variants ::   0%|          | 0/356 [00:00<?, ?it/s]"
      ]
     },
     "metadata": {},
     "output_type": "display_data"
    },
    {
     "data": {
      "application/vnd.jupyter.widget-view+json": {
       "model_id": "928c3c08380542338fd8a9bd7f7f5867",
       "version_major": 2,
       "version_minor": 0
      },
      "text/plain": [
       "replaying log with TBR, completed variants ::   0%|          | 0/356 [00:00<?, ?it/s]"
      ]
     },
     "metadata": {},
     "output_type": "display_data"
    },
    {
     "data": {
      "application/vnd.jupyter.widget-view+json": {
       "model_id": "3a123e381fc247d7a7a583823d7e30d4",
       "version_major": 2,
       "version_minor": 0
      },
      "text/plain": [
       "replaying log with TBR, completed variants ::   0%|          | 0/2741 [00:00<?, ?it/s]"
      ]
     },
     "metadata": {},
     "output_type": "display_data"
    },
    {
     "data": {
      "application/vnd.jupyter.widget-view+json": {
       "model_id": "1dfe8156287c49df90e692d96bf8774b",
       "version_major": 2,
       "version_minor": 0
      },
      "text/plain": [
       "replaying log with TBR, completed variants ::   0%|          | 0/395 [00:00<?, ?it/s]"
      ]
     },
     "metadata": {},
     "output_type": "display_data"
    },
    {
     "data": {
      "application/vnd.jupyter.widget-view+json": {
       "model_id": "0727fd34a4ca4c448ef60d844de5c00b",
       "version_major": 2,
       "version_minor": 0
      },
      "text/plain": [
       "replaying log with TBR, completed variants ::   0%|          | 0/395 [00:00<?, ?it/s]"
      ]
     },
     "metadata": {},
     "output_type": "display_data"
    },
    {
     "data": {
      "application/vnd.jupyter.widget-view+json": {
       "model_id": "ee97fc912a1a41fa952b8a3e7e5c0c5a",
       "version_major": 2,
       "version_minor": 0
      },
      "text/plain": [
       "replaying log with TBR, completed variants ::   0%|          | 0/2894 [00:00<?, ?it/s]"
      ]
     },
     "metadata": {},
     "output_type": "display_data"
    },
    {
     "data": {
      "application/vnd.jupyter.widget-view+json": {
       "model_id": "26cde5a80f7944fa8ae8a7cbc3fdad91",
       "version_major": 2,
       "version_minor": 0
      },
      "text/plain": [
       "replaying log with TBR, completed variants ::   0%|          | 0/382 [00:00<?, ?it/s]"
      ]
     },
     "metadata": {},
     "output_type": "display_data"
    },
    {
     "data": {
      "application/vnd.jupyter.widget-view+json": {
       "model_id": "511f739f36364c4fabd6cd576fe9fe8b",
       "version_major": 2,
       "version_minor": 0
      },
      "text/plain": [
       "replaying log with TBR, completed variants ::   0%|          | 0/382 [00:00<?, ?it/s]"
      ]
     },
     "metadata": {},
     "output_type": "display_data"
    },
    {
     "data": {
      "application/vnd.jupyter.widget-view+json": {
       "model_id": "f528b690d80c42e9a99a3246dbaaca53",
       "version_major": 2,
       "version_minor": 0
      },
      "text/plain": [
       "replaying log with TBR, completed variants ::   0%|          | 0/2640 [00:00<?, ?it/s]"
      ]
     },
     "metadata": {},
     "output_type": "display_data"
    },
    {
     "data": {
      "application/vnd.jupyter.widget-view+json": {
       "model_id": "b1f6703035d74981902a589a6ccec438",
       "version_major": 2,
       "version_minor": 0
      },
      "text/plain": [
       "replaying log with TBR, completed variants ::   0%|          | 0/356 [00:00<?, ?it/s]"
      ]
     },
     "metadata": {},
     "output_type": "display_data"
    },
    {
     "data": {
      "application/vnd.jupyter.widget-view+json": {
       "model_id": "77d9b825ab6b466eb1ff8a615465ac82",
       "version_major": 2,
       "version_minor": 0
      },
      "text/plain": [
       "replaying log with TBR, completed variants ::   0%|          | 0/356 [00:00<?, ?it/s]"
      ]
     },
     "metadata": {},
     "output_type": "display_data"
    },
    {
     "data": {
      "application/vnd.jupyter.widget-view+json": {
       "model_id": "b2ae9f0f59ce4cbc9286e22b2d86ce55",
       "version_major": 2,
       "version_minor": 0
      },
      "text/plain": [
       "replaying log with TBR, completed variants ::   0%|          | 0/2729 [00:00<?, ?it/s]"
      ]
     },
     "metadata": {},
     "output_type": "display_data"
    },
    {
     "data": {
      "application/vnd.jupyter.widget-view+json": {
       "model_id": "7d3618fa0a084ca4b03de3b2359438e1",
       "version_major": 2,
       "version_minor": 0
      },
      "text/plain": [
       "replaying log with TBR, completed variants ::   0%|          | 0/378 [00:00<?, ?it/s]"
      ]
     },
     "metadata": {},
     "output_type": "display_data"
    },
    {
     "data": {
      "application/vnd.jupyter.widget-view+json": {
       "model_id": "acdcd30f16774e049ab3e4f3210999cb",
       "version_major": 2,
       "version_minor": 0
      },
      "text/plain": [
       "replaying log with TBR, completed variants ::   0%|          | 0/378 [00:00<?, ?it/s]"
      ]
     },
     "metadata": {},
     "output_type": "display_data"
    },
    {
     "data": {
      "application/vnd.jupyter.widget-view+json": {
       "model_id": "18cb057620b7409f9c831aa4a9860d9b",
       "version_major": 2,
       "version_minor": 0
      },
      "text/plain": [
       "replaying log with TBR, completed variants ::   0%|          | 0/2743 [00:00<?, ?it/s]"
      ]
     },
     "metadata": {},
     "output_type": "display_data"
    },
    {
     "data": {
      "application/vnd.jupyter.widget-view+json": {
       "model_id": "38c6a86a974d47dc9b3f410f1f8a014e",
       "version_major": 2,
       "version_minor": 0
      },
      "text/plain": [
       "replaying log with TBR, completed variants ::   0%|          | 0/382 [00:00<?, ?it/s]"
      ]
     },
     "metadata": {},
     "output_type": "display_data"
    },
    {
     "data": {
      "application/vnd.jupyter.widget-view+json": {
       "model_id": "d04db70ee5474bd1a5a90915cb6211b3",
       "version_major": 2,
       "version_minor": 0
      },
      "text/plain": [
       "replaying log with TBR, completed variants ::   0%|          | 0/382 [00:00<?, ?it/s]"
      ]
     },
     "metadata": {},
     "output_type": "display_data"
    },
    {
     "data": {
      "application/vnd.jupyter.widget-view+json": {
       "model_id": "8557150f123f439dbfaa0a80cc864549",
       "version_major": 2,
       "version_minor": 0
      },
      "text/plain": [
       "replaying log with TBR, completed variants ::   0%|          | 0/2983 [00:00<?, ?it/s]"
      ]
     },
     "metadata": {},
     "output_type": "display_data"
    },
    {
     "data": {
      "application/vnd.jupyter.widget-view+json": {
       "model_id": "aa80eac2be6f4f6888d0f57598bf8ec1",
       "version_major": 2,
       "version_minor": 0
      },
      "text/plain": [
       "replaying log with TBR, completed variants ::   0%|          | 0/381 [00:00<?, ?it/s]"
      ]
     },
     "metadata": {},
     "output_type": "display_data"
    },
    {
     "data": {
      "application/vnd.jupyter.widget-view+json": {
       "model_id": "30904a26725d497c8699d0d90e4dd370",
       "version_major": 2,
       "version_minor": 0
      },
      "text/plain": [
       "replaying log with TBR, completed variants ::   0%|          | 0/381 [00:00<?, ?it/s]"
      ]
     },
     "metadata": {},
     "output_type": "display_data"
    },
    {
     "name": "stdout",
     "output_type": "stream",
     "text": [
      "eps: 2, delta: 0.5, prec: 0.4605955153358143, fit: 0.9504432621163448, gen: 0.9404462546719043\n"
     ]
    },
    {
     "data": {
      "application/vnd.jupyter.widget-view+json": {
       "model_id": "55f5d8f93e8f4e48822c9e6047816952",
       "version_major": 2,
       "version_minor": 0
      },
      "text/plain": [
       "replaying log with TBR, completed variants ::   0%|          | 0/747 [00:00<?, ?it/s]"
      ]
     },
     "metadata": {},
     "output_type": "display_data"
    },
    {
     "data": {
      "application/vnd.jupyter.widget-view+json": {
       "model_id": "378227c2f3794b3ba4e9995f5d38e475",
       "version_major": 2,
       "version_minor": 0
      },
      "text/plain": [
       "replaying log with TBR, completed variants ::   0%|          | 0/103 [00:00<?, ?it/s]"
      ]
     },
     "metadata": {},
     "output_type": "display_data"
    },
    {
     "data": {
      "application/vnd.jupyter.widget-view+json": {
       "model_id": "436c14a09da4403991655a8fb0e99832",
       "version_major": 2,
       "version_minor": 0
      },
      "text/plain": [
       "replaying log with TBR, completed variants ::   0%|          | 0/103 [00:00<?, ?it/s]"
      ]
     },
     "metadata": {},
     "output_type": "display_data"
    },
    {
     "data": {
      "application/vnd.jupyter.widget-view+json": {
       "model_id": "fa9ce6fa07ef4bd4a7dc98525455e1c7",
       "version_major": 2,
       "version_minor": 0
      },
      "text/plain": [
       "replaying log with TBR, completed variants ::   0%|          | 0/748 [00:00<?, ?it/s]"
      ]
     },
     "metadata": {},
     "output_type": "display_data"
    },
    {
     "data": {
      "application/vnd.jupyter.widget-view+json": {
       "model_id": "db65dead40c7434bafae751adbc02977",
       "version_major": 2,
       "version_minor": 0
      },
      "text/plain": [
       "replaying log with TBR, completed variants ::   0%|          | 0/99 [00:00<?, ?it/s]"
      ]
     },
     "metadata": {},
     "output_type": "display_data"
    },
    {
     "data": {
      "application/vnd.jupyter.widget-view+json": {
       "model_id": "f20726da809c47f6a746c5489f749b55",
       "version_major": 2,
       "version_minor": 0
      },
      "text/plain": [
       "replaying log with TBR, completed variants ::   0%|          | 0/99 [00:00<?, ?it/s]"
      ]
     },
     "metadata": {},
     "output_type": "display_data"
    },
    {
     "data": {
      "application/vnd.jupyter.widget-view+json": {
       "model_id": "001f1b266087402ebc1cd5e91f55ee12",
       "version_major": 2,
       "version_minor": 0
      },
      "text/plain": [
       "replaying log with TBR, completed variants ::   0%|          | 0/741 [00:00<?, ?it/s]"
      ]
     },
     "metadata": {},
     "output_type": "display_data"
    },
    {
     "data": {
      "application/vnd.jupyter.widget-view+json": {
       "model_id": "b416bd4368a54e52981639a3dbc59a4c",
       "version_major": 2,
       "version_minor": 0
      },
      "text/plain": [
       "replaying log with TBR, completed variants ::   0%|          | 0/92 [00:00<?, ?it/s]"
      ]
     },
     "metadata": {},
     "output_type": "display_data"
    },
    {
     "data": {
      "application/vnd.jupyter.widget-view+json": {
       "model_id": "541209627d674850ae192252513da635",
       "version_major": 2,
       "version_minor": 0
      },
      "text/plain": [
       "replaying log with TBR, completed variants ::   0%|          | 0/92 [00:00<?, ?it/s]"
      ]
     },
     "metadata": {},
     "output_type": "display_data"
    },
    {
     "data": {
      "application/vnd.jupyter.widget-view+json": {
       "model_id": "c6b4c6acb0b844d3b38139bd650eed0f",
       "version_major": 2,
       "version_minor": 0
      },
      "text/plain": [
       "replaying log with TBR, completed variants ::   0%|          | 0/766 [00:00<?, ?it/s]"
      ]
     },
     "metadata": {},
     "output_type": "display_data"
    },
    {
     "data": {
      "application/vnd.jupyter.widget-view+json": {
       "model_id": "21dcb7c5c33c4927bf463fbceec67203",
       "version_major": 2,
       "version_minor": 0
      },
      "text/plain": [
       "replaying log with TBR, completed variants ::   0%|          | 0/97 [00:00<?, ?it/s]"
      ]
     },
     "metadata": {},
     "output_type": "display_data"
    },
    {
     "data": {
      "application/vnd.jupyter.widget-view+json": {
       "model_id": "36f5ebabb7554360aee9bf166f3dfd13",
       "version_major": 2,
       "version_minor": 0
      },
      "text/plain": [
       "replaying log with TBR, completed variants ::   0%|          | 0/97 [00:00<?, ?it/s]"
      ]
     },
     "metadata": {},
     "output_type": "display_data"
    },
    {
     "data": {
      "application/vnd.jupyter.widget-view+json": {
       "model_id": "bdf9d730cc5a4f69b775a7cd9b7ad066",
       "version_major": 2,
       "version_minor": 0
      },
      "text/plain": [
       "replaying log with TBR, completed variants ::   0%|          | 0/1400 [00:00<?, ?it/s]"
      ]
     },
     "metadata": {},
     "output_type": "display_data"
    },
    {
     "data": {
      "application/vnd.jupyter.widget-view+json": {
       "model_id": "a80fc60835b04ab6b5edcb55061ed6e3",
       "version_major": 2,
       "version_minor": 0
      },
      "text/plain": [
       "replaying log with TBR, completed variants ::   0%|          | 0/101 [00:00<?, ?it/s]"
      ]
     },
     "metadata": {},
     "output_type": "display_data"
    },
    {
     "data": {
      "application/vnd.jupyter.widget-view+json": {
       "model_id": "cc71ddeea6c3452eaf5d373c8c28fec1",
       "version_major": 2,
       "version_minor": 0
      },
      "text/plain": [
       "replaying log with TBR, completed variants ::   0%|          | 0/101 [00:00<?, ?it/s]"
      ]
     },
     "metadata": {},
     "output_type": "display_data"
    },
    {
     "data": {
      "application/vnd.jupyter.widget-view+json": {
       "model_id": "1a2d57af71f64595a1dd405bf046265c",
       "version_major": 2,
       "version_minor": 0
      },
      "text/plain": [
       "replaying log with TBR, completed variants ::   0%|          | 0/656 [00:00<?, ?it/s]"
      ]
     },
     "metadata": {},
     "output_type": "display_data"
    },
    {
     "data": {
      "application/vnd.jupyter.widget-view+json": {
       "model_id": "8ef7fa328e6242b7a06e5e4f631201b7",
       "version_major": 2,
       "version_minor": 0
      },
      "text/plain": [
       "replaying log with TBR, completed variants ::   0%|          | 0/93 [00:00<?, ?it/s]"
      ]
     },
     "metadata": {},
     "output_type": "display_data"
    },
    {
     "data": {
      "application/vnd.jupyter.widget-view+json": {
       "model_id": "969af7e74134457eb4df005cb5f1d7a9",
       "version_major": 2,
       "version_minor": 0
      },
      "text/plain": [
       "replaying log with TBR, completed variants ::   0%|          | 0/93 [00:00<?, ?it/s]"
      ]
     },
     "metadata": {},
     "output_type": "display_data"
    },
    {
     "data": {
      "application/vnd.jupyter.widget-view+json": {
       "model_id": "d16423c2903247b0bf6e44069dbd360a",
       "version_major": 2,
       "version_minor": 0
      },
      "text/plain": [
       "replaying log with TBR, completed variants ::   0%|          | 0/856 [00:00<?, ?it/s]"
      ]
     },
     "metadata": {},
     "output_type": "display_data"
    },
    {
     "data": {
      "application/vnd.jupyter.widget-view+json": {
       "model_id": "6ed48f1e457643d0960240cfe8f4d526",
       "version_major": 2,
       "version_minor": 0
      },
      "text/plain": [
       "replaying log with TBR, completed variants ::   0%|          | 0/108 [00:00<?, ?it/s]"
      ]
     },
     "metadata": {},
     "output_type": "display_data"
    },
    {
     "data": {
      "application/vnd.jupyter.widget-view+json": {
       "model_id": "7b65eefceb5644a59ce50d141153f60c",
       "version_major": 2,
       "version_minor": 0
      },
      "text/plain": [
       "replaying log with TBR, completed variants ::   0%|          | 0/108 [00:00<?, ?it/s]"
      ]
     },
     "metadata": {},
     "output_type": "display_data"
    },
    {
     "data": {
      "application/vnd.jupyter.widget-view+json": {
       "model_id": "49c7825c2162410f8d31f6df124c955f",
       "version_major": 2,
       "version_minor": 0
      },
      "text/plain": [
       "replaying log with TBR, completed variants ::   0%|          | 0/691 [00:00<?, ?it/s]"
      ]
     },
     "metadata": {},
     "output_type": "display_data"
    },
    {
     "data": {
      "application/vnd.jupyter.widget-view+json": {
       "model_id": "e8fdcf95cd3a46ce913c92820b8e4b38",
       "version_major": 2,
       "version_minor": 0
      },
      "text/plain": [
       "replaying log with TBR, completed variants ::   0%|          | 0/101 [00:00<?, ?it/s]"
      ]
     },
     "metadata": {},
     "output_type": "display_data"
    },
    {
     "data": {
      "application/vnd.jupyter.widget-view+json": {
       "model_id": "72a44fbbc1584f38abbba8696570a147",
       "version_major": 2,
       "version_minor": 0
      },
      "text/plain": [
       "replaying log with TBR, completed variants ::   0%|          | 0/101 [00:00<?, ?it/s]"
      ]
     },
     "metadata": {},
     "output_type": "display_data"
    },
    {
     "data": {
      "application/vnd.jupyter.widget-view+json": {
       "model_id": "90a5e063092a4101adaea54b039bb528",
       "version_major": 2,
       "version_minor": 0
      },
      "text/plain": [
       "replaying log with TBR, completed variants ::   0%|          | 0/747 [00:00<?, ?it/s]"
      ]
     },
     "metadata": {},
     "output_type": "display_data"
    },
    {
     "data": {
      "application/vnd.jupyter.widget-view+json": {
       "model_id": "96c299826b10468789d3fccb6fa6ee3c",
       "version_major": 2,
       "version_minor": 0
      },
      "text/plain": [
       "replaying log with TBR, completed variants ::   0%|          | 0/100 [00:00<?, ?it/s]"
      ]
     },
     "metadata": {},
     "output_type": "display_data"
    },
    {
     "data": {
      "application/vnd.jupyter.widget-view+json": {
       "model_id": "60eebcb9e6e54ce786076964c3737555",
       "version_major": 2,
       "version_minor": 0
      },
      "text/plain": [
       "replaying log with TBR, completed variants ::   0%|          | 0/100 [00:00<?, ?it/s]"
      ]
     },
     "metadata": {},
     "output_type": "display_data"
    },
    {
     "data": {
      "application/vnd.jupyter.widget-view+json": {
       "model_id": "74ee02f05a0842f0a740395f80824cbc",
       "version_major": 2,
       "version_minor": 0
      },
      "text/plain": [
       "replaying log with TBR, completed variants ::   0%|          | 0/607 [00:00<?, ?it/s]"
      ]
     },
     "metadata": {},
     "output_type": "display_data"
    },
    {
     "data": {
      "application/vnd.jupyter.widget-view+json": {
       "model_id": "6814a3d6adae46a6ad39dbb2465cd27f",
       "version_major": 2,
       "version_minor": 0
      },
      "text/plain": [
       "replaying log with TBR, completed variants ::   0%|          | 0/87 [00:00<?, ?it/s]"
      ]
     },
     "metadata": {},
     "output_type": "display_data"
    },
    {
     "data": {
      "application/vnd.jupyter.widget-view+json": {
       "model_id": "bf3c9a97255e4e7f8dc3628a825d8306",
       "version_major": 2,
       "version_minor": 0
      },
      "text/plain": [
       "replaying log with TBR, completed variants ::   0%|          | 0/87 [00:00<?, ?it/s]"
      ]
     },
     "metadata": {},
     "output_type": "display_data"
    },
    {
     "name": "stdout",
     "output_type": "stream",
     "text": [
      "eps: 2, delta: 0.1, prec: 0.38035474407805603, fit: 0.9491830289522936, gen: 0.8740050723837596\n"
     ]
    },
    {
     "data": {
      "application/vnd.jupyter.widget-view+json": {
       "model_id": "20907faab4874e7480b21ca551ba125d",
       "version_major": 2,
       "version_minor": 0
      },
      "text/plain": [
       "replaying log with TBR, completed variants ::   0%|          | 0/274 [00:00<?, ?it/s]"
      ]
     },
     "metadata": {},
     "output_type": "display_data"
    },
    {
     "data": {
      "application/vnd.jupyter.widget-view+json": {
       "model_id": "d397a07e804c4f4c8038c0aec685f45c",
       "version_major": 2,
       "version_minor": 0
      },
      "text/plain": [
       "replaying log with TBR, completed variants ::   0%|          | 0/50 [00:00<?, ?it/s]"
      ]
     },
     "metadata": {},
     "output_type": "display_data"
    },
    {
     "data": {
      "application/vnd.jupyter.widget-view+json": {
       "model_id": "dcee0db4425a488aafb79b1a24f29462",
       "version_major": 2,
       "version_minor": 0
      },
      "text/plain": [
       "replaying log with TBR, completed variants ::   0%|          | 0/50 [00:00<?, ?it/s]"
      ]
     },
     "metadata": {},
     "output_type": "display_data"
    },
    {
     "data": {
      "application/vnd.jupyter.widget-view+json": {
       "model_id": "51d5fc9993eb40928ac6c6450d53fff6",
       "version_major": 2,
       "version_minor": 0
      },
      "text/plain": [
       "replaying log with TBR, completed variants ::   0%|          | 0/313 [00:00<?, ?it/s]"
      ]
     },
     "metadata": {},
     "output_type": "display_data"
    },
    {
     "data": {
      "application/vnd.jupyter.widget-view+json": {
       "model_id": "f16ee0005a2f4e04ae5fa47516a0709d",
       "version_major": 2,
       "version_minor": 0
      },
      "text/plain": [
       "replaying log with TBR, completed variants ::   0%|          | 0/48 [00:00<?, ?it/s]"
      ]
     },
     "metadata": {},
     "output_type": "display_data"
    },
    {
     "data": {
      "application/vnd.jupyter.widget-view+json": {
       "model_id": "ea9996434b36443c809530a4a1df718b",
       "version_major": 2,
       "version_minor": 0
      },
      "text/plain": [
       "replaying log with TBR, completed variants ::   0%|          | 0/48 [00:00<?, ?it/s]"
      ]
     },
     "metadata": {},
     "output_type": "display_data"
    },
    {
     "data": {
      "application/vnd.jupyter.widget-view+json": {
       "model_id": "8200aba7cf574b19b115a300a95722f2",
       "version_major": 2,
       "version_minor": 0
      },
      "text/plain": [
       "replaying log with TBR, completed variants ::   0%|          | 0/270 [00:00<?, ?it/s]"
      ]
     },
     "metadata": {},
     "output_type": "display_data"
    },
    {
     "data": {
      "application/vnd.jupyter.widget-view+json": {
       "model_id": "f72c04e69ae2456495588ee37bf52904",
       "version_major": 2,
       "version_minor": 0
      },
      "text/plain": [
       "replaying log with TBR, completed variants ::   0%|          | 0/47 [00:00<?, ?it/s]"
      ]
     },
     "metadata": {},
     "output_type": "display_data"
    },
    {
     "data": {
      "application/vnd.jupyter.widget-view+json": {
       "model_id": "d43528ea0cc54d6b89c2e6a945144d70",
       "version_major": 2,
       "version_minor": 0
      },
      "text/plain": [
       "replaying log with TBR, completed variants ::   0%|          | 0/47 [00:00<?, ?it/s]"
      ]
     },
     "metadata": {},
     "output_type": "display_data"
    },
    {
     "data": {
      "application/vnd.jupyter.widget-view+json": {
       "model_id": "935f43ef06a647aea0e9011f5d4facd9",
       "version_major": 2,
       "version_minor": 0
      },
      "text/plain": [
       "replaying log with TBR, completed variants ::   0%|          | 0/355 [00:00<?, ?it/s]"
      ]
     },
     "metadata": {},
     "output_type": "display_data"
    },
    {
     "data": {
      "application/vnd.jupyter.widget-view+json": {
       "model_id": "400ba215fba4491eb8f7a3d1e02282d9",
       "version_major": 2,
       "version_minor": 0
      },
      "text/plain": [
       "replaying log with TBR, completed variants ::   0%|          | 0/47 [00:00<?, ?it/s]"
      ]
     },
     "metadata": {},
     "output_type": "display_data"
    },
    {
     "data": {
      "application/vnd.jupyter.widget-view+json": {
       "model_id": "c090539a829b4e6b92e271413957f3b0",
       "version_major": 2,
       "version_minor": 0
      },
      "text/plain": [
       "replaying log with TBR, completed variants ::   0%|          | 0/47 [00:00<?, ?it/s]"
      ]
     },
     "metadata": {},
     "output_type": "display_data"
    },
    {
     "data": {
      "application/vnd.jupyter.widget-view+json": {
       "model_id": "b6bdc5f386aa4bc8a2b22c1cf1a879c9",
       "version_major": 2,
       "version_minor": 0
      },
      "text/plain": [
       "replaying log with TBR, completed variants ::   0%|          | 0/367 [00:00<?, ?it/s]"
      ]
     },
     "metadata": {},
     "output_type": "display_data"
    },
    {
     "data": {
      "application/vnd.jupyter.widget-view+json": {
       "model_id": "fe1f0394def14927bd77163c3a0c736c",
       "version_major": 2,
       "version_minor": 0
      },
      "text/plain": [
       "replaying log with TBR, completed variants ::   0%|          | 0/44 [00:00<?, ?it/s]"
      ]
     },
     "metadata": {},
     "output_type": "display_data"
    },
    {
     "data": {
      "application/vnd.jupyter.widget-view+json": {
       "model_id": "2792c961689a47828ae3cda71bb70fab",
       "version_major": 2,
       "version_minor": 0
      },
      "text/plain": [
       "replaying log with TBR, completed variants ::   0%|          | 0/44 [00:00<?, ?it/s]"
      ]
     },
     "metadata": {},
     "output_type": "display_data"
    },
    {
     "data": {
      "application/vnd.jupyter.widget-view+json": {
       "model_id": "909fc4dfbd3d484da0caa45ea33e6f24",
       "version_major": 2,
       "version_minor": 0
      },
      "text/plain": [
       "replaying log with TBR, completed variants ::   0%|          | 0/430 [00:00<?, ?it/s]"
      ]
     },
     "metadata": {},
     "output_type": "display_data"
    },
    {
     "data": {
      "application/vnd.jupyter.widget-view+json": {
       "model_id": "8879f54cacce477bac44444ee163fc3b",
       "version_major": 2,
       "version_minor": 0
      },
      "text/plain": [
       "replaying log with TBR, completed variants ::   0%|          | 0/51 [00:00<?, ?it/s]"
      ]
     },
     "metadata": {},
     "output_type": "display_data"
    },
    {
     "data": {
      "application/vnd.jupyter.widget-view+json": {
       "model_id": "caa8171e2032476db5e4fe0a54848ee9",
       "version_major": 2,
       "version_minor": 0
      },
      "text/plain": [
       "replaying log with TBR, completed variants ::   0%|          | 0/51 [00:00<?, ?it/s]"
      ]
     },
     "metadata": {},
     "output_type": "display_data"
    },
    {
     "data": {
      "application/vnd.jupyter.widget-view+json": {
       "model_id": "c16d796db8604b45aa536d85164bb3dd",
       "version_major": 2,
       "version_minor": 0
      },
      "text/plain": [
       "replaying log with TBR, completed variants ::   0%|          | 0/446 [00:00<?, ?it/s]"
      ]
     },
     "metadata": {},
     "output_type": "display_data"
    },
    {
     "data": {
      "application/vnd.jupyter.widget-view+json": {
       "model_id": "d1225dbe18a545958c805f7ba50983bf",
       "version_major": 2,
       "version_minor": 0
      },
      "text/plain": [
       "replaying log with TBR, completed variants ::   0%|          | 0/53 [00:00<?, ?it/s]"
      ]
     },
     "metadata": {},
     "output_type": "display_data"
    },
    {
     "data": {
      "application/vnd.jupyter.widget-view+json": {
       "model_id": "9af2524fc8044e80a04cb727c94eb15e",
       "version_major": 2,
       "version_minor": 0
      },
      "text/plain": [
       "replaying log with TBR, completed variants ::   0%|          | 0/53 [00:00<?, ?it/s]"
      ]
     },
     "metadata": {},
     "output_type": "display_data"
    },
    {
     "data": {
      "application/vnd.jupyter.widget-view+json": {
       "model_id": "eae88940afe343f0a6df65f869790b41",
       "version_major": 2,
       "version_minor": 0
      },
      "text/plain": [
       "replaying log with TBR, completed variants ::   0%|          | 0/574 [00:00<?, ?it/s]"
      ]
     },
     "metadata": {},
     "output_type": "display_data"
    },
    {
     "data": {
      "application/vnd.jupyter.widget-view+json": {
       "model_id": "c54b85ac45754c6c9cddc8e7f2902c51",
       "version_major": 2,
       "version_minor": 0
      },
      "text/plain": [
       "replaying log with TBR, completed variants ::   0%|          | 0/47 [00:00<?, ?it/s]"
      ]
     },
     "metadata": {},
     "output_type": "display_data"
    },
    {
     "data": {
      "application/vnd.jupyter.widget-view+json": {
       "model_id": "5b5492a798354508997c653fc72bcb4b",
       "version_major": 2,
       "version_minor": 0
      },
      "text/plain": [
       "replaying log with TBR, completed variants ::   0%|          | 0/47 [00:00<?, ?it/s]"
      ]
     },
     "metadata": {},
     "output_type": "display_data"
    },
    {
     "data": {
      "application/vnd.jupyter.widget-view+json": {
       "model_id": "a438026ce4f4489da5fc452e6cbeafad",
       "version_major": 2,
       "version_minor": 0
      },
      "text/plain": [
       "replaying log with TBR, completed variants ::   0%|          | 0/662 [00:00<?, ?it/s]"
      ]
     },
     "metadata": {},
     "output_type": "display_data"
    },
    {
     "data": {
      "application/vnd.jupyter.widget-view+json": {
       "model_id": "6e6680b503ea4a069fd62590e55c3022",
       "version_major": 2,
       "version_minor": 0
      },
      "text/plain": [
       "replaying log with TBR, completed variants ::   0%|          | 0/58 [00:00<?, ?it/s]"
      ]
     },
     "metadata": {},
     "output_type": "display_data"
    },
    {
     "data": {
      "application/vnd.jupyter.widget-view+json": {
       "model_id": "ff37e5c5cd8a4db0a90761eb4f1c77c8",
       "version_major": 2,
       "version_minor": 0
      },
      "text/plain": [
       "replaying log with TBR, completed variants ::   0%|          | 0/58 [00:00<?, ?it/s]"
      ]
     },
     "metadata": {},
     "output_type": "display_data"
    },
    {
     "data": {
      "application/vnd.jupyter.widget-view+json": {
       "model_id": "36d1dacf340b411ca222b62cd6a709ed",
       "version_major": 2,
       "version_minor": 0
      },
      "text/plain": [
       "replaying log with TBR, completed variants ::   0%|          | 0/326 [00:00<?, ?it/s]"
      ]
     },
     "metadata": {},
     "output_type": "display_data"
    },
    {
     "data": {
      "application/vnd.jupyter.widget-view+json": {
       "model_id": "4e0cd53dceb848ec9bf3eb15d1be71fe",
       "version_major": 2,
       "version_minor": 0
      },
      "text/plain": [
       "replaying log with TBR, completed variants ::   0%|          | 0/43 [00:00<?, ?it/s]"
      ]
     },
     "metadata": {},
     "output_type": "display_data"
    },
    {
     "data": {
      "application/vnd.jupyter.widget-view+json": {
       "model_id": "aa8f524080b54590a53211d8e03ab4bd",
       "version_major": 2,
       "version_minor": 0
      },
      "text/plain": [
       "replaying log with TBR, completed variants ::   0%|          | 0/43 [00:00<?, ?it/s]"
      ]
     },
     "metadata": {},
     "output_type": "display_data"
    },
    {
     "name": "stdout",
     "output_type": "stream",
     "text": [
      "eps: 2, delta: 0.05, prec: 0.33929946572958686, fit: 0.9417974935663276, gen: 0.8136367253156076\n"
     ]
    },
    {
     "data": {
      "application/vnd.jupyter.widget-view+json": {
       "model_id": "b7b9466d6ec54f6eb54f0619ff08b5e6",
       "version_major": 2,
       "version_minor": 0
      },
      "text/plain": [
       "replaying log with TBR, completed variants ::   0%|          | 0/116 [00:00<?, ?it/s]"
      ]
     },
     "metadata": {},
     "output_type": "display_data"
    },
    {
     "data": {
      "application/vnd.jupyter.widget-view+json": {
       "model_id": "e0668aaaaa2240b8b8b65a5105821b73",
       "version_major": 2,
       "version_minor": 0
      },
      "text/plain": [
       "replaying log with TBR, completed variants ::   0%|          | 0/13 [00:00<?, ?it/s]"
      ]
     },
     "metadata": {},
     "output_type": "display_data"
    },
    {
     "data": {
      "application/vnd.jupyter.widget-view+json": {
       "model_id": "a7f2a144b62c49d28e5fc43d4e678fe8",
       "version_major": 2,
       "version_minor": 0
      },
      "text/plain": [
       "replaying log with TBR, completed variants ::   0%|          | 0/13 [00:00<?, ?it/s]"
      ]
     },
     "metadata": {},
     "output_type": "display_data"
    },
    {
     "data": {
      "application/vnd.jupyter.widget-view+json": {
       "model_id": "1f12f4d656cb4de2adae4b5e246da71a",
       "version_major": 2,
       "version_minor": 0
      },
      "text/plain": [
       "replaying log with TBR, completed variants ::   0%|          | 0/93 [00:00<?, ?it/s]"
      ]
     },
     "metadata": {},
     "output_type": "display_data"
    },
    {
     "data": {
      "application/vnd.jupyter.widget-view+json": {
       "model_id": "fbe28abb0da143a8bdff26216680bc1c",
       "version_major": 2,
       "version_minor": 0
      },
      "text/plain": [
       "replaying log with TBR, completed variants ::   0%|          | 0/15 [00:00<?, ?it/s]"
      ]
     },
     "metadata": {},
     "output_type": "display_data"
    },
    {
     "data": {
      "application/vnd.jupyter.widget-view+json": {
       "model_id": "c11c452a94324636ac10ee5dbdd59237",
       "version_major": 2,
       "version_minor": 0
      },
      "text/plain": [
       "replaying log with TBR, completed variants ::   0%|          | 0/15 [00:00<?, ?it/s]"
      ]
     },
     "metadata": {},
     "output_type": "display_data"
    },
    {
     "data": {
      "application/vnd.jupyter.widget-view+json": {
       "model_id": "386a50b73c314fd490cf29650de2b281",
       "version_major": 2,
       "version_minor": 0
      },
      "text/plain": [
       "replaying log with TBR, completed variants ::   0%|          | 0/159 [00:00<?, ?it/s]"
      ]
     },
     "metadata": {},
     "output_type": "display_data"
    },
    {
     "data": {
      "application/vnd.jupyter.widget-view+json": {
       "model_id": "fb44ffb297d04fa7acfcc726b7582bda",
       "version_major": 2,
       "version_minor": 0
      },
      "text/plain": [
       "replaying log with TBR, completed variants ::   0%|          | 0/17 [00:00<?, ?it/s]"
      ]
     },
     "metadata": {},
     "output_type": "display_data"
    },
    {
     "data": {
      "application/vnd.jupyter.widget-view+json": {
       "model_id": "858fa44396e84917b540135018ae8d5a",
       "version_major": 2,
       "version_minor": 0
      },
      "text/plain": [
       "replaying log with TBR, completed variants ::   0%|          | 0/17 [00:00<?, ?it/s]"
      ]
     },
     "metadata": {},
     "output_type": "display_data"
    },
    {
     "data": {
      "application/vnd.jupyter.widget-view+json": {
       "model_id": "78621d0b42804d769a906c4f3f0d66d1",
       "version_major": 2,
       "version_minor": 0
      },
      "text/plain": [
       "replaying log with TBR, completed variants ::   0%|          | 0/99 [00:00<?, ?it/s]"
      ]
     },
     "metadata": {},
     "output_type": "display_data"
    },
    {
     "data": {
      "application/vnd.jupyter.widget-view+json": {
       "model_id": "e67a04758dcb4e3da35b77e8ff06f1ce",
       "version_major": 2,
       "version_minor": 0
      },
      "text/plain": [
       "replaying log with TBR, completed variants ::   0%|          | 0/13 [00:00<?, ?it/s]"
      ]
     },
     "metadata": {},
     "output_type": "display_data"
    },
    {
     "data": {
      "application/vnd.jupyter.widget-view+json": {
       "model_id": "f2f4cac1a69c4bad96eb4a1249d0f68c",
       "version_major": 2,
       "version_minor": 0
      },
      "text/plain": [
       "replaying log with TBR, completed variants ::   0%|          | 0/13 [00:00<?, ?it/s]"
      ]
     },
     "metadata": {},
     "output_type": "display_data"
    },
    {
     "data": {
      "application/vnd.jupyter.widget-view+json": {
       "model_id": "1aea4382cd7042c9a5ec20d9016bf4e8",
       "version_major": 2,
       "version_minor": 0
      },
      "text/plain": [
       "replaying log with TBR, completed variants ::   0%|          | 0/54 [00:00<?, ?it/s]"
      ]
     },
     "metadata": {},
     "output_type": "display_data"
    },
    {
     "data": {
      "application/vnd.jupyter.widget-view+json": {
       "model_id": "3ef714bd3ed74d66ab75c8646a7a5417",
       "version_major": 2,
       "version_minor": 0
      },
      "text/plain": [
       "replaying log with TBR, completed variants ::   0%|          | 0/8 [00:00<?, ?it/s]"
      ]
     },
     "metadata": {},
     "output_type": "display_data"
    },
    {
     "data": {
      "application/vnd.jupyter.widget-view+json": {
       "model_id": "000aa29c1c8e4e53ba35218cfdeae827",
       "version_major": 2,
       "version_minor": 0
      },
      "text/plain": [
       "replaying log with TBR, completed variants ::   0%|          | 0/8 [00:00<?, ?it/s]"
      ]
     },
     "metadata": {},
     "output_type": "display_data"
    },
    {
     "data": {
      "application/vnd.jupyter.widget-view+json": {
       "model_id": "b2fa3943517d466aa9f4c689a70f9501",
       "version_major": 2,
       "version_minor": 0
      },
      "text/plain": [
       "replaying log with TBR, completed variants ::   0%|          | 0/111 [00:00<?, ?it/s]"
      ]
     },
     "metadata": {},
     "output_type": "display_data"
    },
    {
     "data": {
      "application/vnd.jupyter.widget-view+json": {
       "model_id": "3f7aacd92e7a4902a583dda5ba0ed987",
       "version_major": 2,
       "version_minor": 0
      },
      "text/plain": [
       "replaying log with TBR, completed variants ::   0%|          | 0/14 [00:00<?, ?it/s]"
      ]
     },
     "metadata": {},
     "output_type": "display_data"
    },
    {
     "data": {
      "application/vnd.jupyter.widget-view+json": {
       "model_id": "34cd3d7fc20c451690cb91c209ea36f1",
       "version_major": 2,
       "version_minor": 0
      },
      "text/plain": [
       "replaying log with TBR, completed variants ::   0%|          | 0/14 [00:00<?, ?it/s]"
      ]
     },
     "metadata": {},
     "output_type": "display_data"
    },
    {
     "data": {
      "application/vnd.jupyter.widget-view+json": {
       "model_id": "8caab8a4fac5499a80103e3f3278ffd3",
       "version_major": 2,
       "version_minor": 0
      },
      "text/plain": [
       "replaying log with TBR, completed variants ::   0%|          | 0/79 [00:00<?, ?it/s]"
      ]
     },
     "metadata": {},
     "output_type": "display_data"
    },
    {
     "data": {
      "application/vnd.jupyter.widget-view+json": {
       "model_id": "6b4f1f55d12f4b42ba8f8fc9ea7c9d23",
       "version_major": 2,
       "version_minor": 0
      },
      "text/plain": [
       "replaying log with TBR, completed variants ::   0%|          | 0/12 [00:00<?, ?it/s]"
      ]
     },
     "metadata": {},
     "output_type": "display_data"
    },
    {
     "data": {
      "application/vnd.jupyter.widget-view+json": {
       "model_id": "1a7d4471e83945989ee185cb6d4c79e5",
       "version_major": 2,
       "version_minor": 0
      },
      "text/plain": [
       "replaying log with TBR, completed variants ::   0%|          | 0/12 [00:00<?, ?it/s]"
      ]
     },
     "metadata": {},
     "output_type": "display_data"
    },
    {
     "data": {
      "application/vnd.jupyter.widget-view+json": {
       "model_id": "8ad9892893ae447ea13e08de2534eb17",
       "version_major": 2,
       "version_minor": 0
      },
      "text/plain": [
       "replaying log with TBR, completed variants ::   0%|          | 0/102 [00:00<?, ?it/s]"
      ]
     },
     "metadata": {},
     "output_type": "display_data"
    },
    {
     "data": {
      "application/vnd.jupyter.widget-view+json": {
       "model_id": "5175a17ba65045b6a967a59d41e26c5a",
       "version_major": 2,
       "version_minor": 0
      },
      "text/plain": [
       "replaying log with TBR, completed variants ::   0%|          | 0/16 [00:00<?, ?it/s]"
      ]
     },
     "metadata": {},
     "output_type": "display_data"
    },
    {
     "data": {
      "application/vnd.jupyter.widget-view+json": {
       "model_id": "4c1867b0dc0a401c95d53fd143e98685",
       "version_major": 2,
       "version_minor": 0
      },
      "text/plain": [
       "replaying log with TBR, completed variants ::   0%|          | 0/16 [00:00<?, ?it/s]"
      ]
     },
     "metadata": {},
     "output_type": "display_data"
    },
    {
     "data": {
      "application/vnd.jupyter.widget-view+json": {
       "model_id": "eabc207455574170a3b0bf18eef98acd",
       "version_major": 2,
       "version_minor": 0
      },
      "text/plain": [
       "replaying log with TBR, completed variants ::   0%|          | 0/79 [00:00<?, ?it/s]"
      ]
     },
     "metadata": {},
     "output_type": "display_data"
    },
    {
     "data": {
      "application/vnd.jupyter.widget-view+json": {
       "model_id": "b7007ca1cbfa4017bef3fd2260e2447b",
       "version_major": 2,
       "version_minor": 0
      },
      "text/plain": [
       "replaying log with TBR, completed variants ::   0%|          | 0/11 [00:00<?, ?it/s]"
      ]
     },
     "metadata": {},
     "output_type": "display_data"
    },
    {
     "data": {
      "application/vnd.jupyter.widget-view+json": {
       "model_id": "d9f8d271de8b4a259c0286e28de85de3",
       "version_major": 2,
       "version_minor": 0
      },
      "text/plain": [
       "replaying log with TBR, completed variants ::   0%|          | 0/11 [00:00<?, ?it/s]"
      ]
     },
     "metadata": {},
     "output_type": "display_data"
    },
    {
     "data": {
      "application/vnd.jupyter.widget-view+json": {
       "model_id": "bdf75a3eda1d459c94ca4c3e7d5a82eb",
       "version_major": 2,
       "version_minor": 0
      },
      "text/plain": [
       "replaying log with TBR, completed variants ::   0%|          | 0/97 [00:00<?, ?it/s]"
      ]
     },
     "metadata": {},
     "output_type": "display_data"
    },
    {
     "data": {
      "application/vnd.jupyter.widget-view+json": {
       "model_id": "a28720bb7cc2401f87513bcbdc1b70cb",
       "version_major": 2,
       "version_minor": 0
      },
      "text/plain": [
       "replaying log with TBR, completed variants ::   0%|          | 0/14 [00:00<?, ?it/s]"
      ]
     },
     "metadata": {},
     "output_type": "display_data"
    },
    {
     "data": {
      "application/vnd.jupyter.widget-view+json": {
       "model_id": "f85437cd799d477c810f5aa0f193f321",
       "version_major": 2,
       "version_minor": 0
      },
      "text/plain": [
       "replaying log with TBR, completed variants ::   0%|          | 0/14 [00:00<?, ?it/s]"
      ]
     },
     "metadata": {},
     "output_type": "display_data"
    },
    {
     "name": "stdout",
     "output_type": "stream",
     "text": [
      "eps: 2, delta: 0.01, prec: 0.28037650354273147, fit: 0.9164968234111177, gen: 0.6192179463087677\n"
     ]
    },
    {
     "data": {
      "application/vnd.jupyter.widget-view+json": {
       "model_id": "62fb944e301745d9bff678698217e3a0",
       "version_major": 2,
       "version_minor": 0
      },
      "text/plain": [
       "replaying log with TBR, completed variants ::   0%|          | 0/29 [00:00<?, ?it/s]"
      ]
     },
     "metadata": {},
     "output_type": "display_data"
    },
    {
     "data": {
      "application/vnd.jupyter.widget-view+json": {
       "model_id": "dcf430d1cb7b48d0bf8a62404682fd1c",
       "version_major": 2,
       "version_minor": 0
      },
      "text/plain": [
       "replaying log with TBR, completed variants ::   0%|          | 0/8 [00:00<?, ?it/s]"
      ]
     },
     "metadata": {},
     "output_type": "display_data"
    },
    {
     "data": {
      "application/vnd.jupyter.widget-view+json": {
       "model_id": "842b5b64d33e4cbdb67786d40d96ca8e",
       "version_major": 2,
       "version_minor": 0
      },
      "text/plain": [
       "replaying log with TBR, completed variants ::   0%|          | 0/8 [00:00<?, ?it/s]"
      ]
     },
     "metadata": {},
     "output_type": "display_data"
    },
    {
     "data": {
      "application/vnd.jupyter.widget-view+json": {
       "model_id": "0f7be9a38540404a96a269cd1064cfbc",
       "version_major": 2,
       "version_minor": 0
      },
      "text/plain": [
       "replaying log with TBR, completed variants ::   0%|          | 0/16 [00:00<?, ?it/s]"
      ]
     },
     "metadata": {},
     "output_type": "display_data"
    },
    {
     "data": {
      "application/vnd.jupyter.widget-view+json": {
       "model_id": "b85c156adaf74c15b441bbd991858e3b",
       "version_major": 2,
       "version_minor": 0
      },
      "text/plain": [
       "replaying log with TBR, completed variants ::   0%|          | 0/8 [00:00<?, ?it/s]"
      ]
     },
     "metadata": {},
     "output_type": "display_data"
    },
    {
     "data": {
      "application/vnd.jupyter.widget-view+json": {
       "model_id": "2d331eda46c6492ca702bc1f00b77136",
       "version_major": 2,
       "version_minor": 0
      },
      "text/plain": [
       "replaying log with TBR, completed variants ::   0%|          | 0/8 [00:00<?, ?it/s]"
      ]
     },
     "metadata": {},
     "output_type": "display_data"
    },
    {
     "data": {
      "application/vnd.jupyter.widget-view+json": {
       "model_id": "882bba6af36c4522a281c3cf88923e2a",
       "version_major": 2,
       "version_minor": 0
      },
      "text/plain": [
       "replaying log with TBR, completed variants ::   0%|          | 0/9 [00:00<?, ?it/s]"
      ]
     },
     "metadata": {},
     "output_type": "display_data"
    },
    {
     "data": {
      "application/vnd.jupyter.widget-view+json": {
       "model_id": "2ac24b33d58643d3aa3a37a3ee1f8a98",
       "version_major": 2,
       "version_minor": 0
      },
      "text/plain": [
       "replaying log with TBR, completed variants ::   0%|          | 0/5 [00:00<?, ?it/s]"
      ]
     },
     "metadata": {},
     "output_type": "display_data"
    },
    {
     "data": {
      "application/vnd.jupyter.widget-view+json": {
       "model_id": "1378055cbea34f6f998608ab4f286c42",
       "version_major": 2,
       "version_minor": 0
      },
      "text/plain": [
       "replaying log with TBR, completed variants ::   0%|          | 0/5 [00:00<?, ?it/s]"
      ]
     },
     "metadata": {},
     "output_type": "display_data"
    },
    {
     "data": {
      "application/vnd.jupyter.widget-view+json": {
       "model_id": "0aa70748c181401aa61bd808501c14b4",
       "version_major": 2,
       "version_minor": 0
      },
      "text/plain": [
       "replaying log with TBR, completed variants ::   0%|          | 0/11 [00:00<?, ?it/s]"
      ]
     },
     "metadata": {},
     "output_type": "display_data"
    },
    {
     "data": {
      "application/vnd.jupyter.widget-view+json": {
       "model_id": "c860f3ab161949189cc155c8229d13a1",
       "version_major": 2,
       "version_minor": 0
      },
      "text/plain": [
       "replaying log with TBR, completed variants ::   0%|          | 0/6 [00:00<?, ?it/s]"
      ]
     },
     "metadata": {},
     "output_type": "display_data"
    },
    {
     "data": {
      "application/vnd.jupyter.widget-view+json": {
       "model_id": "a7e76daad160461ea4e489365e792c3d",
       "version_major": 2,
       "version_minor": 0
      },
      "text/plain": [
       "replaying log with TBR, completed variants ::   0%|          | 0/6 [00:00<?, ?it/s]"
      ]
     },
     "metadata": {},
     "output_type": "display_data"
    },
    {
     "data": {
      "application/vnd.jupyter.widget-view+json": {
       "model_id": "96356897e9674f418d9915df593579e3",
       "version_major": 2,
       "version_minor": 0
      },
      "text/plain": [
       "replaying log with TBR, completed variants ::   0%|          | 0/14 [00:00<?, ?it/s]"
      ]
     },
     "metadata": {},
     "output_type": "display_data"
    },
    {
     "data": {
      "application/vnd.jupyter.widget-view+json": {
       "model_id": "0b432bc8b8e049d68999e896f6387708",
       "version_major": 2,
       "version_minor": 0
      },
      "text/plain": [
       "replaying log with TBR, completed variants ::   0%|          | 0/7 [00:00<?, ?it/s]"
      ]
     },
     "metadata": {},
     "output_type": "display_data"
    },
    {
     "data": {
      "application/vnd.jupyter.widget-view+json": {
       "model_id": "c6c134ace5834b7290995fa40df00921",
       "version_major": 2,
       "version_minor": 0
      },
      "text/plain": [
       "replaying log with TBR, completed variants ::   0%|          | 0/7 [00:00<?, ?it/s]"
      ]
     },
     "metadata": {},
     "output_type": "display_data"
    },
    {
     "data": {
      "application/vnd.jupyter.widget-view+json": {
       "model_id": "e450d6f927874aca9da8cbe5fe5c38b9",
       "version_major": 2,
       "version_minor": 0
      },
      "text/plain": [
       "replaying log with TBR, completed variants ::   0%|          | 0/107 [00:00<?, ?it/s]"
      ]
     },
     "metadata": {},
     "output_type": "display_data"
    },
    {
     "data": {
      "application/vnd.jupyter.widget-view+json": {
       "model_id": "4fb39589301f4e428cffcc45678df486",
       "version_major": 2,
       "version_minor": 0
      },
      "text/plain": [
       "replaying log with TBR, completed variants ::   0%|          | 0/9 [00:00<?, ?it/s]"
      ]
     },
     "metadata": {},
     "output_type": "display_data"
    },
    {
     "data": {
      "application/vnd.jupyter.widget-view+json": {
       "model_id": "adcab23684734416a57ff9361b9df61c",
       "version_major": 2,
       "version_minor": 0
      },
      "text/plain": [
       "replaying log with TBR, completed variants ::   0%|          | 0/9 [00:00<?, ?it/s]"
      ]
     },
     "metadata": {},
     "output_type": "display_data"
    },
    {
     "data": {
      "application/vnd.jupyter.widget-view+json": {
       "model_id": "6c6682b7afbd4d5a9cbc7c59eeff69f9",
       "version_major": 2,
       "version_minor": 0
      },
      "text/plain": [
       "replaying log with TBR, completed variants ::   0%|          | 0/14 [00:00<?, ?it/s]"
      ]
     },
     "metadata": {},
     "output_type": "display_data"
    },
    {
     "data": {
      "application/vnd.jupyter.widget-view+json": {
       "model_id": "131d3051017c4ce594e4f8683ea8d381",
       "version_major": 2,
       "version_minor": 0
      },
      "text/plain": [
       "replaying log with TBR, completed variants ::   0%|          | 0/7 [00:00<?, ?it/s]"
      ]
     },
     "metadata": {},
     "output_type": "display_data"
    },
    {
     "data": {
      "application/vnd.jupyter.widget-view+json": {
       "model_id": "27a46b77f22b4c2da8028a37a3fdb2fc",
       "version_major": 2,
       "version_minor": 0
      },
      "text/plain": [
       "replaying log with TBR, completed variants ::   0%|          | 0/7 [00:00<?, ?it/s]"
      ]
     },
     "metadata": {},
     "output_type": "display_data"
    },
    {
     "data": {
      "application/vnd.jupyter.widget-view+json": {
       "model_id": "2be6bd51f8cf48c2a94953f8eefc68d4",
       "version_major": 2,
       "version_minor": 0
      },
      "text/plain": [
       "replaying log with TBR, completed variants ::   0%|          | 0/36 [00:00<?, ?it/s]"
      ]
     },
     "metadata": {},
     "output_type": "display_data"
    },
    {
     "data": {
      "application/vnd.jupyter.widget-view+json": {
       "model_id": "092e3a87c94240f1829a2510e67c47ba",
       "version_major": 2,
       "version_minor": 0
      },
      "text/plain": [
       "replaying log with TBR, completed variants ::   0%|          | 0/8 [00:00<?, ?it/s]"
      ]
     },
     "metadata": {},
     "output_type": "display_data"
    },
    {
     "data": {
      "application/vnd.jupyter.widget-view+json": {
       "model_id": "9b3139cfaef1445b8a1001ffba31d704",
       "version_major": 2,
       "version_minor": 0
      },
      "text/plain": [
       "replaying log with TBR, completed variants ::   0%|          | 0/8 [00:00<?, ?it/s]"
      ]
     },
     "metadata": {},
     "output_type": "display_data"
    },
    {
     "data": {
      "application/vnd.jupyter.widget-view+json": {
       "model_id": "6a53549b217b48fabef03c0e20137b8d",
       "version_major": 2,
       "version_minor": 0
      },
      "text/plain": [
       "replaying log with TBR, completed variants ::   0%|          | 0/11 [00:00<?, ?it/s]"
      ]
     },
     "metadata": {},
     "output_type": "display_data"
    },
    {
     "data": {
      "application/vnd.jupyter.widget-view+json": {
       "model_id": "106c4785bf084191bb4165b228a1b8bc",
       "version_major": 2,
       "version_minor": 0
      },
      "text/plain": [
       "replaying log with TBR, completed variants ::   0%|          | 0/6 [00:00<?, ?it/s]"
      ]
     },
     "metadata": {},
     "output_type": "display_data"
    },
    {
     "data": {
      "application/vnd.jupyter.widget-view+json": {
       "model_id": "cb43411feced4d2b84f4afa481b394a2",
       "version_major": 2,
       "version_minor": 0
      },
      "text/plain": [
       "replaying log with TBR, completed variants ::   0%|          | 0/6 [00:00<?, ?it/s]"
      ]
     },
     "metadata": {},
     "output_type": "display_data"
    },
    {
     "data": {
      "application/vnd.jupyter.widget-view+json": {
       "model_id": "7216527a200b45ccab2af4fc0375a2f1",
       "version_major": 2,
       "version_minor": 0
      },
      "text/plain": [
       "replaying log with TBR, completed variants ::   0%|          | 0/27 [00:00<?, ?it/s]"
      ]
     },
     "metadata": {},
     "output_type": "display_data"
    },
    {
     "data": {
      "application/vnd.jupyter.widget-view+json": {
       "model_id": "31573813223d4c9ab006a73ef72d5248",
       "version_major": 2,
       "version_minor": 0
      },
      "text/plain": [
       "replaying log with TBR, completed variants ::   0%|          | 0/9 [00:00<?, ?it/s]"
      ]
     },
     "metadata": {},
     "output_type": "display_data"
    },
    {
     "data": {
      "application/vnd.jupyter.widget-view+json": {
       "model_id": "5eff55c1e85b45bfabdc5e10044b2497",
       "version_major": 2,
       "version_minor": 0
      },
      "text/plain": [
       "replaying log with TBR, completed variants ::   0%|          | 0/9 [00:00<?, ?it/s]"
      ]
     },
     "metadata": {},
     "output_type": "display_data"
    },
    {
     "name": "stdout",
     "output_type": "stream",
     "text": [
      "eps: 2, delta: 0.001, prec: 0.24818376451885457, fit: 0.8449230248789364, gen: 0.38603160192403624\n"
     ]
    },
    {
     "data": {
      "application/vnd.jupyter.widget-view+json": {
       "model_id": "bfb915e681f04226a72cd3c72683086a",
       "version_major": 2,
       "version_minor": 0
      },
      "text/plain": [
       "replaying log with TBR, completed variants ::   0%|          | 0/2750 [00:00<?, ?it/s]"
      ]
     },
     "metadata": {},
     "output_type": "display_data"
    },
    {
     "data": {
      "application/vnd.jupyter.widget-view+json": {
       "model_id": "cf501f20fa604da3a5404826f3b382e8",
       "version_major": 2,
       "version_minor": 0
      },
      "text/plain": [
       "replaying log with TBR, completed variants ::   0%|          | 0/347 [00:00<?, ?it/s]"
      ]
     },
     "metadata": {},
     "output_type": "display_data"
    },
    {
     "data": {
      "application/vnd.jupyter.widget-view+json": {
       "model_id": "2fc0b1a240a44ec4aa5006d3896be7ab",
       "version_major": 2,
       "version_minor": 0
      },
      "text/plain": [
       "replaying log with TBR, completed variants ::   0%|          | 0/347 [00:00<?, ?it/s]"
      ]
     },
     "metadata": {},
     "output_type": "display_data"
    },
    {
     "data": {
      "application/vnd.jupyter.widget-view+json": {
       "model_id": "6c20ede0619f4a9497964aa5f410db01",
       "version_major": 2,
       "version_minor": 0
      },
      "text/plain": [
       "replaying log with TBR, completed variants ::   0%|          | 0/2844 [00:00<?, ?it/s]"
      ]
     },
     "metadata": {},
     "output_type": "display_data"
    },
    {
     "data": {
      "application/vnd.jupyter.widget-view+json": {
       "model_id": "df63231349e1490fa41b5434b010935e",
       "version_major": 2,
       "version_minor": 0
      },
      "text/plain": [
       "replaying log with TBR, completed variants ::   0%|          | 0/379 [00:00<?, ?it/s]"
      ]
     },
     "metadata": {},
     "output_type": "display_data"
    },
    {
     "data": {
      "application/vnd.jupyter.widget-view+json": {
       "model_id": "518cb344733d4ec583a1890b300e8008",
       "version_major": 2,
       "version_minor": 0
      },
      "text/plain": [
       "replaying log with TBR, completed variants ::   0%|          | 0/379 [00:00<?, ?it/s]"
      ]
     },
     "metadata": {},
     "output_type": "display_data"
    },
    {
     "data": {
      "application/vnd.jupyter.widget-view+json": {
       "model_id": "f003ee7c27054dce9285de6b4a07098a",
       "version_major": 2,
       "version_minor": 0
      },
      "text/plain": [
       "replaying log with TBR, completed variants ::   0%|          | 0/2539 [00:00<?, ?it/s]"
      ]
     },
     "metadata": {},
     "output_type": "display_data"
    },
    {
     "data": {
      "application/vnd.jupyter.widget-view+json": {
       "model_id": "181cf746f98a4b12a86bf534e614292b",
       "version_major": 2,
       "version_minor": 0
      },
      "text/plain": [
       "replaying log with TBR, completed variants ::   0%|          | 0/338 [00:00<?, ?it/s]"
      ]
     },
     "metadata": {},
     "output_type": "display_data"
    },
    {
     "data": {
      "application/vnd.jupyter.widget-view+json": {
       "model_id": "18b1c7b91fe445de9fed66dd482f880d",
       "version_major": 2,
       "version_minor": 0
      },
      "text/plain": [
       "replaying log with TBR, completed variants ::   0%|          | 0/338 [00:00<?, ?it/s]"
      ]
     },
     "metadata": {},
     "output_type": "display_data"
    },
    {
     "data": {
      "application/vnd.jupyter.widget-view+json": {
       "model_id": "2000f1f7a811435d9ab7d0da1f1b46f8",
       "version_major": 2,
       "version_minor": 0
      },
      "text/plain": [
       "replaying log with TBR, completed variants ::   0%|          | 0/2856 [00:00<?, ?it/s]"
      ]
     },
     "metadata": {},
     "output_type": "display_data"
    },
    {
     "data": {
      "application/vnd.jupyter.widget-view+json": {
       "model_id": "0b23ebfd62694082a2668aae4a6a23f5",
       "version_major": 2,
       "version_minor": 0
      },
      "text/plain": [
       "replaying log with TBR, completed variants ::   0%|          | 0/377 [00:00<?, ?it/s]"
      ]
     },
     "metadata": {},
     "output_type": "display_data"
    },
    {
     "data": {
      "application/vnd.jupyter.widget-view+json": {
       "model_id": "3054b74ef95541a5945f90a584a202ef",
       "version_major": 2,
       "version_minor": 0
      },
      "text/plain": [
       "replaying log with TBR, completed variants ::   0%|          | 0/377 [00:00<?, ?it/s]"
      ]
     },
     "metadata": {},
     "output_type": "display_data"
    },
    {
     "data": {
      "application/vnd.jupyter.widget-view+json": {
       "model_id": "3e09bd222c1241df8b46fdebd9467f18",
       "version_major": 2,
       "version_minor": 0
      },
      "text/plain": [
       "replaying log with TBR, completed variants ::   0%|          | 0/2809 [00:00<?, ?it/s]"
      ]
     },
     "metadata": {},
     "output_type": "display_data"
    },
    {
     "data": {
      "application/vnd.jupyter.widget-view+json": {
       "model_id": "315b1af6110b487e9280ac275b648348",
       "version_major": 2,
       "version_minor": 0
      },
      "text/plain": [
       "replaying log with TBR, completed variants ::   0%|          | 0/366 [00:00<?, ?it/s]"
      ]
     },
     "metadata": {},
     "output_type": "display_data"
    },
    {
     "data": {
      "application/vnd.jupyter.widget-view+json": {
       "model_id": "e94a93b22029482494aab20e12c8cf39",
       "version_major": 2,
       "version_minor": 0
      },
      "text/plain": [
       "replaying log with TBR, completed variants ::   0%|          | 0/366 [00:00<?, ?it/s]"
      ]
     },
     "metadata": {},
     "output_type": "display_data"
    },
    {
     "data": {
      "application/vnd.jupyter.widget-view+json": {
       "model_id": "c397e5004f2a429a85223a677068476b",
       "version_major": 2,
       "version_minor": 0
      },
      "text/plain": [
       "replaying log with TBR, completed variants ::   0%|          | 0/2602 [00:00<?, ?it/s]"
      ]
     },
     "metadata": {},
     "output_type": "display_data"
    },
    {
     "data": {
      "application/vnd.jupyter.widget-view+json": {
       "model_id": "9d4403529cbe4d50ae644e9198d311e6",
       "version_major": 2,
       "version_minor": 0
      },
      "text/plain": [
       "replaying log with TBR, completed variants ::   0%|          | 0/377 [00:00<?, ?it/s]"
      ]
     },
     "metadata": {},
     "output_type": "display_data"
    },
    {
     "data": {
      "application/vnd.jupyter.widget-view+json": {
       "model_id": "39d56c25340c46b0851b56f3dee6bc55",
       "version_major": 2,
       "version_minor": 0
      },
      "text/plain": [
       "replaying log with TBR, completed variants ::   0%|          | 0/377 [00:00<?, ?it/s]"
      ]
     },
     "metadata": {},
     "output_type": "display_data"
    },
    {
     "data": {
      "application/vnd.jupyter.widget-view+json": {
       "model_id": "febf876e917c4ce5b8ec6c1d4091c24e",
       "version_major": 2,
       "version_minor": 0
      },
      "text/plain": [
       "replaying log with TBR, completed variants ::   0%|          | 0/2745 [00:00<?, ?it/s]"
      ]
     },
     "metadata": {},
     "output_type": "display_data"
    },
    {
     "data": {
      "application/vnd.jupyter.widget-view+json": {
       "model_id": "cf2ed4991e8446718dc80d0b28229bd7",
       "version_major": 2,
       "version_minor": 0
      },
      "text/plain": [
       "replaying log with TBR, completed variants ::   0%|          | 0/360 [00:00<?, ?it/s]"
      ]
     },
     "metadata": {},
     "output_type": "display_data"
    },
    {
     "data": {
      "application/vnd.jupyter.widget-view+json": {
       "model_id": "fe0a741db2f142ab8eaa04b0b52966f6",
       "version_major": 2,
       "version_minor": 0
      },
      "text/plain": [
       "replaying log with TBR, completed variants ::   0%|          | 0/360 [00:00<?, ?it/s]"
      ]
     },
     "metadata": {},
     "output_type": "display_data"
    },
    {
     "data": {
      "application/vnd.jupyter.widget-view+json": {
       "model_id": "e3a35b91c1ea4c41a1f035b86579608d",
       "version_major": 2,
       "version_minor": 0
      },
      "text/plain": [
       "replaying log with TBR, completed variants ::   0%|          | 0/2954 [00:00<?, ?it/s]"
      ]
     },
     "metadata": {},
     "output_type": "display_data"
    },
    {
     "data": {
      "application/vnd.jupyter.widget-view+json": {
       "model_id": "9ede72ab9d0747e196b7f18d4aac8a54",
       "version_major": 2,
       "version_minor": 0
      },
      "text/plain": [
       "replaying log with TBR, completed variants ::   0%|          | 0/370 [00:00<?, ?it/s]"
      ]
     },
     "metadata": {},
     "output_type": "display_data"
    },
    {
     "data": {
      "application/vnd.jupyter.widget-view+json": {
       "model_id": "15e0079ca41746cbbc797771a584367f",
       "version_major": 2,
       "version_minor": 0
      },
      "text/plain": [
       "replaying log with TBR, completed variants ::   0%|          | 0/370 [00:00<?, ?it/s]"
      ]
     },
     "metadata": {},
     "output_type": "display_data"
    },
    {
     "data": {
      "application/vnd.jupyter.widget-view+json": {
       "model_id": "886616a8399940d0adbd596c6f38b2ee",
       "version_major": 2,
       "version_minor": 0
      },
      "text/plain": [
       "replaying log with TBR, completed variants ::   0%|          | 0/2312 [00:00<?, ?it/s]"
      ]
     },
     "metadata": {},
     "output_type": "display_data"
    },
    {
     "data": {
      "application/vnd.jupyter.widget-view+json": {
       "model_id": "03686a289f3b48c0af08de416c9da70a",
       "version_major": 2,
       "version_minor": 0
      },
      "text/plain": [
       "replaying log with TBR, completed variants ::   0%|          | 0/353 [00:00<?, ?it/s]"
      ]
     },
     "metadata": {},
     "output_type": "display_data"
    },
    {
     "data": {
      "application/vnd.jupyter.widget-view+json": {
       "model_id": "2ede0cca112b4bbca5fa3d9b0118ccf7",
       "version_major": 2,
       "version_minor": 0
      },
      "text/plain": [
       "replaying log with TBR, completed variants ::   0%|          | 0/353 [00:00<?, ?it/s]"
      ]
     },
     "metadata": {},
     "output_type": "display_data"
    },
    {
     "data": {
      "application/vnd.jupyter.widget-view+json": {
       "model_id": "005d123bd4f34fe183e137d20fdba2ad",
       "version_major": 2,
       "version_minor": 0
      },
      "text/plain": [
       "replaying log with TBR, completed variants ::   0%|          | 0/2568 [00:00<?, ?it/s]"
      ]
     },
     "metadata": {},
     "output_type": "display_data"
    },
    {
     "data": {
      "application/vnd.jupyter.widget-view+json": {
       "model_id": "c9b63e2e3aea4e07a21bfffacc4c2f06",
       "version_major": 2,
       "version_minor": 0
      },
      "text/plain": [
       "replaying log with TBR, completed variants ::   0%|          | 0/381 [00:00<?, ?it/s]"
      ]
     },
     "metadata": {},
     "output_type": "display_data"
    },
    {
     "data": {
      "application/vnd.jupyter.widget-view+json": {
       "model_id": "97a0a82c82854768858b3fdd42ae7fdb",
       "version_major": 2,
       "version_minor": 0
      },
      "text/plain": [
       "replaying log with TBR, completed variants ::   0%|          | 0/381 [00:00<?, ?it/s]"
      ]
     },
     "metadata": {},
     "output_type": "display_data"
    },
    {
     "name": "stdout",
     "output_type": "stream",
     "text": [
      "eps: 1, delta: 0.5, prec: 0.4537640909124091, fit: 0.953358462149643, gen: 0.9380472142531732\n"
     ]
    },
    {
     "data": {
      "application/vnd.jupyter.widget-view+json": {
       "model_id": "319ddecb0ed14695b4199c1b8bf971a8",
       "version_major": 2,
       "version_minor": 0
      },
      "text/plain": [
       "replaying log with TBR, completed variants ::   0%|          | 0/889 [00:00<?, ?it/s]"
      ]
     },
     "metadata": {},
     "output_type": "display_data"
    },
    {
     "data": {
      "application/vnd.jupyter.widget-view+json": {
       "model_id": "4c3f51f428d34786ae6753db902f4b02",
       "version_major": 2,
       "version_minor": 0
      },
      "text/plain": [
       "replaying log with TBR, completed variants ::   0%|          | 0/95 [00:00<?, ?it/s]"
      ]
     },
     "metadata": {},
     "output_type": "display_data"
    },
    {
     "data": {
      "application/vnd.jupyter.widget-view+json": {
       "model_id": "5a7c1d5a45fc4590918274384397ccd4",
       "version_major": 2,
       "version_minor": 0
      },
      "text/plain": [
       "replaying log with TBR, completed variants ::   0%|          | 0/95 [00:00<?, ?it/s]"
      ]
     },
     "metadata": {},
     "output_type": "display_data"
    },
    {
     "data": {
      "application/vnd.jupyter.widget-view+json": {
       "model_id": "65daea6c242b4a1bb5c87d8a0d19050a",
       "version_major": 2,
       "version_minor": 0
      },
      "text/plain": [
       "replaying log with TBR, completed variants ::   0%|          | 0/637 [00:00<?, ?it/s]"
      ]
     },
     "metadata": {},
     "output_type": "display_data"
    },
    {
     "data": {
      "application/vnd.jupyter.widget-view+json": {
       "model_id": "0e75401c291a49febb4ed39c3ef60bf2",
       "version_major": 2,
       "version_minor": 0
      },
      "text/plain": [
       "replaying log with TBR, completed variants ::   0%|          | 0/93 [00:00<?, ?it/s]"
      ]
     },
     "metadata": {},
     "output_type": "display_data"
    },
    {
     "data": {
      "application/vnd.jupyter.widget-view+json": {
       "model_id": "4d27ba7a6a01496db7093466a88869a2",
       "version_major": 2,
       "version_minor": 0
      },
      "text/plain": [
       "replaying log with TBR, completed variants ::   0%|          | 0/93 [00:00<?, ?it/s]"
      ]
     },
     "metadata": {},
     "output_type": "display_data"
    },
    {
     "data": {
      "application/vnd.jupyter.widget-view+json": {
       "model_id": "fe7f5ad6c0714026892531948b791799",
       "version_major": 2,
       "version_minor": 0
      },
      "text/plain": [
       "replaying log with TBR, completed variants ::   0%|          | 0/737 [00:00<?, ?it/s]"
      ]
     },
     "metadata": {},
     "output_type": "display_data"
    },
    {
     "data": {
      "application/vnd.jupyter.widget-view+json": {
       "model_id": "b75ea5240f254127bd6c7eb0248fb69f",
       "version_major": 2,
       "version_minor": 0
      },
      "text/plain": [
       "replaying log with TBR, completed variants ::   0%|          | 0/88 [00:00<?, ?it/s]"
      ]
     },
     "metadata": {},
     "output_type": "display_data"
    },
    {
     "data": {
      "application/vnd.jupyter.widget-view+json": {
       "model_id": "18600a01ba88436d9274918b4ee1637c",
       "version_major": 2,
       "version_minor": 0
      },
      "text/plain": [
       "replaying log with TBR, completed variants ::   0%|          | 0/88 [00:00<?, ?it/s]"
      ]
     },
     "metadata": {},
     "output_type": "display_data"
    },
    {
     "data": {
      "application/vnd.jupyter.widget-view+json": {
       "model_id": "12baa37bf65641688cb77f2153b7a7a1",
       "version_major": 2,
       "version_minor": 0
      },
      "text/plain": [
       "replaying log with TBR, completed variants ::   0%|          | 0/707 [00:00<?, ?it/s]"
      ]
     },
     "metadata": {},
     "output_type": "display_data"
    },
    {
     "data": {
      "application/vnd.jupyter.widget-view+json": {
       "model_id": "b75755efbe6846c796559b73e24a20f4",
       "version_major": 2,
       "version_minor": 0
      },
      "text/plain": [
       "replaying log with TBR, completed variants ::   0%|          | 0/96 [00:00<?, ?it/s]"
      ]
     },
     "metadata": {},
     "output_type": "display_data"
    },
    {
     "data": {
      "application/vnd.jupyter.widget-view+json": {
       "model_id": "c33561f9974646bfae2482693fd6cc7f",
       "version_major": 2,
       "version_minor": 0
      },
      "text/plain": [
       "replaying log with TBR, completed variants ::   0%|          | 0/96 [00:00<?, ?it/s]"
      ]
     },
     "metadata": {},
     "output_type": "display_data"
    },
    {
     "data": {
      "application/vnd.jupyter.widget-view+json": {
       "model_id": "614426e3cb1f4733b153a7a842520411",
       "version_major": 2,
       "version_minor": 0
      },
      "text/plain": [
       "replaying log with TBR, completed variants ::   0%|          | 0/695 [00:00<?, ?it/s]"
      ]
     },
     "metadata": {},
     "output_type": "display_data"
    },
    {
     "data": {
      "application/vnd.jupyter.widget-view+json": {
       "model_id": "91ce8161330a4cb38b3acceb51b12339",
       "version_major": 2,
       "version_minor": 0
      },
      "text/plain": [
       "replaying log with TBR, completed variants ::   0%|          | 0/91 [00:00<?, ?it/s]"
      ]
     },
     "metadata": {},
     "output_type": "display_data"
    },
    {
     "data": {
      "application/vnd.jupyter.widget-view+json": {
       "model_id": "d12ecb43fb44459db671eae81e99f518",
       "version_major": 2,
       "version_minor": 0
      },
      "text/plain": [
       "replaying log with TBR, completed variants ::   0%|          | 0/91 [00:00<?, ?it/s]"
      ]
     },
     "metadata": {},
     "output_type": "display_data"
    },
    {
     "data": {
      "application/vnd.jupyter.widget-view+json": {
       "model_id": "8aa12460847146169d87345f7cb31d9d",
       "version_major": 2,
       "version_minor": 0
      },
      "text/plain": [
       "replaying log with TBR, completed variants ::   0%|          | 0/733 [00:00<?, ?it/s]"
      ]
     },
     "metadata": {},
     "output_type": "display_data"
    },
    {
     "data": {
      "application/vnd.jupyter.widget-view+json": {
       "model_id": "6dfdc7999b164549a63be2da8b65f164",
       "version_major": 2,
       "version_minor": 0
      },
      "text/plain": [
       "replaying log with TBR, completed variants ::   0%|          | 0/98 [00:00<?, ?it/s]"
      ]
     },
     "metadata": {},
     "output_type": "display_data"
    },
    {
     "data": {
      "application/vnd.jupyter.widget-view+json": {
       "model_id": "6870d89a0ec441e2a7869fd25e51a09f",
       "version_major": 2,
       "version_minor": 0
      },
      "text/plain": [
       "replaying log with TBR, completed variants ::   0%|          | 0/98 [00:00<?, ?it/s]"
      ]
     },
     "metadata": {},
     "output_type": "display_data"
    },
    {
     "data": {
      "application/vnd.jupyter.widget-view+json": {
       "model_id": "8ca70953fe684a3c88dec3a2895de3cd",
       "version_major": 2,
       "version_minor": 0
      },
      "text/plain": [
       "replaying log with TBR, completed variants ::   0%|          | 0/721 [00:00<?, ?it/s]"
      ]
     },
     "metadata": {},
     "output_type": "display_data"
    },
    {
     "data": {
      "application/vnd.jupyter.widget-view+json": {
       "model_id": "c0113ae378e942eab1e37d934e8a75ff",
       "version_major": 2,
       "version_minor": 0
      },
      "text/plain": [
       "replaying log with TBR, completed variants ::   0%|          | 0/104 [00:00<?, ?it/s]"
      ]
     },
     "metadata": {},
     "output_type": "display_data"
    },
    {
     "data": {
      "application/vnd.jupyter.widget-view+json": {
       "model_id": "b0b60910a1b648e9b10c9d4692d753e5",
       "version_major": 2,
       "version_minor": 0
      },
      "text/plain": [
       "replaying log with TBR, completed variants ::   0%|          | 0/104 [00:00<?, ?it/s]"
      ]
     },
     "metadata": {},
     "output_type": "display_data"
    },
    {
     "data": {
      "application/vnd.jupyter.widget-view+json": {
       "model_id": "601bfb29ead542329599ef787c427b9f",
       "version_major": 2,
       "version_minor": 0
      },
      "text/plain": [
       "replaying log with TBR, completed variants ::   0%|          | 0/819 [00:00<?, ?it/s]"
      ]
     },
     "metadata": {},
     "output_type": "display_data"
    },
    {
     "data": {
      "application/vnd.jupyter.widget-view+json": {
       "model_id": "787792e4d8194f7990ca98b981e19e23",
       "version_major": 2,
       "version_minor": 0
      },
      "text/plain": [
       "replaying log with TBR, completed variants ::   0%|          | 0/92 [00:00<?, ?it/s]"
      ]
     },
     "metadata": {},
     "output_type": "display_data"
    },
    {
     "data": {
      "application/vnd.jupyter.widget-view+json": {
       "model_id": "9a207f1d940640b3b73e23ab221340c3",
       "version_major": 2,
       "version_minor": 0
      },
      "text/plain": [
       "replaying log with TBR, completed variants ::   0%|          | 0/92 [00:00<?, ?it/s]"
      ]
     },
     "metadata": {},
     "output_type": "display_data"
    },
    {
     "data": {
      "application/vnd.jupyter.widget-view+json": {
       "model_id": "d309762c940e4aa490e15e8765e11af7",
       "version_major": 2,
       "version_minor": 0
      },
      "text/plain": [
       "replaying log with TBR, completed variants ::   0%|          | 0/1000 [00:00<?, ?it/s]"
      ]
     },
     "metadata": {},
     "output_type": "display_data"
    },
    {
     "data": {
      "application/vnd.jupyter.widget-view+json": {
       "model_id": "179f41476e3344eea48057c94f1be3a8",
       "version_major": 2,
       "version_minor": 0
      },
      "text/plain": [
       "replaying log with TBR, completed variants ::   0%|          | 0/91 [00:00<?, ?it/s]"
      ]
     },
     "metadata": {},
     "output_type": "display_data"
    },
    {
     "data": {
      "application/vnd.jupyter.widget-view+json": {
       "model_id": "d34aa2b5dc464fe3817516d8be4d2ab3",
       "version_major": 2,
       "version_minor": 0
      },
      "text/plain": [
       "replaying log with TBR, completed variants ::   0%|          | 0/91 [00:00<?, ?it/s]"
      ]
     },
     "metadata": {},
     "output_type": "display_data"
    },
    {
     "data": {
      "application/vnd.jupyter.widget-view+json": {
       "model_id": "226268428b0c4dd59ee544d0b2cdbedd",
       "version_major": 2,
       "version_minor": 0
      },
      "text/plain": [
       "replaying log with TBR, completed variants ::   0%|          | 0/895 [00:00<?, ?it/s]"
      ]
     },
     "metadata": {},
     "output_type": "display_data"
    },
    {
     "data": {
      "application/vnd.jupyter.widget-view+json": {
       "model_id": "cfbee88cecf046389a870a575455c5b3",
       "version_major": 2,
       "version_minor": 0
      },
      "text/plain": [
       "replaying log with TBR, completed variants ::   0%|          | 0/102 [00:00<?, ?it/s]"
      ]
     },
     "metadata": {},
     "output_type": "display_data"
    },
    {
     "data": {
      "application/vnd.jupyter.widget-view+json": {
       "model_id": "4f13f78a94c94e27aa598af0110d1f26",
       "version_major": 2,
       "version_minor": 0
      },
      "text/plain": [
       "replaying log with TBR, completed variants ::   0%|          | 0/102 [00:00<?, ?it/s]"
      ]
     },
     "metadata": {},
     "output_type": "display_data"
    },
    {
     "name": "stdout",
     "output_type": "stream",
     "text": [
      "eps: 1, delta: 0.1, prec: 0.3830793949915954, fit: 0.9520801587622897, gen: 0.8728019677456587\n"
     ]
    },
    {
     "data": {
      "application/vnd.jupyter.widget-view+json": {
       "model_id": "22429c075df942e4ba1df21cddf2b1aa",
       "version_major": 2,
       "version_minor": 0
      },
      "text/plain": [
       "replaying log with TBR, completed variants ::   0%|          | 0/654 [00:00<?, ?it/s]"
      ]
     },
     "metadata": {},
     "output_type": "display_data"
    },
    {
     "data": {
      "application/vnd.jupyter.widget-view+json": {
       "model_id": "0697cc0c45a64abeb1e885f942e91348",
       "version_major": 2,
       "version_minor": 0
      },
      "text/plain": [
       "replaying log with TBR, completed variants ::   0%|          | 0/55 [00:00<?, ?it/s]"
      ]
     },
     "metadata": {},
     "output_type": "display_data"
    },
    {
     "data": {
      "application/vnd.jupyter.widget-view+json": {
       "model_id": "b120f01c4a1d40d4bebc1ca42828f0df",
       "version_major": 2,
       "version_minor": 0
      },
      "text/plain": [
       "replaying log with TBR, completed variants ::   0%|          | 0/55 [00:00<?, ?it/s]"
      ]
     },
     "metadata": {},
     "output_type": "display_data"
    },
    {
     "data": {
      "application/vnd.jupyter.widget-view+json": {
       "model_id": "bce9814e8c7d42a9b974d6baf01a5b30",
       "version_major": 2,
       "version_minor": 0
      },
      "text/plain": [
       "replaying log with TBR, completed variants ::   0%|          | 0/301 [00:00<?, ?it/s]"
      ]
     },
     "metadata": {},
     "output_type": "display_data"
    },
    {
     "data": {
      "application/vnd.jupyter.widget-view+json": {
       "model_id": "611fb64e2dd14e2098f1c1c15f4113f5",
       "version_major": 2,
       "version_minor": 0
      },
      "text/plain": [
       "replaying log with TBR, completed variants ::   0%|          | 0/39 [00:00<?, ?it/s]"
      ]
     },
     "metadata": {},
     "output_type": "display_data"
    },
    {
     "data": {
      "application/vnd.jupyter.widget-view+json": {
       "model_id": "3b5596d9d0214dd2bb19c29b6dbff4ce",
       "version_major": 2,
       "version_minor": 0
      },
      "text/plain": [
       "replaying log with TBR, completed variants ::   0%|          | 0/39 [00:00<?, ?it/s]"
      ]
     },
     "metadata": {},
     "output_type": "display_data"
    },
    {
     "data": {
      "application/vnd.jupyter.widget-view+json": {
       "model_id": "80d1c3f8102a4b19b590cd44d42fe73f",
       "version_major": 2,
       "version_minor": 0
      },
      "text/plain": [
       "replaying log with TBR, completed variants ::   0%|          | 0/463 [00:00<?, ?it/s]"
      ]
     },
     "metadata": {},
     "output_type": "display_data"
    },
    {
     "data": {
      "application/vnd.jupyter.widget-view+json": {
       "model_id": "74e24cb34524420986d38708cf1a94bd",
       "version_major": 2,
       "version_minor": 0
      },
      "text/plain": [
       "replaying log with TBR, completed variants ::   0%|          | 0/56 [00:00<?, ?it/s]"
      ]
     },
     "metadata": {},
     "output_type": "display_data"
    },
    {
     "data": {
      "application/vnd.jupyter.widget-view+json": {
       "model_id": "2be5523834e94ef58518782441f07aea",
       "version_major": 2,
       "version_minor": 0
      },
      "text/plain": [
       "replaying log with TBR, completed variants ::   0%|          | 0/56 [00:00<?, ?it/s]"
      ]
     },
     "metadata": {},
     "output_type": "display_data"
    },
    {
     "data": {
      "application/vnd.jupyter.widget-view+json": {
       "model_id": "5ae1eca26f8e48b6bdba097d16b9cad4",
       "version_major": 2,
       "version_minor": 0
      },
      "text/plain": [
       "replaying log with TBR, completed variants ::   0%|          | 0/474 [00:00<?, ?it/s]"
      ]
     },
     "metadata": {},
     "output_type": "display_data"
    },
    {
     "data": {
      "application/vnd.jupyter.widget-view+json": {
       "model_id": "1d5fe1fe40b24fa0b6eb0d47550e1100",
       "version_major": 2,
       "version_minor": 0
      },
      "text/plain": [
       "replaying log with TBR, completed variants ::   0%|          | 0/56 [00:00<?, ?it/s]"
      ]
     },
     "metadata": {},
     "output_type": "display_data"
    },
    {
     "data": {
      "application/vnd.jupyter.widget-view+json": {
       "model_id": "d2a1acdb89a14632979b45a364a77526",
       "version_major": 2,
       "version_minor": 0
      },
      "text/plain": [
       "replaying log with TBR, completed variants ::   0%|          | 0/56 [00:00<?, ?it/s]"
      ]
     },
     "metadata": {},
     "output_type": "display_data"
    },
    {
     "data": {
      "application/vnd.jupyter.widget-view+json": {
       "model_id": "fc2b57f0dc044839a328c59e9eefe0fb",
       "version_major": 2,
       "version_minor": 0
      },
      "text/plain": [
       "replaying log with TBR, completed variants ::   0%|          | 0/396 [00:00<?, ?it/s]"
      ]
     },
     "metadata": {},
     "output_type": "display_data"
    },
    {
     "data": {
      "application/vnd.jupyter.widget-view+json": {
       "model_id": "3f349492ccea4d81aebf3dacb3d71ef5",
       "version_major": 2,
       "version_minor": 0
      },
      "text/plain": [
       "replaying log with TBR, completed variants ::   0%|          | 0/48 [00:00<?, ?it/s]"
      ]
     },
     "metadata": {},
     "output_type": "display_data"
    },
    {
     "data": {
      "application/vnd.jupyter.widget-view+json": {
       "model_id": "45b7e1356ecc453c9c5f031e1f171a32",
       "version_major": 2,
       "version_minor": 0
      },
      "text/plain": [
       "replaying log with TBR, completed variants ::   0%|          | 0/48 [00:00<?, ?it/s]"
      ]
     },
     "metadata": {},
     "output_type": "display_data"
    },
    {
     "data": {
      "application/vnd.jupyter.widget-view+json": {
       "model_id": "08159827761943efb106d47b8d6bdc91",
       "version_major": 2,
       "version_minor": 0
      },
      "text/plain": [
       "replaying log with TBR, completed variants ::   0%|          | 0/328 [00:00<?, ?it/s]"
      ]
     },
     "metadata": {},
     "output_type": "display_data"
    },
    {
     "data": {
      "application/vnd.jupyter.widget-view+json": {
       "model_id": "37deda9dceb84729ba0976ec90cd37e2",
       "version_major": 2,
       "version_minor": 0
      },
      "text/plain": [
       "replaying log with TBR, completed variants ::   0%|          | 0/47 [00:00<?, ?it/s]"
      ]
     },
     "metadata": {},
     "output_type": "display_data"
    },
    {
     "data": {
      "application/vnd.jupyter.widget-view+json": {
       "model_id": "7b5b0495b1d44e5c95f5e827f4c5b423",
       "version_major": 2,
       "version_minor": 0
      },
      "text/plain": [
       "replaying log with TBR, completed variants ::   0%|          | 0/47 [00:00<?, ?it/s]"
      ]
     },
     "metadata": {},
     "output_type": "display_data"
    },
    {
     "data": {
      "application/vnd.jupyter.widget-view+json": {
       "model_id": "f13669b6c54a44848a9e95ac5e02e79d",
       "version_major": 2,
       "version_minor": 0
      },
      "text/plain": [
       "replaying log with TBR, completed variants ::   0%|          | 0/581 [00:00<?, ?it/s]"
      ]
     },
     "metadata": {},
     "output_type": "display_data"
    },
    {
     "data": {
      "application/vnd.jupyter.widget-view+json": {
       "model_id": "1690eb5df50f4211846955b3cb6478f2",
       "version_major": 2,
       "version_minor": 0
      },
      "text/plain": [
       "replaying log with TBR, completed variants ::   0%|          | 0/54 [00:00<?, ?it/s]"
      ]
     },
     "metadata": {},
     "output_type": "display_data"
    },
    {
     "data": {
      "application/vnd.jupyter.widget-view+json": {
       "model_id": "3989c42d0cf645bea816e42a790bca51",
       "version_major": 2,
       "version_minor": 0
      },
      "text/plain": [
       "replaying log with TBR, completed variants ::   0%|          | 0/54 [00:00<?, ?it/s]"
      ]
     },
     "metadata": {},
     "output_type": "display_data"
    },
    {
     "data": {
      "application/vnd.jupyter.widget-view+json": {
       "model_id": "9066bc9918924932b44739488b1bfa99",
       "version_major": 2,
       "version_minor": 0
      },
      "text/plain": [
       "replaying log with TBR, completed variants ::   0%|          | 0/476 [00:00<?, ?it/s]"
      ]
     },
     "metadata": {},
     "output_type": "display_data"
    },
    {
     "data": {
      "application/vnd.jupyter.widget-view+json": {
       "model_id": "a425656e83c84efaa55c43f03874fa54",
       "version_major": 2,
       "version_minor": 0
      },
      "text/plain": [
       "replaying log with TBR, completed variants ::   0%|          | 0/64 [00:00<?, ?it/s]"
      ]
     },
     "metadata": {},
     "output_type": "display_data"
    },
    {
     "data": {
      "application/vnd.jupyter.widget-view+json": {
       "model_id": "4ad0665c2a644bd880120754e65e4343",
       "version_major": 2,
       "version_minor": 0
      },
      "text/plain": [
       "replaying log with TBR, completed variants ::   0%|          | 0/64 [00:00<?, ?it/s]"
      ]
     },
     "metadata": {},
     "output_type": "display_data"
    },
    {
     "data": {
      "application/vnd.jupyter.widget-view+json": {
       "model_id": "3a873825422d476486aad64e3318e30b",
       "version_major": 2,
       "version_minor": 0
      },
      "text/plain": [
       "replaying log with TBR, completed variants ::   0%|          | 0/344 [00:00<?, ?it/s]"
      ]
     },
     "metadata": {},
     "output_type": "display_data"
    },
    {
     "data": {
      "application/vnd.jupyter.widget-view+json": {
       "model_id": "bc7409a449e44b04ac6303afbc1f351b",
       "version_major": 2,
       "version_minor": 0
      },
      "text/plain": [
       "replaying log with TBR, completed variants ::   0%|          | 0/51 [00:00<?, ?it/s]"
      ]
     },
     "metadata": {},
     "output_type": "display_data"
    },
    {
     "data": {
      "application/vnd.jupyter.widget-view+json": {
       "model_id": "cec186ba50db45b7a72b962d44e8c68f",
       "version_major": 2,
       "version_minor": 0
      },
      "text/plain": [
       "replaying log with TBR, completed variants ::   0%|          | 0/51 [00:00<?, ?it/s]"
      ]
     },
     "metadata": {},
     "output_type": "display_data"
    },
    {
     "data": {
      "application/vnd.jupyter.widget-view+json": {
       "model_id": "d7c2cfacb29f475ea0c7804a9889aa55",
       "version_major": 2,
       "version_minor": 0
      },
      "text/plain": [
       "replaying log with TBR, completed variants ::   0%|          | 0/437 [00:00<?, ?it/s]"
      ]
     },
     "metadata": {},
     "output_type": "display_data"
    },
    {
     "data": {
      "application/vnd.jupyter.widget-view+json": {
       "model_id": "9c23e59fd14949658c4b38c9a7d4e07e",
       "version_major": 2,
       "version_minor": 0
      },
      "text/plain": [
       "replaying log with TBR, completed variants ::   0%|          | 0/50 [00:00<?, ?it/s]"
      ]
     },
     "metadata": {},
     "output_type": "display_data"
    },
    {
     "data": {
      "application/vnd.jupyter.widget-view+json": {
       "model_id": "ebc90dadc6844374b94022bc092b65b2",
       "version_major": 2,
       "version_minor": 0
      },
      "text/plain": [
       "replaying log with TBR, completed variants ::   0%|          | 0/50 [00:00<?, ?it/s]"
      ]
     },
     "metadata": {},
     "output_type": "display_data"
    },
    {
     "name": "stdout",
     "output_type": "stream",
     "text": [
      "eps: 1, delta: 0.05, prec: 0.3444666607322907, fit: 0.9528284806507156, gen: 0.8196198582999425\n"
     ]
    },
    {
     "data": {
      "application/vnd.jupyter.widget-view+json": {
       "model_id": "6ac62a825de843518baf9daa3f5778a5",
       "version_major": 2,
       "version_minor": 0
      },
      "text/plain": [
       "replaying log with TBR, completed variants ::   0%|          | 0/127 [00:00<?, ?it/s]"
      ]
     },
     "metadata": {},
     "output_type": "display_data"
    },
    {
     "data": {
      "application/vnd.jupyter.widget-view+json": {
       "model_id": "2a58650252664fdb9f41ec7857a110a5",
       "version_major": 2,
       "version_minor": 0
      },
      "text/plain": [
       "replaying log with TBR, completed variants ::   0%|          | 0/10 [00:00<?, ?it/s]"
      ]
     },
     "metadata": {},
     "output_type": "display_data"
    },
    {
     "data": {
      "application/vnd.jupyter.widget-view+json": {
       "model_id": "f124f5d45a4b422aaa944034fffdb06b",
       "version_major": 2,
       "version_minor": 0
      },
      "text/plain": [
       "replaying log with TBR, completed variants ::   0%|          | 0/10 [00:00<?, ?it/s]"
      ]
     },
     "metadata": {},
     "output_type": "display_data"
    },
    {
     "data": {
      "application/vnd.jupyter.widget-view+json": {
       "model_id": "9aca4dd597b44a7e863be67fab75248a",
       "version_major": 2,
       "version_minor": 0
      },
      "text/plain": [
       "replaying log with TBR, completed variants ::   0%|          | 0/119 [00:00<?, ?it/s]"
      ]
     },
     "metadata": {},
     "output_type": "display_data"
    },
    {
     "data": {
      "application/vnd.jupyter.widget-view+json": {
       "model_id": "3d16162bec2e411493e11b1a4c9e52e0",
       "version_major": 2,
       "version_minor": 0
      },
      "text/plain": [
       "replaying log with TBR, completed variants ::   0%|          | 0/10 [00:00<?, ?it/s]"
      ]
     },
     "metadata": {},
     "output_type": "display_data"
    },
    {
     "data": {
      "application/vnd.jupyter.widget-view+json": {
       "model_id": "ee07f9c17b9942b698da9860786a4977",
       "version_major": 2,
       "version_minor": 0
      },
      "text/plain": [
       "replaying log with TBR, completed variants ::   0%|          | 0/10 [00:00<?, ?it/s]"
      ]
     },
     "metadata": {},
     "output_type": "display_data"
    },
    {
     "data": {
      "application/vnd.jupyter.widget-view+json": {
       "model_id": "e1c5f91620a246b8b50a7b0d96d6a252",
       "version_major": 2,
       "version_minor": 0
      },
      "text/plain": [
       "replaying log with TBR, completed variants ::   0%|          | 0/121 [00:00<?, ?it/s]"
      ]
     },
     "metadata": {},
     "output_type": "display_data"
    },
    {
     "data": {
      "application/vnd.jupyter.widget-view+json": {
       "model_id": "fd1d725bfadc479b8d25b3a99c380f23",
       "version_major": 2,
       "version_minor": 0
      },
      "text/plain": [
       "replaying log with TBR, completed variants ::   0%|          | 0/14 [00:00<?, ?it/s]"
      ]
     },
     "metadata": {},
     "output_type": "display_data"
    },
    {
     "data": {
      "application/vnd.jupyter.widget-view+json": {
       "model_id": "12c63e83258143249d1055170bd8d82f",
       "version_major": 2,
       "version_minor": 0
      },
      "text/plain": [
       "replaying log with TBR, completed variants ::   0%|          | 0/14 [00:00<?, ?it/s]"
      ]
     },
     "metadata": {},
     "output_type": "display_data"
    },
    {
     "data": {
      "application/vnd.jupyter.widget-view+json": {
       "model_id": "70a5daab695546819ee65299908cc37e",
       "version_major": 2,
       "version_minor": 0
      },
      "text/plain": [
       "replaying log with TBR, completed variants ::   0%|          | 0/69 [00:00<?, ?it/s]"
      ]
     },
     "metadata": {},
     "output_type": "display_data"
    },
    {
     "data": {
      "application/vnd.jupyter.widget-view+json": {
       "model_id": "a68336d97c124122bfda4756ee6108a6",
       "version_major": 2,
       "version_minor": 0
      },
      "text/plain": [
       "replaying log with TBR, completed variants ::   0%|          | 0/8 [00:00<?, ?it/s]"
      ]
     },
     "metadata": {},
     "output_type": "display_data"
    },
    {
     "data": {
      "application/vnd.jupyter.widget-view+json": {
       "model_id": "ffd3ea73088942d38adf4dab322a7cae",
       "version_major": 2,
       "version_minor": 0
      },
      "text/plain": [
       "replaying log with TBR, completed variants ::   0%|          | 0/8 [00:00<?, ?it/s]"
      ]
     },
     "metadata": {},
     "output_type": "display_data"
    },
    {
     "data": {
      "application/vnd.jupyter.widget-view+json": {
       "model_id": "300b08d9803340bc88292e7dd9a6b28f",
       "version_major": 2,
       "version_minor": 0
      },
      "text/plain": [
       "replaying log with TBR, completed variants ::   0%|          | 0/144 [00:00<?, ?it/s]"
      ]
     },
     "metadata": {},
     "output_type": "display_data"
    },
    {
     "data": {
      "application/vnd.jupyter.widget-view+json": {
       "model_id": "397de5851d634c3ca467f70514c4ecf9",
       "version_major": 2,
       "version_minor": 0
      },
      "text/plain": [
       "replaying log with TBR, completed variants ::   0%|          | 0/15 [00:00<?, ?it/s]"
      ]
     },
     "metadata": {},
     "output_type": "display_data"
    },
    {
     "data": {
      "application/vnd.jupyter.widget-view+json": {
       "model_id": "8aadd6c74a1945dfa3a9667eb6fdf6ad",
       "version_major": 2,
       "version_minor": 0
      },
      "text/plain": [
       "replaying log with TBR, completed variants ::   0%|          | 0/15 [00:00<?, ?it/s]"
      ]
     },
     "metadata": {},
     "output_type": "display_data"
    },
    {
     "data": {
      "application/vnd.jupyter.widget-view+json": {
       "model_id": "7a19146eff5e4cc1ac3af54c2a84e569",
       "version_major": 2,
       "version_minor": 0
      },
      "text/plain": [
       "replaying log with TBR, completed variants ::   0%|          | 0/88 [00:00<?, ?it/s]"
      ]
     },
     "metadata": {},
     "output_type": "display_data"
    },
    {
     "data": {
      "application/vnd.jupyter.widget-view+json": {
       "model_id": "339715a9266443869157da6ad7055649",
       "version_major": 2,
       "version_minor": 0
      },
      "text/plain": [
       "replaying log with TBR, completed variants ::   0%|          | 0/11 [00:00<?, ?it/s]"
      ]
     },
     "metadata": {},
     "output_type": "display_data"
    },
    {
     "data": {
      "application/vnd.jupyter.widget-view+json": {
       "model_id": "e854fb5b1afd4696a91a6a779acad8cc",
       "version_major": 2,
       "version_minor": 0
      },
      "text/plain": [
       "replaying log with TBR, completed variants ::   0%|          | 0/11 [00:00<?, ?it/s]"
      ]
     },
     "metadata": {},
     "output_type": "display_data"
    },
    {
     "data": {
      "application/vnd.jupyter.widget-view+json": {
       "model_id": "881fa2c7adef4f02a40d5ba0aa891196",
       "version_major": 2,
       "version_minor": 0
      },
      "text/plain": [
       "replaying log with TBR, completed variants ::   0%|          | 0/158 [00:00<?, ?it/s]"
      ]
     },
     "metadata": {},
     "output_type": "display_data"
    },
    {
     "data": {
      "application/vnd.jupyter.widget-view+json": {
       "model_id": "d36e002200da48969fc0e6fccd8f8227",
       "version_major": 2,
       "version_minor": 0
      },
      "text/plain": [
       "replaying log with TBR, completed variants ::   0%|          | 0/24 [00:00<?, ?it/s]"
      ]
     },
     "metadata": {},
     "output_type": "display_data"
    },
    {
     "data": {
      "application/vnd.jupyter.widget-view+json": {
       "model_id": "388cd5aabac74f3b91fdb4ad98659bb9",
       "version_major": 2,
       "version_minor": 0
      },
      "text/plain": [
       "replaying log with TBR, completed variants ::   0%|          | 0/24 [00:00<?, ?it/s]"
      ]
     },
     "metadata": {},
     "output_type": "display_data"
    },
    {
     "data": {
      "application/vnd.jupyter.widget-view+json": {
       "model_id": "8b40736db7fd4f2cab111fddcf370309",
       "version_major": 2,
       "version_minor": 0
      },
      "text/plain": [
       "replaying log with TBR, completed variants ::   0%|          | 0/71 [00:00<?, ?it/s]"
      ]
     },
     "metadata": {},
     "output_type": "display_data"
    },
    {
     "data": {
      "application/vnd.jupyter.widget-view+json": {
       "model_id": "d7838f00715a4a7c80dfd21147454ae4",
       "version_major": 2,
       "version_minor": 0
      },
      "text/plain": [
       "replaying log with TBR, completed variants ::   0%|          | 0/11 [00:00<?, ?it/s]"
      ]
     },
     "metadata": {},
     "output_type": "display_data"
    },
    {
     "data": {
      "application/vnd.jupyter.widget-view+json": {
       "model_id": "6b33f358f1804665aad5db1aebdf9a28",
       "version_major": 2,
       "version_minor": 0
      },
      "text/plain": [
       "replaying log with TBR, completed variants ::   0%|          | 0/11 [00:00<?, ?it/s]"
      ]
     },
     "metadata": {},
     "output_type": "display_data"
    },
    {
     "data": {
      "application/vnd.jupyter.widget-view+json": {
       "model_id": "9c1415bb6b744fa78fbb02cb80fdcdb0",
       "version_major": 2,
       "version_minor": 0
      },
      "text/plain": [
       "replaying log with TBR, completed variants ::   0%|          | 0/95 [00:00<?, ?it/s]"
      ]
     },
     "metadata": {},
     "output_type": "display_data"
    },
    {
     "data": {
      "application/vnd.jupyter.widget-view+json": {
       "model_id": "0d4660d43c8a4fdaa538e72d13d9d323",
       "version_major": 2,
       "version_minor": 0
      },
      "text/plain": [
       "replaying log with TBR, completed variants ::   0%|          | 0/12 [00:00<?, ?it/s]"
      ]
     },
     "metadata": {},
     "output_type": "display_data"
    },
    {
     "data": {
      "application/vnd.jupyter.widget-view+json": {
       "model_id": "7f1889198c644f8f8f4b51502717111f",
       "version_major": 2,
       "version_minor": 0
      },
      "text/plain": [
       "replaying log with TBR, completed variants ::   0%|          | 0/12 [00:00<?, ?it/s]"
      ]
     },
     "metadata": {},
     "output_type": "display_data"
    },
    {
     "data": {
      "application/vnd.jupyter.widget-view+json": {
       "model_id": "e70e2013f6ec42f48454d4f7d3e55885",
       "version_major": 2,
       "version_minor": 0
      },
      "text/plain": [
       "replaying log with TBR, completed variants ::   0%|          | 0/208 [00:00<?, ?it/s]"
      ]
     },
     "metadata": {},
     "output_type": "display_data"
    },
    {
     "data": {
      "application/vnd.jupyter.widget-view+json": {
       "model_id": "a5f03c43b3724e39a67ac8342e6e8430",
       "version_major": 2,
       "version_minor": 0
      },
      "text/plain": [
       "replaying log with TBR, completed variants ::   0%|          | 0/14 [00:00<?, ?it/s]"
      ]
     },
     "metadata": {},
     "output_type": "display_data"
    },
    {
     "data": {
      "application/vnd.jupyter.widget-view+json": {
       "model_id": "03700d7fa56545a294b042de391dfa28",
       "version_major": 2,
       "version_minor": 0
      },
      "text/plain": [
       "replaying log with TBR, completed variants ::   0%|          | 0/14 [00:00<?, ?it/s]"
      ]
     },
     "metadata": {},
     "output_type": "display_data"
    },
    {
     "name": "stdout",
     "output_type": "stream",
     "text": [
      "eps: 1, delta: 0.01, prec: 0.26726060333877977, fit: 0.9357427960203181, gen: 0.6068492647309801\n"
     ]
    },
    {
     "data": {
      "application/vnd.jupyter.widget-view+json": {
       "model_id": "36b7b5f473bb47f9b83ff8442b5e19a8",
       "version_major": 2,
       "version_minor": 0
      },
      "text/plain": [
       "replaying log with TBR, completed variants ::   0%|          | 0/12 [00:00<?, ?it/s]"
      ]
     },
     "metadata": {},
     "output_type": "display_data"
    },
    {
     "data": {
      "application/vnd.jupyter.widget-view+json": {
       "model_id": "7779673e446d460399bd26ce72a21dc9",
       "version_major": 2,
       "version_minor": 0
      },
      "text/plain": [
       "replaying log with TBR, completed variants ::   0%|          | 0/9 [00:00<?, ?it/s]"
      ]
     },
     "metadata": {},
     "output_type": "display_data"
    },
    {
     "data": {
      "application/vnd.jupyter.widget-view+json": {
       "model_id": "d11919af1e3a4edca4bfbcc53e0efbcd",
       "version_major": 2,
       "version_minor": 0
      },
      "text/plain": [
       "replaying log with TBR, completed variants ::   0%|          | 0/16 [00:00<?, ?it/s]"
      ]
     },
     "metadata": {},
     "output_type": "display_data"
    },
    {
     "data": {
      "application/vnd.jupyter.widget-view+json": {
       "model_id": "7d8187cccc2c491cac900cd3e3b0d754",
       "version_major": 2,
       "version_minor": 0
      },
      "text/plain": [
       "replaying log with TBR, completed variants ::   0%|          | 0/38 [00:00<?, ?it/s]"
      ]
     },
     "metadata": {},
     "output_type": "display_data"
    },
    {
     "data": {
      "application/vnd.jupyter.widget-view+json": {
       "model_id": "ce83d9ffb82649dba46c99688daa4d92",
       "version_major": 2,
       "version_minor": 0
      },
      "text/plain": [
       "replaying log with TBR, completed variants ::   0%|          | 0/3 [00:00<?, ?it/s]"
      ]
     },
     "metadata": {},
     "output_type": "display_data"
    },
    {
     "data": {
      "application/vnd.jupyter.widget-view+json": {
       "model_id": "e1e1eeb3463d4638854731f84be079e1",
       "version_major": 2,
       "version_minor": 0
      },
      "text/plain": [
       "replaying log with TBR, completed variants ::   0%|          | 0/3 [00:00<?, ?it/s]"
      ]
     },
     "metadata": {},
     "output_type": "display_data"
    },
    {
     "data": {
      "application/vnd.jupyter.widget-view+json": {
       "model_id": "9e4f9ad0141d473c89a2c5ccbab1c56a",
       "version_major": 2,
       "version_minor": 0
      },
      "text/plain": [
       "replaying log with TBR, completed variants ::   0%|          | 0/35 [00:00<?, ?it/s]"
      ]
     },
     "metadata": {},
     "output_type": "display_data"
    },
    {
     "data": {
      "application/vnd.jupyter.widget-view+json": {
       "model_id": "0367cfba3fc34c759bb29ddf7b84050e",
       "version_major": 2,
       "version_minor": 0
      },
      "text/plain": [
       "replaying log with TBR, completed variants ::   0%|          | 0/2 [00:00<?, ?it/s]"
      ]
     },
     "metadata": {},
     "output_type": "display_data"
    },
    {
     "data": {
      "application/vnd.jupyter.widget-view+json": {
       "model_id": "be27c09298eb421ba6217a30b9bc4843",
       "version_major": 2,
       "version_minor": 0
      },
      "text/plain": [
       "replaying log with TBR, completed variants ::   0%|          | 0/2 [00:00<?, ?it/s]"
      ]
     },
     "metadata": {},
     "output_type": "display_data"
    },
    {
     "data": {
      "application/vnd.jupyter.widget-view+json": {
       "model_id": "0cf6f47fa87a418ebe5e66ce18510e09",
       "version_major": 2,
       "version_minor": 0
      },
      "text/plain": [
       "replaying log with TBR, completed variants ::   0%|          | 0/11 [00:00<?, ?it/s]"
      ]
     },
     "metadata": {},
     "output_type": "display_data"
    },
    {
     "data": {
      "application/vnd.jupyter.widget-view+json": {
       "model_id": "9f85d53c0ad2419d83e9018add9766a3",
       "version_major": 2,
       "version_minor": 0
      },
      "text/plain": [
       "replaying log with TBR, completed variants ::   0%|          | 0/2 [00:00<?, ?it/s]"
      ]
     },
     "metadata": {},
     "output_type": "display_data"
    },
    {
     "data": {
      "application/vnd.jupyter.widget-view+json": {
       "model_id": "b58d07cb7a1042ecb51dbd3a3d5a640e",
       "version_major": 2,
       "version_minor": 0
      },
      "text/plain": [
       "replaying log with TBR, completed variants ::   0%|          | 0/2 [00:00<?, ?it/s]"
      ]
     },
     "metadata": {},
     "output_type": "display_data"
    },
    {
     "data": {
      "application/vnd.jupyter.widget-view+json": {
       "model_id": "aad4de52b90348b29c49c25457eae949",
       "version_major": 2,
       "version_minor": 0
      },
      "text/plain": [
       "replaying log with TBR, completed variants ::   0%|          | 0/7 [00:00<?, ?it/s]"
      ]
     },
     "metadata": {},
     "output_type": "display_data"
    },
    {
     "name": "stdout",
     "output_type": "stream",
     "text": [
      "eps: 1, delta: 0.001, prec: 0.15550044669609145, fit: 0.9344807124669554, gen: 0.13389925738272473\n"
     ]
    },
    {
     "data": {
      "application/vnd.jupyter.widget-view+json": {
       "model_id": "51d80b226a974da894227c762f028835",
       "version_major": 2,
       "version_minor": 0
      },
      "text/plain": [
       "replaying log with TBR, completed variants ::   0%|          | 0/2486 [00:00<?, ?it/s]"
      ]
     },
     "metadata": {},
     "output_type": "display_data"
    },
    {
     "data": {
      "application/vnd.jupyter.widget-view+json": {
       "model_id": "7c8b31fb4b234e119fdcf5a2c733d04b",
       "version_major": 2,
       "version_minor": 0
      },
      "text/plain": [
       "replaying log with TBR, completed variants ::   0%|          | 0/329 [00:00<?, ?it/s]"
      ]
     },
     "metadata": {},
     "output_type": "display_data"
    },
    {
     "data": {
      "application/vnd.jupyter.widget-view+json": {
       "model_id": "9fb9f7501b314480ace38e0dc12429fa",
       "version_major": 2,
       "version_minor": 0
      },
      "text/plain": [
       "replaying log with TBR, completed variants ::   0%|          | 0/329 [00:00<?, ?it/s]"
      ]
     },
     "metadata": {},
     "output_type": "display_data"
    },
    {
     "data": {
      "application/vnd.jupyter.widget-view+json": {
       "model_id": "607210caaad84e9eb21a7cbc4f863f8f",
       "version_major": 2,
       "version_minor": 0
      },
      "text/plain": [
       "replaying log with TBR, completed variants ::   0%|          | 0/2412 [00:00<?, ?it/s]"
      ]
     },
     "metadata": {},
     "output_type": "display_data"
    },
    {
     "data": {
      "application/vnd.jupyter.widget-view+json": {
       "model_id": "957862873b904478ac66bdcc52bac815",
       "version_major": 2,
       "version_minor": 0
      },
      "text/plain": [
       "replaying log with TBR, completed variants ::   0%|          | 0/323 [00:00<?, ?it/s]"
      ]
     },
     "metadata": {},
     "output_type": "display_data"
    },
    {
     "data": {
      "application/vnd.jupyter.widget-view+json": {
       "model_id": "b720cbae2abb4ff2a12da8d1f1b0ea87",
       "version_major": 2,
       "version_minor": 0
      },
      "text/plain": [
       "replaying log with TBR, completed variants ::   0%|          | 0/323 [00:00<?, ?it/s]"
      ]
     },
     "metadata": {},
     "output_type": "display_data"
    },
    {
     "data": {
      "application/vnd.jupyter.widget-view+json": {
       "model_id": "81cd0d22f40d42a2a3d91c1eba5a64e5",
       "version_major": 2,
       "version_minor": 0
      },
      "text/plain": [
       "replaying log with TBR, completed variants ::   0%|          | 0/2508 [00:00<?, ?it/s]"
      ]
     },
     "metadata": {},
     "output_type": "display_data"
    },
    {
     "data": {
      "application/vnd.jupyter.widget-view+json": {
       "model_id": "289088fdfbc2457d9069c8d8d274d847",
       "version_major": 2,
       "version_minor": 0
      },
      "text/plain": [
       "replaying log with TBR, completed variants ::   0%|          | 0/319 [00:00<?, ?it/s]"
      ]
     },
     "metadata": {},
     "output_type": "display_data"
    },
    {
     "data": {
      "application/vnd.jupyter.widget-view+json": {
       "model_id": "82ce8d16de394c07a7cff97b4f0b6142",
       "version_major": 2,
       "version_minor": 0
      },
      "text/plain": [
       "replaying log with TBR, completed variants ::   0%|          | 0/319 [00:00<?, ?it/s]"
      ]
     },
     "metadata": {},
     "output_type": "display_data"
    },
    {
     "data": {
      "application/vnd.jupyter.widget-view+json": {
       "model_id": "a87f7daa272c435587357f609f5f008e",
       "version_major": 2,
       "version_minor": 0
      },
      "text/plain": [
       "replaying log with TBR, completed variants ::   0%|          | 0/2488 [00:00<?, ?it/s]"
      ]
     },
     "metadata": {},
     "output_type": "display_data"
    },
    {
     "data": {
      "application/vnd.jupyter.widget-view+json": {
       "model_id": "cd6c13cf2c6d4fa0bf66cddf1f2b1472",
       "version_major": 2,
       "version_minor": 0
      },
      "text/plain": [
       "replaying log with TBR, completed variants ::   0%|          | 0/327 [00:00<?, ?it/s]"
      ]
     },
     "metadata": {},
     "output_type": "display_data"
    },
    {
     "data": {
      "application/vnd.jupyter.widget-view+json": {
       "model_id": "58a6681797164c258525ce1a5b2822c5",
       "version_major": 2,
       "version_minor": 0
      },
      "text/plain": [
       "replaying log with TBR, completed variants ::   0%|          | 0/327 [00:00<?, ?it/s]"
      ]
     },
     "metadata": {},
     "output_type": "display_data"
    },
    {
     "data": {
      "application/vnd.jupyter.widget-view+json": {
       "model_id": "45bd8a8b0e874fecbbdf8d636ff63c50",
       "version_major": 2,
       "version_minor": 0
      },
      "text/plain": [
       "replaying log with TBR, completed variants ::   0%|          | 0/2271 [00:00<?, ?it/s]"
      ]
     },
     "metadata": {},
     "output_type": "display_data"
    },
    {
     "data": {
      "application/vnd.jupyter.widget-view+json": {
       "model_id": "9e82d89e85b64e1d88eb49bb8186fcf7",
       "version_major": 2,
       "version_minor": 0
      },
      "text/plain": [
       "replaying log with TBR, completed variants ::   0%|          | 0/308 [00:00<?, ?it/s]"
      ]
     },
     "metadata": {},
     "output_type": "display_data"
    },
    {
     "data": {
      "application/vnd.jupyter.widget-view+json": {
       "model_id": "dc21828a69ba4e9887e236dc2c4b1f30",
       "version_major": 2,
       "version_minor": 0
      },
      "text/plain": [
       "replaying log with TBR, completed variants ::   0%|          | 0/308 [00:00<?, ?it/s]"
      ]
     },
     "metadata": {},
     "output_type": "display_data"
    },
    {
     "data": {
      "application/vnd.jupyter.widget-view+json": {
       "model_id": "4e3ea44c89f6466c8c6a425098767aa4",
       "version_major": 2,
       "version_minor": 0
      },
      "text/plain": [
       "replaying log with TBR, completed variants ::   0%|          | 0/2209 [00:00<?, ?it/s]"
      ]
     },
     "metadata": {},
     "output_type": "display_data"
    },
    {
     "data": {
      "application/vnd.jupyter.widget-view+json": {
       "model_id": "942c28f897384dc78d5c02f57a3f05c0",
       "version_major": 2,
       "version_minor": 0
      },
      "text/plain": [
       "replaying log with TBR, completed variants ::   0%|          | 0/309 [00:00<?, ?it/s]"
      ]
     },
     "metadata": {},
     "output_type": "display_data"
    },
    {
     "data": {
      "application/vnd.jupyter.widget-view+json": {
       "model_id": "0116537e07734bbc8695f4f82ea433a1",
       "version_major": 2,
       "version_minor": 0
      },
      "text/plain": [
       "replaying log with TBR, completed variants ::   0%|          | 0/309 [00:00<?, ?it/s]"
      ]
     },
     "metadata": {},
     "output_type": "display_data"
    },
    {
     "data": {
      "application/vnd.jupyter.widget-view+json": {
       "model_id": "de888c1505e94327afba4edd82f90e0c",
       "version_major": 2,
       "version_minor": 0
      },
      "text/plain": [
       "replaying log with TBR, completed variants ::   0%|          | 0/2244 [00:00<?, ?it/s]"
      ]
     },
     "metadata": {},
     "output_type": "display_data"
    },
    {
     "data": {
      "application/vnd.jupyter.widget-view+json": {
       "model_id": "815a1cc7a845457db006bfa4aaa28e10",
       "version_major": 2,
       "version_minor": 0
      },
      "text/plain": [
       "replaying log with TBR, completed variants ::   0%|          | 0/351 [00:00<?, ?it/s]"
      ]
     },
     "metadata": {},
     "output_type": "display_data"
    },
    {
     "data": {
      "application/vnd.jupyter.widget-view+json": {
       "model_id": "833a11f32be54431bd724770bc9d891e",
       "version_major": 2,
       "version_minor": 0
      },
      "text/plain": [
       "replaying log with TBR, completed variants ::   0%|          | 0/351 [00:00<?, ?it/s]"
      ]
     },
     "metadata": {},
     "output_type": "display_data"
    },
    {
     "data": {
      "application/vnd.jupyter.widget-view+json": {
       "model_id": "e0c5c318f83645be89a89d4a5818b14a",
       "version_major": 2,
       "version_minor": 0
      },
      "text/plain": [
       "replaying log with TBR, completed variants ::   0%|          | 0/2391 [00:00<?, ?it/s]"
      ]
     },
     "metadata": {},
     "output_type": "display_data"
    },
    {
     "data": {
      "application/vnd.jupyter.widget-view+json": {
       "model_id": "aa1bab0e132a4bb19f8d7d01abfebc39",
       "version_major": 2,
       "version_minor": 0
      },
      "text/plain": [
       "replaying log with TBR, completed variants ::   0%|          | 0/317 [00:00<?, ?it/s]"
      ]
     },
     "metadata": {},
     "output_type": "display_data"
    },
    {
     "data": {
      "application/vnd.jupyter.widget-view+json": {
       "model_id": "200294339e41468a9f0ab21bbccc478a",
       "version_major": 2,
       "version_minor": 0
      },
      "text/plain": [
       "replaying log with TBR, completed variants ::   0%|          | 0/317 [00:00<?, ?it/s]"
      ]
     },
     "metadata": {},
     "output_type": "display_data"
    },
    {
     "data": {
      "application/vnd.jupyter.widget-view+json": {
       "model_id": "4ec009e63b214e2396c53c202ecdf14b",
       "version_major": 2,
       "version_minor": 0
      },
      "text/plain": [
       "replaying log with TBR, completed variants ::   0%|          | 0/2437 [00:00<?, ?it/s]"
      ]
     },
     "metadata": {},
     "output_type": "display_data"
    },
    {
     "data": {
      "application/vnd.jupyter.widget-view+json": {
       "model_id": "93b1eba1ac514fe9a13dde5ff8c3cf2d",
       "version_major": 2,
       "version_minor": 0
      },
      "text/plain": [
       "replaying log with TBR, completed variants ::   0%|          | 0/317 [00:00<?, ?it/s]"
      ]
     },
     "metadata": {},
     "output_type": "display_data"
    },
    {
     "data": {
      "application/vnd.jupyter.widget-view+json": {
       "model_id": "1bca8830d0f6478796ea52e88b269525",
       "version_major": 2,
       "version_minor": 0
      },
      "text/plain": [
       "replaying log with TBR, completed variants ::   0%|          | 0/317 [00:00<?, ?it/s]"
      ]
     },
     "metadata": {},
     "output_type": "display_data"
    },
    {
     "data": {
      "application/vnd.jupyter.widget-view+json": {
       "model_id": "887b0140a04e47dba9e8c1ca4a74d414",
       "version_major": 2,
       "version_minor": 0
      },
      "text/plain": [
       "replaying log with TBR, completed variants ::   0%|          | 0/2603 [00:00<?, ?it/s]"
      ]
     },
     "metadata": {},
     "output_type": "display_data"
    },
    {
     "data": {
      "application/vnd.jupyter.widget-view+json": {
       "model_id": "7e9afbdc7d5c49cea057ee88bb3e54bc",
       "version_major": 2,
       "version_minor": 0
      },
      "text/plain": [
       "replaying log with TBR, completed variants ::   0%|          | 0/341 [00:00<?, ?it/s]"
      ]
     },
     "metadata": {},
     "output_type": "display_data"
    },
    {
     "data": {
      "application/vnd.jupyter.widget-view+json": {
       "model_id": "2660567f5f214fb4afd71e485b3328a5",
       "version_major": 2,
       "version_minor": 0
      },
      "text/plain": [
       "replaying log with TBR, completed variants ::   0%|          | 0/341 [00:00<?, ?it/s]"
      ]
     },
     "metadata": {},
     "output_type": "display_data"
    },
    {
     "name": "stdout",
     "output_type": "stream",
     "text": [
      "eps: 0.1, delta: 0.5, prec: 0.4477796863858942, fit: 0.9514081375845518, gen: 0.934352633192912\n"
     ]
    },
    {
     "data": {
      "application/vnd.jupyter.widget-view+json": {
       "model_id": "a3cd6f44665d48fda44ee909c65164d1",
       "version_major": 2,
       "version_minor": 0
      },
      "text/plain": [
       "replaying log with TBR, completed variants ::   0%|          | 0/921 [00:00<?, ?it/s]"
      ]
     },
     "metadata": {},
     "output_type": "display_data"
    },
    {
     "data": {
      "application/vnd.jupyter.widget-view+json": {
       "model_id": "c596625194de40c28e4c927b7737b553",
       "version_major": 2,
       "version_minor": 0
      },
      "text/plain": [
       "replaying log with TBR, completed variants ::   0%|          | 0/95 [00:00<?, ?it/s]"
      ]
     },
     "metadata": {},
     "output_type": "display_data"
    },
    {
     "data": {
      "application/vnd.jupyter.widget-view+json": {
       "model_id": "d7b6c9e0835441068b839095d336ac5a",
       "version_major": 2,
       "version_minor": 0
      },
      "text/plain": [
       "replaying log with TBR, completed variants ::   0%|          | 0/95 [00:00<?, ?it/s]"
      ]
     },
     "metadata": {},
     "output_type": "display_data"
    },
    {
     "data": {
      "application/vnd.jupyter.widget-view+json": {
       "model_id": "402c6ad09df84b3d9d00ab3e0259a1f1",
       "version_major": 2,
       "version_minor": 0
      },
      "text/plain": [
       "replaying log with TBR, completed variants ::   0%|          | 0/756 [00:00<?, ?it/s]"
      ]
     },
     "metadata": {},
     "output_type": "display_data"
    },
    {
     "data": {
      "application/vnd.jupyter.widget-view+json": {
       "model_id": "d8e9f17d17644d34b44711f49dc9549d",
       "version_major": 2,
       "version_minor": 0
      },
      "text/plain": [
       "replaying log with TBR, completed variants ::   0%|          | 0/93 [00:00<?, ?it/s]"
      ]
     },
     "metadata": {},
     "output_type": "display_data"
    },
    {
     "data": {
      "application/vnd.jupyter.widget-view+json": {
       "model_id": "36375ecbbf6b4db9828c5c0ede5f0dcd",
       "version_major": 2,
       "version_minor": 0
      },
      "text/plain": [
       "replaying log with TBR, completed variants ::   0%|          | 0/93 [00:00<?, ?it/s]"
      ]
     },
     "metadata": {},
     "output_type": "display_data"
    },
    {
     "data": {
      "application/vnd.jupyter.widget-view+json": {
       "model_id": "53accde1473f41c69e4b8dff015bb85f",
       "version_major": 2,
       "version_minor": 0
      },
      "text/plain": [
       "replaying log with TBR, completed variants ::   0%|          | 0/918 [00:00<?, ?it/s]"
      ]
     },
     "metadata": {},
     "output_type": "display_data"
    },
    {
     "data": {
      "application/vnd.jupyter.widget-view+json": {
       "model_id": "98ed4f4b9b7142ca8cd758725b0f5807",
       "version_major": 2,
       "version_minor": 0
      },
      "text/plain": [
       "replaying log with TBR, completed variants ::   0%|          | 0/110 [00:00<?, ?it/s]"
      ]
     },
     "metadata": {},
     "output_type": "display_data"
    },
    {
     "data": {
      "application/vnd.jupyter.widget-view+json": {
       "model_id": "7a852f9f9e604355805033a5e1001c7d",
       "version_major": 2,
       "version_minor": 0
      },
      "text/plain": [
       "replaying log with TBR, completed variants ::   0%|          | 0/110 [00:00<?, ?it/s]"
      ]
     },
     "metadata": {},
     "output_type": "display_data"
    },
    {
     "data": {
      "application/vnd.jupyter.widget-view+json": {
       "model_id": "469db585fece4b04936c348b619dbe56",
       "version_major": 2,
       "version_minor": 0
      },
      "text/plain": [
       "replaying log with TBR, completed variants ::   0%|          | 0/625 [00:00<?, ?it/s]"
      ]
     },
     "metadata": {},
     "output_type": "display_data"
    },
    {
     "data": {
      "application/vnd.jupyter.widget-view+json": {
       "model_id": "0b6f7b1c1f674aa59ce92018d9c18a2b",
       "version_major": 2,
       "version_minor": 0
      },
      "text/plain": [
       "replaying log with TBR, completed variants ::   0%|          | 0/80 [00:00<?, ?it/s]"
      ]
     },
     "metadata": {},
     "output_type": "display_data"
    },
    {
     "data": {
      "application/vnd.jupyter.widget-view+json": {
       "model_id": "2b45415a53d7416ba9f366f840c72099",
       "version_major": 2,
       "version_minor": 0
      },
      "text/plain": [
       "replaying log with TBR, completed variants ::   0%|          | 0/80 [00:00<?, ?it/s]"
      ]
     },
     "metadata": {},
     "output_type": "display_data"
    },
    {
     "data": {
      "application/vnd.jupyter.widget-view+json": {
       "model_id": "1c1af3cf94524621b8b8d831107f456e",
       "version_major": 2,
       "version_minor": 0
      },
      "text/plain": [
       "replaying log with TBR, completed variants ::   0%|          | 0/786 [00:00<?, ?it/s]"
      ]
     },
     "metadata": {},
     "output_type": "display_data"
    },
    {
     "data": {
      "application/vnd.jupyter.widget-view+json": {
       "model_id": "c3066e21b28c43d8bfa79abb3f78a2be",
       "version_major": 2,
       "version_minor": 0
      },
      "text/plain": [
       "replaying log with TBR, completed variants ::   0%|          | 0/101 [00:00<?, ?it/s]"
      ]
     },
     "metadata": {},
     "output_type": "display_data"
    },
    {
     "data": {
      "application/vnd.jupyter.widget-view+json": {
       "model_id": "46466f0f09fb4496aba27b9961c86fce",
       "version_major": 2,
       "version_minor": 0
      },
      "text/plain": [
       "replaying log with TBR, completed variants ::   0%|          | 0/101 [00:00<?, ?it/s]"
      ]
     },
     "metadata": {},
     "output_type": "display_data"
    },
    {
     "data": {
      "application/vnd.jupyter.widget-view+json": {
       "model_id": "074e047b5ba546c4aff3a6fed9c5fd38",
       "version_major": 2,
       "version_minor": 0
      },
      "text/plain": [
       "replaying log with TBR, completed variants ::   0%|          | 0/700 [00:00<?, ?it/s]"
      ]
     },
     "metadata": {},
     "output_type": "display_data"
    },
    {
     "data": {
      "application/vnd.jupyter.widget-view+json": {
       "model_id": "2e951ae9183a4f3d8b90c67a7c40aeeb",
       "version_major": 2,
       "version_minor": 0
      },
      "text/plain": [
       "replaying log with TBR, completed variants ::   0%|          | 0/98 [00:00<?, ?it/s]"
      ]
     },
     "metadata": {},
     "output_type": "display_data"
    },
    {
     "data": {
      "application/vnd.jupyter.widget-view+json": {
       "model_id": "ba00509664a5406a859e6ff51bd0dbb1",
       "version_major": 2,
       "version_minor": 0
      },
      "text/plain": [
       "replaying log with TBR, completed variants ::   0%|          | 0/98 [00:00<?, ?it/s]"
      ]
     },
     "metadata": {},
     "output_type": "display_data"
    },
    {
     "data": {
      "application/vnd.jupyter.widget-view+json": {
       "model_id": "4806295eeedc456b9b809edfdff03f72",
       "version_major": 2,
       "version_minor": 0
      },
      "text/plain": [
       "replaying log with TBR, completed variants ::   0%|          | 0/665 [00:00<?, ?it/s]"
      ]
     },
     "metadata": {},
     "output_type": "display_data"
    },
    {
     "data": {
      "application/vnd.jupyter.widget-view+json": {
       "model_id": "6d8882c65b334e5d93b4e7a6937f9a8d",
       "version_major": 2,
       "version_minor": 0
      },
      "text/plain": [
       "replaying log with TBR, completed variants ::   0%|          | 0/98 [00:00<?, ?it/s]"
      ]
     },
     "metadata": {},
     "output_type": "display_data"
    },
    {
     "data": {
      "application/vnd.jupyter.widget-view+json": {
       "model_id": "b30766ab542e43e99165126828bb642c",
       "version_major": 2,
       "version_minor": 0
      },
      "text/plain": [
       "replaying log with TBR, completed variants ::   0%|          | 0/98 [00:00<?, ?it/s]"
      ]
     },
     "metadata": {},
     "output_type": "display_data"
    },
    {
     "data": {
      "application/vnd.jupyter.widget-view+json": {
       "model_id": "2bc9cadefa044f06b357dc29b03c0eb7",
       "version_major": 2,
       "version_minor": 0
      },
      "text/plain": [
       "replaying log with TBR, completed variants ::   0%|          | 0/743 [00:00<?, ?it/s]"
      ]
     },
     "metadata": {},
     "output_type": "display_data"
    },
    {
     "data": {
      "application/vnd.jupyter.widget-view+json": {
       "model_id": "8b46e9ff5cd3488eb5cb4d26faaf9816",
       "version_major": 2,
       "version_minor": 0
      },
      "text/plain": [
       "replaying log with TBR, completed variants ::   0%|          | 0/85 [00:00<?, ?it/s]"
      ]
     },
     "metadata": {},
     "output_type": "display_data"
    },
    {
     "data": {
      "application/vnd.jupyter.widget-view+json": {
       "model_id": "bc62c986904349ceaa51da6ece9ceb34",
       "version_major": 2,
       "version_minor": 0
      },
      "text/plain": [
       "replaying log with TBR, completed variants ::   0%|          | 0/85 [00:00<?, ?it/s]"
      ]
     },
     "metadata": {},
     "output_type": "display_data"
    },
    {
     "data": {
      "application/vnd.jupyter.widget-view+json": {
       "model_id": "5c2ed55d39f942bd958b07e5479310bd",
       "version_major": 2,
       "version_minor": 0
      },
      "text/plain": [
       "replaying log with TBR, completed variants ::   0%|          | 0/840 [00:00<?, ?it/s]"
      ]
     },
     "metadata": {},
     "output_type": "display_data"
    },
    {
     "data": {
      "application/vnd.jupyter.widget-view+json": {
       "model_id": "5ccb12cfd5e14beb86051ca8cd053bd9",
       "version_major": 2,
       "version_minor": 0
      },
      "text/plain": [
       "replaying log with TBR, completed variants ::   0%|          | 0/96 [00:00<?, ?it/s]"
      ]
     },
     "metadata": {},
     "output_type": "display_data"
    },
    {
     "data": {
      "application/vnd.jupyter.widget-view+json": {
       "model_id": "7c6878cbbd2144df8c9e6438f6070bda",
       "version_major": 2,
       "version_minor": 0
      },
      "text/plain": [
       "replaying log with TBR, completed variants ::   0%|          | 0/96 [00:00<?, ?it/s]"
      ]
     },
     "metadata": {},
     "output_type": "display_data"
    },
    {
     "data": {
      "application/vnd.jupyter.widget-view+json": {
       "model_id": "da9dbf0db55e41168abe9b1b38f68301",
       "version_major": 2,
       "version_minor": 0
      },
      "text/plain": [
       "replaying log with TBR, completed variants ::   0%|          | 0/984 [00:00<?, ?it/s]"
      ]
     },
     "metadata": {},
     "output_type": "display_data"
    },
    {
     "data": {
      "application/vnd.jupyter.widget-view+json": {
       "model_id": "dfb51888784f4edca1becf0a89b595f9",
       "version_major": 2,
       "version_minor": 0
      },
      "text/plain": [
       "replaying log with TBR, completed variants ::   0%|          | 0/99 [00:00<?, ?it/s]"
      ]
     },
     "metadata": {},
     "output_type": "display_data"
    },
    {
     "data": {
      "application/vnd.jupyter.widget-view+json": {
       "model_id": "e040a7ba025742c99014a6580fd774bf",
       "version_major": 2,
       "version_minor": 0
      },
      "text/plain": [
       "replaying log with TBR, completed variants ::   0%|          | 0/99 [00:00<?, ?it/s]"
      ]
     },
     "metadata": {},
     "output_type": "display_data"
    },
    {
     "name": "stdout",
     "output_type": "stream",
     "text": [
      "eps: 0.1, delta: 0.1, prec: 0.38301283898561544, fit: 0.9547354012765238, gen: 0.873487453202857\n"
     ]
    },
    {
     "data": {
      "application/vnd.jupyter.widget-view+json": {
       "model_id": "22f1df13846343adb75e6cd9c0188b82",
       "version_major": 2,
       "version_minor": 0
      },
      "text/plain": [
       "replaying log with TBR, completed variants ::   0%|          | 0/496 [00:00<?, ?it/s]"
      ]
     },
     "metadata": {},
     "output_type": "display_data"
    },
    {
     "data": {
      "application/vnd.jupyter.widget-view+json": {
       "model_id": "9f58cea6486f49c0bb4e59ceb60bcbe2",
       "version_major": 2,
       "version_minor": 0
      },
      "text/plain": [
       "replaying log with TBR, completed variants ::   0%|          | 0/56 [00:00<?, ?it/s]"
      ]
     },
     "metadata": {},
     "output_type": "display_data"
    },
    {
     "data": {
      "application/vnd.jupyter.widget-view+json": {
       "model_id": "855ebc08c90743c0aca0ec730748217c",
       "version_major": 2,
       "version_minor": 0
      },
      "text/plain": [
       "replaying log with TBR, completed variants ::   0%|          | 0/56 [00:00<?, ?it/s]"
      ]
     },
     "metadata": {},
     "output_type": "display_data"
    },
    {
     "data": {
      "application/vnd.jupyter.widget-view+json": {
       "model_id": "41e7ca3fc145424f8145f1e0d0dc75ed",
       "version_major": 2,
       "version_minor": 0
      },
      "text/plain": [
       "replaying log with TBR, completed variants ::   0%|          | 0/448 [00:00<?, ?it/s]"
      ]
     },
     "metadata": {},
     "output_type": "display_data"
    },
    {
     "data": {
      "application/vnd.jupyter.widget-view+json": {
       "model_id": "ebd17944fc5b405387befde2e33935f9",
       "version_major": 2,
       "version_minor": 0
      },
      "text/plain": [
       "replaying log with TBR, completed variants ::   0%|          | 0/53 [00:00<?, ?it/s]"
      ]
     },
     "metadata": {},
     "output_type": "display_data"
    },
    {
     "data": {
      "application/vnd.jupyter.widget-view+json": {
       "model_id": "55afbd649e1043c68f87651382025f8b",
       "version_major": 2,
       "version_minor": 0
      },
      "text/plain": [
       "replaying log with TBR, completed variants ::   0%|          | 0/53 [00:00<?, ?it/s]"
      ]
     },
     "metadata": {},
     "output_type": "display_data"
    },
    {
     "data": {
      "application/vnd.jupyter.widget-view+json": {
       "model_id": "e863442a1c43427e8c6fb59967d3630f",
       "version_major": 2,
       "version_minor": 0
      },
      "text/plain": [
       "replaying log with TBR, completed variants ::   0%|          | 0/474 [00:00<?, ?it/s]"
      ]
     },
     "metadata": {},
     "output_type": "display_data"
    },
    {
     "data": {
      "application/vnd.jupyter.widget-view+json": {
       "model_id": "2e4f5b34d2f047759df74563f910b2b3",
       "version_major": 2,
       "version_minor": 0
      },
      "text/plain": [
       "replaying log with TBR, completed variants ::   0%|          | 0/58 [00:00<?, ?it/s]"
      ]
     },
     "metadata": {},
     "output_type": "display_data"
    },
    {
     "data": {
      "application/vnd.jupyter.widget-view+json": {
       "model_id": "3463ca6daf014f0682993ca2aec42c83",
       "version_major": 2,
       "version_minor": 0
      },
      "text/plain": [
       "replaying log with TBR, completed variants ::   0%|          | 0/58 [00:00<?, ?it/s]"
      ]
     },
     "metadata": {},
     "output_type": "display_data"
    },
    {
     "data": {
      "application/vnd.jupyter.widget-view+json": {
       "model_id": "f26a6bf93bc5406896b3bbdeddda2fb6",
       "version_major": 2,
       "version_minor": 0
      },
      "text/plain": [
       "replaying log with TBR, completed variants ::   0%|          | 0/397 [00:00<?, ?it/s]"
      ]
     },
     "metadata": {},
     "output_type": "display_data"
    },
    {
     "data": {
      "application/vnd.jupyter.widget-view+json": {
       "model_id": "dd692a977da44c5e9f9bee9c505e5f63",
       "version_major": 2,
       "version_minor": 0
      },
      "text/plain": [
       "replaying log with TBR, completed variants ::   0%|          | 0/47 [00:00<?, ?it/s]"
      ]
     },
     "metadata": {},
     "output_type": "display_data"
    },
    {
     "data": {
      "application/vnd.jupyter.widget-view+json": {
       "model_id": "a386bcd875cc4b628d84b1e2da2e4899",
       "version_major": 2,
       "version_minor": 0
      },
      "text/plain": [
       "replaying log with TBR, completed variants ::   0%|          | 0/47 [00:00<?, ?it/s]"
      ]
     },
     "metadata": {},
     "output_type": "display_data"
    },
    {
     "data": {
      "application/vnd.jupyter.widget-view+json": {
       "model_id": "2b051cc23c60488a904546f334cfbada",
       "version_major": 2,
       "version_minor": 0
      },
      "text/plain": [
       "replaying log with TBR, completed variants ::   0%|          | 0/422 [00:00<?, ?it/s]"
      ]
     },
     "metadata": {},
     "output_type": "display_data"
    },
    {
     "data": {
      "application/vnd.jupyter.widget-view+json": {
       "model_id": "f73286ac10b04495b742448ed20f52ef",
       "version_major": 2,
       "version_minor": 0
      },
      "text/plain": [
       "replaying log with TBR, completed variants ::   0%|          | 0/47 [00:00<?, ?it/s]"
      ]
     },
     "metadata": {},
     "output_type": "display_data"
    },
    {
     "data": {
      "application/vnd.jupyter.widget-view+json": {
       "model_id": "15b124b9c8574e2281c82aae9bd871d5",
       "version_major": 2,
       "version_minor": 0
      },
      "text/plain": [
       "replaying log with TBR, completed variants ::   0%|          | 0/47 [00:00<?, ?it/s]"
      ]
     },
     "metadata": {},
     "output_type": "display_data"
    },
    {
     "data": {
      "application/vnd.jupyter.widget-view+json": {
       "model_id": "4a5b6582d2c24743839db4251e3f6fbc",
       "version_major": 2,
       "version_minor": 0
      },
      "text/plain": [
       "replaying log with TBR, completed variants ::   0%|          | 0/325 [00:00<?, ?it/s]"
      ]
     },
     "metadata": {},
     "output_type": "display_data"
    },
    {
     "data": {
      "application/vnd.jupyter.widget-view+json": {
       "model_id": "de0ff4bbef0748c89e580d2d877fe056",
       "version_major": 2,
       "version_minor": 0
      },
      "text/plain": [
       "replaying log with TBR, completed variants ::   0%|          | 0/52 [00:00<?, ?it/s]"
      ]
     },
     "metadata": {},
     "output_type": "display_data"
    },
    {
     "data": {
      "application/vnd.jupyter.widget-view+json": {
       "model_id": "0dca3a6176e64b4da29e20f3d1723bd8",
       "version_major": 2,
       "version_minor": 0
      },
      "text/plain": [
       "replaying log with TBR, completed variants ::   0%|          | 0/52 [00:00<?, ?it/s]"
      ]
     },
     "metadata": {},
     "output_type": "display_data"
    },
    {
     "data": {
      "application/vnd.jupyter.widget-view+json": {
       "model_id": "c0d2d19c169f4cf4ba16887e843cbd75",
       "version_major": 2,
       "version_minor": 0
      },
      "text/plain": [
       "replaying log with TBR, completed variants ::   0%|          | 0/463 [00:00<?, ?it/s]"
      ]
     },
     "metadata": {},
     "output_type": "display_data"
    },
    {
     "data": {
      "application/vnd.jupyter.widget-view+json": {
       "model_id": "9d70f6bf789448a791fbdc29d5e50d71",
       "version_major": 2,
       "version_minor": 0
      },
      "text/plain": [
       "replaying log with TBR, completed variants ::   0%|          | 0/57 [00:00<?, ?it/s]"
      ]
     },
     "metadata": {},
     "output_type": "display_data"
    },
    {
     "data": {
      "application/vnd.jupyter.widget-view+json": {
       "model_id": "edfb418384a248d181cea16897bad80c",
       "version_major": 2,
       "version_minor": 0
      },
      "text/plain": [
       "replaying log with TBR, completed variants ::   0%|          | 0/57 [00:00<?, ?it/s]"
      ]
     },
     "metadata": {},
     "output_type": "display_data"
    },
    {
     "data": {
      "application/vnd.jupyter.widget-view+json": {
       "model_id": "5e58782f445d4e73a04ff22514c83751",
       "version_major": 2,
       "version_minor": 0
      },
      "text/plain": [
       "replaying log with TBR, completed variants ::   0%|          | 0/469 [00:00<?, ?it/s]"
      ]
     },
     "metadata": {},
     "output_type": "display_data"
    },
    {
     "data": {
      "application/vnd.jupyter.widget-view+json": {
       "model_id": "d1c97249f7cb49ef864deb3cfbf4734a",
       "version_major": 2,
       "version_minor": 0
      },
      "text/plain": [
       "replaying log with TBR, completed variants ::   0%|          | 0/53 [00:00<?, ?it/s]"
      ]
     },
     "metadata": {},
     "output_type": "display_data"
    },
    {
     "data": {
      "application/vnd.jupyter.widget-view+json": {
       "model_id": "1afd2692881c496f94f227e54c3cfacd",
       "version_major": 2,
       "version_minor": 0
      },
      "text/plain": [
       "replaying log with TBR, completed variants ::   0%|          | 0/53 [00:00<?, ?it/s]"
      ]
     },
     "metadata": {},
     "output_type": "display_data"
    },
    {
     "data": {
      "application/vnd.jupyter.widget-view+json": {
       "model_id": "b9c640f2e9654994a29ed0a5c2d2daa8",
       "version_major": 2,
       "version_minor": 0
      },
      "text/plain": [
       "replaying log with TBR, completed variants ::   0%|          | 0/321 [00:00<?, ?it/s]"
      ]
     },
     "metadata": {},
     "output_type": "display_data"
    },
    {
     "data": {
      "application/vnd.jupyter.widget-view+json": {
       "model_id": "3830bfbd49ce45e3918478e7d85358db",
       "version_major": 2,
       "version_minor": 0
      },
      "text/plain": [
       "replaying log with TBR, completed variants ::   0%|          | 0/44 [00:00<?, ?it/s]"
      ]
     },
     "metadata": {},
     "output_type": "display_data"
    },
    {
     "data": {
      "application/vnd.jupyter.widget-view+json": {
       "model_id": "067a580928154bd38f9276c16269e0e9",
       "version_major": 2,
       "version_minor": 0
      },
      "text/plain": [
       "replaying log with TBR, completed variants ::   0%|          | 0/44 [00:00<?, ?it/s]"
      ]
     },
     "metadata": {},
     "output_type": "display_data"
    },
    {
     "data": {
      "application/vnd.jupyter.widget-view+json": {
       "model_id": "6d475f70cbf1468f8928b0ebb76e4522",
       "version_major": 2,
       "version_minor": 0
      },
      "text/plain": [
       "replaying log with TBR, completed variants ::   0%|          | 0/451 [00:00<?, ?it/s]"
      ]
     },
     "metadata": {},
     "output_type": "display_data"
    },
    {
     "data": {
      "application/vnd.jupyter.widget-view+json": {
       "model_id": "29ad41f55f1b47bf91e7dcc1b07be73f",
       "version_major": 2,
       "version_minor": 0
      },
      "text/plain": [
       "replaying log with TBR, completed variants ::   0%|          | 0/60 [00:00<?, ?it/s]"
      ]
     },
     "metadata": {},
     "output_type": "display_data"
    },
    {
     "data": {
      "application/vnd.jupyter.widget-view+json": {
       "model_id": "4a27682f16164735badd98326057a292",
       "version_major": 2,
       "version_minor": 0
      },
      "text/plain": [
       "replaying log with TBR, completed variants ::   0%|          | 0/60 [00:00<?, ?it/s]"
      ]
     },
     "metadata": {},
     "output_type": "display_data"
    },
    {
     "name": "stdout",
     "output_type": "stream",
     "text": [
      "eps: 0.1, delta: 0.05, prec: 0.3393087147364547, fit: 0.9527683498526495, gen: 0.8219001307521265\n"
     ]
    },
    {
     "data": {
      "application/vnd.jupyter.widget-view+json": {
       "model_id": "dec081116b1b458e9a9920fa163dc35a",
       "version_major": 2,
       "version_minor": 0
      },
      "text/plain": [
       "replaying log with TBR, completed variants ::   0%|          | 0/106 [00:00<?, ?it/s]"
      ]
     },
     "metadata": {},
     "output_type": "display_data"
    },
    {
     "data": {
      "application/vnd.jupyter.widget-view+json": {
       "model_id": "17e5815fcbc1456094d6158b5afdb37b",
       "version_major": 2,
       "version_minor": 0
      },
      "text/plain": [
       "replaying log with TBR, completed variants ::   0%|          | 0/12 [00:00<?, ?it/s]"
      ]
     },
     "metadata": {},
     "output_type": "display_data"
    },
    {
     "data": {
      "application/vnd.jupyter.widget-view+json": {
       "model_id": "faf0098a09fe45abb7e0e8b8974cea68",
       "version_major": 2,
       "version_minor": 0
      },
      "text/plain": [
       "replaying log with TBR, completed variants ::   0%|          | 0/12 [00:00<?, ?it/s]"
      ]
     },
     "metadata": {},
     "output_type": "display_data"
    },
    {
     "data": {
      "application/vnd.jupyter.widget-view+json": {
       "model_id": "385b1fdbf5394a238243046370ab4b35",
       "version_major": 2,
       "version_minor": 0
      },
      "text/plain": [
       "replaying log with TBR, completed variants ::   0%|          | 0/83 [00:00<?, ?it/s]"
      ]
     },
     "metadata": {},
     "output_type": "display_data"
    },
    {
     "data": {
      "application/vnd.jupyter.widget-view+json": {
       "model_id": "39c0845b4dcd431eb3a57f54530d333d",
       "version_major": 2,
       "version_minor": 0
      },
      "text/plain": [
       "replaying log with TBR, completed variants ::   0%|          | 0/10 [00:00<?, ?it/s]"
      ]
     },
     "metadata": {},
     "output_type": "display_data"
    },
    {
     "data": {
      "application/vnd.jupyter.widget-view+json": {
       "model_id": "f02458d5c27f47f6a13ba7a1e367c4cc",
       "version_major": 2,
       "version_minor": 0
      },
      "text/plain": [
       "replaying log with TBR, completed variants ::   0%|          | 0/10 [00:00<?, ?it/s]"
      ]
     },
     "metadata": {},
     "output_type": "display_data"
    },
    {
     "data": {
      "application/vnd.jupyter.widget-view+json": {
       "model_id": "6c324f7faa524d41a86d8169778fae62",
       "version_major": 2,
       "version_minor": 0
      },
      "text/plain": [
       "replaying log with TBR, completed variants ::   0%|          | 0/135 [00:00<?, ?it/s]"
      ]
     },
     "metadata": {},
     "output_type": "display_data"
    },
    {
     "data": {
      "application/vnd.jupyter.widget-view+json": {
       "model_id": "2c5d8ee9c4f04977a8d8cca7de2ecd00",
       "version_major": 2,
       "version_minor": 0
      },
      "text/plain": [
       "replaying log with TBR, completed variants ::   0%|          | 0/13 [00:00<?, ?it/s]"
      ]
     },
     "metadata": {},
     "output_type": "display_data"
    },
    {
     "data": {
      "application/vnd.jupyter.widget-view+json": {
       "model_id": "73cf48a1ab784505b2397c3663149d04",
       "version_major": 2,
       "version_minor": 0
      },
      "text/plain": [
       "replaying log with TBR, completed variants ::   0%|          | 0/13 [00:00<?, ?it/s]"
      ]
     },
     "metadata": {},
     "output_type": "display_data"
    },
    {
     "data": {
      "application/vnd.jupyter.widget-view+json": {
       "model_id": "5fca0c8aec33494e81a2dc320d52cfab",
       "version_major": 2,
       "version_minor": 0
      },
      "text/plain": [
       "replaying log with TBR, completed variants ::   0%|          | 0/66 [00:00<?, ?it/s]"
      ]
     },
     "metadata": {},
     "output_type": "display_data"
    },
    {
     "data": {
      "application/vnd.jupyter.widget-view+json": {
       "model_id": "d16b22e1ddaf44979f939a7b6e5fc950",
       "version_major": 2,
       "version_minor": 0
      },
      "text/plain": [
       "replaying log with TBR, completed variants ::   0%|          | 0/9 [00:00<?, ?it/s]"
      ]
     },
     "metadata": {},
     "output_type": "display_data"
    },
    {
     "data": {
      "application/vnd.jupyter.widget-view+json": {
       "model_id": "f21aa18af370418d8ef8086ac28c3d45",
       "version_major": 2,
       "version_minor": 0
      },
      "text/plain": [
       "replaying log with TBR, completed variants ::   0%|          | 0/9 [00:00<?, ?it/s]"
      ]
     },
     "metadata": {},
     "output_type": "display_data"
    },
    {
     "data": {
      "application/vnd.jupyter.widget-view+json": {
       "model_id": "81e1a969d3e44a24bc548ab1e01e788a",
       "version_major": 2,
       "version_minor": 0
      },
      "text/plain": [
       "replaying log with TBR, completed variants ::   0%|          | 0/109 [00:00<?, ?it/s]"
      ]
     },
     "metadata": {},
     "output_type": "display_data"
    },
    {
     "data": {
      "application/vnd.jupyter.widget-view+json": {
       "model_id": "43360e7231014fc7ac3fbce3883473c5",
       "version_major": 2,
       "version_minor": 0
      },
      "text/plain": [
       "replaying log with TBR, completed variants ::   0%|          | 0/10 [00:00<?, ?it/s]"
      ]
     },
     "metadata": {},
     "output_type": "display_data"
    },
    {
     "data": {
      "application/vnd.jupyter.widget-view+json": {
       "model_id": "b4e2ead38b514ba7af7189cc5e7abfe0",
       "version_major": 2,
       "version_minor": 0
      },
      "text/plain": [
       "replaying log with TBR, completed variants ::   0%|          | 0/10 [00:00<?, ?it/s]"
      ]
     },
     "metadata": {},
     "output_type": "display_data"
    },
    {
     "data": {
      "application/vnd.jupyter.widget-view+json": {
       "model_id": "5646a7d35b264fc398e04cee52ee406e",
       "version_major": 2,
       "version_minor": 0
      },
      "text/plain": [
       "replaying log with TBR, completed variants ::   0%|          | 0/183 [00:00<?, ?it/s]"
      ]
     },
     "metadata": {},
     "output_type": "display_data"
    },
    {
     "data": {
      "application/vnd.jupyter.widget-view+json": {
       "model_id": "ecbacef0670d4bad82a60f08c637fe80",
       "version_major": 2,
       "version_minor": 0
      },
      "text/plain": [
       "replaying log with TBR, completed variants ::   0%|          | 0/15 [00:00<?, ?it/s]"
      ]
     },
     "metadata": {},
     "output_type": "display_data"
    },
    {
     "data": {
      "application/vnd.jupyter.widget-view+json": {
       "model_id": "67665cd64a8d46d6b8d9eb5ffdcb2fd1",
       "version_major": 2,
       "version_minor": 0
      },
      "text/plain": [
       "replaying log with TBR, completed variants ::   0%|          | 0/15 [00:00<?, ?it/s]"
      ]
     },
     "metadata": {},
     "output_type": "display_data"
    },
    {
     "data": {
      "application/vnd.jupyter.widget-view+json": {
       "model_id": "f9b6ca767c824e92984eb2d888fcd9dd",
       "version_major": 2,
       "version_minor": 0
      },
      "text/plain": [
       "replaying log with TBR, completed variants ::   0%|          | 0/169 [00:00<?, ?it/s]"
      ]
     },
     "metadata": {},
     "output_type": "display_data"
    },
    {
     "data": {
      "application/vnd.jupyter.widget-view+json": {
       "model_id": "633e108b2c7f4b55990efc76c888dc15",
       "version_major": 2,
       "version_minor": 0
      },
      "text/plain": [
       "replaying log with TBR, completed variants ::   0%|          | 0/17 [00:00<?, ?it/s]"
      ]
     },
     "metadata": {},
     "output_type": "display_data"
    },
    {
     "data": {
      "application/vnd.jupyter.widget-view+json": {
       "model_id": "835714aaba26454284093a16699520cb",
       "version_major": 2,
       "version_minor": 0
      },
      "text/plain": [
       "replaying log with TBR, completed variants ::   0%|          | 0/17 [00:00<?, ?it/s]"
      ]
     },
     "metadata": {},
     "output_type": "display_data"
    },
    {
     "data": {
      "application/vnd.jupyter.widget-view+json": {
       "model_id": "6c0426b3bc804e989f76581014769701",
       "version_major": 2,
       "version_minor": 0
      },
      "text/plain": [
       "replaying log with TBR, completed variants ::   0%|          | 0/114 [00:00<?, ?it/s]"
      ]
     },
     "metadata": {},
     "output_type": "display_data"
    },
    {
     "data": {
      "application/vnd.jupyter.widget-view+json": {
       "model_id": "b6a20b4bdf5d405794c738266c1868ae",
       "version_major": 2,
       "version_minor": 0
      },
      "text/plain": [
       "replaying log with TBR, completed variants ::   0%|          | 0/13 [00:00<?, ?it/s]"
      ]
     },
     "metadata": {},
     "output_type": "display_data"
    },
    {
     "data": {
      "application/vnd.jupyter.widget-view+json": {
       "model_id": "3c5f016ffd3f40a6b5299b2dd0fb9001",
       "version_major": 2,
       "version_minor": 0
      },
      "text/plain": [
       "replaying log with TBR, completed variants ::   0%|          | 0/13 [00:00<?, ?it/s]"
      ]
     },
     "metadata": {},
     "output_type": "display_data"
    },
    {
     "data": {
      "application/vnd.jupyter.widget-view+json": {
       "model_id": "5026913e55fb46ab9368ddf56aa74c32",
       "version_major": 2,
       "version_minor": 0
      },
      "text/plain": [
       "replaying log with TBR, completed variants ::   0%|          | 0/126 [00:00<?, ?it/s]"
      ]
     },
     "metadata": {},
     "output_type": "display_data"
    },
    {
     "data": {
      "application/vnd.jupyter.widget-view+json": {
       "model_id": "c021107951a44b5089c06afb6f8a6509",
       "version_major": 2,
       "version_minor": 0
      },
      "text/plain": [
       "replaying log with TBR, completed variants ::   0%|          | 0/9 [00:00<?, ?it/s]"
      ]
     },
     "metadata": {},
     "output_type": "display_data"
    },
    {
     "data": {
      "application/vnd.jupyter.widget-view+json": {
       "model_id": "19c80795ccf9476cbad08085a955a4c8",
       "version_major": 2,
       "version_minor": 0
      },
      "text/plain": [
       "replaying log with TBR, completed variants ::   0%|          | 0/9 [00:00<?, ?it/s]"
      ]
     },
     "metadata": {},
     "output_type": "display_data"
    },
    {
     "data": {
      "application/vnd.jupyter.widget-view+json": {
       "model_id": "1495bd5440a542d6be75bbcaac99b148",
       "version_major": 2,
       "version_minor": 0
      },
      "text/plain": [
       "replaying log with TBR, completed variants ::   0%|          | 0/109 [00:00<?, ?it/s]"
      ]
     },
     "metadata": {},
     "output_type": "display_data"
    },
    {
     "data": {
      "application/vnd.jupyter.widget-view+json": {
       "model_id": "0593e5757ff141a5b54ee9eb16dad0c5",
       "version_major": 2,
       "version_minor": 0
      },
      "text/plain": [
       "replaying log with TBR, completed variants ::   0%|          | 0/14 [00:00<?, ?it/s]"
      ]
     },
     "metadata": {},
     "output_type": "display_data"
    },
    {
     "data": {
      "application/vnd.jupyter.widget-view+json": {
       "model_id": "d4ad5b942de74305a5be6bae3775400a",
       "version_major": 2,
       "version_minor": 0
      },
      "text/plain": [
       "replaying log with TBR, completed variants ::   0%|          | 0/14 [00:00<?, ?it/s]"
      ]
     },
     "metadata": {},
     "output_type": "display_data"
    },
    {
     "name": "stdout",
     "output_type": "stream",
     "text": [
      "eps: 0.1, delta: 0.01, prec: 0.2607390505204693, fit: 0.9554914914341481, gen: 0.6166032136712822\n"
     ]
    },
    {
     "data": {
      "application/vnd.jupyter.widget-view+json": {
       "model_id": "bce82228050342869ead8259702f2f05",
       "version_major": 2,
       "version_minor": 0
      },
      "text/plain": [
       "replaying log with TBR, completed variants ::   0%|          | 0/22 [00:00<?, ?it/s]"
      ]
     },
     "metadata": {},
     "output_type": "display_data"
    },
    {
     "data": {
      "application/vnd.jupyter.widget-view+json": {
       "model_id": "1416ffcb147e47769d540020362ae81b",
       "version_major": 2,
       "version_minor": 0
      },
      "text/plain": [
       "replaying log with TBR, completed variants ::   0%|          | 0/3 [00:00<?, ?it/s]"
      ]
     },
     "metadata": {},
     "output_type": "display_data"
    },
    {
     "data": {
      "application/vnd.jupyter.widget-view+json": {
       "model_id": "d943051bdaae4918873914dd182f2b15",
       "version_major": 2,
       "version_minor": 0
      },
      "text/plain": [
       "replaying log with TBR, completed variants ::   0%|          | 0/3 [00:00<?, ?it/s]"
      ]
     },
     "metadata": {},
     "output_type": "display_data"
    },
    {
     "data": {
      "application/vnd.jupyter.widget-view+json": {
       "model_id": "9791e1fa0cbf462fbca254f822fc42b3",
       "version_major": 2,
       "version_minor": 0
      },
      "text/plain": [
       "replaying log with TBR, completed variants ::   0%|          | 0/38 [00:00<?, ?it/s]"
      ]
     },
     "metadata": {},
     "output_type": "display_data"
    },
    {
     "data": {
      "application/vnd.jupyter.widget-view+json": {
       "model_id": "0520a1bd8f4a4a6caa89e6c725c205dd",
       "version_major": 2,
       "version_minor": 0
      },
      "text/plain": [
       "replaying log with TBR, completed variants ::   0%|          | 0/5 [00:00<?, ?it/s]"
      ]
     },
     "metadata": {},
     "output_type": "display_data"
    },
    {
     "data": {
      "application/vnd.jupyter.widget-view+json": {
       "model_id": "14da70dd025843f68822807d2999593e",
       "version_major": 2,
       "version_minor": 0
      },
      "text/plain": [
       "replaying log with TBR, completed variants ::   0%|          | 0/5 [00:00<?, ?it/s]"
      ]
     },
     "metadata": {},
     "output_type": "display_data"
    },
    {
     "data": {
      "application/vnd.jupyter.widget-view+json": {
       "model_id": "9521bb9d362b49e68a5f0e03d84ec376",
       "version_major": 2,
       "version_minor": 0
      },
      "text/plain": [
       "replaying log with TBR, completed variants ::   0%|          | 0/21 [00:00<?, ?it/s]"
      ]
     },
     "metadata": {},
     "output_type": "display_data"
    },
    {
     "data": {
      "application/vnd.jupyter.widget-view+json": {
       "model_id": "857c448433bf49eeb1a7d660f9f9cf03",
       "version_major": 2,
       "version_minor": 0
      },
      "text/plain": [
       "replaying log with TBR, completed variants ::   0%|          | 0/17 [00:00<?, ?it/s]"
      ]
     },
     "metadata": {},
     "output_type": "display_data"
    },
    {
     "data": {
      "application/vnd.jupyter.widget-view+json": {
       "model_id": "6e35dcb9f0c846c4b1dc514f82fd9ff4",
       "version_major": 2,
       "version_minor": 0
      },
      "text/plain": [
       "replaying log with TBR, completed variants ::   0%|          | 0/2 [00:00<?, ?it/s]"
      ]
     },
     "metadata": {},
     "output_type": "display_data"
    },
    {
     "data": {
      "application/vnd.jupyter.widget-view+json": {
       "model_id": "96b9be4cc1dd44439bd67527eb834105",
       "version_major": 2,
       "version_minor": 0
      },
      "text/plain": [
       "replaying log with TBR, completed variants ::   0%|          | 0/2 [00:00<?, ?it/s]"
      ]
     },
     "metadata": {},
     "output_type": "display_data"
    },
    {
     "name": "stdout",
     "output_type": "stream",
     "text": [
      "eps: 0.1, delta: 0.001, prec: 0.207449987831034, fit: 0.9653828876759952, gen: 0.2538745227821253\n"
     ]
    },
    {
     "data": {
      "application/vnd.jupyter.widget-view+json": {
       "model_id": "89d6ea2f37784b509c6aae6a42e1cf9d",
       "version_major": 2,
       "version_minor": 0
      },
      "text/plain": [
       "replaying log with TBR, completed variants ::   0%|          | 0/2777 [00:00<?, ?it/s]"
      ]
     },
     "metadata": {},
     "output_type": "display_data"
    },
    {
     "data": {
      "application/vnd.jupyter.widget-view+json": {
       "model_id": "6c43dab459f1412dbe48b9fd1af53a2d",
       "version_major": 2,
       "version_minor": 0
      },
      "text/plain": [
       "replaying log with TBR, completed variants ::   0%|          | 0/347 [00:00<?, ?it/s]"
      ]
     },
     "metadata": {},
     "output_type": "display_data"
    },
    {
     "data": {
      "application/vnd.jupyter.widget-view+json": {
       "model_id": "bff97eed5b0a498fb7b6ee37e3291264",
       "version_major": 2,
       "version_minor": 0
      },
      "text/plain": [
       "replaying log with TBR, completed variants ::   0%|          | 0/347 [00:00<?, ?it/s]"
      ]
     },
     "metadata": {},
     "output_type": "display_data"
    },
    {
     "data": {
      "application/vnd.jupyter.widget-view+json": {
       "model_id": "74c0a3ea683f4f3fae435fe94e916427",
       "version_major": 2,
       "version_minor": 0
      },
      "text/plain": [
       "replaying log with TBR, completed variants ::   0%|          | 0/2370 [00:00<?, ?it/s]"
      ]
     },
     "metadata": {},
     "output_type": "display_data"
    },
    {
     "data": {
      "application/vnd.jupyter.widget-view+json": {
       "model_id": "d8ecf93b812e48bc86b506085fbc0487",
       "version_major": 2,
       "version_minor": 0
      },
      "text/plain": [
       "replaying log with TBR, completed variants ::   0%|          | 0/321 [00:00<?, ?it/s]"
      ]
     },
     "metadata": {},
     "output_type": "display_data"
    },
    {
     "data": {
      "application/vnd.jupyter.widget-view+json": {
       "model_id": "07331e0808e54a3e9199bb78895f54e1",
       "version_major": 2,
       "version_minor": 0
      },
      "text/plain": [
       "replaying log with TBR, completed variants ::   0%|          | 0/321 [00:00<?, ?it/s]"
      ]
     },
     "metadata": {},
     "output_type": "display_data"
    },
    {
     "data": {
      "application/vnd.jupyter.widget-view+json": {
       "model_id": "c6e86d27c932465688dd07593b354d4f",
       "version_major": 2,
       "version_minor": 0
      },
      "text/plain": [
       "replaying log with TBR, completed variants ::   0%|          | 0/2451 [00:00<?, ?it/s]"
      ]
     },
     "metadata": {},
     "output_type": "display_data"
    },
    {
     "data": {
      "application/vnd.jupyter.widget-view+json": {
       "model_id": "23c96ad0db4b4f0187fe70340b8aa142",
       "version_major": 2,
       "version_minor": 0
      },
      "text/plain": [
       "replaying log with TBR, completed variants ::   0%|          | 0/358 [00:00<?, ?it/s]"
      ]
     },
     "metadata": {},
     "output_type": "display_data"
    },
    {
     "data": {
      "application/vnd.jupyter.widget-view+json": {
       "model_id": "cd24cbfa9cb1424c801ce23ab499f00b",
       "version_major": 2,
       "version_minor": 0
      },
      "text/plain": [
       "replaying log with TBR, completed variants ::   0%|          | 0/358 [00:00<?, ?it/s]"
      ]
     },
     "metadata": {},
     "output_type": "display_data"
    },
    {
     "data": {
      "application/vnd.jupyter.widget-view+json": {
       "model_id": "7d00142a9555456e94bd0417fc3e39c2",
       "version_major": 2,
       "version_minor": 0
      },
      "text/plain": [
       "replaying log with TBR, completed variants ::   0%|          | 0/2839 [00:00<?, ?it/s]"
      ]
     },
     "metadata": {},
     "output_type": "display_data"
    },
    {
     "data": {
      "application/vnd.jupyter.widget-view+json": {
       "model_id": "701ec5cd6be24714b16be26a60cb28f7",
       "version_major": 2,
       "version_minor": 0
      },
      "text/plain": [
       "replaying log with TBR, completed variants ::   0%|          | 0/321 [00:00<?, ?it/s]"
      ]
     },
     "metadata": {},
     "output_type": "display_data"
    },
    {
     "data": {
      "application/vnd.jupyter.widget-view+json": {
       "model_id": "2d01cd03e50c43eb969e1a69c725d504",
       "version_major": 2,
       "version_minor": 0
      },
      "text/plain": [
       "replaying log with TBR, completed variants ::   0%|          | 0/321 [00:00<?, ?it/s]"
      ]
     },
     "metadata": {},
     "output_type": "display_data"
    },
    {
     "data": {
      "application/vnd.jupyter.widget-view+json": {
       "model_id": "431b0b673ee54b61b65857596bbc072c",
       "version_major": 2,
       "version_minor": 0
      },
      "text/plain": [
       "replaying log with TBR, completed variants ::   0%|          | 0/2585 [00:00<?, ?it/s]"
      ]
     },
     "metadata": {},
     "output_type": "display_data"
    },
    {
     "data": {
      "application/vnd.jupyter.widget-view+json": {
       "model_id": "f420cf86e3604baf8e2313c8e1a67268",
       "version_major": 2,
       "version_minor": 0
      },
      "text/plain": [
       "replaying log with TBR, completed variants ::   0%|          | 0/336 [00:00<?, ?it/s]"
      ]
     },
     "metadata": {},
     "output_type": "display_data"
    },
    {
     "data": {
      "application/vnd.jupyter.widget-view+json": {
       "model_id": "71b78b1a8417407c8916ef87e02f03fe",
       "version_major": 2,
       "version_minor": 0
      },
      "text/plain": [
       "replaying log with TBR, completed variants ::   0%|          | 0/336 [00:00<?, ?it/s]"
      ]
     },
     "metadata": {},
     "output_type": "display_data"
    },
    {
     "data": {
      "application/vnd.jupyter.widget-view+json": {
       "model_id": "323cc966d49141de8f8e82671b544008",
       "version_major": 2,
       "version_minor": 0
      },
      "text/plain": [
       "replaying log with TBR, completed variants ::   0%|          | 0/2220 [00:00<?, ?it/s]"
      ]
     },
     "metadata": {},
     "output_type": "display_data"
    },
    {
     "data": {
      "application/vnd.jupyter.widget-view+json": {
       "model_id": "805095bd0b0948a38c7190fdb1683a2e",
       "version_major": 2,
       "version_minor": 0
      },
      "text/plain": [
       "replaying log with TBR, completed variants ::   0%|          | 0/348 [00:00<?, ?it/s]"
      ]
     },
     "metadata": {},
     "output_type": "display_data"
    },
    {
     "data": {
      "application/vnd.jupyter.widget-view+json": {
       "model_id": "5eb84821ec3947108012d160b626049f",
       "version_major": 2,
       "version_minor": 0
      },
      "text/plain": [
       "replaying log with TBR, completed variants ::   0%|          | 0/348 [00:00<?, ?it/s]"
      ]
     },
     "metadata": {},
     "output_type": "display_data"
    },
    {
     "data": {
      "application/vnd.jupyter.widget-view+json": {
       "model_id": "d00cf639a19e4ebfa39383c62504d2c8",
       "version_major": 2,
       "version_minor": 0
      },
      "text/plain": [
       "replaying log with TBR, completed variants ::   0%|          | 0/2235 [00:00<?, ?it/s]"
      ]
     },
     "metadata": {},
     "output_type": "display_data"
    },
    {
     "data": {
      "application/vnd.jupyter.widget-view+json": {
       "model_id": "9ffce78b7aa7478c82d42e2d5cc89e82",
       "version_major": 2,
       "version_minor": 0
      },
      "text/plain": [
       "replaying log with TBR, completed variants ::   0%|          | 0/345 [00:00<?, ?it/s]"
      ]
     },
     "metadata": {},
     "output_type": "display_data"
    },
    {
     "data": {
      "application/vnd.jupyter.widget-view+json": {
       "model_id": "474a10ec3ac24bbc9596a47377286fa5",
       "version_major": 2,
       "version_minor": 0
      },
      "text/plain": [
       "replaying log with TBR, completed variants ::   0%|          | 0/345 [00:00<?, ?it/s]"
      ]
     },
     "metadata": {},
     "output_type": "display_data"
    },
    {
     "data": {
      "application/vnd.jupyter.widget-view+json": {
       "model_id": "8c3d0d1d086d4f0c8899807184655565",
       "version_major": 2,
       "version_minor": 0
      },
      "text/plain": [
       "replaying log with TBR, completed variants ::   0%|          | 0/2664 [00:00<?, ?it/s]"
      ]
     },
     "metadata": {},
     "output_type": "display_data"
    },
    {
     "data": {
      "application/vnd.jupyter.widget-view+json": {
       "model_id": "262549ede9694ca2915e9beb9942968a",
       "version_major": 2,
       "version_minor": 0
      },
      "text/plain": [
       "replaying log with TBR, completed variants ::   0%|          | 0/335 [00:00<?, ?it/s]"
      ]
     },
     "metadata": {},
     "output_type": "display_data"
    },
    {
     "data": {
      "application/vnd.jupyter.widget-view+json": {
       "model_id": "a2963c2382b74c37a71bddf78da8753d",
       "version_major": 2,
       "version_minor": 0
      },
      "text/plain": [
       "replaying log with TBR, completed variants ::   0%|          | 0/335 [00:00<?, ?it/s]"
      ]
     },
     "metadata": {},
     "output_type": "display_data"
    },
    {
     "data": {
      "application/vnd.jupyter.widget-view+json": {
       "model_id": "158f928720b94306a753d8526536b157",
       "version_major": 2,
       "version_minor": 0
      },
      "text/plain": [
       "replaying log with TBR, completed variants ::   0%|          | 0/2689 [00:00<?, ?it/s]"
      ]
     },
     "metadata": {},
     "output_type": "display_data"
    },
    {
     "data": {
      "application/vnd.jupyter.widget-view+json": {
       "model_id": "b9151e87410340d180607db0146265b5",
       "version_major": 2,
       "version_minor": 0
      },
      "text/plain": [
       "replaying log with TBR, completed variants ::   0%|          | 0/348 [00:00<?, ?it/s]"
      ]
     },
     "metadata": {},
     "output_type": "display_data"
    },
    {
     "data": {
      "application/vnd.jupyter.widget-view+json": {
       "model_id": "ed7cc0fa5c414911b4e51161d10c3fa1",
       "version_major": 2,
       "version_minor": 0
      },
      "text/plain": [
       "replaying log with TBR, completed variants ::   0%|          | 0/348 [00:00<?, ?it/s]"
      ]
     },
     "metadata": {},
     "output_type": "display_data"
    },
    {
     "data": {
      "application/vnd.jupyter.widget-view+json": {
       "model_id": "447c321047564ee58213dd0887fcdc7c",
       "version_major": 2,
       "version_minor": 0
      },
      "text/plain": [
       "replaying log with TBR, completed variants ::   0%|          | 0/2516 [00:00<?, ?it/s]"
      ]
     },
     "metadata": {},
     "output_type": "display_data"
    },
    {
     "data": {
      "application/vnd.jupyter.widget-view+json": {
       "model_id": "576f7cc90f0f4813bbca50995f241818",
       "version_major": 2,
       "version_minor": 0
      },
      "text/plain": [
       "replaying log with TBR, completed variants ::   0%|          | 0/338 [00:00<?, ?it/s]"
      ]
     },
     "metadata": {},
     "output_type": "display_data"
    },
    {
     "data": {
      "application/vnd.jupyter.widget-view+json": {
       "model_id": "0c204d0c30154519b942665ff73a36fd",
       "version_major": 2,
       "version_minor": 0
      },
      "text/plain": [
       "replaying log with TBR, completed variants ::   0%|          | 0/338 [00:00<?, ?it/s]"
      ]
     },
     "metadata": {},
     "output_type": "display_data"
    },
    {
     "name": "stdout",
     "output_type": "stream",
     "text": [
      "eps: 0.01, delta: 0.5, prec: 0.45303389067400596, fit: 0.9532966706057231, gen: 0.9358760143618386\n"
     ]
    },
    {
     "data": {
      "application/vnd.jupyter.widget-view+json": {
       "model_id": "89fe2567cc5a47748ef67155fcc83c9b",
       "version_major": 2,
       "version_minor": 0
      },
      "text/plain": [
       "replaying log with TBR, completed variants ::   0%|          | 0/732 [00:00<?, ?it/s]"
      ]
     },
     "metadata": {},
     "output_type": "display_data"
    },
    {
     "data": {
      "application/vnd.jupyter.widget-view+json": {
       "model_id": "b93a0c3958054c0080e2f2ef991fd08e",
       "version_major": 2,
       "version_minor": 0
      },
      "text/plain": [
       "replaying log with TBR, completed variants ::   0%|          | 0/89 [00:00<?, ?it/s]"
      ]
     },
     "metadata": {},
     "output_type": "display_data"
    },
    {
     "data": {
      "application/vnd.jupyter.widget-view+json": {
       "model_id": "c2e1554d989b4f1394ce2e29aecf9bad",
       "version_major": 2,
       "version_minor": 0
      },
      "text/plain": [
       "replaying log with TBR, completed variants ::   0%|          | 0/89 [00:00<?, ?it/s]"
      ]
     },
     "metadata": {},
     "output_type": "display_data"
    },
    {
     "data": {
      "application/vnd.jupyter.widget-view+json": {
       "model_id": "7d4a1e0a67574ef0b3b5b666226f93c0",
       "version_major": 2,
       "version_minor": 0
      },
      "text/plain": [
       "replaying log with TBR, completed variants ::   0%|          | 0/675 [00:00<?, ?it/s]"
      ]
     },
     "metadata": {},
     "output_type": "display_data"
    },
    {
     "data": {
      "application/vnd.jupyter.widget-view+json": {
       "model_id": "75ff675d3d084d7590ebc30f358d30f9",
       "version_major": 2,
       "version_minor": 0
      },
      "text/plain": [
       "replaying log with TBR, completed variants ::   0%|          | 0/93 [00:00<?, ?it/s]"
      ]
     },
     "metadata": {},
     "output_type": "display_data"
    },
    {
     "data": {
      "application/vnd.jupyter.widget-view+json": {
       "model_id": "4b9976a1263b4dd2a1f5db0d7f65228d",
       "version_major": 2,
       "version_minor": 0
      },
      "text/plain": [
       "replaying log with TBR, completed variants ::   0%|          | 0/93 [00:00<?, ?it/s]"
      ]
     },
     "metadata": {},
     "output_type": "display_data"
    },
    {
     "data": {
      "application/vnd.jupyter.widget-view+json": {
       "model_id": "c41a95f013164014a94a0a782b325c3f",
       "version_major": 2,
       "version_minor": 0
      },
      "text/plain": [
       "replaying log with TBR, completed variants ::   0%|          | 0/667 [00:00<?, ?it/s]"
      ]
     },
     "metadata": {},
     "output_type": "display_data"
    },
    {
     "data": {
      "application/vnd.jupyter.widget-view+json": {
       "model_id": "33de53cb7719407b85cca0d83d2ce99b",
       "version_major": 2,
       "version_minor": 0
      },
      "text/plain": [
       "replaying log with TBR, completed variants ::   0%|          | 0/99 [00:00<?, ?it/s]"
      ]
     },
     "metadata": {},
     "output_type": "display_data"
    },
    {
     "data": {
      "application/vnd.jupyter.widget-view+json": {
       "model_id": "e50e13baef5d4e8cb4aa502424d0378e",
       "version_major": 2,
       "version_minor": 0
      },
      "text/plain": [
       "replaying log with TBR, completed variants ::   0%|          | 0/99 [00:00<?, ?it/s]"
      ]
     },
     "metadata": {},
     "output_type": "display_data"
    },
    {
     "data": {
      "application/vnd.jupyter.widget-view+json": {
       "model_id": "e76942654d4c4460bb2c1c68442ddcd5",
       "version_major": 2,
       "version_minor": 0
      },
      "text/plain": [
       "replaying log with TBR, completed variants ::   0%|          | 0/777 [00:00<?, ?it/s]"
      ]
     },
     "metadata": {},
     "output_type": "display_data"
    },
    {
     "data": {
      "application/vnd.jupyter.widget-view+json": {
       "model_id": "4a0289fc55e44d969672e997526e877b",
       "version_major": 2,
       "version_minor": 0
      },
      "text/plain": [
       "replaying log with TBR, completed variants ::   0%|          | 0/100 [00:00<?, ?it/s]"
      ]
     },
     "metadata": {},
     "output_type": "display_data"
    },
    {
     "data": {
      "application/vnd.jupyter.widget-view+json": {
       "model_id": "94dd99d65a3f4677a4bea7768a0fc0bb",
       "version_major": 2,
       "version_minor": 0
      },
      "text/plain": [
       "replaying log with TBR, completed variants ::   0%|          | 0/100 [00:00<?, ?it/s]"
      ]
     },
     "metadata": {},
     "output_type": "display_data"
    },
    {
     "data": {
      "application/vnd.jupyter.widget-view+json": {
       "model_id": "03a18091aac04667a08b700bd0886763",
       "version_major": 2,
       "version_minor": 0
      },
      "text/plain": [
       "replaying log with TBR, completed variants ::   0%|          | 0/704 [00:00<?, ?it/s]"
      ]
     },
     "metadata": {},
     "output_type": "display_data"
    },
    {
     "data": {
      "application/vnd.jupyter.widget-view+json": {
       "model_id": "40495a0f4a73449183d032d473a0ad18",
       "version_major": 2,
       "version_minor": 0
      },
      "text/plain": [
       "replaying log with TBR, completed variants ::   0%|          | 0/91 [00:00<?, ?it/s]"
      ]
     },
     "metadata": {},
     "output_type": "display_data"
    },
    {
     "data": {
      "application/vnd.jupyter.widget-view+json": {
       "model_id": "91701268c619448e92001c294ccbc034",
       "version_major": 2,
       "version_minor": 0
      },
      "text/plain": [
       "replaying log with TBR, completed variants ::   0%|          | 0/91 [00:00<?, ?it/s]"
      ]
     },
     "metadata": {},
     "output_type": "display_data"
    },
    {
     "data": {
      "application/vnd.jupyter.widget-view+json": {
       "model_id": "4d01fe7232384949b455d3310d2fadec",
       "version_major": 2,
       "version_minor": 0
      },
      "text/plain": [
       "replaying log with TBR, completed variants ::   0%|          | 0/750 [00:00<?, ?it/s]"
      ]
     },
     "metadata": {},
     "output_type": "display_data"
    },
    {
     "data": {
      "application/vnd.jupyter.widget-view+json": {
       "model_id": "1af7c2ff03f5411e8cb7028675511c37",
       "version_major": 2,
       "version_minor": 0
      },
      "text/plain": [
       "replaying log with TBR, completed variants ::   0%|          | 0/92 [00:00<?, ?it/s]"
      ]
     },
     "metadata": {},
     "output_type": "display_data"
    },
    {
     "data": {
      "application/vnd.jupyter.widget-view+json": {
       "model_id": "dc94987814514d8fa99878042284f714",
       "version_major": 2,
       "version_minor": 0
      },
      "text/plain": [
       "replaying log with TBR, completed variants ::   0%|          | 0/92 [00:00<?, ?it/s]"
      ]
     },
     "metadata": {},
     "output_type": "display_data"
    },
    {
     "data": {
      "application/vnd.jupyter.widget-view+json": {
       "model_id": "1ea22a4c72cf458f835bc1bc7898aed9",
       "version_major": 2,
       "version_minor": 0
      },
      "text/plain": [
       "replaying log with TBR, completed variants ::   0%|          | 0/927 [00:00<?, ?it/s]"
      ]
     },
     "metadata": {},
     "output_type": "display_data"
    },
    {
     "data": {
      "application/vnd.jupyter.widget-view+json": {
       "model_id": "7a28fc7d77f64d09bb9212042f4d618a",
       "version_major": 2,
       "version_minor": 0
      },
      "text/plain": [
       "replaying log with TBR, completed variants ::   0%|          | 0/92 [00:00<?, ?it/s]"
      ]
     },
     "metadata": {},
     "output_type": "display_data"
    },
    {
     "data": {
      "application/vnd.jupyter.widget-view+json": {
       "model_id": "08916d87c89b4fda8615e1b336399db7",
       "version_major": 2,
       "version_minor": 0
      },
      "text/plain": [
       "replaying log with TBR, completed variants ::   0%|          | 0/92 [00:00<?, ?it/s]"
      ]
     },
     "metadata": {},
     "output_type": "display_data"
    },
    {
     "data": {
      "application/vnd.jupyter.widget-view+json": {
       "model_id": "4edd4989ee8d48bcae00647f1cffb8a5",
       "version_major": 2,
       "version_minor": 0
      },
      "text/plain": [
       "replaying log with TBR, completed variants ::   0%|          | 0/787 [00:00<?, ?it/s]"
      ]
     },
     "metadata": {},
     "output_type": "display_data"
    },
    {
     "data": {
      "application/vnd.jupyter.widget-view+json": {
       "model_id": "f2b8b0c9a5924ed895b28eb194b26df0",
       "version_major": 2,
       "version_minor": 0
      },
      "text/plain": [
       "replaying log with TBR, completed variants ::   0%|          | 0/95 [00:00<?, ?it/s]"
      ]
     },
     "metadata": {},
     "output_type": "display_data"
    },
    {
     "data": {
      "application/vnd.jupyter.widget-view+json": {
       "model_id": "9935fb7c6ed943548952ad31616685e0",
       "version_major": 2,
       "version_minor": 0
      },
      "text/plain": [
       "replaying log with TBR, completed variants ::   0%|          | 0/95 [00:00<?, ?it/s]"
      ]
     },
     "metadata": {},
     "output_type": "display_data"
    },
    {
     "data": {
      "application/vnd.jupyter.widget-view+json": {
       "model_id": "f5dd0ac4ef08492ca525f9418d810b94",
       "version_major": 2,
       "version_minor": 0
      },
      "text/plain": [
       "replaying log with TBR, completed variants ::   0%|          | 0/662 [00:00<?, ?it/s]"
      ]
     },
     "metadata": {},
     "output_type": "display_data"
    },
    {
     "data": {
      "application/vnd.jupyter.widget-view+json": {
       "model_id": "7a6758645b5f470fb2acd74227c034ff",
       "version_major": 2,
       "version_minor": 0
      },
      "text/plain": [
       "replaying log with TBR, completed variants ::   0%|          | 0/88 [00:00<?, ?it/s]"
      ]
     },
     "metadata": {},
     "output_type": "display_data"
    },
    {
     "data": {
      "application/vnd.jupyter.widget-view+json": {
       "model_id": "af91db0f31a74634ba2638027896ca3e",
       "version_major": 2,
       "version_minor": 0
      },
      "text/plain": [
       "replaying log with TBR, completed variants ::   0%|          | 0/88 [00:00<?, ?it/s]"
      ]
     },
     "metadata": {},
     "output_type": "display_data"
    },
    {
     "data": {
      "application/vnd.jupyter.widget-view+json": {
       "model_id": "3ae07e9a8dfc443c85adcf0c44c51b1b",
       "version_major": 2,
       "version_minor": 0
      },
      "text/plain": [
       "replaying log with TBR, completed variants ::   0%|          | 0/800 [00:00<?, ?it/s]"
      ]
     },
     "metadata": {},
     "output_type": "display_data"
    },
    {
     "data": {
      "application/vnd.jupyter.widget-view+json": {
       "model_id": "a14f976d732644219f000ee91af538d7",
       "version_major": 2,
       "version_minor": 0
      },
      "text/plain": [
       "replaying log with TBR, completed variants ::   0%|          | 0/82 [00:00<?, ?it/s]"
      ]
     },
     "metadata": {},
     "output_type": "display_data"
    },
    {
     "data": {
      "application/vnd.jupyter.widget-view+json": {
       "model_id": "01dcc5db242144a3883d6dca3b98a8ef",
       "version_major": 2,
       "version_minor": 0
      },
      "text/plain": [
       "replaying log with TBR, completed variants ::   0%|          | 0/82 [00:00<?, ?it/s]"
      ]
     },
     "metadata": {},
     "output_type": "display_data"
    },
    {
     "name": "stdout",
     "output_type": "stream",
     "text": [
      "eps: 0.01, delta: 0.1, prec: 0.37791606189370347, fit: 0.9570705799186661, gen: 0.8695046489582665\n"
     ]
    },
    {
     "data": {
      "application/vnd.jupyter.widget-view+json": {
       "model_id": "b1071de2aa4b4f76b4dfb2bb6b99912b",
       "version_major": 2,
       "version_minor": 0
      },
      "text/plain": [
       "replaying log with TBR, completed variants ::   0%|          | 0/538 [00:00<?, ?it/s]"
      ]
     },
     "metadata": {},
     "output_type": "display_data"
    },
    {
     "data": {
      "application/vnd.jupyter.widget-view+json": {
       "model_id": "7572dac222fa4cc7b0715a1590d8aced",
       "version_major": 2,
       "version_minor": 0
      },
      "text/plain": [
       "replaying log with TBR, completed variants ::   0%|          | 0/58 [00:00<?, ?it/s]"
      ]
     },
     "metadata": {},
     "output_type": "display_data"
    },
    {
     "data": {
      "application/vnd.jupyter.widget-view+json": {
       "model_id": "97f14746014849db9017a4eac069048b",
       "version_major": 2,
       "version_minor": 0
      },
      "text/plain": [
       "replaying log with TBR, completed variants ::   0%|          | 0/58 [00:00<?, ?it/s]"
      ]
     },
     "metadata": {},
     "output_type": "display_data"
    },
    {
     "data": {
      "application/vnd.jupyter.widget-view+json": {
       "model_id": "147d438da2e9442b83c00023b996f0dd",
       "version_major": 2,
       "version_minor": 0
      },
      "text/plain": [
       "replaying log with TBR, completed variants ::   0%|          | 0/467 [00:00<?, ?it/s]"
      ]
     },
     "metadata": {},
     "output_type": "display_data"
    },
    {
     "data": {
      "application/vnd.jupyter.widget-view+json": {
       "model_id": "70638279c379484193bbb6fcdb185969",
       "version_major": 2,
       "version_minor": 0
      },
      "text/plain": [
       "replaying log with TBR, completed variants ::   0%|          | 0/62 [00:00<?, ?it/s]"
      ]
     },
     "metadata": {},
     "output_type": "display_data"
    },
    {
     "data": {
      "application/vnd.jupyter.widget-view+json": {
       "model_id": "30c0328a62bb4185bff4511f5fd903da",
       "version_major": 2,
       "version_minor": 0
      },
      "text/plain": [
       "replaying log with TBR, completed variants ::   0%|          | 0/62 [00:00<?, ?it/s]"
      ]
     },
     "metadata": {},
     "output_type": "display_data"
    },
    {
     "data": {
      "application/vnd.jupyter.widget-view+json": {
       "model_id": "e43e009e2823452489b630f10ac58424",
       "version_major": 2,
       "version_minor": 0
      },
      "text/plain": [
       "replaying log with TBR, completed variants ::   0%|          | 0/641 [00:00<?, ?it/s]"
      ]
     },
     "metadata": {},
     "output_type": "display_data"
    },
    {
     "data": {
      "application/vnd.jupyter.widget-view+json": {
       "model_id": "c1fbb59058ff4415bb7ecff911c1d1e0",
       "version_major": 2,
       "version_minor": 0
      },
      "text/plain": [
       "replaying log with TBR, completed variants ::   0%|          | 0/63 [00:00<?, ?it/s]"
      ]
     },
     "metadata": {},
     "output_type": "display_data"
    },
    {
     "data": {
      "application/vnd.jupyter.widget-view+json": {
       "model_id": "1e37ebd742c14ed9915673eb36a59992",
       "version_major": 2,
       "version_minor": 0
      },
      "text/plain": [
       "replaying log with TBR, completed variants ::   0%|          | 0/63 [00:00<?, ?it/s]"
      ]
     },
     "metadata": {},
     "output_type": "display_data"
    },
    {
     "data": {
      "application/vnd.jupyter.widget-view+json": {
       "model_id": "4da50797680b4ad2a30370ad5b5fda62",
       "version_major": 2,
       "version_minor": 0
      },
      "text/plain": [
       "replaying log with TBR, completed variants ::   0%|          | 0/440 [00:00<?, ?it/s]"
      ]
     },
     "metadata": {},
     "output_type": "display_data"
    },
    {
     "data": {
      "application/vnd.jupyter.widget-view+json": {
       "model_id": "464bab428f8f4e6b90081c31092f0760",
       "version_major": 2,
       "version_minor": 0
      },
      "text/plain": [
       "replaying log with TBR, completed variants ::   0%|          | 0/47 [00:00<?, ?it/s]"
      ]
     },
     "metadata": {},
     "output_type": "display_data"
    },
    {
     "data": {
      "application/vnd.jupyter.widget-view+json": {
       "model_id": "6a453a3834e74a2cabbfb18354a0cb47",
       "version_major": 2,
       "version_minor": 0
      },
      "text/plain": [
       "replaying log with TBR, completed variants ::   0%|          | 0/47 [00:00<?, ?it/s]"
      ]
     },
     "metadata": {},
     "output_type": "display_data"
    },
    {
     "data": {
      "application/vnd.jupyter.widget-view+json": {
       "model_id": "43dbf2aef5c24d4cb3dfa550ed177794",
       "version_major": 2,
       "version_minor": 0
      },
      "text/plain": [
       "replaying log with TBR, completed variants ::   0%|          | 0/447 [00:00<?, ?it/s]"
      ]
     },
     "metadata": {},
     "output_type": "display_data"
    },
    {
     "data": {
      "application/vnd.jupyter.widget-view+json": {
       "model_id": "7ad657b5debf4ba1a62f4465b78397fd",
       "version_major": 2,
       "version_minor": 0
      },
      "text/plain": [
       "replaying log with TBR, completed variants ::   0%|          | 0/49 [00:00<?, ?it/s]"
      ]
     },
     "metadata": {},
     "output_type": "display_data"
    },
    {
     "data": {
      "application/vnd.jupyter.widget-view+json": {
       "model_id": "d2cc46e43f94403193c029365e900a8e",
       "version_major": 2,
       "version_minor": 0
      },
      "text/plain": [
       "replaying log with TBR, completed variants ::   0%|          | 0/49 [00:00<?, ?it/s]"
      ]
     },
     "metadata": {},
     "output_type": "display_data"
    },
    {
     "data": {
      "application/vnd.jupyter.widget-view+json": {
       "model_id": "111c3facb7ed4df8a7c106684db91a78",
       "version_major": 2,
       "version_minor": 0
      },
      "text/plain": [
       "replaying log with TBR, completed variants ::   0%|          | 0/395 [00:00<?, ?it/s]"
      ]
     },
     "metadata": {},
     "output_type": "display_data"
    },
    {
     "data": {
      "application/vnd.jupyter.widget-view+json": {
       "model_id": "4543d0179f694a74ad0c3b15397bbcf9",
       "version_major": 2,
       "version_minor": 0
      },
      "text/plain": [
       "replaying log with TBR, completed variants ::   0%|          | 0/48 [00:00<?, ?it/s]"
      ]
     },
     "metadata": {},
     "output_type": "display_data"
    },
    {
     "data": {
      "application/vnd.jupyter.widget-view+json": {
       "model_id": "d73ca09274f64a5b82187c0e26e3f8b6",
       "version_major": 2,
       "version_minor": 0
      },
      "text/plain": [
       "replaying log with TBR, completed variants ::   0%|          | 0/48 [00:00<?, ?it/s]"
      ]
     },
     "metadata": {},
     "output_type": "display_data"
    },
    {
     "data": {
      "application/vnd.jupyter.widget-view+json": {
       "model_id": "d4a2a6feb1cf460a902dd34231debcab",
       "version_major": 2,
       "version_minor": 0
      },
      "text/plain": [
       "replaying log with TBR, completed variants ::   0%|          | 0/395 [00:00<?, ?it/s]"
      ]
     },
     "metadata": {},
     "output_type": "display_data"
    },
    {
     "data": {
      "application/vnd.jupyter.widget-view+json": {
       "model_id": "bccf362008394057b4ed9803d65b52f8",
       "version_major": 2,
       "version_minor": 0
      },
      "text/plain": [
       "replaying log with TBR, completed variants ::   0%|          | 0/52 [00:00<?, ?it/s]"
      ]
     },
     "metadata": {},
     "output_type": "display_data"
    },
    {
     "data": {
      "application/vnd.jupyter.widget-view+json": {
       "model_id": "83922113784043a5903b5345cf141477",
       "version_major": 2,
       "version_minor": 0
      },
      "text/plain": [
       "replaying log with TBR, completed variants ::   0%|          | 0/52 [00:00<?, ?it/s]"
      ]
     },
     "metadata": {},
     "output_type": "display_data"
    },
    {
     "data": {
      "application/vnd.jupyter.widget-view+json": {
       "model_id": "34addd319d9f4e12add4237fca5ebf86",
       "version_major": 2,
       "version_minor": 0
      },
      "text/plain": [
       "replaying log with TBR, completed variants ::   0%|          | 0/466 [00:00<?, ?it/s]"
      ]
     },
     "metadata": {},
     "output_type": "display_data"
    },
    {
     "data": {
      "application/vnd.jupyter.widget-view+json": {
       "model_id": "bbee024fde8f4602b3242d4f626fbe12",
       "version_major": 2,
       "version_minor": 0
      },
      "text/plain": [
       "replaying log with TBR, completed variants ::   0%|          | 0/54 [00:00<?, ?it/s]"
      ]
     },
     "metadata": {},
     "output_type": "display_data"
    },
    {
     "data": {
      "application/vnd.jupyter.widget-view+json": {
       "model_id": "a023d1550d6849ddaf17460b28ebec47",
       "version_major": 2,
       "version_minor": 0
      },
      "text/plain": [
       "replaying log with TBR, completed variants ::   0%|          | 0/54 [00:00<?, ?it/s]"
      ]
     },
     "metadata": {},
     "output_type": "display_data"
    },
    {
     "data": {
      "application/vnd.jupyter.widget-view+json": {
       "model_id": "3c3389db09384cc882a63023cc914037",
       "version_major": 2,
       "version_minor": 0
      },
      "text/plain": [
       "replaying log with TBR, completed variants ::   0%|          | 0/632 [00:00<?, ?it/s]"
      ]
     },
     "metadata": {},
     "output_type": "display_data"
    },
    {
     "data": {
      "application/vnd.jupyter.widget-view+json": {
       "model_id": "489a8ae51ff1465a98b31b5b27ac07f2",
       "version_major": 2,
       "version_minor": 0
      },
      "text/plain": [
       "replaying log with TBR, completed variants ::   0%|          | 0/59 [00:00<?, ?it/s]"
      ]
     },
     "metadata": {},
     "output_type": "display_data"
    },
    {
     "data": {
      "application/vnd.jupyter.widget-view+json": {
       "model_id": "38baca5e2f35443286593e6babbd44a2",
       "version_major": 2,
       "version_minor": 0
      },
      "text/plain": [
       "replaying log with TBR, completed variants ::   0%|          | 0/59 [00:00<?, ?it/s]"
      ]
     },
     "metadata": {},
     "output_type": "display_data"
    },
    {
     "data": {
      "application/vnd.jupyter.widget-view+json": {
       "model_id": "e806196ca0e2485bb721b64d9d320e90",
       "version_major": 2,
       "version_minor": 0
      },
      "text/plain": [
       "replaying log with TBR, completed variants ::   0%|          | 0/536 [00:00<?, ?it/s]"
      ]
     },
     "metadata": {},
     "output_type": "display_data"
    },
    {
     "data": {
      "application/vnd.jupyter.widget-view+json": {
       "model_id": "78f271b4dc504695b25852c985dac63a",
       "version_major": 2,
       "version_minor": 0
      },
      "text/plain": [
       "replaying log with TBR, completed variants ::   0%|          | 0/54 [00:00<?, ?it/s]"
      ]
     },
     "metadata": {},
     "output_type": "display_data"
    },
    {
     "data": {
      "application/vnd.jupyter.widget-view+json": {
       "model_id": "f30d22e0766f41dba4a5fbbb01306cc4",
       "version_major": 2,
       "version_minor": 0
      },
      "text/plain": [
       "replaying log with TBR, completed variants ::   0%|          | 0/54 [00:00<?, ?it/s]"
      ]
     },
     "metadata": {},
     "output_type": "display_data"
    },
    {
     "name": "stdout",
     "output_type": "stream",
     "text": [
      "eps: 0.01, delta: 0.05, prec: 0.3515770232277442, fit: 0.9557581158277163, gen: 0.8329614445233198\n"
     ]
    },
    {
     "data": {
      "application/vnd.jupyter.widget-view+json": {
       "model_id": "d76fdadd53004eb28dfd8d7c0c3ad02b",
       "version_major": 2,
       "version_minor": 0
      },
      "text/plain": [
       "replaying log with TBR, completed variants ::   0%|          | 0/66 [00:00<?, ?it/s]"
      ]
     },
     "metadata": {},
     "output_type": "display_data"
    },
    {
     "data": {
      "application/vnd.jupyter.widget-view+json": {
       "model_id": "cd960ffe07724e20a7102ef4fe74f579",
       "version_major": 2,
       "version_minor": 0
      },
      "text/plain": [
       "replaying log with TBR, completed variants ::   0%|          | 0/8 [00:00<?, ?it/s]"
      ]
     },
     "metadata": {},
     "output_type": "display_data"
    },
    {
     "data": {
      "application/vnd.jupyter.widget-view+json": {
       "model_id": "b44f8c4a52c34fba88a990728ec3965d",
       "version_major": 2,
       "version_minor": 0
      },
      "text/plain": [
       "replaying log with TBR, completed variants ::   0%|          | 0/8 [00:00<?, ?it/s]"
      ]
     },
     "metadata": {},
     "output_type": "display_data"
    },
    {
     "data": {
      "application/vnd.jupyter.widget-view+json": {
       "model_id": "9bf0ad9c6471408a96f01e33eda8dc33",
       "version_major": 2,
       "version_minor": 0
      },
      "text/plain": [
       "replaying log with TBR, completed variants ::   0%|          | 0/99 [00:00<?, ?it/s]"
      ]
     },
     "metadata": {},
     "output_type": "display_data"
    },
    {
     "data": {
      "application/vnd.jupyter.widget-view+json": {
       "model_id": "ffd4b712bd9f460c92b55866152d7767",
       "version_major": 2,
       "version_minor": 0
      },
      "text/plain": [
       "replaying log with TBR, completed variants ::   0%|          | 0/14 [00:00<?, ?it/s]"
      ]
     },
     "metadata": {},
     "output_type": "display_data"
    },
    {
     "data": {
      "application/vnd.jupyter.widget-view+json": {
       "model_id": "8e8eaf3e5e074b99ba53f9a4108ee4e8",
       "version_major": 2,
       "version_minor": 0
      },
      "text/plain": [
       "replaying log with TBR, completed variants ::   0%|          | 0/14 [00:00<?, ?it/s]"
      ]
     },
     "metadata": {},
     "output_type": "display_data"
    },
    {
     "data": {
      "application/vnd.jupyter.widget-view+json": {
       "model_id": "1eee9b69871648acb718e01edd0c4c8f",
       "version_major": 2,
       "version_minor": 0
      },
      "text/plain": [
       "replaying log with TBR, completed variants ::   0%|          | 0/78 [00:00<?, ?it/s]"
      ]
     },
     "metadata": {},
     "output_type": "display_data"
    },
    {
     "data": {
      "application/vnd.jupyter.widget-view+json": {
       "model_id": "5d5568741eef441bbb75d05c2a65aefb",
       "version_major": 2,
       "version_minor": 0
      },
      "text/plain": [
       "replaying log with TBR, completed variants ::   0%|          | 0/9 [00:00<?, ?it/s]"
      ]
     },
     "metadata": {},
     "output_type": "display_data"
    },
    {
     "data": {
      "application/vnd.jupyter.widget-view+json": {
       "model_id": "e6f8694ff3454fd68dea32a31ea10e84",
       "version_major": 2,
       "version_minor": 0
      },
      "text/plain": [
       "replaying log with TBR, completed variants ::   0%|          | 0/9 [00:00<?, ?it/s]"
      ]
     },
     "metadata": {},
     "output_type": "display_data"
    },
    {
     "data": {
      "application/vnd.jupyter.widget-view+json": {
       "model_id": "c3ec8a46a91b45239ce053f2035feea4",
       "version_major": 2,
       "version_minor": 0
      },
      "text/plain": [
       "replaying log with TBR, completed variants ::   0%|          | 0/160 [00:00<?, ?it/s]"
      ]
     },
     "metadata": {},
     "output_type": "display_data"
    },
    {
     "data": {
      "application/vnd.jupyter.widget-view+json": {
       "model_id": "c471da79fef64c258c3bc9af112fa07d",
       "version_major": 2,
       "version_minor": 0
      },
      "text/plain": [
       "replaying log with TBR, completed variants ::   0%|          | 0/17 [00:00<?, ?it/s]"
      ]
     },
     "metadata": {},
     "output_type": "display_data"
    },
    {
     "data": {
      "application/vnd.jupyter.widget-view+json": {
       "model_id": "e3f8986d5a6c4b8db5658e7ec368750c",
       "version_major": 2,
       "version_minor": 0
      },
      "text/plain": [
       "replaying log with TBR, completed variants ::   0%|          | 0/17 [00:00<?, ?it/s]"
      ]
     },
     "metadata": {},
     "output_type": "display_data"
    },
    {
     "data": {
      "application/vnd.jupyter.widget-view+json": {
       "model_id": "9de2588974ef470bb5132f86d20bc2e8",
       "version_major": 2,
       "version_minor": 0
      },
      "text/plain": [
       "replaying log with TBR, completed variants ::   0%|          | 0/135 [00:00<?, ?it/s]"
      ]
     },
     "metadata": {},
     "output_type": "display_data"
    },
    {
     "data": {
      "application/vnd.jupyter.widget-view+json": {
       "model_id": "3195ef4916fc422a94863abd6a98f400",
       "version_major": 2,
       "version_minor": 0
      },
      "text/plain": [
       "replaying log with TBR, completed variants ::   0%|          | 0/18 [00:00<?, ?it/s]"
      ]
     },
     "metadata": {},
     "output_type": "display_data"
    },
    {
     "data": {
      "application/vnd.jupyter.widget-view+json": {
       "model_id": "e3c62bb8bff24ce3adff75273fc1218f",
       "version_major": 2,
       "version_minor": 0
      },
      "text/plain": [
       "replaying log with TBR, completed variants ::   0%|          | 0/18 [00:00<?, ?it/s]"
      ]
     },
     "metadata": {},
     "output_type": "display_data"
    },
    {
     "data": {
      "application/vnd.jupyter.widget-view+json": {
       "model_id": "d03a71f405e340cabb6e578cb838c606",
       "version_major": 2,
       "version_minor": 0
      },
      "text/plain": [
       "replaying log with TBR, completed variants ::   0%|          | 0/205 [00:00<?, ?it/s]"
      ]
     },
     "metadata": {},
     "output_type": "display_data"
    },
    {
     "data": {
      "application/vnd.jupyter.widget-view+json": {
       "model_id": "50a1f219bcb540a9bc9a6930f53c02c2",
       "version_major": 2,
       "version_minor": 0
      },
      "text/plain": [
       "replaying log with TBR, completed variants ::   0%|          | 0/17 [00:00<?, ?it/s]"
      ]
     },
     "metadata": {},
     "output_type": "display_data"
    },
    {
     "data": {
      "application/vnd.jupyter.widget-view+json": {
       "model_id": "65a472ec947641e09e4aef46bf50854d",
       "version_major": 2,
       "version_minor": 0
      },
      "text/plain": [
       "replaying log with TBR, completed variants ::   0%|          | 0/17 [00:00<?, ?it/s]"
      ]
     },
     "metadata": {},
     "output_type": "display_data"
    },
    {
     "data": {
      "application/vnd.jupyter.widget-view+json": {
       "model_id": "db6249156710492a8a3b9c8098312d9c",
       "version_major": 2,
       "version_minor": 0
      },
      "text/plain": [
       "replaying log with TBR, completed variants ::   0%|          | 0/88 [00:00<?, ?it/s]"
      ]
     },
     "metadata": {},
     "output_type": "display_data"
    },
    {
     "data": {
      "application/vnd.jupyter.widget-view+json": {
       "model_id": "744e6d4fec1044dbaec52081e2d856c0",
       "version_major": 2,
       "version_minor": 0
      },
      "text/plain": [
       "replaying log with TBR, completed variants ::   0%|          | 0/13 [00:00<?, ?it/s]"
      ]
     },
     "metadata": {},
     "output_type": "display_data"
    },
    {
     "data": {
      "application/vnd.jupyter.widget-view+json": {
       "model_id": "5cf0869e0e6f4e26a7d16885b03d2470",
       "version_major": 2,
       "version_minor": 0
      },
      "text/plain": [
       "replaying log with TBR, completed variants ::   0%|          | 0/13 [00:00<?, ?it/s]"
      ]
     },
     "metadata": {},
     "output_type": "display_data"
    },
    {
     "data": {
      "application/vnd.jupyter.widget-view+json": {
       "model_id": "ceeec767cfac4ed4ada674147a44549c",
       "version_major": 2,
       "version_minor": 0
      },
      "text/plain": [
       "replaying log with TBR, completed variants ::   0%|          | 0/263 [00:00<?, ?it/s]"
      ]
     },
     "metadata": {},
     "output_type": "display_data"
    },
    {
     "data": {
      "application/vnd.jupyter.widget-view+json": {
       "model_id": "8bddb7db97ba410f975d04d8a1bd3fe6",
       "version_major": 2,
       "version_minor": 0
      },
      "text/plain": [
       "replaying log with TBR, completed variants ::   0%|          | 0/12 [00:00<?, ?it/s]"
      ]
     },
     "metadata": {},
     "output_type": "display_data"
    },
    {
     "data": {
      "application/vnd.jupyter.widget-view+json": {
       "model_id": "2520dc1ef5094071a87765065eb8de88",
       "version_major": 2,
       "version_minor": 0
      },
      "text/plain": [
       "replaying log with TBR, completed variants ::   0%|          | 0/12 [00:00<?, ?it/s]"
      ]
     },
     "metadata": {},
     "output_type": "display_data"
    },
    {
     "data": {
      "application/vnd.jupyter.widget-view+json": {
       "model_id": "3f6ce5c4d6e64b96bd1cf060a2e97c8a",
       "version_major": 2,
       "version_minor": 0
      },
      "text/plain": [
       "replaying log with TBR, completed variants ::   0%|          | 0/85 [00:00<?, ?it/s]"
      ]
     },
     "metadata": {},
     "output_type": "display_data"
    },
    {
     "data": {
      "application/vnd.jupyter.widget-view+json": {
       "model_id": "7c9da7c1276b4a719c87f580d4d37a5c",
       "version_major": 2,
       "version_minor": 0
      },
      "text/plain": [
       "replaying log with TBR, completed variants ::   0%|          | 0/11 [00:00<?, ?it/s]"
      ]
     },
     "metadata": {},
     "output_type": "display_data"
    },
    {
     "data": {
      "application/vnd.jupyter.widget-view+json": {
       "model_id": "42a33fabf4704b66ac450b08fce390c6",
       "version_major": 2,
       "version_minor": 0
      },
      "text/plain": [
       "replaying log with TBR, completed variants ::   0%|          | 0/11 [00:00<?, ?it/s]"
      ]
     },
     "metadata": {},
     "output_type": "display_data"
    },
    {
     "data": {
      "application/vnd.jupyter.widget-view+json": {
       "model_id": "e474eccbdbef4b53a329e93445254e63",
       "version_major": 2,
       "version_minor": 0
      },
      "text/plain": [
       "replaying log with TBR, completed variants ::   0%|          | 0/73 [00:00<?, ?it/s]"
      ]
     },
     "metadata": {},
     "output_type": "display_data"
    },
    {
     "data": {
      "application/vnd.jupyter.widget-view+json": {
       "model_id": "b566f2605995497c99d3d2fda517247a",
       "version_major": 2,
       "version_minor": 0
      },
      "text/plain": [
       "replaying log with TBR, completed variants ::   0%|          | 0/9 [00:00<?, ?it/s]"
      ]
     },
     "metadata": {},
     "output_type": "display_data"
    },
    {
     "data": {
      "application/vnd.jupyter.widget-view+json": {
       "model_id": "9656425edac04e88a98bf9cc8927f19b",
       "version_major": 2,
       "version_minor": 0
      },
      "text/plain": [
       "replaying log with TBR, completed variants ::   0%|          | 0/9 [00:00<?, ?it/s]"
      ]
     },
     "metadata": {},
     "output_type": "display_data"
    },
    {
     "name": "stdout",
     "output_type": "stream",
     "text": [
      "eps: 0.01, delta: 0.01, prec: 0.2686714658197714, fit: 0.9477683753297708, gen: 0.6145901995380948\n"
     ]
    },
    {
     "data": {
      "application/vnd.jupyter.widget-view+json": {
       "model_id": "de2da8f3ea0a481bb18016e6dfe5ea9d",
       "version_major": 2,
       "version_minor": 0
      },
      "text/plain": [
       "replaying log with TBR, completed variants ::   0%|          | 0/13 [00:00<?, ?it/s]"
      ]
     },
     "metadata": {},
     "output_type": "display_data"
    },
    {
     "data": {
      "application/vnd.jupyter.widget-view+json": {
       "model_id": "184a0f09f3b24e5489ba0d231c0f4fd0",
       "version_major": 2,
       "version_minor": 0
      },
      "text/plain": [
       "replaying log with TBR, completed variants ::   0%|          | 0/2 [00:00<?, ?it/s]"
      ]
     },
     "metadata": {},
     "output_type": "display_data"
    },
    {
     "data": {
      "application/vnd.jupyter.widget-view+json": {
       "model_id": "d181aadd0a7f4e7c82f2430d94a12969",
       "version_major": 2,
       "version_minor": 0
      },
      "text/plain": [
       "replaying log with TBR, completed variants ::   0%|          | 0/11 [00:00<?, ?it/s]"
      ]
     },
     "metadata": {},
     "output_type": "display_data"
    },
    {
     "data": {
      "application/vnd.jupyter.widget-view+json": {
       "model_id": "01c493ad29c84791a23cf1642b1b230e",
       "version_major": 2,
       "version_minor": 0
      },
      "text/plain": [
       "replaying log with TBR, completed variants ::   0%|          | 0/27 [00:00<?, ?it/s]"
      ]
     },
     "metadata": {},
     "output_type": "display_data"
    },
    {
     "data": {
      "application/vnd.jupyter.widget-view+json": {
       "model_id": "6c1b23691c6249648309d5dbfd26b16f",
       "version_major": 2,
       "version_minor": 0
      },
      "text/plain": [
       "replaying log with TBR, completed variants ::   0%|          | 0/2 [00:00<?, ?it/s]"
      ]
     },
     "metadata": {},
     "output_type": "display_data"
    },
    {
     "data": {
      "application/vnd.jupyter.widget-view+json": {
       "model_id": "6bbc51be94354c83abe16955ed839dba",
       "version_major": 2,
       "version_minor": 0
      },
      "text/plain": [
       "replaying log with TBR, completed variants ::   0%|          | 0/2 [00:00<?, ?it/s]"
      ]
     },
     "metadata": {},
     "output_type": "display_data"
    },
    {
     "data": {
      "application/vnd.jupyter.widget-view+json": {
       "model_id": "21fc433d388b448784383a246182578a",
       "version_major": 2,
       "version_minor": 0
      },
      "text/plain": [
       "replaying log with TBR, completed variants ::   0%|          | 0/21 [00:00<?, ?it/s]"
      ]
     },
     "metadata": {},
     "output_type": "display_data"
    },
    {
     "data": {
      "application/vnd.jupyter.widget-view+json": {
       "model_id": "a2221f23ecc649c08f49ba27e0009e30",
       "version_major": 2,
       "version_minor": 0
      },
      "text/plain": [
       "replaying log with TBR, completed variants ::   0%|          | 0/2 [00:00<?, ?it/s]"
      ]
     },
     "metadata": {},
     "output_type": "display_data"
    },
    {
     "data": {
      "application/vnd.jupyter.widget-view+json": {
       "model_id": "582fe0d12467451192eccd488c50f14d",
       "version_major": 2,
       "version_minor": 0
      },
      "text/plain": [
       "replaying log with TBR, completed variants ::   0%|          | 0/2 [00:00<?, ?it/s]"
      ]
     },
     "metadata": {},
     "output_type": "display_data"
    },
    {
     "data": {
      "application/vnd.jupyter.widget-view+json": {
       "model_id": "786248a52b9c426c9c4b20d0eb7d8637",
       "version_major": 2,
       "version_minor": 0
      },
      "text/plain": [
       "replaying log with TBR, completed variants ::   0%|          | 0/13 [00:00<?, ?it/s]"
      ]
     },
     "metadata": {},
     "output_type": "display_data"
    },
    {
     "data": {
      "application/vnd.jupyter.widget-view+json": {
       "model_id": "71670ccca0fc4fa7a90e2579ae9f94dd",
       "version_major": 2,
       "version_minor": 0
      },
      "text/plain": [
       "replaying log with TBR, completed variants ::   0%|          | 0/15 [00:00<?, ?it/s]"
      ]
     },
     "metadata": {},
     "output_type": "display_data"
    },
    {
     "data": {
      "application/vnd.jupyter.widget-view+json": {
       "model_id": "6f7bf7cdbad649829837959d69419738",
       "version_major": 2,
       "version_minor": 0
      },
      "text/plain": [
       "replaying log with TBR, completed variants ::   0%|          | 0/13 [00:00<?, ?it/s]"
      ]
     },
     "metadata": {},
     "output_type": "display_data"
    },
    {
     "data": {
      "application/vnd.jupyter.widget-view+json": {
       "model_id": "e6c95754bc0c4f6ba9004719389829c8",
       "version_major": 2,
       "version_minor": 0
      },
      "text/plain": [
       "replaying log with TBR, completed variants ::   0%|          | 0/2 [00:00<?, ?it/s]"
      ]
     },
     "metadata": {},
     "output_type": "display_data"
    },
    {
     "data": {
      "application/vnd.jupyter.widget-view+json": {
       "model_id": "583ed5b1b46e4121980458f46791d3ed",
       "version_major": 2,
       "version_minor": 0
      },
      "text/plain": [
       "replaying log with TBR, completed variants ::   0%|          | 0/2 [00:00<?, ?it/s]"
      ]
     },
     "metadata": {},
     "output_type": "display_data"
    },
    {
     "data": {
      "application/vnd.jupyter.widget-view+json": {
       "model_id": "9fea3bf7987240a4ac61423061ac14a6",
       "version_major": 2,
       "version_minor": 0
      },
      "text/plain": [
       "replaying log with TBR, completed variants ::   0%|          | 0/8 [00:00<?, ?it/s]"
      ]
     },
     "metadata": {},
     "output_type": "display_data"
    },
    {
     "data": {
      "application/vnd.jupyter.widget-view+json": {
       "model_id": "a5c893f18ac1452683b472c1e2fac455",
       "version_major": 2,
       "version_minor": 0
      },
      "text/plain": [
       "replaying log with TBR, completed variants ::   0%|          | 0/2 [00:00<?, ?it/s]"
      ]
     },
     "metadata": {},
     "output_type": "display_data"
    },
    {
     "data": {
      "application/vnd.jupyter.widget-view+json": {
       "model_id": "8142844dce08465789ea7b09313c352c",
       "version_major": 2,
       "version_minor": 0
      },
      "text/plain": [
       "replaying log with TBR, completed variants ::   0%|          | 0/2 [00:00<?, ?it/s]"
      ]
     },
     "metadata": {},
     "output_type": "display_data"
    },
    {
     "name": "stdout",
     "output_type": "stream",
     "text": [
      "eps: 0.01, delta: 0.001, prec: 0.19547913320255864, fit: 0.94795882899674, gen: 0.11286205137798995\n"
     ]
    },
    {
     "data": {
      "application/vnd.jupyter.widget-view+json": {
       "model_id": "f2d13372882c47df9b59c3a583af0d71",
       "version_major": 2,
       "version_minor": 0
      },
      "text/plain": [
       "replaying log with TBR, completed variants ::   0%|          | 0/2374 [00:00<?, ?it/s]"
      ]
     },
     "metadata": {},
     "output_type": "display_data"
    },
    {
     "data": {
      "application/vnd.jupyter.widget-view+json": {
       "model_id": "dfaac3cf12b44064b1559df5e80d7181",
       "version_major": 2,
       "version_minor": 0
      },
      "text/plain": [
       "replaying log with TBR, completed variants ::   0%|          | 0/324 [00:00<?, ?it/s]"
      ]
     },
     "metadata": {},
     "output_type": "display_data"
    },
    {
     "data": {
      "application/vnd.jupyter.widget-view+json": {
       "model_id": "a24d93c1cc5b48b795b8206b07832d18",
       "version_major": 2,
       "version_minor": 0
      },
      "text/plain": [
       "replaying log with TBR, completed variants ::   0%|          | 0/324 [00:00<?, ?it/s]"
      ]
     },
     "metadata": {},
     "output_type": "display_data"
    },
    {
     "data": {
      "application/vnd.jupyter.widget-view+json": {
       "model_id": "3f6e566f30204589bd9ad550a4a28ccd",
       "version_major": 2,
       "version_minor": 0
      },
      "text/plain": [
       "replaying log with TBR, completed variants ::   0%|          | 0/2371 [00:00<?, ?it/s]"
      ]
     },
     "metadata": {},
     "output_type": "display_data"
    },
    {
     "data": {
      "application/vnd.jupyter.widget-view+json": {
       "model_id": "e38a92e8362e4221932f6bec847f352b",
       "version_major": 2,
       "version_minor": 0
      },
      "text/plain": [
       "replaying log with TBR, completed variants ::   0%|          | 0/334 [00:00<?, ?it/s]"
      ]
     },
     "metadata": {},
     "output_type": "display_data"
    },
    {
     "data": {
      "application/vnd.jupyter.widget-view+json": {
       "model_id": "be73a3813d9241a49186df8266c038c5",
       "version_major": 2,
       "version_minor": 0
      },
      "text/plain": [
       "replaying log with TBR, completed variants ::   0%|          | 0/334 [00:00<?, ?it/s]"
      ]
     },
     "metadata": {},
     "output_type": "display_data"
    },
    {
     "data": {
      "application/vnd.jupyter.widget-view+json": {
       "model_id": "96aec668444c43118781d635a780eb20",
       "version_major": 2,
       "version_minor": 0
      },
      "text/plain": [
       "replaying log with TBR, completed variants ::   0%|          | 0/2936 [00:00<?, ?it/s]"
      ]
     },
     "metadata": {},
     "output_type": "display_data"
    },
    {
     "data": {
      "application/vnd.jupyter.widget-view+json": {
       "model_id": "b7b700af31a14b449f69b650b5c50092",
       "version_major": 2,
       "version_minor": 0
      },
      "text/plain": [
       "replaying log with TBR, completed variants ::   0%|          | 0/350 [00:00<?, ?it/s]"
      ]
     },
     "metadata": {},
     "output_type": "display_data"
    },
    {
     "data": {
      "application/vnd.jupyter.widget-view+json": {
       "model_id": "faff247e8e8e480cab64de9a649bf931",
       "version_major": 2,
       "version_minor": 0
      },
      "text/plain": [
       "replaying log with TBR, completed variants ::   0%|          | 0/350 [00:00<?, ?it/s]"
      ]
     },
     "metadata": {},
     "output_type": "display_data"
    },
    {
     "data": {
      "application/vnd.jupyter.widget-view+json": {
       "model_id": "fad3b204865a425facec5fd1b224ff72",
       "version_major": 2,
       "version_minor": 0
      },
      "text/plain": [
       "replaying log with TBR, completed variants ::   0%|          | 0/2445 [00:00<?, ?it/s]"
      ]
     },
     "metadata": {},
     "output_type": "display_data"
    },
    {
     "data": {
      "application/vnd.jupyter.widget-view+json": {
       "model_id": "642df4508b384dddba0df8d0eae63e66",
       "version_major": 2,
       "version_minor": 0
      },
      "text/plain": [
       "replaying log with TBR, completed variants ::   0%|          | 0/333 [00:00<?, ?it/s]"
      ]
     },
     "metadata": {},
     "output_type": "display_data"
    },
    {
     "data": {
      "application/vnd.jupyter.widget-view+json": {
       "model_id": "83eb325265d34384be4e08b192e7a3aa",
       "version_major": 2,
       "version_minor": 0
      },
      "text/plain": [
       "replaying log with TBR, completed variants ::   0%|          | 0/333 [00:00<?, ?it/s]"
      ]
     },
     "metadata": {},
     "output_type": "display_data"
    },
    {
     "data": {
      "application/vnd.jupyter.widget-view+json": {
       "model_id": "4ba2077882ac4586bb37cc97d1a2d8f8",
       "version_major": 2,
       "version_minor": 0
      },
      "text/plain": [
       "replaying log with TBR, completed variants ::   0%|          | 0/2306 [00:00<?, ?it/s]"
      ]
     },
     "metadata": {},
     "output_type": "display_data"
    },
    {
     "data": {
      "application/vnd.jupyter.widget-view+json": {
       "model_id": "b78dcd06c0b8412b9340c417d440af54",
       "version_major": 2,
       "version_minor": 0
      },
      "text/plain": [
       "replaying log with TBR, completed variants ::   0%|          | 0/325 [00:00<?, ?it/s]"
      ]
     },
     "metadata": {},
     "output_type": "display_data"
    },
    {
     "data": {
      "application/vnd.jupyter.widget-view+json": {
       "model_id": "5d5d7097896b4cbb8a94de1b77f2ed1e",
       "version_major": 2,
       "version_minor": 0
      },
      "text/plain": [
       "replaying log with TBR, completed variants ::   0%|          | 0/325 [00:00<?, ?it/s]"
      ]
     },
     "metadata": {},
     "output_type": "display_data"
    },
    {
     "data": {
      "application/vnd.jupyter.widget-view+json": {
       "model_id": "51a12e2b25e447d5be44a0177d1f62ec",
       "version_major": 2,
       "version_minor": 0
      },
      "text/plain": [
       "replaying log with TBR, completed variants ::   0%|          | 0/2538 [00:00<?, ?it/s]"
      ]
     },
     "metadata": {},
     "output_type": "display_data"
    },
    {
     "data": {
      "application/vnd.jupyter.widget-view+json": {
       "model_id": "a539da708bb14b9998ad200c1eb1fbc3",
       "version_major": 2,
       "version_minor": 0
      },
      "text/plain": [
       "replaying log with TBR, completed variants ::   0%|          | 0/351 [00:00<?, ?it/s]"
      ]
     },
     "metadata": {},
     "output_type": "display_data"
    },
    {
     "data": {
      "application/vnd.jupyter.widget-view+json": {
       "model_id": "1d94cc5556014e9fbd27e5ca0eb6eba0",
       "version_major": 2,
       "version_minor": 0
      },
      "text/plain": [
       "replaying log with TBR, completed variants ::   0%|          | 0/351 [00:00<?, ?it/s]"
      ]
     },
     "metadata": {},
     "output_type": "display_data"
    },
    {
     "data": {
      "application/vnd.jupyter.widget-view+json": {
       "model_id": "5768c2b0c3e94aa29724683f93af9996",
       "version_major": 2,
       "version_minor": 0
      },
      "text/plain": [
       "replaying log with TBR, completed variants ::   0%|          | 0/2461 [00:00<?, ?it/s]"
      ]
     },
     "metadata": {},
     "output_type": "display_data"
    },
    {
     "data": {
      "application/vnd.jupyter.widget-view+json": {
       "model_id": "8c56b9bb27a8472db1fcccc6e62224a1",
       "version_major": 2,
       "version_minor": 0
      },
      "text/plain": [
       "replaying log with TBR, completed variants ::   0%|          | 0/354 [00:00<?, ?it/s]"
      ]
     },
     "metadata": {},
     "output_type": "display_data"
    },
    {
     "data": {
      "application/vnd.jupyter.widget-view+json": {
       "model_id": "3da23779a026437aafd2a1c99820c1e1",
       "version_major": 2,
       "version_minor": 0
      },
      "text/plain": [
       "replaying log with TBR, completed variants ::   0%|          | 0/354 [00:00<?, ?it/s]"
      ]
     },
     "metadata": {},
     "output_type": "display_data"
    },
    {
     "data": {
      "application/vnd.jupyter.widget-view+json": {
       "model_id": "f3da01fca4a94b77ae27815212fba411",
       "version_major": 2,
       "version_minor": 0
      },
      "text/plain": [
       "replaying log with TBR, completed variants ::   0%|          | 0/2442 [00:00<?, ?it/s]"
      ]
     },
     "metadata": {},
     "output_type": "display_data"
    },
    {
     "data": {
      "application/vnd.jupyter.widget-view+json": {
       "model_id": "f3f4a5aee0024b34a99e928315dd0fcd",
       "version_major": 2,
       "version_minor": 0
      },
      "text/plain": [
       "replaying log with TBR, completed variants ::   0%|          | 0/338 [00:00<?, ?it/s]"
      ]
     },
     "metadata": {},
     "output_type": "display_data"
    },
    {
     "data": {
      "application/vnd.jupyter.widget-view+json": {
       "model_id": "93ebba3dd7474497b2eff211fd764e47",
       "version_major": 2,
       "version_minor": 0
      },
      "text/plain": [
       "replaying log with TBR, completed variants ::   0%|          | 0/338 [00:00<?, ?it/s]"
      ]
     },
     "metadata": {},
     "output_type": "display_data"
    },
    {
     "data": {
      "application/vnd.jupyter.widget-view+json": {
       "model_id": "7524cd29e2a94eb783443a531e0db39a",
       "version_major": 2,
       "version_minor": 0
      },
      "text/plain": [
       "replaying log with TBR, completed variants ::   0%|          | 0/2172 [00:00<?, ?it/s]"
      ]
     },
     "metadata": {},
     "output_type": "display_data"
    },
    {
     "data": {
      "application/vnd.jupyter.widget-view+json": {
       "model_id": "785ad4b4f38a405688b453916bb24d8a",
       "version_major": 2,
       "version_minor": 0
      },
      "text/plain": [
       "replaying log with TBR, completed variants ::   0%|          | 0/306 [00:00<?, ?it/s]"
      ]
     },
     "metadata": {},
     "output_type": "display_data"
    },
    {
     "data": {
      "application/vnd.jupyter.widget-view+json": {
       "model_id": "0209af5167c54f32af41642a6419a1f0",
       "version_major": 2,
       "version_minor": 0
      },
      "text/plain": [
       "replaying log with TBR, completed variants ::   0%|          | 0/306 [00:00<?, ?it/s]"
      ]
     },
     "metadata": {},
     "output_type": "display_data"
    },
    {
     "data": {
      "application/vnd.jupyter.widget-view+json": {
       "model_id": "cccea082e30d4fc58b87883b1132ee5a",
       "version_major": 2,
       "version_minor": 0
      },
      "text/plain": [
       "replaying log with TBR, completed variants ::   0%|          | 0/2075 [00:00<?, ?it/s]"
      ]
     },
     "metadata": {},
     "output_type": "display_data"
    },
    {
     "data": {
      "application/vnd.jupyter.widget-view+json": {
       "model_id": "d3346476a6c240a5be673a5ec58f036b",
       "version_major": 2,
       "version_minor": 0
      },
      "text/plain": [
       "replaying log with TBR, completed variants ::   0%|          | 0/336 [00:00<?, ?it/s]"
      ]
     },
     "metadata": {},
     "output_type": "display_data"
    },
    {
     "data": {
      "application/vnd.jupyter.widget-view+json": {
       "model_id": "c4f406cbc17e4a178064a6b233100af2",
       "version_major": 2,
       "version_minor": 0
      },
      "text/plain": [
       "replaying log with TBR, completed variants ::   0%|          | 0/336 [00:00<?, ?it/s]"
      ]
     },
     "metadata": {},
     "output_type": "display_data"
    },
    {
     "name": "stdout",
     "output_type": "stream",
     "text": [
      "eps: 0.001, delta: 0.5, prec: 0.4505182867104923, fit: 0.9528958162797767, gen: 0.9350834926887781\n"
     ]
    },
    {
     "data": {
      "application/vnd.jupyter.widget-view+json": {
       "model_id": "f98d02398a944bf7972be71ba8e8cc7b",
       "version_major": 2,
       "version_minor": 0
      },
      "text/plain": [
       "replaying log with TBR, completed variants ::   0%|          | 0/879 [00:00<?, ?it/s]"
      ]
     },
     "metadata": {},
     "output_type": "display_data"
    },
    {
     "data": {
      "application/vnd.jupyter.widget-view+json": {
       "model_id": "3f2aea1d7d444e01b2c5549865ad7a09",
       "version_major": 2,
       "version_minor": 0
      },
      "text/plain": [
       "replaying log with TBR, completed variants ::   0%|          | 0/105 [00:00<?, ?it/s]"
      ]
     },
     "metadata": {},
     "output_type": "display_data"
    },
    {
     "data": {
      "application/vnd.jupyter.widget-view+json": {
       "model_id": "7ef91548cda94cb69b198b25f088d615",
       "version_major": 2,
       "version_minor": 0
      },
      "text/plain": [
       "replaying log with TBR, completed variants ::   0%|          | 0/105 [00:00<?, ?it/s]"
      ]
     },
     "metadata": {},
     "output_type": "display_data"
    },
    {
     "data": {
      "application/vnd.jupyter.widget-view+json": {
       "model_id": "8bbf1250d5e549d8b32939e061478600",
       "version_major": 2,
       "version_minor": 0
      },
      "text/plain": [
       "replaying log with TBR, completed variants ::   0%|          | 0/872 [00:00<?, ?it/s]"
      ]
     },
     "metadata": {},
     "output_type": "display_data"
    },
    {
     "data": {
      "application/vnd.jupyter.widget-view+json": {
       "model_id": "edf8990f37f74047babb1a8306055051",
       "version_major": 2,
       "version_minor": 0
      },
      "text/plain": [
       "replaying log with TBR, completed variants ::   0%|          | 0/99 [00:00<?, ?it/s]"
      ]
     },
     "metadata": {},
     "output_type": "display_data"
    },
    {
     "data": {
      "application/vnd.jupyter.widget-view+json": {
       "model_id": "c08a76fe4af044ba88449c2df735a55f",
       "version_major": 2,
       "version_minor": 0
      },
      "text/plain": [
       "replaying log with TBR, completed variants ::   0%|          | 0/99 [00:00<?, ?it/s]"
      ]
     },
     "metadata": {},
     "output_type": "display_data"
    },
    {
     "data": {
      "application/vnd.jupyter.widget-view+json": {
       "model_id": "bda22234bbed4dba88c49ba998b5fe07",
       "version_major": 2,
       "version_minor": 0
      },
      "text/plain": [
       "replaying log with TBR, completed variants ::   0%|          | 0/725 [00:00<?, ?it/s]"
      ]
     },
     "metadata": {},
     "output_type": "display_data"
    },
    {
     "data": {
      "application/vnd.jupyter.widget-view+json": {
       "model_id": "2efcb39217b740649fcb637d865832a4",
       "version_major": 2,
       "version_minor": 0
      },
      "text/plain": [
       "replaying log with TBR, completed variants ::   0%|          | 0/92 [00:00<?, ?it/s]"
      ]
     },
     "metadata": {},
     "output_type": "display_data"
    },
    {
     "data": {
      "application/vnd.jupyter.widget-view+json": {
       "model_id": "813683c8c1c94808bebedfb558205dd1",
       "version_major": 2,
       "version_minor": 0
      },
      "text/plain": [
       "replaying log with TBR, completed variants ::   0%|          | 0/92 [00:00<?, ?it/s]"
      ]
     },
     "metadata": {},
     "output_type": "display_data"
    },
    {
     "data": {
      "application/vnd.jupyter.widget-view+json": {
       "model_id": "9bc64e82ba174f9a842275f55d018d7c",
       "version_major": 2,
       "version_minor": 0
      },
      "text/plain": [
       "replaying log with TBR, completed variants ::   0%|          | 0/710 [00:00<?, ?it/s]"
      ]
     },
     "metadata": {},
     "output_type": "display_data"
    },
    {
     "data": {
      "application/vnd.jupyter.widget-view+json": {
       "model_id": "edc22f7cdaeb4e19930c6f1062691092",
       "version_major": 2,
       "version_minor": 0
      },
      "text/plain": [
       "replaying log with TBR, completed variants ::   0%|          | 0/92 [00:00<?, ?it/s]"
      ]
     },
     "metadata": {},
     "output_type": "display_data"
    },
    {
     "data": {
      "application/vnd.jupyter.widget-view+json": {
       "model_id": "98caf79e479c4b988c8672ea818242b5",
       "version_major": 2,
       "version_minor": 0
      },
      "text/plain": [
       "replaying log with TBR, completed variants ::   0%|          | 0/92 [00:00<?, ?it/s]"
      ]
     },
     "metadata": {},
     "output_type": "display_data"
    },
    {
     "data": {
      "application/vnd.jupyter.widget-view+json": {
       "model_id": "90ca4262f842493c87f163416448caae",
       "version_major": 2,
       "version_minor": 0
      },
      "text/plain": [
       "replaying log with TBR, completed variants ::   0%|          | 0/808 [00:00<?, ?it/s]"
      ]
     },
     "metadata": {},
     "output_type": "display_data"
    },
    {
     "data": {
      "application/vnd.jupyter.widget-view+json": {
       "model_id": "8fe142f68fb94c10bfdb9db2003f4d7c",
       "version_major": 2,
       "version_minor": 0
      },
      "text/plain": [
       "replaying log with TBR, completed variants ::   0%|          | 0/109 [00:00<?, ?it/s]"
      ]
     },
     "metadata": {},
     "output_type": "display_data"
    },
    {
     "data": {
      "application/vnd.jupyter.widget-view+json": {
       "model_id": "c0a4965ec1244ffeb497a00121cda8f3",
       "version_major": 2,
       "version_minor": 0
      },
      "text/plain": [
       "replaying log with TBR, completed variants ::   0%|          | 0/109 [00:00<?, ?it/s]"
      ]
     },
     "metadata": {},
     "output_type": "display_data"
    },
    {
     "data": {
      "application/vnd.jupyter.widget-view+json": {
       "model_id": "c7f51ad2f9d744c4b961e16c17af6fff",
       "version_major": 2,
       "version_minor": 0
      },
      "text/plain": [
       "replaying log with TBR, completed variants ::   0%|          | 0/818 [00:00<?, ?it/s]"
      ]
     },
     "metadata": {},
     "output_type": "display_data"
    },
    {
     "data": {
      "application/vnd.jupyter.widget-view+json": {
       "model_id": "c203ee645e7a4ee2acd5ed8657194cb0",
       "version_major": 2,
       "version_minor": 0
      },
      "text/plain": [
       "replaying log with TBR, completed variants ::   0%|          | 0/93 [00:00<?, ?it/s]"
      ]
     },
     "metadata": {},
     "output_type": "display_data"
    },
    {
     "data": {
      "application/vnd.jupyter.widget-view+json": {
       "model_id": "171cafae76fd45619ed9a640258ec483",
       "version_major": 2,
       "version_minor": 0
      },
      "text/plain": [
       "replaying log with TBR, completed variants ::   0%|          | 0/93 [00:00<?, ?it/s]"
      ]
     },
     "metadata": {},
     "output_type": "display_data"
    },
    {
     "data": {
      "application/vnd.jupyter.widget-view+json": {
       "model_id": "8c765e7d446e4201a5af8f1e7b6a9535",
       "version_major": 2,
       "version_minor": 0
      },
      "text/plain": [
       "replaying log with TBR, completed variants ::   0%|          | 0/835 [00:00<?, ?it/s]"
      ]
     },
     "metadata": {},
     "output_type": "display_data"
    },
    {
     "data": {
      "application/vnd.jupyter.widget-view+json": {
       "model_id": "1ec01c3504df477ba0556557d3af455b",
       "version_major": 2,
       "version_minor": 0
      },
      "text/plain": [
       "replaying log with TBR, completed variants ::   0%|          | 0/96 [00:00<?, ?it/s]"
      ]
     },
     "metadata": {},
     "output_type": "display_data"
    },
    {
     "data": {
      "application/vnd.jupyter.widget-view+json": {
       "model_id": "9cf01198153a4ff4bf04d5ff2dfd2c9e",
       "version_major": 2,
       "version_minor": 0
      },
      "text/plain": [
       "replaying log with TBR, completed variants ::   0%|          | 0/96 [00:00<?, ?it/s]"
      ]
     },
     "metadata": {},
     "output_type": "display_data"
    },
    {
     "data": {
      "application/vnd.jupyter.widget-view+json": {
       "model_id": "829e36eb09304a93bf888106844018b9",
       "version_major": 2,
       "version_minor": 0
      },
      "text/plain": [
       "replaying log with TBR, completed variants ::   0%|          | 0/999 [00:00<?, ?it/s]"
      ]
     },
     "metadata": {},
     "output_type": "display_data"
    },
    {
     "data": {
      "application/vnd.jupyter.widget-view+json": {
       "model_id": "6edac180297543c4bbb9946d356d56eb",
       "version_major": 2,
       "version_minor": 0
      },
      "text/plain": [
       "replaying log with TBR, completed variants ::   0%|          | 0/94 [00:00<?, ?it/s]"
      ]
     },
     "metadata": {},
     "output_type": "display_data"
    },
    {
     "data": {
      "application/vnd.jupyter.widget-view+json": {
       "model_id": "9e5b93c1098f4f349e7ab987f63a8900",
       "version_major": 2,
       "version_minor": 0
      },
      "text/plain": [
       "replaying log with TBR, completed variants ::   0%|          | 0/94 [00:00<?, ?it/s]"
      ]
     },
     "metadata": {},
     "output_type": "display_data"
    },
    {
     "data": {
      "application/vnd.jupyter.widget-view+json": {
       "model_id": "2bb07b9d5b06445db449fadca6584512",
       "version_major": 2,
       "version_minor": 0
      },
      "text/plain": [
       "replaying log with TBR, completed variants ::   0%|          | 0/902 [00:00<?, ?it/s]"
      ]
     },
     "metadata": {},
     "output_type": "display_data"
    },
    {
     "data": {
      "application/vnd.jupyter.widget-view+json": {
       "model_id": "5a8a410386174016be865b72f254878d",
       "version_major": 2,
       "version_minor": 0
      },
      "text/plain": [
       "replaying log with TBR, completed variants ::   0%|          | 0/96 [00:00<?, ?it/s]"
      ]
     },
     "metadata": {},
     "output_type": "display_data"
    },
    {
     "data": {
      "application/vnd.jupyter.widget-view+json": {
       "model_id": "607e576887d34fb8ac2882721937dfcf",
       "version_major": 2,
       "version_minor": 0
      },
      "text/plain": [
       "replaying log with TBR, completed variants ::   0%|          | 0/96 [00:00<?, ?it/s]"
      ]
     },
     "metadata": {},
     "output_type": "display_data"
    },
    {
     "data": {
      "application/vnd.jupyter.widget-view+json": {
       "model_id": "5a11c82d593e4bcf93a84c630809988f",
       "version_major": 2,
       "version_minor": 0
      },
      "text/plain": [
       "replaying log with TBR, completed variants ::   0%|          | 0/686 [00:00<?, ?it/s]"
      ]
     },
     "metadata": {},
     "output_type": "display_data"
    },
    {
     "data": {
      "application/vnd.jupyter.widget-view+json": {
       "model_id": "1fb15e2435dc4248a7896188bb18e39e",
       "version_major": 2,
       "version_minor": 0
      },
      "text/plain": [
       "replaying log with TBR, completed variants ::   0%|          | 0/85 [00:00<?, ?it/s]"
      ]
     },
     "metadata": {},
     "output_type": "display_data"
    },
    {
     "data": {
      "application/vnd.jupyter.widget-view+json": {
       "model_id": "b706c920f073416ab9b8f61a3f25ad11",
       "version_major": 2,
       "version_minor": 0
      },
      "text/plain": [
       "replaying log with TBR, completed variants ::   0%|          | 0/85 [00:00<?, ?it/s]"
      ]
     },
     "metadata": {},
     "output_type": "display_data"
    },
    {
     "name": "stdout",
     "output_type": "stream",
     "text": [
      "eps: 0.001, delta: 0.1, prec: 0.37812853902020216, fit: 0.9544111620222543, gen: 0.8751677606649906\n"
     ]
    },
    {
     "data": {
      "application/vnd.jupyter.widget-view+json": {
       "model_id": "ac1362400e8448a2ac7363cd96b7e5b1",
       "version_major": 2,
       "version_minor": 0
      },
      "text/plain": [
       "replaying log with TBR, completed variants ::   0%|          | 0/474 [00:00<?, ?it/s]"
      ]
     },
     "metadata": {},
     "output_type": "display_data"
    },
    {
     "data": {
      "application/vnd.jupyter.widget-view+json": {
       "model_id": "306dcc056f2f40c59d85d93f6c4ea1c2",
       "version_major": 2,
       "version_minor": 0
      },
      "text/plain": [
       "replaying log with TBR, completed variants ::   0%|          | 0/55 [00:00<?, ?it/s]"
      ]
     },
     "metadata": {},
     "output_type": "display_data"
    },
    {
     "data": {
      "application/vnd.jupyter.widget-view+json": {
       "model_id": "362f63636bb8443190900b4c28bf5c72",
       "version_major": 2,
       "version_minor": 0
      },
      "text/plain": [
       "replaying log with TBR, completed variants ::   0%|          | 0/55 [00:00<?, ?it/s]"
      ]
     },
     "metadata": {},
     "output_type": "display_data"
    },
    {
     "data": {
      "application/vnd.jupyter.widget-view+json": {
       "model_id": "0ed5d775b7a442999f46482971901066",
       "version_major": 2,
       "version_minor": 0
      },
      "text/plain": [
       "replaying log with TBR, completed variants ::   0%|          | 0/434 [00:00<?, ?it/s]"
      ]
     },
     "metadata": {},
     "output_type": "display_data"
    },
    {
     "data": {
      "application/vnd.jupyter.widget-view+json": {
       "model_id": "c6d82b043a4842cf8b0be8a91f0b2273",
       "version_major": 2,
       "version_minor": 0
      },
      "text/plain": [
       "replaying log with TBR, completed variants ::   0%|          | 0/47 [00:00<?, ?it/s]"
      ]
     },
     "metadata": {},
     "output_type": "display_data"
    },
    {
     "data": {
      "application/vnd.jupyter.widget-view+json": {
       "model_id": "6cb79ca55bfc4b47bf4bc15ed2c4a13c",
       "version_major": 2,
       "version_minor": 0
      },
      "text/plain": [
       "replaying log with TBR, completed variants ::   0%|          | 0/47 [00:00<?, ?it/s]"
      ]
     },
     "metadata": {},
     "output_type": "display_data"
    },
    {
     "data": {
      "application/vnd.jupyter.widget-view+json": {
       "model_id": "480add23609f4e82a9f227572d389234",
       "version_major": 2,
       "version_minor": 0
      },
      "text/plain": [
       "replaying log with TBR, completed variants ::   0%|          | 0/556 [00:00<?, ?it/s]"
      ]
     },
     "metadata": {},
     "output_type": "display_data"
    },
    {
     "data": {
      "application/vnd.jupyter.widget-view+json": {
       "model_id": "f5c1e2a5945d46cdaba8582595873538",
       "version_major": 2,
       "version_minor": 0
      },
      "text/plain": [
       "replaying log with TBR, completed variants ::   0%|          | 0/61 [00:00<?, ?it/s]"
      ]
     },
     "metadata": {},
     "output_type": "display_data"
    },
    {
     "data": {
      "application/vnd.jupyter.widget-view+json": {
       "model_id": "75a26598134f4d10be3d58a73d60c0bd",
       "version_major": 2,
       "version_minor": 0
      },
      "text/plain": [
       "replaying log with TBR, completed variants ::   0%|          | 0/61 [00:00<?, ?it/s]"
      ]
     },
     "metadata": {},
     "output_type": "display_data"
    },
    {
     "data": {
      "application/vnd.jupyter.widget-view+json": {
       "model_id": "cdc15ecc225245868dfdf9b4e50ae8c2",
       "version_major": 2,
       "version_minor": 0
      },
      "text/plain": [
       "replaying log with TBR, completed variants ::   0%|          | 0/381 [00:00<?, ?it/s]"
      ]
     },
     "metadata": {},
     "output_type": "display_data"
    },
    {
     "data": {
      "application/vnd.jupyter.widget-view+json": {
       "model_id": "3d8ff8c9b18d4a6cb8964c0868506258",
       "version_major": 2,
       "version_minor": 0
      },
      "text/plain": [
       "replaying log with TBR, completed variants ::   0%|          | 0/41 [00:00<?, ?it/s]"
      ]
     },
     "metadata": {},
     "output_type": "display_data"
    },
    {
     "data": {
      "application/vnd.jupyter.widget-view+json": {
       "model_id": "1788f4f1146243f192f022a8955470f1",
       "version_major": 2,
       "version_minor": 0
      },
      "text/plain": [
       "replaying log with TBR, completed variants ::   0%|          | 0/41 [00:00<?, ?it/s]"
      ]
     },
     "metadata": {},
     "output_type": "display_data"
    },
    {
     "data": {
      "application/vnd.jupyter.widget-view+json": {
       "model_id": "16e9bc9219e54aa8aab5763759c34a67",
       "version_major": 2,
       "version_minor": 0
      },
      "text/plain": [
       "replaying log with TBR, completed variants ::   0%|          | 0/493 [00:00<?, ?it/s]"
      ]
     },
     "metadata": {},
     "output_type": "display_data"
    },
    {
     "data": {
      "application/vnd.jupyter.widget-view+json": {
       "model_id": "39559af5f3954e8ea49e3bfaa9f878d6",
       "version_major": 2,
       "version_minor": 0
      },
      "text/plain": [
       "replaying log with TBR, completed variants ::   0%|          | 0/55 [00:00<?, ?it/s]"
      ]
     },
     "metadata": {},
     "output_type": "display_data"
    },
    {
     "data": {
      "application/vnd.jupyter.widget-view+json": {
       "model_id": "60114008fbcf47c8bb9532198269d902",
       "version_major": 2,
       "version_minor": 0
      },
      "text/plain": [
       "replaying log with TBR, completed variants ::   0%|          | 0/55 [00:00<?, ?it/s]"
      ]
     },
     "metadata": {},
     "output_type": "display_data"
    },
    {
     "data": {
      "application/vnd.jupyter.widget-view+json": {
       "model_id": "6c956e78a04242f49b0472c41c4e391b",
       "version_major": 2,
       "version_minor": 0
      },
      "text/plain": [
       "replaying log with TBR, completed variants ::   0%|          | 0/464 [00:00<?, ?it/s]"
      ]
     },
     "metadata": {},
     "output_type": "display_data"
    },
    {
     "data": {
      "application/vnd.jupyter.widget-view+json": {
       "model_id": "123dd778ad3e49fd800f234963972ff6",
       "version_major": 2,
       "version_minor": 0
      },
      "text/plain": [
       "replaying log with TBR, completed variants ::   0%|          | 0/51 [00:00<?, ?it/s]"
      ]
     },
     "metadata": {},
     "output_type": "display_data"
    },
    {
     "data": {
      "application/vnd.jupyter.widget-view+json": {
       "model_id": "bcfad6f552994232bffb1b700b7f3780",
       "version_major": 2,
       "version_minor": 0
      },
      "text/plain": [
       "replaying log with TBR, completed variants ::   0%|          | 0/51 [00:00<?, ?it/s]"
      ]
     },
     "metadata": {},
     "output_type": "display_data"
    },
    {
     "data": {
      "application/vnd.jupyter.widget-view+json": {
       "model_id": "067bf32b57594a76b2df59f0db44f013",
       "version_major": 2,
       "version_minor": 0
      },
      "text/plain": [
       "replaying log with TBR, completed variants ::   0%|          | 0/376 [00:00<?, ?it/s]"
      ]
     },
     "metadata": {},
     "output_type": "display_data"
    },
    {
     "data": {
      "application/vnd.jupyter.widget-view+json": {
       "model_id": "177f533fa9a046a984705a8d436fb882",
       "version_major": 2,
       "version_minor": 0
      },
      "text/plain": [
       "replaying log with TBR, completed variants ::   0%|          | 0/45 [00:00<?, ?it/s]"
      ]
     },
     "metadata": {},
     "output_type": "display_data"
    },
    {
     "data": {
      "application/vnd.jupyter.widget-view+json": {
       "model_id": "5543ed9887744e9183c842f28b9b9068",
       "version_major": 2,
       "version_minor": 0
      },
      "text/plain": [
       "replaying log with TBR, completed variants ::   0%|          | 0/45 [00:00<?, ?it/s]"
      ]
     },
     "metadata": {},
     "output_type": "display_data"
    },
    {
     "data": {
      "application/vnd.jupyter.widget-view+json": {
       "model_id": "39a99e1f05e34882b089e70cb33f5c54",
       "version_major": 2,
       "version_minor": 0
      },
      "text/plain": [
       "replaying log with TBR, completed variants ::   0%|          | 0/393 [00:00<?, ?it/s]"
      ]
     },
     "metadata": {},
     "output_type": "display_data"
    },
    {
     "data": {
      "application/vnd.jupyter.widget-view+json": {
       "model_id": "14a87d32d4534ed1af24b709ea3a9ae9",
       "version_major": 2,
       "version_minor": 0
      },
      "text/plain": [
       "replaying log with TBR, completed variants ::   0%|          | 0/46 [00:00<?, ?it/s]"
      ]
     },
     "metadata": {},
     "output_type": "display_data"
    },
    {
     "data": {
      "application/vnd.jupyter.widget-view+json": {
       "model_id": "58753a654e0c494bbff4c456b484eef4",
       "version_major": 2,
       "version_minor": 0
      },
      "text/plain": [
       "replaying log with TBR, completed variants ::   0%|          | 0/46 [00:00<?, ?it/s]"
      ]
     },
     "metadata": {},
     "output_type": "display_data"
    },
    {
     "data": {
      "application/vnd.jupyter.widget-view+json": {
       "model_id": "ce9d29cbf0394779b7b45d92c4cd2067",
       "version_major": 2,
       "version_minor": 0
      },
      "text/plain": [
       "replaying log with TBR, completed variants ::   0%|          | 0/401 [00:00<?, ?it/s]"
      ]
     },
     "metadata": {},
     "output_type": "display_data"
    },
    {
     "data": {
      "application/vnd.jupyter.widget-view+json": {
       "model_id": "8e7838133b194978aa05ab0ffb9f9705",
       "version_major": 2,
       "version_minor": 0
      },
      "text/plain": [
       "replaying log with TBR, completed variants ::   0%|          | 0/51 [00:00<?, ?it/s]"
      ]
     },
     "metadata": {},
     "output_type": "display_data"
    },
    {
     "data": {
      "application/vnd.jupyter.widget-view+json": {
       "model_id": "e84353a257534f228d3217143fe71565",
       "version_major": 2,
       "version_minor": 0
      },
      "text/plain": [
       "replaying log with TBR, completed variants ::   0%|          | 0/51 [00:00<?, ?it/s]"
      ]
     },
     "metadata": {},
     "output_type": "display_data"
    },
    {
     "data": {
      "application/vnd.jupyter.widget-view+json": {
       "model_id": "a4662578dc854bd1943ce93a80c4a708",
       "version_major": 2,
       "version_minor": 0
      },
      "text/plain": [
       "replaying log with TBR, completed variants ::   0%|          | 0/497 [00:00<?, ?it/s]"
      ]
     },
     "metadata": {},
     "output_type": "display_data"
    },
    {
     "data": {
      "application/vnd.jupyter.widget-view+json": {
       "model_id": "6d906b2dc9664442ac9f98214b2a2cfa",
       "version_major": 2,
       "version_minor": 0
      },
      "text/plain": [
       "replaying log with TBR, completed variants ::   0%|          | 0/47 [00:00<?, ?it/s]"
      ]
     },
     "metadata": {},
     "output_type": "display_data"
    },
    {
     "data": {
      "application/vnd.jupyter.widget-view+json": {
       "model_id": "1351ea6e3c3c4a14b79925841a81effa",
       "version_major": 2,
       "version_minor": 0
      },
      "text/plain": [
       "replaying log with TBR, completed variants ::   0%|          | 0/47 [00:00<?, ?it/s]"
      ]
     },
     "metadata": {},
     "output_type": "display_data"
    },
    {
     "name": "stdout",
     "output_type": "stream",
     "text": [
      "eps: 0.001, delta: 0.05, prec: 0.3376191574560537, fit: 0.9579215889458876, gen: 0.8209977972350808\n"
     ]
    },
    {
     "data": {
      "application/vnd.jupyter.widget-view+json": {
       "model_id": "8fd40c1f22fb4754a46d99211d0e551f",
       "version_major": 2,
       "version_minor": 0
      },
      "text/plain": [
       "replaying log with TBR, completed variants ::   0%|          | 0/171 [00:00<?, ?it/s]"
      ]
     },
     "metadata": {},
     "output_type": "display_data"
    },
    {
     "data": {
      "application/vnd.jupyter.widget-view+json": {
       "model_id": "c4faa83239f2491ea8c3c882f10deb00",
       "version_major": 2,
       "version_minor": 0
      },
      "text/plain": [
       "replaying log with TBR, completed variants ::   0%|          | 0/14 [00:00<?, ?it/s]"
      ]
     },
     "metadata": {},
     "output_type": "display_data"
    },
    {
     "data": {
      "application/vnd.jupyter.widget-view+json": {
       "model_id": "d55297f168754b4faa96e20da34e70f6",
       "version_major": 2,
       "version_minor": 0
      },
      "text/plain": [
       "replaying log with TBR, completed variants ::   0%|          | 0/14 [00:00<?, ?it/s]"
      ]
     },
     "metadata": {},
     "output_type": "display_data"
    },
    {
     "data": {
      "application/vnd.jupyter.widget-view+json": {
       "model_id": "ba93f269b7994648be123fe6e2ce3c37",
       "version_major": 2,
       "version_minor": 0
      },
      "text/plain": [
       "replaying log with TBR, completed variants ::   0%|          | 0/94 [00:00<?, ?it/s]"
      ]
     },
     "metadata": {},
     "output_type": "display_data"
    },
    {
     "data": {
      "application/vnd.jupyter.widget-view+json": {
       "model_id": "f0a837ccef0544f99989bb4fae7eac13",
       "version_major": 2,
       "version_minor": 0
      },
      "text/plain": [
       "replaying log with TBR, completed variants ::   0%|          | 0/11 [00:00<?, ?it/s]"
      ]
     },
     "metadata": {},
     "output_type": "display_data"
    },
    {
     "data": {
      "application/vnd.jupyter.widget-view+json": {
       "model_id": "f482862214e7442fa8f600e5aa9ba73a",
       "version_major": 2,
       "version_minor": 0
      },
      "text/plain": [
       "replaying log with TBR, completed variants ::   0%|          | 0/11 [00:00<?, ?it/s]"
      ]
     },
     "metadata": {},
     "output_type": "display_data"
    },
    {
     "data": {
      "application/vnd.jupyter.widget-view+json": {
       "model_id": "6f141cd01de349318f7e427fa9d9493f",
       "version_major": 2,
       "version_minor": 0
      },
      "text/plain": [
       "replaying log with TBR, completed variants ::   0%|          | 0/114 [00:00<?, ?it/s]"
      ]
     },
     "metadata": {},
     "output_type": "display_data"
    },
    {
     "data": {
      "application/vnd.jupyter.widget-view+json": {
       "model_id": "2d5798f9caad4121bcfc2b180af176cb",
       "version_major": 2,
       "version_minor": 0
      },
      "text/plain": [
       "replaying log with TBR, completed variants ::   0%|          | 0/14 [00:00<?, ?it/s]"
      ]
     },
     "metadata": {},
     "output_type": "display_data"
    },
    {
     "data": {
      "application/vnd.jupyter.widget-view+json": {
       "model_id": "37bf2e72a63944b4bd27b4c5480f55f7",
       "version_major": 2,
       "version_minor": 0
      },
      "text/plain": [
       "replaying log with TBR, completed variants ::   0%|          | 0/14 [00:00<?, ?it/s]"
      ]
     },
     "metadata": {},
     "output_type": "display_data"
    },
    {
     "data": {
      "application/vnd.jupyter.widget-view+json": {
       "model_id": "e402973e38b3476d9c48faeaad329370",
       "version_major": 2,
       "version_minor": 0
      },
      "text/plain": [
       "replaying log with TBR, completed variants ::   0%|          | 0/102 [00:00<?, ?it/s]"
      ]
     },
     "metadata": {},
     "output_type": "display_data"
    },
    {
     "data": {
      "application/vnd.jupyter.widget-view+json": {
       "model_id": "da6ce7951dc343f68dd842565bc2e855",
       "version_major": 2,
       "version_minor": 0
      },
      "text/plain": [
       "replaying log with TBR, completed variants ::   0%|          | 0/10 [00:00<?, ?it/s]"
      ]
     },
     "metadata": {},
     "output_type": "display_data"
    },
    {
     "data": {
      "application/vnd.jupyter.widget-view+json": {
       "model_id": "a128f9ff7522475196c700185eeaf089",
       "version_major": 2,
       "version_minor": 0
      },
      "text/plain": [
       "replaying log with TBR, completed variants ::   0%|          | 0/10 [00:00<?, ?it/s]"
      ]
     },
     "metadata": {},
     "output_type": "display_data"
    },
    {
     "data": {
      "application/vnd.jupyter.widget-view+json": {
       "model_id": "3a26814d5b674836ab0cc2212ac589cf",
       "version_major": 2,
       "version_minor": 0
      },
      "text/plain": [
       "replaying log with TBR, completed variants ::   0%|          | 0/39 [00:00<?, ?it/s]"
      ]
     },
     "metadata": {},
     "output_type": "display_data"
    },
    {
     "data": {
      "application/vnd.jupyter.widget-view+json": {
       "model_id": "fa5b2b973c214db5b14e054bc6d30523",
       "version_major": 2,
       "version_minor": 0
      },
      "text/plain": [
       "replaying log with TBR, completed variants ::   0%|          | 0/5 [00:00<?, ?it/s]"
      ]
     },
     "metadata": {},
     "output_type": "display_data"
    },
    {
     "data": {
      "application/vnd.jupyter.widget-view+json": {
       "model_id": "ff654331dd4e4aa88701e20d659f6e42",
       "version_major": 2,
       "version_minor": 0
      },
      "text/plain": [
       "replaying log with TBR, completed variants ::   0%|          | 0/5 [00:00<?, ?it/s]"
      ]
     },
     "metadata": {},
     "output_type": "display_data"
    },
    {
     "data": {
      "application/vnd.jupyter.widget-view+json": {
       "model_id": "2b75e33ebc6d4d2fb92efce22eccbcd5",
       "version_major": 2,
       "version_minor": 0
      },
      "text/plain": [
       "replaying log with TBR, completed variants ::   0%|          | 0/84 [00:00<?, ?it/s]"
      ]
     },
     "metadata": {},
     "output_type": "display_data"
    },
    {
     "data": {
      "application/vnd.jupyter.widget-view+json": {
       "model_id": "61e88d262d2441d6ba231fe39dc94538",
       "version_major": 2,
       "version_minor": 0
      },
      "text/plain": [
       "replaying log with TBR, completed variants ::   0%|          | 0/8 [00:00<?, ?it/s]"
      ]
     },
     "metadata": {},
     "output_type": "display_data"
    },
    {
     "data": {
      "application/vnd.jupyter.widget-view+json": {
       "model_id": "98f0422ebfb24b978872ea12143b54fe",
       "version_major": 2,
       "version_minor": 0
      },
      "text/plain": [
       "replaying log with TBR, completed variants ::   0%|          | 0/8 [00:00<?, ?it/s]"
      ]
     },
     "metadata": {},
     "output_type": "display_data"
    },
    {
     "data": {
      "application/vnd.jupyter.widget-view+json": {
       "model_id": "31d861822078418aa7a845c4a5c8c110",
       "version_major": 2,
       "version_minor": 0
      },
      "text/plain": [
       "replaying log with TBR, completed variants ::   0%|          | 0/164 [00:00<?, ?it/s]"
      ]
     },
     "metadata": {},
     "output_type": "display_data"
    },
    {
     "data": {
      "application/vnd.jupyter.widget-view+json": {
       "model_id": "dc10fa5c8f4342a387510d0bd09b00e0",
       "version_major": 2,
       "version_minor": 0
      },
      "text/plain": [
       "replaying log with TBR, completed variants ::   0%|          | 0/16 [00:00<?, ?it/s]"
      ]
     },
     "metadata": {},
     "output_type": "display_data"
    },
    {
     "data": {
      "application/vnd.jupyter.widget-view+json": {
       "model_id": "a2d695959e324fff82419feeecf9f21b",
       "version_major": 2,
       "version_minor": 0
      },
      "text/plain": [
       "replaying log with TBR, completed variants ::   0%|          | 0/16 [00:00<?, ?it/s]"
      ]
     },
     "metadata": {},
     "output_type": "display_data"
    },
    {
     "data": {
      "application/vnd.jupyter.widget-view+json": {
       "model_id": "c869364d0db24548af9a1e493094f940",
       "version_major": 2,
       "version_minor": 0
      },
      "text/plain": [
       "replaying log with TBR, completed variants ::   0%|          | 0/92 [00:00<?, ?it/s]"
      ]
     },
     "metadata": {},
     "output_type": "display_data"
    },
    {
     "data": {
      "application/vnd.jupyter.widget-view+json": {
       "model_id": "1e18ca1fb03e4397a900687963095f0c",
       "version_major": 2,
       "version_minor": 0
      },
      "text/plain": [
       "replaying log with TBR, completed variants ::   0%|          | 0/15 [00:00<?, ?it/s]"
      ]
     },
     "metadata": {},
     "output_type": "display_data"
    },
    {
     "data": {
      "application/vnd.jupyter.widget-view+json": {
       "model_id": "5af8f58df5714882aa72b90cf3b85909",
       "version_major": 2,
       "version_minor": 0
      },
      "text/plain": [
       "replaying log with TBR, completed variants ::   0%|          | 0/15 [00:00<?, ?it/s]"
      ]
     },
     "metadata": {},
     "output_type": "display_data"
    },
    {
     "data": {
      "application/vnd.jupyter.widget-view+json": {
       "model_id": "76c2dd047903400bbfc21e5733f883bd",
       "version_major": 2,
       "version_minor": 0
      },
      "text/plain": [
       "replaying log with TBR, completed variants ::   0%|          | 0/114 [00:00<?, ?it/s]"
      ]
     },
     "metadata": {},
     "output_type": "display_data"
    },
    {
     "data": {
      "application/vnd.jupyter.widget-view+json": {
       "model_id": "5979c84f4af445569777213467b535ad",
       "version_major": 2,
       "version_minor": 0
      },
      "text/plain": [
       "replaying log with TBR, completed variants ::   0%|          | 0/10 [00:00<?, ?it/s]"
      ]
     },
     "metadata": {},
     "output_type": "display_data"
    },
    {
     "data": {
      "application/vnd.jupyter.widget-view+json": {
       "model_id": "591ca831a2dc40e2bad695687c313ded",
       "version_major": 2,
       "version_minor": 0
      },
      "text/plain": [
       "replaying log with TBR, completed variants ::   0%|          | 0/10 [00:00<?, ?it/s]"
      ]
     },
     "metadata": {},
     "output_type": "display_data"
    },
    {
     "data": {
      "application/vnd.jupyter.widget-view+json": {
       "model_id": "504deca1fd7641c191583ba7038f4629",
       "version_major": 2,
       "version_minor": 0
      },
      "text/plain": [
       "replaying log with TBR, completed variants ::   0%|          | 0/79 [00:00<?, ?it/s]"
      ]
     },
     "metadata": {},
     "output_type": "display_data"
    },
    {
     "data": {
      "application/vnd.jupyter.widget-view+json": {
       "model_id": "06bb7724f93b4946b638adfdccc037ef",
       "version_major": 2,
       "version_minor": 0
      },
      "text/plain": [
       "replaying log with TBR, completed variants ::   0%|          | 0/11 [00:00<?, ?it/s]"
      ]
     },
     "metadata": {},
     "output_type": "display_data"
    },
    {
     "data": {
      "application/vnd.jupyter.widget-view+json": {
       "model_id": "5e78605d5b0d4193b5fa7605763e295c",
       "version_major": 2,
       "version_minor": 0
      },
      "text/plain": [
       "replaying log with TBR, completed variants ::   0%|          | 0/11 [00:00<?, ?it/s]"
      ]
     },
     "metadata": {},
     "output_type": "display_data"
    },
    {
     "name": "stdout",
     "output_type": "stream",
     "text": [
      "eps: 0.001, delta: 0.01, prec: 0.2547026240248423, fit: 0.9528305055738061, gen: 0.5869476881479014\n"
     ]
    },
    {
     "data": {
      "application/vnd.jupyter.widget-view+json": {
       "model_id": "957b5972afcd4f128fa2c05eb4055274",
       "version_major": 2,
       "version_minor": 0
      },
      "text/plain": [
       "replaying log with TBR, completed variants ::   0%|          | 0/16 [00:00<?, ?it/s]"
      ]
     },
     "metadata": {},
     "output_type": "display_data"
    },
    {
     "data": {
      "application/vnd.jupyter.widget-view+json": {
       "model_id": "156a5a8ab9a04dcca2ccde13bba5b974",
       "version_major": 2,
       "version_minor": 0
      },
      "text/plain": [
       "replaying log with TBR, completed variants ::   0%|          | 0/18 [00:00<?, ?it/s]"
      ]
     },
     "metadata": {},
     "output_type": "display_data"
    },
    {
     "data": {
      "application/vnd.jupyter.widget-view+json": {
       "model_id": "08f3e4ecd1234f63a4e9d6b2d751b26c",
       "version_major": 2,
       "version_minor": 0
      },
      "text/plain": [
       "replaying log with TBR, completed variants ::   0%|          | 0/15 [00:00<?, ?it/s]"
      ]
     },
     "metadata": {},
     "output_type": "display_data"
    },
    {
     "data": {
      "application/vnd.jupyter.widget-view+json": {
       "model_id": "4503c4f0246345ed92c00d38827bded4",
       "version_major": 2,
       "version_minor": 0
      },
      "text/plain": [
       "replaying log with TBR, completed variants ::   0%|          | 0/21 [00:00<?, ?it/s]"
      ]
     },
     "metadata": {},
     "output_type": "display_data"
    },
    {
     "data": {
      "application/vnd.jupyter.widget-view+json": {
       "model_id": "3560bcab730d403ab9634eff21b1ed7d",
       "version_major": 2,
       "version_minor": 0
      },
      "text/plain": [
       "replaying log with TBR, completed variants ::   0%|          | 0/2 [00:00<?, ?it/s]"
      ]
     },
     "metadata": {},
     "output_type": "display_data"
    },
    {
     "data": {
      "application/vnd.jupyter.widget-view+json": {
       "model_id": "d249b6eadf744d01a736cfb959a5a933",
       "version_major": 2,
       "version_minor": 0
      },
      "text/plain": [
       "replaying log with TBR, completed variants ::   0%|          | 0/2 [00:00<?, ?it/s]"
      ]
     },
     "metadata": {},
     "output_type": "display_data"
    },
    {
     "data": {
      "application/vnd.jupyter.widget-view+json": {
       "model_id": "22c713800ab94664958583dd15fb56e8",
       "version_major": 2,
       "version_minor": 0
      },
      "text/plain": [
       "replaying log with TBR, completed variants ::   0%|          | 0/12 [00:00<?, ?it/s]"
      ]
     },
     "metadata": {},
     "output_type": "display_data"
    },
    {
     "data": {
      "application/vnd.jupyter.widget-view+json": {
       "model_id": "06d66def40544d2e9490dda7af80a354",
       "version_major": 2,
       "version_minor": 0
      },
      "text/plain": [
       "replaying log with TBR, completed variants ::   0%|          | 0/23 [00:00<?, ?it/s]"
      ]
     },
     "metadata": {},
     "output_type": "display_data"
    },
    {
     "data": {
      "application/vnd.jupyter.widget-view+json": {
       "model_id": "1f5d34e4752a445b8ded153a5fe82d32",
       "version_major": 2,
       "version_minor": 0
      },
      "text/plain": [
       "replaying log with TBR, completed variants ::   0%|          | 0/2 [00:00<?, ?it/s]"
      ]
     },
     "metadata": {},
     "output_type": "display_data"
    },
    {
     "data": {
      "application/vnd.jupyter.widget-view+json": {
       "model_id": "a6d997e5b40d41bcb0e987f67ebe3e5d",
       "version_major": 2,
       "version_minor": 0
      },
      "text/plain": [
       "replaying log with TBR, completed variants ::   0%|          | 0/2 [00:00<?, ?it/s]"
      ]
     },
     "metadata": {},
     "output_type": "display_data"
    },
    {
     "data": {
      "application/vnd.jupyter.widget-view+json": {
       "model_id": "e56dffb1688949bc8e6c1f1d2f1c5d5a",
       "version_major": 2,
       "version_minor": 0
      },
      "text/plain": [
       "replaying log with TBR, completed variants ::   0%|          | 0/27 [00:00<?, ?it/s]"
      ]
     },
     "metadata": {},
     "output_type": "display_data"
    },
    {
     "data": {
      "application/vnd.jupyter.widget-view+json": {
       "model_id": "ee3c899254624affb6955100e0b1d2b7",
       "version_major": 2,
       "version_minor": 0
      },
      "text/plain": [
       "replaying log with TBR, completed variants ::   0%|          | 0/2 [00:00<?, ?it/s]"
      ]
     },
     "metadata": {},
     "output_type": "display_data"
    },
    {
     "data": {
      "application/vnd.jupyter.widget-view+json": {
       "model_id": "21f840366a014117a29bb6b34b1004d0",
       "version_major": 2,
       "version_minor": 0
      },
      "text/plain": [
       "replaying log with TBR, completed variants ::   0%|          | 0/2 [00:00<?, ?it/s]"
      ]
     },
     "metadata": {},
     "output_type": "display_data"
    },
    {
     "data": {
      "application/vnd.jupyter.widget-view+json": {
       "model_id": "f01d72c01cff4895b2df32321de61080",
       "version_major": 2,
       "version_minor": 0
      },
      "text/plain": [
       "replaying log with TBR, completed variants ::   0%|          | 0/12 [00:00<?, ?it/s]"
      ]
     },
     "metadata": {},
     "output_type": "display_data"
    },
    {
     "data": {
      "application/vnd.jupyter.widget-view+json": {
       "model_id": "76c19d0465d146cdbb56631bc5251be8",
       "version_major": 2,
       "version_minor": 0
      },
      "text/plain": [
       "replaying log with TBR, completed variants ::   0%|          | 0/2 [00:00<?, ?it/s]"
      ]
     },
     "metadata": {},
     "output_type": "display_data"
    },
    {
     "data": {
      "application/vnd.jupyter.widget-view+json": {
       "model_id": "dcb43dab06be423690d3729e3a8095b8",
       "version_major": 2,
       "version_minor": 0
      },
      "text/plain": [
       "replaying log with TBR, completed variants ::   0%|          | 0/2 [00:00<?, ?it/s]"
      ]
     },
     "metadata": {},
     "output_type": "display_data"
    },
    {
     "name": "stdout",
     "output_type": "stream",
     "text": [
      "eps: 0.001, delta: 0.001, prec: 0.19273513622648814, fit: 0.9715234334117129, gen: 0.15063983428183841\n"
     ]
    }
   ],
   "source": [
    "# init arrays\n",
    "eps_list = [2, 1, 0.1, 0.01, 0.001]\n",
    "del_list = [0.5, 0.1, 0.05, 0.01, 0.001]\n",
    "prec_multi = np.zeros((len(eps_list), len(del_list)))\n",
    "fit_multi = np.zeros((len(eps_list), len(del_list)))\n",
    "gen_multi = np.zeros((len(eps_list), len(del_list)))\n",
    "\n",
    "for m, eps in enumerate(eps_list):\n",
    "    for n, d in enumerate(del_list):\n",
    "        \n",
    "        prec_multi_avg = []\n",
    "        fit_multi_avg = []\n",
    "        gen_multi_avg = []\n",
    "\n",
    "        for i in range(10):\n",
    "            \n",
    "            f = open(f'multi/variants_multi_{eps}_{d}_{i}.json',)\n",
    "            priv_log = json.load(f)\n",
    "            \n",
    "            if len(priv_log) == 0:\n",
    "                f.close()\n",
    "                continue\n",
    "            \n",
    "            # compute metrics\n",
    "            scaled_priv = downscale(priv_log, type='all')\n",
    "            plog = public_transform(priv_log)\n",
    "            net, im, fm = im_f_algo.apply(plog, parameters=None)\n",
    "            prec = precision_evaluator.apply(log, net, im, fm, variant=precision_evaluator.Variants.ETCONFORMANCE_TOKEN)\n",
    "            fit = replay_fitness_evaluator.apply(log, net, im, fm, variant=replay_fitness_evaluator.Variants.TOKEN_BASED)\n",
    "            gen = generalization_evaluator.apply(log, net, im, fm)\n",
    "            \n",
    "            prec_multi_avg.append(prec)\n",
    "            fit_multi_avg.append(fit['log_fitness'])\n",
    "            gen_multi_avg.append(gen)\n",
    "            \n",
    "            f.close()\n",
    "        \n",
    "        # save results\n",
    "        prec_multi[m][n] = np.mean(prec_multi_avg)\n",
    "        fit_multi[m][n] = np.mean(fit_multi_avg)\n",
    "        gen_multi[m][n] = np.mean(gen_multi_avg)\n",
    "        print(f'eps: {eps}, delta: {d}, prec: {prec_multi[m][n]}, fit: {fit_multi[m][n]}, gen: {gen_multi[m][n]}')\n",
    "\n",
    "# save metrics\n",
    "np.savetxt('multi/prec_multi.txt', prec_multi)\n",
    "np.savetxt('multi/fit_multi.txt', fit_multi)\n",
    "np.savetxt('multi/gen_multi.txt', gen_multi)"
   ]
  },
  {
   "cell_type": "code",
   "execution_count": 3,
   "metadata": {},
   "outputs": [
    {
     "data": {
      "image/png": "[encoded data removed]",
      "text/plain": [
       "<Figure size 597.6x525.6 with 6 Axes>"
      ]
     },
     "metadata": {
      "needs_background": "light"
     },
     "output_type": "display_data"
    }
   ],
   "source": [
    "# load final data\n",
    "util_single = np.loadtxt('TraVaS/util_sqvr.txt')\n",
    "util_multi = np.loadtxt('uTraVaS/util_opt.txt')\n",
    "util_bench = np.loadtxt('benchmark/util_bench.txt')\n",
    "\n",
    "cost_single = np.loadtxt('TraVaS/cost_sqvr.txt')\n",
    "cost_multi = np.loadtxt('uTraVaS/cost_opt.txt')\n",
    "cost_bench = np.loadtxt('benchmark/cost_bench.txt')\n",
    "\n",
    "util_best = np.maximum(util_single, util_multi)\n",
    "util_bench = np.vstack([util_bench, [np.nan, np.nan, np.nan, np.nan, np.nan]])\n",
    "cost_best = np.minimum(cost_single, cost_multi)\n",
    "cost_bench = np.vstack([cost_bench, [np.nan, np.nan, np.nan, np.nan, np.nan]])\n",
    "\n",
    "# create plots\n",
    "f, ax = plt.subplots(2, 2, figsize=(8.3, 7.3))\n",
    "cmap = sns.cubehelix_palette(as_cmap=True, light=.9)\n",
    "cmap_r = sns.cubehelix_palette(as_cmap=True, light=.9, reverse=True)\n",
    "cmap.set_bad('grey', 1.)\n",
    "cmap_r.set_bad('grey', 1.)\n",
    "ax[0,0] = sns.heatmap(util_best, ax=ax[0,0], vmin=0.3, vmax=1, cmap=cmap, square=True, annot=True, cbar=False, fmt='.3f', yticklabels=[2,1,0.1,0.01,0.001], xticklabels=[0.5,0.1,0.05,0.01,0.001], linewidths=.5)\n",
    "ax[0,1] = sns.heatmap(util_bench, ax=ax[0,1], vmin=0.3, vmax=1, cmap=cmap, square=True, annot=True, fmt='.3f', cbar=True, yticklabels=[2,1,0.1,0.01,0.001], xticklabels=[0.5,0.1,0.05,0.01,0.001], mask=np.isnan(util_bench), linewidths=.5, cbar_kws={'label': 'Relative Log Similarity'})\n",
    "ax[1,0] = sns.heatmap(cost_best, ax=ax[1,0], cmap=cmap_r, square=True, norm=LogNorm(vmin=1e4, vmax=np.nanmax(cost_bench)), annot=True, cbar=False, fmt='.1e', yticklabels=[2,1,0.1,0.01,0.001], xticklabels=[0.5,0.1,0.05,0.01,0.001], linewidths=.5, annot_kws={\"fontsize\":8})\n",
    "ax[1,1] = sns.heatmap(cost_bench, ax=ax[1,1], cmap=cmap_r, norm=LogNorm(vmin=1e4, vmax=np.nanmax(cost_bench)), square=True, annot=True, fmt='.1e', cbar=True, yticklabels=[2,1,0.1,0.01,0.001], xticklabels=[0.5,0.1,0.05,0.01,0.001], linewidths=.5, cbar_kws={'label': 'Absolute Log Difference'}, annot_kws={\"fontsize\":8})\n",
    "ax[0,0].set_title('uTraVaS', pad=10)\n",
    "ax[0,1].set_title('Benchmark', pad=10)\n",
    "ax[1,0].set(xlabel=\"Delta\", ylabel=\"Epsilon\")\n",
    "ax[0,0].set(ylabel=\"Epsilon\")\n",
    "ax[1,1].set(xlabel=\"Delta\")\n",
    "f.tight_layout()\n",
    "plt.savefig(\"uTravas_vs_Benchmark_data-util.pdf\")"
   ]
  },
  {
   "cell_type": "code",
   "execution_count": 4,
   "metadata": {},
   "outputs": [
    {
     "data": {
      "image/png": "[encoded data removed]",
      "text/plain": [
       "<Figure size 597.6x525.6 with 6 Axes>"
      ]
     },
     "metadata": {
      "needs_background": "light"
     },
     "output_type": "display_data"
    }
   ],
   "source": [
    "# load final data\n",
    "prec_single = np.loadtxt('TraVaS/prec_sqvr.txt')\n",
    "prec_multi = np.loadtxt('uTraVaS/prec_opt.txt')\n",
    "prec_bench = np.loadtxt('benchmark/prec_bench.txt')\n",
    "prec_bench = np.vstack([prec_bench, [np.nan, np.nan, np.nan, np.nan, np.nan]])\n",
    "prec_best = np.maximum(prec_single, prec_multi)\n",
    "\n",
    "fit_single = np.loadtxt('TraVaS/fit_sqvr.txt')\n",
    "fit_multi = np.loadtxt('uTraVaS/fit_opt.txt')\n",
    "fit_bench = np.loadtxt('benchmark/fit_bench.txt')\n",
    "fit_bench = np.vstack([fit_bench, [np.nan, np.nan, np.nan, np.nan, np.nan]])\n",
    "fit_best = np.maximum(fit_single, fit_multi)\n",
    "\n",
    "gen_single = np.loadtxt('TraVaS/gen_sqvr.txt')\n",
    "gen_multi = np.loadtxt('uTraVaS/gen_opt.txt')\n",
    "gen_bench = np.loadtxt('benchmark/gen_bench.txt')\n",
    "gen_bench = np.vstack([gen_bench, [np.nan, np.nan, np.nan, np.nan, np.nan]])\n",
    "gen_best = np.maximum(gen_single, gen_multi)\n",
    "\n",
    "# create plots\n",
    "f, ax = plt.subplots(2, 2, figsize=(8.3, 7.3))\n",
    "cmap = sns.cubehelix_palette(as_cmap=True, light=.9)\n",
    "cmap.set_bad('grey', 1.)\n",
    "ax[0,0] = sns.heatmap(fit_best, ax=ax[0,0], vmin=0.7, vmax=1, cmap=cmap, square=True, annot=True, cbar=False, fmt='.3f', yticklabels=[2,1,0.1,0.01,0.001], xticklabels=[0.5,0.1,0.05,0.01,0.001], linewidths=.5)\n",
    "ax[0,1] = sns.heatmap(fit_bench, ax=ax[0,1], vmin=0.7, vmax=1, cmap=cmap, square=True, annot=True, fmt='.3f', cbar=True, yticklabels=[2,1,0.1,0.01,0.001], xticklabels=[0.5,0.1,0.05,0.01,0.001], mask=np.isnan(fit_bench), linewidths=.5, cbar_kws={'label': 'Fitness'})\n",
    "ax[1,0] = sns.heatmap(prec_best, ax=ax[1,0], cmap=cmap, square=True, vmin=0, vmax=0.9, annot=True, cbar=False, fmt='.3f', yticklabels=[2,1,0.1,0.01,0.001], xticklabels=[0.5,0.1,0.05,0.01,0.001], linewidths=.5)\n",
    "ax[1,1] = sns.heatmap(prec_bench, ax=ax[1,1], cmap=cmap, vmin=0, vmax=0.9, square=True, annot=True, fmt='.3f', cbar=True, yticklabels=[2,1,0.1,0.01,0.001], xticklabels=[0.5,0.1,0.05,0.01,0.001], linewidths=.5, cbar_kws={'label': 'Precision'})\n",
    "ax[0,0].set_title('uTraVaS', pad=10)\n",
    "ax[0,1].set_title('Benchmark', pad=10)\n",
    "ax[1,0].set(xlabel=\"Delta\", ylabel=\"Epsilon\")\n",
    "ax[0,0].set(ylabel=\"Epsilon\")\n",
    "ax[1,1].set(xlabel=\"Delta\")\n",
    "f.tight_layout()\n",
    "plt.savefig(\"uTravas_vs_Benchmark_result-util.pdf\")"
   ]
  },
  {
   "cell_type": "code",
   "execution_count": 6,
   "metadata": {},
   "outputs": [
    {
     "data": {
      "image/png": "[encoded data removed]",
      "text/plain": [
       "<Figure size 878.4x525.6 with 8 Axes>"
      ]
     },
     "metadata": {
      "needs_background": "light"
     },
     "output_type": "display_data"
    }
   ],
   "source": [
    "# load final data\n",
    "util_single = np.loadtxt('TraVaS/util_sqvr.txt')\n",
    "util_multi = np.loadtxt('uTraVaS/util_opt.txt') \n",
    "util_sacofa = np.loadtxt('sacofa/util_sacofa.txt')\n",
    "util_bench = np.loadtxt('benchmark/util_bench.txt')\n",
    "\n",
    "cost_single = np.loadtxt('TraVaS/cost_sqvr.txt')\n",
    "cost_multi = np.loadtxt('uTraVaS/cost_opt.txt')\n",
    "cost_sacofa = np.loadtxt('sacofa/cost_sacofa.txt')\n",
    "cost_bench = np.loadtxt('benchmark/cost_bench.txt')\n",
    "\n",
    "util_best = np.maximum(util_single, util_multi)\n",
    "util_bench = np.vstack([util_bench, [np.nan, np.nan, np.nan, np.nan, np.nan]])\n",
    "cost_best = np.minimum(cost_single, cost_multi)\n",
    "cost_bench = np.vstack([cost_bench, [np.nan, np.nan, np.nan, np.nan, np.nan]])\n",
    "\n",
    "# create plots\n",
    "f, ax = plt.subplots(2, 3, figsize=(12.2, 7.3))\n",
    "cmap = sns.cubehelix_palette(as_cmap=True, light=.9)\n",
    "cmap_r = sns.cubehelix_palette(as_cmap=True, light=.9, reverse=True)\n",
    "cmap.set_bad('grey', 1.)\n",
    "cmap_r.set_bad('grey', 1.)\n",
    "ax[0,0] = sns.heatmap(util_best, ax=ax[0,0], vmin=0.3, vmax=1, cmap=cmap, square=True, annot=True, cbar=False, fmt='.3f', yticklabels=[2,1,0.1,0.01,0.001], xticklabels=[0.5,0.1,0.05,0.01,0.001], linewidths=.5)\n",
    "ax[0,1] = sns.heatmap(util_sacofa, ax=ax[0,1], vmin=0.3, vmax=1, cmap=cmap, square=True, annot=True, fmt='.3f', cbar=False, yticklabels=[2,1,0.1,0.01,0.001], xticklabels=[0.5,0.1,0.05,0.01,0.001], linewidths=.5)\n",
    "ax[0,2] = sns.heatmap(util_bench, ax=ax[0,2], vmin=0.3, vmax=1, cmap=cmap, square=True, annot=True, fmt='.3f', cbar=True, yticklabels=[2,1,0.1,0.01,0.001], xticklabels=[0.5,0.1,0.05,0.01,0.001], mask=np.isnan(util_bench), linewidths=.5, cbar_kws={'label': 'Relative Log Similarity'})\n",
    "ax[1,0] = sns.heatmap(cost_best, ax=ax[1,0], cmap=cmap_r, square=True, norm=LogNorm(vmin=1e4, vmax=np.nanmax(cost_bench)), annot=True, cbar=False, fmt='.1e', yticklabels=[2,1,0.1,0.01,0.001], xticklabels=[0.5,0.1,0.05,0.01,0.001], linewidths=.5, annot_kws={\"fontsize\":8})\n",
    "ax[1,1] = sns.heatmap(cost_sacofa, ax=ax[1,1], cmap=cmap_r, square=True, norm=LogNorm(vmin=1e4, vmax=np.nanmax(cost_bench)), annot=True, cbar=False, fmt='.1e', yticklabels=[2,1,0.1,0.01,0.001], xticklabels=[0.5,0.1,0.05,0.01,0.001], linewidths=.5, annot_kws={\"fontsize\":8})\n",
    "ax[1,2] = sns.heatmap(cost_bench, ax=ax[1,2], cmap=cmap_r, norm=LogNorm(vmin=1e4, vmax=np.nanmax(cost_bench)), square=True, annot=True, fmt='.1e', cbar=True, yticklabels=[2,1,0.1,0.01,0.001], xticklabels=[0.5,0.1,0.05,0.01,0.001], linewidths=.5, cbar_kws={'label': 'Absolute Log Difference'}, annot_kws={\"fontsize\":8})\n",
    "ax[0,0].set_title('uTraVaS', pad=10)\n",
    "ax[0,1].set_title('SaCoFa', pad=10)\n",
    "ax[0,2].set_title('Benchmark', pad=10)\n",
    "ax[1,0].set(xlabel=\"Delta\", ylabel=\"Epsilon\")\n",
    "ax[0,0].set(ylabel=\"Epsilon\")\n",
    "ax[1,1].set(xlabel=\"Delta\")\n",
    "ax[1,2].set(xlabel=\"Delta\")\n",
    "f.tight_layout()\n",
    "plt.savefig(\"uTravas_vs_Benchmark-Sacofa_data-util.pdf\")"
   ]
  },
  {
   "cell_type": "code",
   "execution_count": 7,
   "metadata": {},
   "outputs": [
    {
     "data": {
      "image/png": "[encoded data removed]",
      "text/plain": [
       "<Figure size 878.4x525.6 with 8 Axes>"
      ]
     },
     "metadata": {
      "needs_background": "light"
     },
     "output_type": "display_data"
    }
   ],
   "source": [
    "# load final data\n",
    "prec_single = np.loadtxt('TraVaS/prec_sqvr.txt')\n",
    "prec_multi = np.loadtxt('uTraVaS/prec_opt.txt')\n",
    "prec_sacofa = np.loadtxt('sacofa/prec_sacofa.txt')\n",
    "prec_bench = np.loadtxt('benchmark/prec_bench.txt')\n",
    "prec_bench = np.vstack([prec_bench, [np.nan, np.nan, np.nan, np.nan, np.nan]])\n",
    "prec_best = np.maximum(prec_single, prec_multi)\n",
    "\n",
    "fit_single = np.loadtxt('TraVaS/fit_sqvr.txt')\n",
    "fit_multi = np.loadtxt('uTraVaS/fit_opt.txt')\n",
    "fit_sacofa = np.loadtxt('sacofa/fit_sacofa.txt')\n",
    "fit_bench = np.loadtxt('benchmark/fit_bench.txt')\n",
    "fit_bench = np.vstack([fit_bench, [np.nan, np.nan, np.nan, np.nan, np.nan]])\n",
    "fit_best = np.maximum(fit_single, fit_multi)\n",
    "\n",
    "gen_single = np.loadtxt('TraVaS/gen_sqvr.txt')\n",
    "gen_multi = np.loadtxt('uTraVaS/gen_opt.txt')\n",
    "gen_sacofa = np.loadtxt('sacofa/gen_sacofa.txt')\n",
    "gen_bench = np.loadtxt('benchmark/gen_bench.txt')\n",
    "gen_bench = np.vstack([gen_bench, [np.nan, np.nan, np.nan, np.nan, np.nan]])\n",
    "gen_best = np.maximum(gen_single, gen_multi)\n",
    "\n",
    "# create plots\n",
    "f, ax = plt.subplots(2, 3, figsize=(12.2, 7.3))\n",
    "cmap = sns.cubehelix_palette(as_cmap=True, light=.9)\n",
    "cmap.set_bad('grey', 1.)\n",
    "ax[0,0] = sns.heatmap(fit_best, ax=ax[0,0], vmin=0.7, vmax=1, cmap=cmap, square=True, annot=True, cbar=False, fmt='.3f', yticklabels=[2,1,0.1,0.01,0.001], xticklabels=[0.5,0.1,0.05,0.01,0.001], linewidths=.5)\n",
    "ax[0,1] = sns.heatmap(fit_sacofa, ax=ax[0,1], vmin=0.7, vmax=1, cmap=cmap, square=True, annot=True, cbar=False, fmt='.3f', yticklabels=[2,1,0.1,0.01,0.001], xticklabels=[0.5,0.1,0.05,0.01,0.001], linewidths=.5)\n",
    "ax[0,2] = sns.heatmap(fit_bench, ax=ax[0,2], vmin=0.7, vmax=1, cmap=cmap, square=True, annot=True, fmt='.3f', cbar=True, yticklabels=[2,1,0.1,0.01,0.001], xticklabels=[0.5,0.1,0.05,0.01,0.001], mask=np.isnan(fit_bench), linewidths=.5, cbar_kws={'label': 'Fitness'})\n",
    "ax[1,0] = sns.heatmap(prec_best, ax=ax[1,0], cmap=cmap, square=True, vmin=0, vmax=0.9, annot=True, cbar=False, fmt='.3f', yticklabels=[2,1,0.1,0.01,0.001], xticklabels=[0.5,0.1,0.05,0.01,0.001], linewidths=.5)\n",
    "ax[1,1] = sns.heatmap(prec_sacofa, ax=ax[1,1], cmap=cmap, square=True, vmin=0, vmax=0.9, annot=True, cbar=False, fmt='.3f', yticklabels=[2,1,0.1,0.01,0.001], xticklabels=[0.5,0.1,0.05,0.01,0.001], linewidths=.5)\n",
    "ax[1,2] = sns.heatmap(prec_bench, ax=ax[1,2], cmap=cmap, vmin=0, vmax=0.9, square=True, annot=True, fmt='.3f', cbar=True, yticklabels=[2,1,0.1,0.01,0.001], xticklabels=[0.5,0.1,0.05,0.01,0.001], linewidths=.5, cbar_kws={'label': 'Precision'})\n",
    "ax[0,0].set_title('uTraVaS', pad=10)\n",
    "ax[0,1].set_title('SaCoFa', pad=10)\n",
    "ax[0,2].set_title('Benchmark', pad=10)\n",
    "ax[1,0].set(xlabel=\"Delta\", ylabel=\"Epsilon\")\n",
    "ax[0,0].set(ylabel=\"Epsilon\")\n",
    "ax[1,1].set(xlabel=\"Delta\")\n",
    "ax[1,2].set(xlabel=\"Delta\")\n",
    "f.tight_layout()\n",
    "plt.savefig(\"uTravas_vs_Benchmark-Sacofa_result-util.pdf\")"
   ]
  }
 ],
 "metadata": {
  "interpreter": {
   "hash": "e6a03f261ac63240f8bba312c3054c35c7091234d5590acf2f05ed98611aef5f"
  },
  "kernelspec": {
   "display_name": "Python 3.10.2 64-bit",
   "language": "python",
   "name": "python3"
  },
  "language_info": {
   "codemirror_mode": {
    "name": "ipython",
    "version": 3
   },
   "file_extension": ".py",
   "mimetype": "text/x-python",
   "name": "python",
   "nbconvert_exporter": "python",
   "pygments_lexer": "ipython3",
   "version": "3.10.2"
  }
 },
 "nbformat": 4,
 "nbformat_minor": 2
}
